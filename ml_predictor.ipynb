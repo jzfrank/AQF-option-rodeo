{
 "cells": [
  {
   "cell_type": "markdown",
   "id": "5b71adcf-f393-43fb-b3ed-b9de6b1f7e24",
   "metadata": {
    "tags": []
   },
   "source": [
    "# Training and Making predicting"
   ]
  },
  {
   "cell_type": "markdown",
   "id": "ceb061e0-7bce-4bf3-873e-1e0997bd06ce",
   "metadata": {},
   "source": [
    "## Description"
   ]
  },
  {
   "cell_type": "markdown",
   "id": "002dd3eb-94f7-491c-8cab-eae90e761593",
   "metadata": {},
   "source": [
    "**8 Models considered:**\n",
    "\n",
    "For Penelized linear models: Lasso, Ridge, Elastic Net regression \n",
    "\n",
    "For Linear dimension reduction tech: PCR, partial least squares regressions \n",
    "\n",
    "For Nonlinear models: RF, gradient boosted tree regression (GBR), gradient boosted tree regression with dropout (Dart), deep feed=forward neural networks (FFN)"
   ]
  },
  {
   "cell_type": "markdown",
   "id": "8bc80d6b-0e46-4d95-9897-70285d9e5f9a",
   "metadata": {},
   "source": [
    "**Assessing predictive power:**\n",
    "\n",
    "standard out-of-sample $R^2$ statistic\n",
    "\n",
    "$$\n",
    "R^2_{OS} = 1 - \\frac{\\sum_{(i,t)\\in T_3} (r_{i, s, t+1} \n",
    "            - \\hat{r}_{i,s,t+1})^2} {\\sum_{(i,t)\\in T_3 r^2_{i, s,t+1}}}\n",
    "$$"
   ]
  },
  {
   "cell_type": "markdown",
   "id": "1e7d7b41-19a5-47f0-bc65-51a61f4e727b",
   "metadata": {},
   "source": [
    "**Four Periods:**\n",
    "\n",
    "$T_1$ (1996/01 -- 2000/12) -> training\n",
    "\n",
    "$T_2$ (2001 -- 2002) -> *hyperparameter* optimization **validating**\n",
    "\n",
    "$T_3$ (2003) -> **testing**\n",
    "\n",
    "> We repeat this procedure for each year in the testing sample from 2003 through 2020, increasing the number of training years by one at each iteration.\n",
    "\n",
    "That is: \n",
    "* First iteration: 1996 ~ 2000 as train, 2001 ~ 2002 as validate, 2003 as test \n",
    "\n",
    "* Second iteration: 1996 ~ 2001 as train, 2002 ~ 2003 as validate, 2004 as test \n",
    "\n",
    "... \n",
    "\n",
    "* i-th iteration: 1996 ~ 2000 + i-1 as train, 2000 + i ~ 2000 + i+1 as validation, 2000 + i+2 as test"
   ]
  },
  {
   "cell_type": "markdown",
   "id": "4bc0fa9b-0ba2-4637-8962-bfc398ec254d",
   "metadata": {},
   "source": [
    "***QUESTION*** How the reported $R^2$ or $R^2_{OS,XS}$ is estimated, since we are running training-validation-testing procedure on multiple periods? "
   ]
  },
  {
   "cell_type": "markdown",
   "id": "a29cbdb5-d11e-4908-b86a-6b5f5633383f",
   "metadata": {},
   "source": [
    "**Cross sectional asset pricing test**\n",
    "\n",
    "> In cross-sectional asset pricing tests, our main objective is not to forecast time-series variation in future returns, but rather cross-sectional return spreads in the testing sample.\n",
    "\n",
    "Han et al (2021) proposes a cross-sectional out-of-sample $R^2$:\n",
    "\n",
    "$$\n",
    "R^2_{OS; XS} = 1 - \\frac{\\sum_{(i,t)\\in T_3} [(r_{i,s,t+1} - \\bar{r}_{i,s,t+1}) - (\\hat{r}_{i,s,t+1} - \\bar{\\hat{r}}_{i,s,t+1})]^2} \n",
    "{\\sum_{(i,t)\\in T_3} (r_{i,s,t+1} - \\bar{r}_{i,s,t+1})^2}\n",
    "$$\n",
    "\n",
    "> $R^2_{OS; XS}$ focuses on relative expected returns across options, for which accurate predictions result in profitable long-short trading strategies."
   ]
  },
  {
   "cell_type": "markdown",
   "id": "8fd29f47-9887-4cd9-bda6-47b5f80b1b4b",
   "metadata": {},
   "source": [
    "**Statistical significance of models forecasts**\n",
    "\n",
    "**1. CW test (for individual model)**\n",
    "\n",
    "$$\n",
    "CW^{(j)} = \\frac{\\bar{c}^{(j)}}  {\\hat{\\sigma}_c^{(j)}}\n",
    "$$\n",
    "\n",
    "where $\\bar{c}^{(j)}$ is the time series average, and $\\hat{\\sigma}_c^{(j)}$ is the Newey and West \n",
    "standard error ***of*** the mean difference squared forecast errors: \n",
    "\n",
    "$$\n",
    "c_{t+1}^{(j)} = \\frac{1}{n_{T_3}} \\sum_{(i,t)\\in T_3} [r_{i,s,t+1}^2 - (\\hat{e}_{i,t+1}^{(j)})^2]\n",
    "$$\n",
    "\n",
    "where $n_{T_3}$ is the number of observations in the testing sample and $\\hat{e}_{i,t+1}$ is the \n",
    "forecast error on option i at time t+1 for method j. "
   ]
  },
  {
   "cell_type": "markdown",
   "id": "262c46d7-9df5-4066-967a-f0406d60f540",
   "metadata": {},
   "source": [
    "**2. DM test (for comparison)**\n",
    "\n",
    "Diebold and Mariano (1995) (DM) test\n",
    "\n",
    "The DM test-statisics for a comparison between methods 1 and 2 is defined as: \n",
    "\n",
    "$$\n",
    "DM^{(1,2)} = \\frac{\\bar{d}^{(1,2)}} {\\hat{\\sigma}_d^{(1,2)}}\n",
    "$$\n",
    "\n",
    "where $\\bar{d}^{(1,2)}$ is the time series average, and $\\hat{\\sigma}_d^{(1,2)}$ is the Newey and West \n",
    "standard error ***of*** the mean difference squared forecast errors: \n",
    "\n",
    "$$\n",
    "d^{(1,2)}_{t+1} = \\frac{1}{n_{T_3}} \\sum_{(i,t)\\in T_3} [(\\hat{e}^{(1)}_{i, t+1})^2 - (\\hat{e}^{(2)}_{i, t+1})^2]\n",
    "$$\n"
   ]
  },
  {
   "cell_type": "code",
   "execution_count": 1,
   "id": "ba8639d2-629f-484c-8f55-83a2254697bf",
   "metadata": {
    "execution": {
     "iopub.execute_input": "2022-05-03T16:49:12.431265Z",
     "iopub.status.busy": "2022-05-03T16:49:12.430973Z",
     "iopub.status.idle": "2022-05-03T16:49:12.943511Z",
     "shell.execute_reply": "2022-05-03T16:49:12.942624Z",
     "shell.execute_reply.started": "2022-05-03T16:49:12.431191Z"
    },
    "tags": []
   },
   "outputs": [],
   "source": [
    "import numpy as np\n",
    "import datetime as dt\n",
    "\n",
    "from evaluation_metrics import CW_test, DM_test, R_squared_OSXS\n",
    "\n",
    "import pandas as pd \n",
    "import os\n"
   ]
  },
  {
   "cell_type": "code",
   "execution_count": 2,
   "id": "a4eaed0f-add2-4b3a-9da0-930d01c73522",
   "metadata": {
    "execution": {
     "iopub.execute_input": "2022-05-03T16:49:13.069367Z",
     "iopub.status.busy": "2022-05-03T16:49:13.069129Z",
     "iopub.status.idle": "2022-05-03T16:49:13.923983Z",
     "shell.execute_reply": "2022-05-03T16:49:13.923293Z",
     "shell.execute_reply.started": "2022-05-03T16:49:13.069342Z"
    },
    "tags": []
   },
   "outputs": [
    {
     "data": {
      "text/plain": [
       "array([[4.        , 2.        ],\n",
       "       [6.        , 3.66666667],\n",
       "       [7.        , 6.        ]])"
      ]
     },
     "execution_count": 2,
     "metadata": {},
     "output_type": "execute_result"
    }
   ],
   "source": [
    "import numpy as np\n",
    "from sklearn.impute import SimpleImputer\n",
    "imp = SimpleImputer(missing_values=np.nan, strategy='mean')\n",
    "imp.fit([[1, 2], [np.nan, 3], [7, 6]])\n",
    "\n",
    "X = [[np.nan, 2], [6, np.nan], [7, 6]]\n",
    "\n",
    "imp.transform(X)"
   ]
  },
  {
   "cell_type": "markdown",
   "id": "5a9819f0-82dd-4e9f-9c7d-1310c9161fc0",
   "metadata": {},
   "source": [
    "## Import data"
   ]
  },
  {
   "cell_type": "code",
   "execution_count": 3,
   "id": "667c0cbf-cbbc-4991-b222-b98234236f93",
   "metadata": {
    "execution": {
     "iopub.execute_input": "2022-05-03T16:49:18.566844Z",
     "iopub.status.busy": "2022-05-03T16:49:18.566568Z",
     "iopub.status.idle": "2022-05-03T16:49:18.570160Z",
     "shell.execute_reply": "2022-05-03T16:49:18.569387Z",
     "shell.execute_reply.started": "2022-05-03T16:49:18.566821Z"
    },
    "tags": []
   },
   "outputs": [],
   "source": [
    "DATAROOT = \"data/\""
   ]
  },
  {
   "cell_type": "code",
   "execution_count": 4,
   "id": "5282d818-a4c9-48a3-8184-9d103134ee80",
   "metadata": {
    "execution": {
     "iopub.execute_input": "2022-05-03T16:49:20.485645Z",
     "iopub.status.busy": "2022-05-03T16:49:20.485380Z",
     "iopub.status.idle": "2022-05-03T16:51:46.066492Z",
     "shell.execute_reply": "2022-05-03T16:51:46.060570Z",
     "shell.execute_reply.started": "2022-05-03T16:49:20.485618Z"
    },
    "tags": []
   },
   "outputs": [],
   "source": [
    "option_with_feature = pd.read_csv(os.path.join(DATAROOT, \"all_characteristics.csv\"))"
   ]
  },
  {
   "cell_type": "code",
   "execution_count": 5,
   "id": "a77549f2-3445-4dbf-bc6c-fb8e3e5dcb72",
   "metadata": {
    "execution": {
     "iopub.execute_input": "2022-05-03T16:51:46.083967Z",
     "iopub.status.busy": "2022-05-03T16:51:46.083563Z",
     "iopub.status.idle": "2022-05-03T16:51:56.493739Z",
     "shell.execute_reply": "2022-05-03T16:51:56.493173Z",
     "shell.execute_reply.started": "2022-05-03T16:51:46.083932Z"
    },
    "tags": []
   },
   "outputs": [],
   "source": [
    "sp500_op_ret = pd.read_csv(os.path.join(DATAROOT, \"sp500_op_ret.csv\"))"
   ]
  },
  {
   "cell_type": "code",
   "execution_count": 6,
   "id": "2b72c3e6-7907-4607-953f-245248860301",
   "metadata": {
    "execution": {
     "iopub.execute_input": "2022-05-03T16:52:27.196082Z",
     "iopub.status.busy": "2022-05-03T16:52:27.195884Z",
     "iopub.status.idle": "2022-05-03T16:52:27.677759Z",
     "shell.execute_reply": "2022-05-03T16:52:27.677288Z",
     "shell.execute_reply.started": "2022-05-03T16:52:27.196060Z"
    },
    "tags": []
   },
   "outputs": [],
   "source": [
    "option_with_feature[\"date\"] = pd.to_datetime(option_with_feature[\"date\"])"
   ]
  },
  {
   "cell_type": "code",
   "execution_count": 7,
   "id": "8766045b-af6c-4509-85b6-f3ee4da58ee9",
   "metadata": {
    "execution": {
     "iopub.execute_input": "2022-05-03T16:52:29.005328Z",
     "iopub.status.busy": "2022-05-03T16:52:29.005118Z",
     "iopub.status.idle": "2022-05-03T16:52:29.393594Z",
     "shell.execute_reply": "2022-05-03T16:52:29.393107Z",
     "shell.execute_reply.started": "2022-05-03T16:52:29.005304Z"
    },
    "tags": []
   },
   "outputs": [],
   "source": [
    "sp500_op_ret[\"date\"] = pd.to_datetime(sp500_op_ret[\"date\"])"
   ]
  },
  {
   "cell_type": "code",
   "execution_count": 8,
   "id": "f343891b-ce1c-4b62-a6b5-274805f43a94",
   "metadata": {
    "execution": {
     "iopub.execute_input": "2022-05-03T16:52:34.660797Z",
     "iopub.status.busy": "2022-05-03T16:52:34.660484Z",
     "iopub.status.idle": "2022-05-03T16:52:55.915589Z",
     "shell.execute_reply": "2022-05-03T16:52:55.913735Z",
     "shell.execute_reply.started": "2022-05-03T16:52:34.660772Z"
    },
    "tags": []
   },
   "outputs": [],
   "source": [
    "option_with_feature = option_with_feature.merge(sp500_op_ret, on=[\"date\", \"optionid\"], how=\"inner\")"
   ]
  },
  {
   "cell_type": "code",
   "execution_count": 123,
   "id": "78e73b22-9b80-4aab-bac1-13a987231ad2",
   "metadata": {
    "execution": {
     "iopub.execute_input": "2022-05-03T19:25:02.161637Z",
     "iopub.status.busy": "2022-05-03T19:25:02.161087Z",
     "iopub.status.idle": "2022-05-03T19:25:07.337420Z",
     "shell.execute_reply": "2022-05-03T19:25:07.334880Z",
     "shell.execute_reply.started": "2022-05-03T19:25:02.161576Z"
    },
    "tags": []
   },
   "outputs": [],
   "source": [
    "# sparsity of data\n",
    "sparsity_dict = dict(option_with_feature.isna().sum())\n",
    "df = pd.DataFrame({\n",
    "    \"col_name\": list(sparsity_dict.keys()),\n",
    "    \"perc_of_na\": list(i / option_with_feature.shape[0] for i in sparsity_dict.values())\n",
    "})\n",
    "    "
   ]
  },
  {
   "cell_type": "code",
   "execution_count": 125,
   "id": "3d31212e-1138-40c6-be73-a20326f3fa13",
   "metadata": {
    "execution": {
     "iopub.execute_input": "2022-05-03T19:25:18.505490Z",
     "iopub.status.busy": "2022-05-03T19:25:18.505241Z",
     "iopub.status.idle": "2022-05-03T19:25:18.539412Z",
     "shell.execute_reply": "2022-05-03T19:25:18.538600Z",
     "shell.execute_reply.started": "2022-05-03T19:25:18.505463Z"
    },
    "tags": []
   },
   "outputs": [
    {
     "data": {
      "text/html": [
       "<div>\n",
       "<style scoped>\n",
       "    .dataframe tbody tr th:only-of-type {\n",
       "        vertical-align: middle;\n",
       "    }\n",
       "\n",
       "    .dataframe tbody tr th {\n",
       "        vertical-align: top;\n",
       "    }\n",
       "\n",
       "    .dataframe thead th {\n",
       "        text-align: right;\n",
       "    }\n",
       "</style>\n",
       "<table border=\"1\" class=\"dataframe\">\n",
       "  <thead>\n",
       "    <tr style=\"text-align: right;\">\n",
       "      <th></th>\n",
       "      <th>perc_of_na</th>\n",
       "    </tr>\n",
       "  </thead>\n",
       "  <tbody>\n",
       "    <tr>\n",
       "      <th>count</th>\n",
       "      <td>277.000000</td>\n",
       "    </tr>\n",
       "    <tr>\n",
       "      <th>mean</th>\n",
       "      <td>0.203115</td>\n",
       "    </tr>\n",
       "    <tr>\n",
       "      <th>std</th>\n",
       "      <td>0.300341</td>\n",
       "    </tr>\n",
       "    <tr>\n",
       "      <th>min</th>\n",
       "      <td>0.000000</td>\n",
       "    </tr>\n",
       "    <tr>\n",
       "      <th>25%</th>\n",
       "      <td>0.000506</td>\n",
       "    </tr>\n",
       "    <tr>\n",
       "      <th>50%</th>\n",
       "      <td>0.051889</td>\n",
       "    </tr>\n",
       "    <tr>\n",
       "      <th>75%</th>\n",
       "      <td>0.230961</td>\n",
       "    </tr>\n",
       "    <tr>\n",
       "      <th>max</th>\n",
       "      <td>0.999997</td>\n",
       "    </tr>\n",
       "  </tbody>\n",
       "</table>\n",
       "</div>"
      ],
      "text/plain": [
       "       perc_of_na\n",
       "count  277.000000\n",
       "mean     0.203115\n",
       "std      0.300341\n",
       "min      0.000000\n",
       "25%      0.000506\n",
       "50%      0.051889\n",
       "75%      0.230961\n",
       "max      0.999997"
      ]
     },
     "execution_count": 125,
     "metadata": {},
     "output_type": "execute_result"
    }
   ],
   "source": [
    "df.describe()"
   ]
  },
  {
   "cell_type": "code",
   "execution_count": 131,
   "id": "23ab6976-6636-4d27-b94c-1d37d6f08c48",
   "metadata": {
    "collapsed": true,
    "execution": {
     "iopub.execute_input": "2022-05-03T19:28:38.701013Z",
     "iopub.status.busy": "2022-05-03T19:28:38.699215Z",
     "iopub.status.idle": "2022-05-03T19:28:38.741744Z",
     "shell.execute_reply": "2022-05-03T19:28:38.740610Z",
     "shell.execute_reply.started": "2022-05-03T19:28:38.700929Z"
    },
    "jupyter": {
     "outputs_hidden": true
    },
    "tags": []
   },
   "outputs": [
    {
     "data": {
      "text/plain": [
       "['skewiv',\n",
       " 'atm_civpiv',\n",
       " 'atm_dcivpiv',\n",
       " 'ivslope',\n",
       " 'AccrualsBM',\n",
       " 'Activism1',\n",
       " 'Activism2',\n",
       " 'AdExp',\n",
       " 'AgeIPO',\n",
       " 'AnalystValue',\n",
       " 'AOP',\n",
       " 'BrandInvest',\n",
       " 'ChangeInRecommendation',\n",
       " 'ChForecastAccrual',\n",
       " 'ChNAnalyst',\n",
       " 'CitationsRD',\n",
       " 'ConsRecomm',\n",
       " 'CredRatDG',\n",
       " 'CustomerMomentum',\n",
       " 'DelDRC',\n",
       " 'DivSeason',\n",
       " 'DivYieldST',\n",
       " 'DownRecomm',\n",
       " 'EarningsConsistency',\n",
       " 'EarningsForecastDisparity',\n",
       " 'EarnSupBig',\n",
       " 'FirmAge',\n",
       " 'FirmAgeMom',\n",
       " 'ForecastDispersion',\n",
       " 'FR',\n",
       " 'Frontier',\n",
       " 'Governance',\n",
       " 'GrAdExp',\n",
       " 'IndRetBig',\n",
       " 'InvGrowth',\n",
       " 'IO_ShortInterest',\n",
       " 'iomom_cust',\n",
       " 'iomom_supp',\n",
       " 'Mom6mJunk',\n",
       " 'MomOffSeason16YrPlus',\n",
       " 'MomRev',\n",
       " 'MomSeason16YrPlus',\n",
       " 'MS',\n",
       " 'NetDebtPrice',\n",
       " 'OperProfRD',\n",
       " 'OrderBacklog',\n",
       " 'OrderBacklogChg',\n",
       " 'OrgCap',\n",
       " 'OScore',\n",
       " 'PatentsRD',\n",
       " 'PayoutYield',\n",
       " 'PredictedFE',\n",
       " 'ProbInformedTrading',\n",
       " 'PS',\n",
       " 'RD',\n",
       " 'RDAbility',\n",
       " 'RDcap',\n",
       " 'realestate',\n",
       " 'retConglomerate',\n",
       " 'REV6',\n",
       " 'RIO_Disp',\n",
       " 'RIO_MB',\n",
       " 'RIO_Turnover',\n",
       " 'RIO_Volatility',\n",
       " 'sfe',\n",
       " 'ShareVol',\n",
       " 'sinAlgo',\n",
       " 'std_turn',\n",
       " 'SurpriseRD',\n",
       " 'tang',\n",
       " 'UpRecomm']"
      ]
     },
     "execution_count": 131,
     "metadata": {},
     "output_type": "execute_result"
    }
   ],
   "source": []
  },
  {
   "cell_type": "code",
   "execution_count": 129,
   "id": "e5150ede-33bd-4bdb-9b6c-01489a4a7f93",
   "metadata": {
    "execution": {
     "iopub.execute_input": "2022-05-03T19:28:08.661452Z",
     "iopub.status.busy": "2022-05-03T19:28:08.657838Z",
     "iopub.status.idle": "2022-05-03T19:28:08.690384Z",
     "shell.execute_reply": "2022-05-03T19:28:08.688444Z",
     "shell.execute_reply.started": "2022-05-03T19:28:08.661324Z"
    }
   },
   "outputs": [],
   "source": [
    "# we aim to handle sparsity: delete columns with sparsity more than 0.24, \n",
    "# so we we preserve 75% of the features"
   ]
  },
  {
   "cell_type": "code",
   "execution_count": 9,
   "id": "8f0cdd13-2e20-46db-88c9-04d39bda1851",
   "metadata": {
    "execution": {
     "iopub.execute_input": "2022-05-03T16:52:58.129347Z",
     "iopub.status.busy": "2022-05-03T16:52:58.128958Z",
     "iopub.status.idle": "2022-05-03T16:52:58.147255Z",
     "shell.execute_reply": "2022-05-03T16:52:58.146734Z",
     "shell.execute_reply.started": "2022-05-03T16:52:58.129313Z"
    },
    "tags": []
   },
   "outputs": [
    {
     "data": {
      "text/plain": [
       "False"
      ]
     },
     "execution_count": 9,
     "metadata": {},
     "output_type": "execute_result"
    }
   ],
   "source": [
    "\"gamma\" in option_with_feature.columns"
   ]
  },
  {
   "cell_type": "code",
   "execution_count": 132,
   "id": "f030e92d-feb0-412f-899d-e7229ef8b1e0",
   "metadata": {
    "execution": {
     "iopub.execute_input": "2022-05-03T19:30:04.926362Z",
     "iopub.status.busy": "2022-05-03T19:30:04.925402Z",
     "iopub.status.idle": "2022-05-03T19:30:04.994576Z",
     "shell.execute_reply": "2022-05-03T19:30:04.993979Z",
     "shell.execute_reply.started": "2022-05-03T19:30:04.926325Z"
    },
    "tags": []
   },
   "outputs": [
    {
     "data": {
      "text/plain": [
       "\"'AM','AbnormalAccruals','Accruals','AnalystRevision','AnnouncementReturn','AssetGrowth','BM','BMdec','BPEBM','Beta','BetaFP','BetaLiquidityPS','BetaTailRisk','BidAskSpread','BookLeverage','C','CBOperProf','CF','Cash','CashProd','ChAssetTurnover','ChEQ','ChInv','ChInvIA','ChNNCOA','ChNWC','ChTax','CompEquIss','CompositeDebtIssuance','ConvDebt','CoskewACX','Coskewness','DebtIssuance','DelBreadth','DelCOA','DelCOL','DelEqu','DelFINL','DelLTI','DelNetFin','DivInit','DivOmit','DolVol','EBM','EP','EarningsStreak','EarningsSurprise','EntMult','EquityDuration','ExchSwitch','ExclExp','FEPS','GP','GrLTNOA','GrSaleToGrInv','GrSaleToGrOverhead','Herf','HerfAsset','HerfBE','High52','IdioRisk','IdioVol3F','IdioVolAHT','Illiquidity','IndIPO','IndMom','IntMom','IntanBM','IntanCFP','IntanEP','IntanSP','InvestPPEInv','Investment','LRreversal','Leverage','MRreversal','MaxRet','MeanRankRevGrowth','Mom12m','Mom12mOffSeason','Mom6m','MomOffSeason','MomOffSeason06YrPlus','MomOffSeason11YrPlus','MomSeason','MomSeason06YrPlus','MomSeason11YrPlus','MomSeasonShort','MomVol','NOA','NetDebtFinance','NetEquityFinance','NetPayoutYield','NumEarnIncrease','OPLeverage','OperProf','OptionVolume1','OptionVolume2','P','PctAcc','PctTotAcc','PriceDelayRsq','PriceDelaySlope','PriceDelayTstat','RDIPO','RDS','ResidualMomentum','ReturnSkew','ReturnSkew3F','RevenueSurprise','RoE','SP','ShareIss1Y','ShareIss5Y','ShareRepurchase','ShortInterest','SmileSlope','Spinoff','Tax','TotalAccruals','VarCF','VolMkt','VolSD','VolumeTrend','XFIN','adj_spot','best_bid','best_offer','betaVIX','bucket_dvol','bucket_vol','bucket_vol_share','cfadj','cfp','dNoa','days_no_trading','days_to_exp','dciv','delta_x','delta_y','doi','dpiv','dso','dvol','embedlev','expiration_month','fgr5yrLag','forwardprice','gamma_x','gamma_y','grcapx','grcapx3y','hire','impl_volatility','ir_rate','iv','ivd','ldso','lso','mid','mid_price','moneyness','nopt','ntm_civpiv','oi','oistock','open_interest','optspread','pba','pcpv','pcratio','roaq','secid_x','secid_y','shrtfee','skew1','so','spotprice','strike_price','theta_x','theta_y','toi','ttm','turnover','vega_x','vega_y','vol','volga','volume','vs_change','vs_level','zerotrade','zerotradeAlt1','zerotradeAlt12'\""
      ]
     },
     "execution_count": 132,
     "metadata": {},
     "output_type": "execute_result"
    }
   ],
   "source": [
    "\",\".join(f\"'{i}'\" for i in sorted(list(\n",
    "    set(\n",
    "    option_with_feature._get_numeric_data().columns.difference([\n",
    "    'Unnamed: 0',\n",
    "    'secid',\n",
    "    'permno',\n",
    "    'optionid',\n",
    "    \"option_ret\",\n",
    "        \"yyyymm\",\n",
    "# due to computing error, they used future info\n",
    "        \"ailliq\",\n",
    "        \"pilliq\"\n",
    "])\n",
    "    ) - set(df[df.perc_of_na > 0.23].col_name)\n",
    ")))"
   ]
  },
  {
   "cell_type": "code",
   "execution_count": 10,
   "id": "a1b22453-26b4-4f33-b8cb-acae0acb99ff",
   "metadata": {
    "execution": {
     "iopub.execute_input": "2022-05-03T16:53:09.339183Z",
     "iopub.status.busy": "2022-05-03T16:53:09.338300Z",
     "iopub.status.idle": "2022-05-03T16:53:09.360512Z",
     "shell.execute_reply": "2022-05-03T16:53:09.359727Z",
     "shell.execute_reply.started": "2022-05-03T16:53:09.339156Z"
    },
    "tags": []
   },
   "outputs": [
    {
     "name": "stdout",
     "output_type": "stream",
     "text": [
      "'AM', 'AOP', 'AbnormalAccruals', 'Accruals', 'AccrualsBM', 'Activism1', 'Activism2', 'AdExp', 'AgeIPO', 'AnalystRevision', 'AnalystValue', 'AnnouncementReturn', 'AssetGrowth', 'BM', 'BMdec', 'BPEBM', 'Beta', 'BetaFP', 'BetaLiquidityPS', 'BetaTailRisk', 'BidAskSpread', 'BookLeverage', 'BrandInvest', 'C', 'CBOperProf', 'CF', 'Cash', 'CashProd', 'ChAssetTurnover', 'ChEQ', 'ChForecastAccrual', 'ChInv', 'ChInvIA', 'ChNAnalyst', 'ChNNCOA', 'ChNWC', 'ChTax', 'ChangeInRecommendation', 'CitationsRD', 'CompEquIss', 'CompositeDebtIssuance', 'ConsRecomm', 'ConvDebt', 'CoskewACX', 'Coskewness', 'CredRatDG', 'CustomerMomentum', 'DebtIssuance', 'DelBreadth', 'DelCOA', 'DelCOL', 'DelDRC', 'DelEqu', 'DelFINL', 'DelLTI', 'DelNetFin', 'DivInit', 'DivOmit', 'DivSeason', 'DivYieldST', 'DolVol', 'DownRecomm', 'EBM', 'EP', 'EarnSupBig', 'EarningsConsistency', 'EarningsForecastDisparity', 'EarningsStreak', 'EarningsSurprise', 'EntMult', 'EquityDuration', 'ExchSwitch', 'ExclExp', 'FEPS', 'FR', 'FirmAge', 'FirmAgeMom', 'ForecastDispersion', 'Frontier', 'GP', 'Governance', 'GrAdExp', 'GrLTNOA', 'GrSaleToGrInv', 'GrSaleToGrOverhead', 'Herf', 'HerfAsset', 'HerfBE', 'High52', 'IO_ShortInterest', 'IdioRisk', 'IdioVol3F', 'IdioVolAHT', 'Illiquidity', 'IndIPO', 'IndMom', 'IndRetBig', 'IntMom', 'IntanBM', 'IntanCFP', 'IntanEP', 'IntanSP', 'InvGrowth', 'InvestPPEInv', 'Investment', 'LRreversal', 'Leverage', 'MRreversal', 'MS', 'MaxRet', 'MeanRankRevGrowth', 'Mom12m', 'Mom12mOffSeason', 'Mom6m', 'Mom6mJunk', 'MomOffSeason', 'MomOffSeason06YrPlus', 'MomOffSeason11YrPlus', 'MomOffSeason16YrPlus', 'MomRev', 'MomSeason', 'MomSeason06YrPlus', 'MomSeason11YrPlus', 'MomSeason16YrPlus', 'MomSeasonShort', 'MomVol', 'NOA', 'NetDebtFinance', 'NetDebtPrice', 'NetEquityFinance', 'NetPayoutYield', 'NumEarnIncrease', 'OPLeverage', 'OScore', 'OperProf', 'OperProfRD', 'OptionVolume1', 'OptionVolume2', 'OrderBacklog', 'OrderBacklogChg', 'OrgCap', 'P', 'PS', 'PatentsRD', 'PayoutYield', 'PctAcc', 'PctTotAcc', 'PredictedFE', 'PriceDelayRsq', 'PriceDelaySlope', 'PriceDelayTstat', 'ProbInformedTrading', 'RD', 'RDAbility', 'RDIPO', 'RDS', 'RDcap', 'REV6', 'RIO_Disp', 'RIO_MB', 'RIO_Turnover', 'RIO_Volatility', 'ResidualMomentum', 'ReturnSkew', 'ReturnSkew3F', 'RevenueSurprise', 'RoE', 'SP', 'ShareIss1Y', 'ShareIss5Y', 'ShareRepurchase', 'ShareVol', 'ShortInterest', 'SmileSlope', 'Spinoff', 'SurpriseRD', 'Tax', 'TotalAccruals', 'UpRecomm', 'VarCF', 'VolMkt', 'VolSD', 'VolumeTrend', 'XFIN', 'adj_spot', 'ailliq', 'atm_civpiv', 'atm_dcivpiv', 'best_bid', 'best_offer', 'betaVIX', 'bucket_dvol', 'bucket_vol', 'bucket_vol_share', 'cfadj', 'cfp', 'cp_flag', 'dNoa', 'days_no_trading', 'days_to_exp', 'dciv', 'delta_x', 'delta_y', 'doi', 'dpiv', 'dso', 'dvol', 'embedlev', 'exdate_x', 'exdate_y', 'expiration_month', 'fgr5yrLag', 'forwardprice', 'gamma_x', 'gamma_y', 'grcapx', 'grcapx3y', 'hire', 'impl_volatility', 'iomom_cust', 'iomom_supp', 'ir_rate', 'iv', 'ivd', 'ivslope', 'ldso', 'lso', 'mid', 'mid_price', 'moneyness', 'nopt', 'ntm_civpiv', 'oi', 'oistock', 'open_interest', 'optspread', 'pba', 'pcpv', 'pcratio', 'pilliq', 'realestate', 'retConglomerate', 'roaq', 'secid_x', 'secid_y', 'sfe', 'shrtfee', 'sinAlgo', 'skew1', 'skewiv', 'so', 'spotprice', 'std_turn', 'strike_price', 'tang', 'theta_x', 'theta_y', 'toi', 'ttm', 'turnover', 'vega_x', 'vega_y', 'vol', 'volga', 'volume', 'vs_change', 'vs_level', 'zerotrade', 'zerotradeAlt1', 'zerotradeAlt12', "
     ]
    }
   ],
   "source": [
    "# used characteristics\n",
    "_ = [print(f\"'{i}'\", end=\", \") for i in sorted(list(option_with_feature.columns.difference(['Unnamed: 0',\n",
    " 'secid',\n",
    " 'permno',\n",
    " 'date',\n",
    " 'exdate',\n",
    " 'optionid',\n",
    " 'bucket_class', \"yyyymm\", \"option_ret\"])))\n",
    "]"
   ]
  },
  {
   "cell_type": "code",
   "execution_count": 180,
   "id": "f4d3b179-3113-4f8c-805f-0be2f08f2e51",
   "metadata": {
    "execution": {
     "iopub.execute_input": "2022-05-03T13:36:30.722666Z",
     "iopub.status.busy": "2022-05-03T13:36:30.722377Z",
     "iopub.status.idle": "2022-05-03T13:36:30.802121Z",
     "shell.execute_reply": "2022-05-03T13:36:30.801567Z",
     "shell.execute_reply.started": "2022-05-03T13:36:30.722643Z"
    }
   },
   "outputs": [
    {
     "data": {
      "text/html": [
       "<div>\n",
       "<style scoped>\n",
       "    .dataframe tbody tr th:only-of-type {\n",
       "        vertical-align: middle;\n",
       "    }\n",
       "\n",
       "    .dataframe tbody tr th {\n",
       "        vertical-align: top;\n",
       "    }\n",
       "\n",
       "    .dataframe thead th {\n",
       "        text-align: right;\n",
       "    }\n",
       "</style>\n",
       "<table border=\"1\" class=\"dataframe\">\n",
       "  <thead>\n",
       "    <tr style=\"text-align: right;\">\n",
       "      <th></th>\n",
       "      <th>Unnamed: 0</th>\n",
       "      <th>secid</th>\n",
       "      <th>permno</th>\n",
       "      <th>date</th>\n",
       "      <th>exdate</th>\n",
       "      <th>optionid</th>\n",
       "      <th>bucket_class</th>\n",
       "      <th>C</th>\n",
       "      <th>P</th>\n",
       "      <th>expiration_month</th>\n",
       "      <th>...</th>\n",
       "      <th>TotalAccruals</th>\n",
       "      <th>UpRecomm</th>\n",
       "      <th>VarCF</th>\n",
       "      <th>VolMkt</th>\n",
       "      <th>VolSD</th>\n",
       "      <th>VolumeTrend</th>\n",
       "      <th>XFIN</th>\n",
       "      <th>zerotrade</th>\n",
       "      <th>zerotradeAlt1</th>\n",
       "      <th>zerotradeAlt12</th>\n",
       "    </tr>\n",
       "  </thead>\n",
       "  <tbody>\n",
       "    <tr>\n",
       "      <th>0</th>\n",
       "      <td>0</td>\n",
       "      <td>5015</td>\n",
       "      <td>56266.0</td>\n",
       "      <td>1996-01-31</td>\n",
       "      <td>1996-07-20</td>\n",
       "      <td>10980421</td>\n",
       "      <td>ITM,L</td>\n",
       "      <td>1</td>\n",
       "      <td>0</td>\n",
       "      <td>0</td>\n",
       "      <td>...</td>\n",
       "      <td>NaN</td>\n",
       "      <td>1.0</td>\n",
       "      <td>-0.002398</td>\n",
       "      <td>-0.083688</td>\n",
       "      <td>-3.469586</td>\n",
       "      <td>-0.010613</td>\n",
       "      <td>NaN</td>\n",
       "      <td>2.212753e-08</td>\n",
       "      <td>2.905242e-08</td>\n",
       "      <td>3.159365e-08</td>\n",
       "    </tr>\n",
       "    <tr>\n",
       "      <th>1</th>\n",
       "      <td>1</td>\n",
       "      <td>5015</td>\n",
       "      <td>56266.0</td>\n",
       "      <td>1996-01-31</td>\n",
       "      <td>1996-07-20</td>\n",
       "      <td>10385280</td>\n",
       "      <td>ATM,L</td>\n",
       "      <td>1</td>\n",
       "      <td>0</td>\n",
       "      <td>0</td>\n",
       "      <td>...</td>\n",
       "      <td>NaN</td>\n",
       "      <td>1.0</td>\n",
       "      <td>-0.002398</td>\n",
       "      <td>-0.083688</td>\n",
       "      <td>-3.469586</td>\n",
       "      <td>-0.010613</td>\n",
       "      <td>NaN</td>\n",
       "      <td>2.212753e-08</td>\n",
       "      <td>2.905242e-08</td>\n",
       "      <td>3.159365e-08</td>\n",
       "    </tr>\n",
       "    <tr>\n",
       "      <th>2</th>\n",
       "      <td>2</td>\n",
       "      <td>5015</td>\n",
       "      <td>56266.0</td>\n",
       "      <td>1996-01-31</td>\n",
       "      <td>1996-07-20</td>\n",
       "      <td>10440757</td>\n",
       "      <td>OTM,L</td>\n",
       "      <td>1</td>\n",
       "      <td>0</td>\n",
       "      <td>0</td>\n",
       "      <td>...</td>\n",
       "      <td>NaN</td>\n",
       "      <td>1.0</td>\n",
       "      <td>-0.002398</td>\n",
       "      <td>-0.083688</td>\n",
       "      <td>-3.469586</td>\n",
       "      <td>-0.010613</td>\n",
       "      <td>NaN</td>\n",
       "      <td>2.212753e-08</td>\n",
       "      <td>2.905242e-08</td>\n",
       "      <td>3.159365e-08</td>\n",
       "    </tr>\n",
       "    <tr>\n",
       "      <th>3</th>\n",
       "      <td>3</td>\n",
       "      <td>5015</td>\n",
       "      <td>56266.0</td>\n",
       "      <td>1996-01-31</td>\n",
       "      <td>1996-04-20</td>\n",
       "      <td>10752997</td>\n",
       "      <td>ATM,S</td>\n",
       "      <td>0</td>\n",
       "      <td>1</td>\n",
       "      <td>0</td>\n",
       "      <td>...</td>\n",
       "      <td>NaN</td>\n",
       "      <td>1.0</td>\n",
       "      <td>-0.002398</td>\n",
       "      <td>-0.083688</td>\n",
       "      <td>-3.469586</td>\n",
       "      <td>-0.010613</td>\n",
       "      <td>NaN</td>\n",
       "      <td>2.212753e-08</td>\n",
       "      <td>2.905242e-08</td>\n",
       "      <td>3.159365e-08</td>\n",
       "    </tr>\n",
       "    <tr>\n",
       "      <th>4</th>\n",
       "      <td>4</td>\n",
       "      <td>5015</td>\n",
       "      <td>56266.0</td>\n",
       "      <td>1996-01-31</td>\n",
       "      <td>1996-04-20</td>\n",
       "      <td>11214327</td>\n",
       "      <td>ATM,S</td>\n",
       "      <td>0</td>\n",
       "      <td>1</td>\n",
       "      <td>0</td>\n",
       "      <td>...</td>\n",
       "      <td>NaN</td>\n",
       "      <td>1.0</td>\n",
       "      <td>-0.002398</td>\n",
       "      <td>-0.083688</td>\n",
       "      <td>-3.469586</td>\n",
       "      <td>-0.010613</td>\n",
       "      <td>NaN</td>\n",
       "      <td>2.212753e-08</td>\n",
       "      <td>2.905242e-08</td>\n",
       "      <td>3.159365e-08</td>\n",
       "    </tr>\n",
       "  </tbody>\n",
       "</table>\n",
       "<p>5 rows × 255 columns</p>\n",
       "</div>"
      ],
      "text/plain": [
       "   Unnamed: 0  secid   permno        date      exdate  optionid bucket_class  \\\n",
       "0           0   5015  56266.0  1996-01-31  1996-07-20  10980421        ITM,L   \n",
       "1           1   5015  56266.0  1996-01-31  1996-07-20  10385280        ATM,L   \n",
       "2           2   5015  56266.0  1996-01-31  1996-07-20  10440757        OTM,L   \n",
       "3           3   5015  56266.0  1996-01-31  1996-04-20  10752997        ATM,S   \n",
       "4           4   5015  56266.0  1996-01-31  1996-04-20  11214327        ATM,S   \n",
       "\n",
       "   C  P  expiration_month  ...  TotalAccruals  UpRecomm     VarCF    VolMkt  \\\n",
       "0  1  0                 0  ...            NaN       1.0 -0.002398 -0.083688   \n",
       "1  1  0                 0  ...            NaN       1.0 -0.002398 -0.083688   \n",
       "2  1  0                 0  ...            NaN       1.0 -0.002398 -0.083688   \n",
       "3  0  1                 0  ...            NaN       1.0 -0.002398 -0.083688   \n",
       "4  0  1                 0  ...            NaN       1.0 -0.002398 -0.083688   \n",
       "\n",
       "      VolSD  VolumeTrend  XFIN     zerotrade  zerotradeAlt1  zerotradeAlt12  \n",
       "0 -3.469586    -0.010613   NaN  2.212753e-08   2.905242e-08    3.159365e-08  \n",
       "1 -3.469586    -0.010613   NaN  2.212753e-08   2.905242e-08    3.159365e-08  \n",
       "2 -3.469586    -0.010613   NaN  2.212753e-08   2.905242e-08    3.159365e-08  \n",
       "3 -3.469586    -0.010613   NaN  2.212753e-08   2.905242e-08    3.159365e-08  \n",
       "4 -3.469586    -0.010613   NaN  2.212753e-08   2.905242e-08    3.159365e-08  \n",
       "\n",
       "[5 rows x 255 columns]"
      ]
     },
     "execution_count": 180,
     "metadata": {},
     "output_type": "execute_result"
    }
   ],
   "source": []
  },
  {
   "cell_type": "code",
   "execution_count": 11,
   "id": "e6647247-c316-469d-8f68-e71b528892e3",
   "metadata": {
    "execution": {
     "iopub.execute_input": "2022-05-01T17:26:51.736055Z",
     "iopub.status.busy": "2022-05-01T17:26:51.735795Z",
     "iopub.status.idle": "2022-05-01T17:27:21.809155Z",
     "shell.execute_reply": "2022-05-01T17:27:21.808120Z",
     "shell.execute_reply.started": "2022-05-01T17:26:51.736028Z"
    }
   },
   "outputs": [],
   "source": [
    "# option_with_feature = pd.read_csv(os.path.join(DATAROOT, \"option_with_nonsparse_features.csv\"))"
   ]
  },
  {
   "cell_type": "code",
   "execution_count": 11,
   "id": "a73944da-ff7e-4f6e-a7d7-1f1db4c3959c",
   "metadata": {
    "execution": {
     "iopub.execute_input": "2022-05-03T16:53:28.667674Z",
     "iopub.status.busy": "2022-05-03T16:53:28.667434Z",
     "iopub.status.idle": "2022-05-03T16:53:28.673327Z",
     "shell.execute_reply": "2022-05-03T16:53:28.672725Z",
     "shell.execute_reply.started": "2022-05-03T16:53:28.667649Z"
    },
    "tags": []
   },
   "outputs": [
    {
     "data": {
      "text/plain": [
       "(3430490, 277)"
      ]
     },
     "execution_count": 11,
     "metadata": {},
     "output_type": "execute_result"
    }
   ],
   "source": [
    "option_with_feature.shape"
   ]
  },
  {
   "cell_type": "code",
   "execution_count": 12,
   "id": "dd2fb12f-870d-4703-957c-a9ee5f12189b",
   "metadata": {
    "execution": {
     "iopub.execute_input": "2022-05-03T16:53:31.675389Z",
     "iopub.status.busy": "2022-05-03T16:53:31.675108Z",
     "iopub.status.idle": "2022-05-03T16:54:12.907208Z",
     "shell.execute_reply": "2022-05-03T16:54:12.902683Z",
     "shell.execute_reply.started": "2022-05-03T16:53:31.675364Z"
    },
    "tags": []
   },
   "outputs": [],
   "source": [
    "option_with_feature = option_with_feature[~option_with_feature.option_ret.isna()]"
   ]
  },
  {
   "cell_type": "code",
   "execution_count": 13,
   "id": "728c7dbf-e780-471a-a563-82dd357c8b7a",
   "metadata": {
    "execution": {
     "iopub.execute_input": "2022-05-03T16:54:12.914435Z",
     "iopub.status.busy": "2022-05-03T16:54:12.913977Z",
     "iopub.status.idle": "2022-05-03T16:54:12.924950Z",
     "shell.execute_reply": "2022-05-03T16:54:12.924227Z",
     "shell.execute_reply.started": "2022-05-03T16:54:12.914401Z"
    },
    "tags": []
   },
   "outputs": [
    {
     "data": {
      "text/plain": [
       "(3430352, 277)"
      ]
     },
     "execution_count": 13,
     "metadata": {},
     "output_type": "execute_result"
    }
   ],
   "source": [
    "option_with_feature.shape"
   ]
  },
  {
   "cell_type": "code",
   "execution_count": 13,
   "id": "a42caaf7-886b-4911-af4d-e4d7b3c7df52",
   "metadata": {
    "execution": {
     "iopub.execute_input": "2022-05-01T17:43:21.413099Z",
     "iopub.status.busy": "2022-05-01T17:43:21.412793Z",
     "iopub.status.idle": "2022-05-01T17:43:21.419994Z",
     "shell.execute_reply": "2022-05-01T17:43:21.418753Z",
     "shell.execute_reply.started": "2022-05-01T17:43:21.413074Z"
    }
   },
   "outputs": [],
   "source": [
    "total_row_num = option_with_feature.shape[0]\n",
    "# option_with_feature = option_with_feature.dropna()\n",
    "# print(f\"number of na rows: {total_row_num - option_with_feature.shape[0]}\")"
   ]
  },
  {
   "cell_type": "code",
   "execution_count": 14,
   "id": "ca715d14-f0b5-4239-baac-bcf4bd03e71b",
   "metadata": {
    "execution": {
     "iopub.execute_input": "2022-05-01T17:43:23.755195Z",
     "iopub.status.busy": "2022-05-01T17:43:23.754939Z",
     "iopub.status.idle": "2022-05-01T17:43:23.764977Z",
     "shell.execute_reply": "2022-05-01T17:43:23.764378Z",
     "shell.execute_reply.started": "2022-05-01T17:43:23.755169Z"
    }
   },
   "outputs": [
    {
     "data": {
      "text/plain": [
       "3981898"
      ]
     },
     "execution_count": 14,
     "metadata": {},
     "output_type": "execute_result"
    }
   ],
   "source": [
    "total_row_num"
   ]
  },
  {
   "cell_type": "code",
   "execution_count": 32,
   "id": "b5a6b1d9-fe02-4d6c-b24e-afa385eab6fe",
   "metadata": {
    "execution": {
     "iopub.execute_input": "2022-05-03T17:04:06.229514Z",
     "iopub.status.busy": "2022-05-03T17:04:06.229221Z",
     "iopub.status.idle": "2022-05-03T17:04:06.234108Z",
     "shell.execute_reply": "2022-05-03T17:04:06.233430Z",
     "shell.execute_reply.started": "2022-05-03T17:04:06.229486Z"
    },
    "tags": []
   },
   "outputs": [
    {
     "data": {
      "text/plain": [
       "False"
      ]
     },
     "execution_count": 32,
     "metadata": {},
     "output_type": "execute_result"
    }
   ],
   "source": [
    "any(option_with_feature.columns.duplicated())"
   ]
  },
  {
   "cell_type": "code",
   "execution_count": 212,
   "id": "25ce176c-7cc3-468d-ac49-d610a4491bb5",
   "metadata": {
    "execution": {
     "iopub.execute_input": "2022-05-03T15:10:55.610412Z",
     "iopub.status.busy": "2022-05-03T15:10:55.610131Z",
     "iopub.status.idle": "2022-05-03T15:11:13.338845Z",
     "shell.execute_reply": "2022-05-03T15:11:13.334476Z",
     "shell.execute_reply.started": "2022-05-03T15:10:55.610395Z"
    },
    "tags": []
   },
   "outputs": [],
   "source": [
    "option_with_feature = option_with_feature.loc[:,~option_with_feature.columns.duplicated()]"
   ]
  },
  {
   "cell_type": "code",
   "execution_count": 15,
   "id": "6c39147a-1952-443a-a087-a9b0f019adaa",
   "metadata": {
    "execution": {
     "iopub.execute_input": "2022-05-01T17:43:25.102968Z",
     "iopub.status.busy": "2022-05-01T17:43:25.102709Z",
     "iopub.status.idle": "2022-05-01T17:43:49.156052Z",
     "shell.execute_reply": "2022-05-01T17:43:49.155329Z",
     "shell.execute_reply.started": "2022-05-01T17:43:25.102939Z"
    },
    "tags": []
   },
   "outputs": [],
   "source": [
    "option_with_feature[\"date_x\"] = option_with_feature.date_x.apply(lambda x: dt.datetime.strptime(x.split()[0], \"%Y-%m-%d\")).copy()"
   ]
  },
  {
   "cell_type": "code",
   "execution_count": 16,
   "id": "53d6675a-b03a-4810-a2f7-5f584fd0cf68",
   "metadata": {
    "execution": {
     "iopub.execute_input": "2022-05-01T17:43:53.648452Z",
     "iopub.status.busy": "2022-05-01T17:43:53.648172Z",
     "iopub.status.idle": "2022-05-01T17:43:54.858914Z",
     "shell.execute_reply": "2022-05-01T17:43:54.857818Z",
     "shell.execute_reply.started": "2022-05-01T17:43:53.648428Z"
    }
   },
   "outputs": [],
   "source": [
    "option_with_feature[\"cp_flag_encoded\"] = option_with_feature[\"cp_flag\"].apply(lambda x: {\"P\": 0, \"C\": 1}[x])"
   ]
  },
  {
   "cell_type": "code",
   "execution_count": 214,
   "id": "15ae2289-c5ed-478e-8baa-b95c1bc1ad1f",
   "metadata": {
    "execution": {
     "iopub.execute_input": "2022-05-03T15:12:22.636848Z",
     "iopub.status.busy": "2022-05-03T15:12:22.634114Z",
     "iopub.status.idle": "2022-05-03T15:12:22.892884Z",
     "shell.execute_reply": "2022-05-03T15:12:22.892095Z",
     "shell.execute_reply.started": "2022-05-03T15:12:22.636758Z"
    },
    "tags": []
   },
   "outputs": [
    {
     "data": {
      "text/html": [
       "<div>\n",
       "<style scoped>\n",
       "    .dataframe tbody tr th:only-of-type {\n",
       "        vertical-align: middle;\n",
       "    }\n",
       "\n",
       "    .dataframe tbody tr th {\n",
       "        vertical-align: top;\n",
       "    }\n",
       "\n",
       "    .dataframe thead th {\n",
       "        text-align: right;\n",
       "    }\n",
       "</style>\n",
       "<table border=\"1\" class=\"dataframe\">\n",
       "  <thead>\n",
       "    <tr style=\"text-align: right;\">\n",
       "      <th></th>\n",
       "      <th>Unnamed: 0</th>\n",
       "      <th>secid_x</th>\n",
       "      <th>permno</th>\n",
       "      <th>date_x</th>\n",
       "      <th>exdate_x</th>\n",
       "      <th>optionid</th>\n",
       "      <th>bucket_class</th>\n",
       "      <th>C</th>\n",
       "      <th>P</th>\n",
       "      <th>expiration_month</th>\n",
       "      <th>...</th>\n",
       "      <th>theta_y</th>\n",
       "      <th>cfadj</th>\n",
       "      <th>days_no_trading</th>\n",
       "      <th>days_to_exp</th>\n",
       "      <th>forwardprice</th>\n",
       "      <th>spotprice</th>\n",
       "      <th>adj_spot</th>\n",
       "      <th>ir_rate</th>\n",
       "      <th>mid_price</th>\n",
       "      <th>option_ret</th>\n",
       "    </tr>\n",
       "  </thead>\n",
       "  <tbody>\n",
       "    <tr>\n",
       "      <th>3231174</th>\n",
       "      <td>3231174</td>\n",
       "      <td>101121</td>\n",
       "      <td>61241.0</td>\n",
       "      <td>2020-07-31</td>\n",
       "      <td>2020-10-16</td>\n",
       "      <td>135275169</td>\n",
       "      <td>OTM,S</td>\n",
       "      <td>1</td>\n",
       "      <td>0</td>\n",
       "      <td>0</td>\n",
       "      <td>...</td>\n",
       "      <td>-3.971454</td>\n",
       "      <td>1</td>\n",
       "      <td>0</td>\n",
       "      <td>77</td>\n",
       "      <td>77.463405</td>\n",
       "      <td>77.43</td>\n",
       "      <td>77.43</td>\n",
       "      <td>0.002045</td>\n",
       "      <td>0.265</td>\n",
       "      <td>-0.026853</td>\n",
       "    </tr>\n",
       "    <tr>\n",
       "      <th>2604334</th>\n",
       "      <td>2604334</td>\n",
       "      <td>102822</td>\n",
       "      <td>11552.0</td>\n",
       "      <td>2018-04-30</td>\n",
       "      <td>2019-01-18</td>\n",
       "      <td>117853059</td>\n",
       "      <td>OTM,L</td>\n",
       "      <td>0</td>\n",
       "      <td>1</td>\n",
       "      <td>0</td>\n",
       "      <td>...</td>\n",
       "      <td>-1.180726</td>\n",
       "      <td>1</td>\n",
       "      <td>0</td>\n",
       "      <td>263</td>\n",
       "      <td>88.658018</td>\n",
       "      <td>87.10</td>\n",
       "      <td>87.10</td>\n",
       "      <td>0.024606</td>\n",
       "      <td>0.335</td>\n",
       "      <td>-0.032197</td>\n",
       "    </tr>\n",
       "    <tr>\n",
       "      <th>2523068</th>\n",
       "      <td>2523068</td>\n",
       "      <td>109181</td>\n",
       "      <td>10138.0</td>\n",
       "      <td>2017-12-29</td>\n",
       "      <td>2018-02-16</td>\n",
       "      <td>118468961</td>\n",
       "      <td>ATM,S</td>\n",
       "      <td>0</td>\n",
       "      <td>1</td>\n",
       "      <td>0</td>\n",
       "      <td>...</td>\n",
       "      <td>-10.564550</td>\n",
       "      <td>1</td>\n",
       "      <td>0</td>\n",
       "      <td>49</td>\n",
       "      <td>105.158644</td>\n",
       "      <td>104.93</td>\n",
       "      <td>104.93</td>\n",
       "      <td>0.016214</td>\n",
       "      <td>2.975</td>\n",
       "      <td>0.011691</td>\n",
       "    </tr>\n",
       "  </tbody>\n",
       "</table>\n",
       "<p>3 rows × 278 columns</p>\n",
       "</div>"
      ],
      "text/plain": [
       "         Unnamed: 0  secid_x   permno      date_x    exdate_x   optionid  \\\n",
       "3231174     3231174   101121  61241.0  2020-07-31  2020-10-16  135275169   \n",
       "2604334     2604334   102822  11552.0  2018-04-30  2019-01-18  117853059   \n",
       "2523068     2523068   109181  10138.0  2017-12-29  2018-02-16  118468961   \n",
       "\n",
       "        bucket_class  C  P  expiration_month  ...    theta_y  cfadj  \\\n",
       "3231174        OTM,S  1  0                 0  ...  -3.971454      1   \n",
       "2604334        OTM,L  0  1                 0  ...  -1.180726      1   \n",
       "2523068        ATM,S  0  1                 0  ... -10.564550      1   \n",
       "\n",
       "         days_no_trading  days_to_exp  forwardprice  spotprice  adj_spot  \\\n",
       "3231174                0           77     77.463405      77.43     77.43   \n",
       "2604334                0          263     88.658018      87.10     87.10   \n",
       "2523068                0           49    105.158644     104.93    104.93   \n",
       "\n",
       "          ir_rate  mid_price  option_ret  \n",
       "3231174  0.002045      0.265   -0.026853  \n",
       "2604334  0.024606      0.335   -0.032197  \n",
       "2523068  0.016214      2.975    0.011691  \n",
       "\n",
       "[3 rows x 278 columns]"
      ]
     },
     "execution_count": 214,
     "metadata": {},
     "output_type": "execute_result"
    }
   ],
   "source": [
    "option_with_feature.sample(3)"
   ]
  },
  {
   "cell_type": "code",
   "execution_count": 18,
   "id": "a3524ee6-8112-4111-ada1-426c6a37636f",
   "metadata": {
    "execution": {
     "iopub.execute_input": "2022-05-01T17:43:59.067344Z",
     "iopub.status.busy": "2022-05-01T17:43:59.067040Z",
     "iopub.status.idle": "2022-05-01T17:43:59.189057Z",
     "shell.execute_reply": "2022-05-01T17:43:59.188441Z",
     "shell.execute_reply.started": "2022-05-01T17:43:59.067311Z"
    }
   },
   "outputs": [],
   "source": [
    "year = 1996\n",
    "begin_date = dt.datetime.strptime(f\"{year}-01-01\", \"%Y-%m-%d\")\n",
    "end_date = dt.datetime.strptime(f\"{year+4}-12-31\", \"%Y-%m-%d\")\n",
    "training_data = option_with_feature[\n",
    "    option_with_feature.date_x.between(begin_date, end_date)\n",
    "]\n"
   ]
  },
  {
   "cell_type": "code",
   "execution_count": 220,
   "id": "117f6737-941c-4749-8230-fbb2d77ee2ef",
   "metadata": {
    "execution": {
     "iopub.execute_input": "2022-05-03T16:16:01.260542Z",
     "iopub.status.busy": "2022-05-03T16:16:01.260316Z",
     "iopub.status.idle": "2022-05-03T16:16:02.039133Z",
     "shell.execute_reply": "2022-05-03T16:16:02.038568Z",
     "shell.execute_reply.started": "2022-05-03T16:16:01.260520Z"
    },
    "tags": []
   },
   "outputs": [],
   "source": [
    "option_with_feature.date_x = pd.to_datetime(option_with_feature.date_x)"
   ]
  },
  {
   "cell_type": "code",
   "execution_count": 14,
   "id": "24c4852a-52b1-46a9-a88b-9c0ea341da5c",
   "metadata": {
    "execution": {
     "iopub.execute_input": "2022-05-03T16:55:01.287204Z",
     "iopub.status.busy": "2022-05-03T16:55:01.286372Z",
     "iopub.status.idle": "2022-05-03T16:55:01.316937Z",
     "shell.execute_reply": "2022-05-03T16:55:01.316343Z",
     "shell.execute_reply.started": "2022-05-03T16:55:01.287179Z"
    },
    "tags": []
   },
   "outputs": [],
   "source": [
    "def train_validation_test_split(option_with_feature, year):\n",
    "    begin_date = dt.datetime.strptime(f\"{year}-01-01\", \"%Y-%m-%d\")\n",
    "    end_date = dt.datetime.strptime(f\"{year+4}-12-31\", \"%Y-%m-%d\")\n",
    "    training_data = option_with_feature[\n",
    "        option_with_feature.date.between(begin_date, end_date)\n",
    "    ]\n",
    "\n",
    "    begin_date = dt.datetime.strptime(f\"{year+5}-01-01\", \"%Y-%m-%d\")\n",
    "    end_date = dt.datetime.strptime(f\"{year+6}-12-31\", \"%Y-%m-%d\")\n",
    "    validation_data = option_with_feature[\n",
    "        option_with_feature.date.between(begin_date, end_date)\n",
    "    ]\n",
    "\n",
    "    begin_date = dt.datetime.strptime(f\"{year+7}-01-01\", \"%Y-%m-%d\")\n",
    "    end_date = dt.datetime.strptime(f\"{year+7}-12-31\", \"%Y-%m-%d\")\n",
    "    test_data = option_with_feature[\n",
    "        option_with_feature.date.between(begin_date, end_date)\n",
    "    ]\n",
    "    \n",
    "    return training_data, validation_data, test_data"
   ]
  },
  {
   "cell_type": "code",
   "execution_count": 286,
   "id": "feab1ef5-ba9d-4336-9e63-1494678a89e8",
   "metadata": {},
   "outputs": [
    {
     "data": {
      "text/plain": [
       "[<matplotlib.lines.Line2D at 0x7fc9245993a0>]"
      ]
     },
     "execution_count": 286,
     "metadata": {},
     "output_type": "execute_result"
    },
    {
     "data": {
      "image/png": "[encoded data removed]",
      "text/plain": [
       "<Figure size 432x288 with 1 Axes>"
      ]
     },
     "metadata": {
      "needs_background": "light"
     },
     "output_type": "display_data"
    }
   ],
   "source": []
  },
  {
   "cell_type": "code",
   "execution_count": null,
   "id": "2132a844-6305-4af3-80c9-912a46f7e86b",
   "metadata": {},
   "outputs": [],
   "source": []
  },
  {
   "cell_type": "code",
   "execution_count": 216,
   "id": "cecc07ef-576a-446f-9648-6243b793e237",
   "metadata": {},
   "outputs": [],
   "source": []
  },
  {
   "cell_type": "code",
   "execution_count": 16,
   "id": "5e77b209-e84e-4478-b0b7-4ab8d9d7eed9",
   "metadata": {
    "execution": {
     "iopub.execute_input": "2022-05-03T16:55:20.169210Z",
     "iopub.status.busy": "2022-05-03T16:55:20.168914Z",
     "iopub.status.idle": "2022-05-03T16:55:22.672093Z",
     "shell.execute_reply": "2022-05-03T16:55:22.671606Z",
     "shell.execute_reply.started": "2022-05-03T16:55:20.169184Z"
    },
    "tags": []
   },
   "outputs": [],
   "source": [
    "training_data, validation_data, test_data = train_validation_test_split(option_with_feature, 1996)"
   ]
  },
  {
   "cell_type": "code",
   "execution_count": 17,
   "id": "ff893dc2-4dae-4d22-a6d8-d9a6b54403b2",
   "metadata": {
    "execution": {
     "iopub.execute_input": "2022-05-03T16:55:23.930455Z",
     "iopub.status.busy": "2022-05-03T16:55:23.930111Z",
     "iopub.status.idle": "2022-05-03T16:55:23.936336Z",
     "shell.execute_reply": "2022-05-03T16:55:23.935586Z",
     "shell.execute_reply.started": "2022-05-03T16:55:23.930421Z"
    }
   },
   "outputs": [
    {
     "data": {
      "text/plain": [
       "(321491, 145707, 72746)"
      ]
     },
     "execution_count": 17,
     "metadata": {},
     "output_type": "execute_result"
    }
   ],
   "source": [
    "training_data.shape[0], validation_data.shape[0], test_data.shape[0]"
   ]
  },
  {
   "cell_type": "code",
   "execution_count": 62,
   "id": "09b1562c-a568-400e-b270-6360c075c547",
   "metadata": {},
   "outputs": [
    {
     "data": {
      "text/plain": [
       "(77333, 39123)"
      ]
     },
     "execution_count": 62,
     "metadata": {},
     "output_type": "execute_result"
    }
   ],
   "source": [
    "len(test_data.optionid), len(set(test_data.optionid))"
   ]
  },
  {
   "cell_type": "code",
   "execution_count": null,
   "id": "8ee359ec-8cca-4df7-963c-1fd7e72c4426",
   "metadata": {},
   "outputs": [],
   "source": []
  },
  {
   "cell_type": "code",
   "execution_count": 41,
   "id": "e924e00d-408e-4f30-becf-94907838cace",
   "metadata": {
    "execution": {
     "iopub.execute_input": "2022-05-03T17:09:53.946121Z",
     "iopub.status.busy": "2022-05-03T17:09:53.945809Z",
     "iopub.status.idle": "2022-05-03T17:09:56.301790Z",
     "shell.execute_reply": "2022-05-03T17:09:56.301228Z",
     "shell.execute_reply.started": "2022-05-03T17:09:53.946089Z"
    },
    "tags": []
   },
   "outputs": [
    {
     "name": "stdout",
     "output_type": "stream",
     "text": [
      "ChNAnalyst\n",
      "RDcap\n",
      "ChNAnalyst\n",
      "RDcap\n",
      "ChNAnalyst\n",
      "ProbInformedTrading\n",
      "RDcap\n"
     ]
    }
   ],
   "source": [
    "non_useable_feature = set()\n",
    "for df in [training_data, validation_data, test_data]:\n",
    "    for key, val in dict(df.isna().sum()).items():\n",
    "        if val == df.shape[0]:\n",
    "            print(key)\n",
    "            non_useable_feature.add(key)"
   ]
  },
  {
   "cell_type": "code",
   "execution_count": 65,
   "id": "c53d3b7c-a6ce-4330-9007-b49a50b4fdb9",
   "metadata": {
    "execution": {
     "iopub.execute_input": "2022-05-03T17:14:44.798886Z",
     "iopub.status.busy": "2022-05-03T17:14:44.798553Z",
     "iopub.status.idle": "2022-05-03T17:14:44.821492Z",
     "shell.execute_reply": "2022-05-03T17:14:44.820860Z",
     "shell.execute_reply.started": "2022-05-03T17:14:44.798860Z"
    }
   },
   "outputs": [
    {
     "data": {
      "text/plain": [
       "\u001b[0;31mInit signature:\u001b[0m\n",
       "\u001b[0mSimpleImputer\u001b[0m\u001b[0;34m(\u001b[0m\u001b[0;34m\u001b[0m\n",
       "\u001b[0;34m\u001b[0m    \u001b[0;34m*\u001b[0m\u001b[0;34m,\u001b[0m\u001b[0;34m\u001b[0m\n",
       "\u001b[0;34m\u001b[0m    \u001b[0mmissing_values\u001b[0m\u001b[0;34m=\u001b[0m\u001b[0mnan\u001b[0m\u001b[0;34m,\u001b[0m\u001b[0;34m\u001b[0m\n",
       "\u001b[0;34m\u001b[0m    \u001b[0mstrategy\u001b[0m\u001b[0;34m=\u001b[0m\u001b[0;34m'mean'\u001b[0m\u001b[0;34m,\u001b[0m\u001b[0;34m\u001b[0m\n",
       "\u001b[0;34m\u001b[0m    \u001b[0mfill_value\u001b[0m\u001b[0;34m=\u001b[0m\u001b[0;32mNone\u001b[0m\u001b[0;34m,\u001b[0m\u001b[0;34m\u001b[0m\n",
       "\u001b[0;34m\u001b[0m    \u001b[0mverbose\u001b[0m\u001b[0;34m=\u001b[0m\u001b[0;36m0\u001b[0m\u001b[0;34m,\u001b[0m\u001b[0;34m\u001b[0m\n",
       "\u001b[0;34m\u001b[0m    \u001b[0mcopy\u001b[0m\u001b[0;34m=\u001b[0m\u001b[0;32mTrue\u001b[0m\u001b[0;34m,\u001b[0m\u001b[0;34m\u001b[0m\n",
       "\u001b[0;34m\u001b[0m    \u001b[0madd_indicator\u001b[0m\u001b[0;34m=\u001b[0m\u001b[0;32mFalse\u001b[0m\u001b[0;34m,\u001b[0m\u001b[0;34m\u001b[0m\n",
       "\u001b[0;34m\u001b[0m\u001b[0;34m)\u001b[0m\u001b[0;34m\u001b[0m\u001b[0;34m\u001b[0m\u001b[0m\n",
       "\u001b[0;31mDocstring:\u001b[0m     \n",
       "Imputation transformer for completing missing values.\n",
       "\n",
       "Read more in the :ref:`User Guide <impute>`.\n",
       "\n",
       ".. versionadded:: 0.20\n",
       "   `SimpleImputer` replaces the previous `sklearn.preprocessing.Imputer`\n",
       "   estimator which is now removed.\n",
       "\n",
       "Parameters\n",
       "----------\n",
       "missing_values : int, float, str, np.nan or None, default=np.nan\n",
       "    The placeholder for the missing values. All occurrences of\n",
       "    `missing_values` will be imputed. For pandas' dataframes with\n",
       "    nullable integer dtypes with missing values, `missing_values`\n",
       "    should be set to `np.nan`, since `pd.NA` will be converted to `np.nan`.\n",
       "\n",
       "strategy : str, default='mean'\n",
       "    The imputation strategy.\n",
       "\n",
       "    - If \"mean\", then replace missing values using the mean along\n",
       "      each column. Can only be used with numeric data.\n",
       "    - If \"median\", then replace missing values using the median along\n",
       "      each column. Can only be used with numeric data.\n",
       "    - If \"most_frequent\", then replace missing using the most frequent\n",
       "      value along each column. Can be used with strings or numeric data.\n",
       "      If there is more than one such value, only the smallest is returned.\n",
       "    - If \"constant\", then replace missing values with fill_value. Can be\n",
       "      used with strings or numeric data.\n",
       "\n",
       "    .. versionadded:: 0.20\n",
       "       strategy=\"constant\" for fixed value imputation.\n",
       "\n",
       "fill_value : str or numerical value, default=None\n",
       "    When strategy == \"constant\", fill_value is used to replace all\n",
       "    occurrences of missing_values.\n",
       "    If left to the default, fill_value will be 0 when imputing numerical\n",
       "    data and \"missing_value\" for strings or object data types.\n",
       "\n",
       "verbose : int, default=0\n",
       "    Controls the verbosity of the imputer.\n",
       "\n",
       "copy : bool, default=True\n",
       "    If True, a copy of `X` will be created. If False, imputation will\n",
       "    be done in-place whenever possible. Note that, in the following cases,\n",
       "    a new copy will always be made, even if `copy=False`:\n",
       "\n",
       "    - If `X` is not an array of floating values;\n",
       "    - If `X` is encoded as a CSR matrix;\n",
       "    - If `add_indicator=True`.\n",
       "\n",
       "add_indicator : bool, default=False\n",
       "    If True, a :class:`MissingIndicator` transform will stack onto output\n",
       "    of the imputer's transform. This allows a predictive estimator\n",
       "    to account for missingness despite imputation. If a feature has no\n",
       "    missing values at fit/train time, the feature won't appear on\n",
       "    the missing indicator even if there are missing values at\n",
       "    transform/test time.\n",
       "\n",
       "Attributes\n",
       "----------\n",
       "statistics_ : array of shape (n_features,)\n",
       "    The imputation fill value for each feature.\n",
       "    Computing statistics can result in `np.nan` values.\n",
       "    During :meth:`transform`, features corresponding to `np.nan`\n",
       "    statistics will be discarded.\n",
       "\n",
       "indicator_ : :class:`~sklearn.impute.MissingIndicator`\n",
       "    Indicator used to add binary indicators for missing values.\n",
       "    `None` if `add_indicator=False`.\n",
       "\n",
       "n_features_in_ : int\n",
       "    Number of features seen during :term:`fit`.\n",
       "\n",
       "    .. versionadded:: 0.24\n",
       "\n",
       "feature_names_in_ : ndarray of shape (`n_features_in_`,)\n",
       "    Names of features seen during :term:`fit`. Defined only when `X`\n",
       "    has feature names that are all strings.\n",
       "\n",
       "    .. versionadded:: 1.0\n",
       "\n",
       "See Also\n",
       "--------\n",
       "IterativeImputer : Multivariate imputation of missing values.\n",
       "\n",
       "Notes\n",
       "-----\n",
       "Columns which only contained missing values at :meth:`fit` are discarded\n",
       "upon :meth:`transform` if strategy is not `\"constant\"`.\n",
       "\n",
       "Examples\n",
       "--------\n",
       ">>> import numpy as np\n",
       ">>> from sklearn.impute import SimpleImputer\n",
       ">>> imp_mean = SimpleImputer(missing_values=np.nan, strategy='mean')\n",
       ">>> imp_mean.fit([[7, 2, 3], [4, np.nan, 6], [10, 5, 9]])\n",
       "SimpleImputer()\n",
       ">>> X = [[np.nan, 2, 3], [4, np.nan, 6], [10, np.nan, 9]]\n",
       ">>> print(imp_mean.transform(X))\n",
       "[[ 7.   2.   3. ]\n",
       " [ 4.   3.5  6. ]\n",
       " [10.   3.5  9. ]]\n",
       "\u001b[0;31mFile:\u001b[0m           ~/anaconda3/envs/aqf/lib/python3.8/site-packages/sklearn/impute/_base.py\n",
       "\u001b[0;31mType:\u001b[0m           type\n",
       "\u001b[0;31mSubclasses:\u001b[0m     \n"
      ]
     },
     "metadata": {},
     "output_type": "display_data"
    }
   ],
   "source": [
    "?SimpleImputer"
   ]
  },
  {
   "cell_type": "code",
   "execution_count": 134,
   "id": "0f056577-234b-4ed0-9b15-abd23619a355",
   "metadata": {
    "execution": {
     "iopub.execute_input": "2022-05-03T19:30:38.391314Z",
     "iopub.status.busy": "2022-05-03T19:30:38.390965Z",
     "iopub.status.idle": "2022-05-03T19:30:39.324391Z",
     "shell.execute_reply": "2022-05-03T19:30:39.323809Z",
     "shell.execute_reply.started": "2022-05-03T19:30:38.391291Z"
    },
    "tags": []
   },
   "outputs": [
    {
     "data": {
      "text/plain": [
       "SimpleImputer()"
      ]
     },
     "execution_count": 134,
     "metadata": {},
     "output_type": "execute_result"
    }
   ],
   "source": [
    "used_characteristics = ['volume', 'ReturnSkew', 'MaxRet', 'delta', 'PriceDelaySlope', 'strike_price', \n",
    "                        'IdioVol3F', 'ReturnSkew3F', 'ir_rate', 'mid_price', 'forwardprice', \n",
    "                        'zerotradeAlt1', 'theta', 'cfadj', 'zerotrade', 'best_bid', 'spotprice', 'VolMkt', \n",
    "                        'IdioRisk', 'days_to_exp', 'PriceDelayTstat', 'High52', 'Coskewness', 'BidAskSpread', \n",
    "                        'Beta', 'days_no_trading', 'open_interest', 'impl_volatility', 'PriceDelayRsq', 'IdioVolAHT', \n",
    "                        'adj_spot', 'vega', 'gamma', 'best_offer', 'DolVol']\n",
    "used_characteristics = ['AM','AbnormalAccruals','Accruals','AnalystRevision','AnnouncementReturn','AssetGrowth','BM','BMdec','BPEBM','Beta','BetaFP','BetaLiquidityPS','BetaTailRisk','BidAskSpread','BookLeverage','C','CBOperProf','CF','Cash','CashProd','ChAssetTurnover','ChEQ','ChInv','ChInvIA','ChNNCOA','ChNWC','ChTax','CompEquIss','CompositeDebtIssuance','ConvDebt','CoskewACX','Coskewness','DebtIssuance','DelBreadth','DelCOA','DelCOL','DelEqu','DelFINL','DelLTI','DelNetFin','DivInit','DivOmit','DolVol','EBM','EP','EarningsStreak','EarningsSurprise','EntMult','EquityDuration','ExchSwitch','ExclExp','FEPS','GP','GrLTNOA','GrSaleToGrInv','GrSaleToGrOverhead','Herf','HerfAsset','HerfBE','High52','IdioRisk','IdioVol3F','IdioVolAHT','Illiquidity','IndIPO','IndMom','IntMom','IntanBM','IntanCFP','IntanEP','IntanSP','InvestPPEInv','Investment','LRreversal','Leverage','MRreversal','MaxRet','MeanRankRevGrowth','Mom12m','Mom12mOffSeason','Mom6m','MomOffSeason','MomOffSeason06YrPlus','MomOffSeason11YrPlus','MomSeason','MomSeason06YrPlus','MomSeason11YrPlus','MomSeasonShort','MomVol','NOA','NetDebtFinance','NetEquityFinance','NetPayoutYield','NumEarnIncrease','OPLeverage','OperProf','OptionVolume1','OptionVolume2','P','PctAcc','PctTotAcc','PriceDelayRsq','PriceDelaySlope','PriceDelayTstat','RDIPO','RDS','ResidualMomentum','ReturnSkew','ReturnSkew3F','RevenueSurprise','RoE','SP','ShareIss1Y','ShareIss5Y','ShareRepurchase','ShortInterest','SmileSlope','Spinoff','Tax','TotalAccruals','VarCF','VolMkt','VolSD','VolumeTrend','XFIN','adj_spot','best_bid','best_offer','betaVIX','bucket_dvol','bucket_vol','bucket_vol_share','cfadj','cfp','dNoa','days_no_trading','days_to_exp','dciv','delta_x','delta_y','doi','dpiv','dso','dvol','embedlev','expiration_month','fgr5yrLag','forwardprice','gamma_x','gamma_y','grcapx','grcapx3y','hire','impl_volatility','ir_rate','iv','ivd','ldso','lso','mid','mid_price','moneyness','nopt','ntm_civpiv','oi','oistock','open_interest','optspread','pba','pcpv','pcratio','roaq','secid_x','secid_y','shrtfee','skew1','so','spotprice','strike_price','theta_x','theta_y','toi','ttm','turnover','vega_x','vega_y','vol','volga','volume','vs_change','vs_level','zerotrade','zerotradeAlt1','zerotradeAlt12']\n",
    "used_characteristics = list(set(used_characteristics) - set(non_useable_feature))\n",
    "\n",
    "imp = SimpleImputer(missing_values=np.nan, strategy='mean')\n",
    "imp.fit(training_data[used_characteristics])"
   ]
  },
  {
   "cell_type": "code",
   "execution_count": 135,
   "id": "d67c3f63-5ef9-40fa-bce4-6877da84bbfd",
   "metadata": {
    "execution": {
     "iopub.execute_input": "2022-05-03T19:30:41.312680Z",
     "iopub.status.busy": "2022-05-03T19:30:41.312391Z",
     "iopub.status.idle": "2022-05-03T19:30:41.321761Z",
     "shell.execute_reply": "2022-05-03T19:30:41.321067Z",
     "shell.execute_reply.started": "2022-05-03T19:30:41.312659Z"
    },
    "tags": []
   },
   "outputs": [
    {
     "data": {
      "text/plain": [
       "194"
      ]
     },
     "execution_count": 135,
     "metadata": {},
     "output_type": "execute_result"
    }
   ],
   "source": [
    "len(used_characteristics)"
   ]
  },
  {
   "cell_type": "code",
   "execution_count": 136,
   "id": "bcfee089-8331-4c45-8a5c-10dabb59923d",
   "metadata": {
    "execution": {
     "iopub.execute_input": "2022-05-03T19:30:42.151629Z",
     "iopub.status.busy": "2022-05-03T19:30:42.151402Z",
     "iopub.status.idle": "2022-05-03T19:30:43.466702Z",
     "shell.execute_reply": "2022-05-03T19:30:43.466017Z",
     "shell.execute_reply.started": "2022-05-03T19:30:42.151603Z"
    },
    "tags": []
   },
   "outputs": [
    {
     "data": {
      "text/plain": [
       "((321491, 194), (321491, 194))"
      ]
     },
     "execution_count": 136,
     "metadata": {},
     "output_type": "execute_result"
    }
   ],
   "source": [
    "imp.transform(training_data[used_characteristics]).shape, training_data[used_characteristics].shape"
   ]
  },
  {
   "cell_type": "code",
   "execution_count": 137,
   "id": "985afb64-2510-4770-9b94-f3b590daed69",
   "metadata": {
    "execution": {
     "iopub.execute_input": "2022-05-03T19:30:45.379444Z",
     "iopub.status.busy": "2022-05-03T19:30:45.379216Z",
     "iopub.status.idle": "2022-05-03T19:31:03.468031Z",
     "shell.execute_reply": "2022-05-03T19:31:03.466700Z",
     "shell.execute_reply.started": "2022-05-03T19:30:45.379420Z"
    },
    "tags": []
   },
   "outputs": [
    {
     "name": "stderr",
     "output_type": "stream",
     "text": [
      "/var/folders/nh/s3ft86ks12xd4qdptmv1pvtc0000gn/T/ipykernel_18198/1344904601.py:1: SettingWithCopyWarning: \n",
      "A value is trying to be set on a copy of a slice from a DataFrame.\n",
      "Try using .loc[row_indexer,col_indexer] = value instead\n",
      "\n",
      "See the caveats in the documentation: https://pandas.pydata.org/pandas-docs/stable/user_guide/indexing.html#returning-a-view-versus-a-copy\n",
      "  training_data.loc[:, used_characteristics] = imp.transform(training_data[used_characteristics])\n",
      "/var/folders/nh/s3ft86ks12xd4qdptmv1pvtc0000gn/T/ipykernel_18198/1344904601.py:2: SettingWithCopyWarning: \n",
      "A value is trying to be set on a copy of a slice from a DataFrame.\n",
      "Try using .loc[row_indexer,col_indexer] = value instead\n",
      "\n",
      "See the caveats in the documentation: https://pandas.pydata.org/pandas-docs/stable/user_guide/indexing.html#returning-a-view-versus-a-copy\n",
      "  test_data.loc[:, used_characteristics] = imp.transform(test_data[used_characteristics])\n"
     ]
    }
   ],
   "source": [
    "training_data.loc[:, used_characteristics] = imp.transform(training_data[used_characteristics])\n",
    "test_data.loc[:, used_characteristics] = imp.transform(test_data[used_characteristics])\n",
    "\n",
    "X_train = training_data[used_characteristics + [\"date\", \"optionid\"] ]\n",
    "y_train = training_data['option_ret']\n",
    "\n",
    "X_test = test_data[used_characteristics + [\"date\", \"optionid\"]]\n",
    "y_test = test_data['option_ret']\n",
    "\n",
    "\n",
    "# X_train.loc[:, used_characteristics] = imp.transform(X_train[used_characteristics])\n",
    "# X_test.loc[:, used_characteristics]  = imp.transform(X_test[used_characteristics])\n",
    "\n",
    "# for char in [\"date_x\", \"optionid\"]:\n",
    "    # X_train[char] = training_data[char]\n",
    "    # X_test[char]  = test_data[char]"
   ]
  },
  {
   "cell_type": "code",
   "execution_count": 138,
   "id": "f46681d7-0ef9-4801-913d-70958110ed6e",
   "metadata": {
    "execution": {
     "iopub.execute_input": "2022-05-03T19:31:21.533289Z",
     "iopub.status.busy": "2022-05-03T19:31:21.532976Z",
     "iopub.status.idle": "2022-05-03T19:31:21.548781Z",
     "shell.execute_reply": "2022-05-03T19:31:21.548058Z",
     "shell.execute_reply.started": "2022-05-03T19:31:21.533261Z"
    },
    "tags": []
   },
   "outputs": [
    {
     "data": {
      "text/plain": [
       "((321491,), (321491,))"
      ]
     },
     "execution_count": 138,
     "metadata": {},
     "output_type": "execute_result"
    }
   ],
   "source": [
    "training_data[\"optionid\"].shape, training_data[\"optionid\"].dropna().shape\n",
    "# training_data[\"date_x\"].shape, training_data[\"date_x\"].dropna().shape"
   ]
  },
  {
   "cell_type": "code",
   "execution_count": 168,
   "id": "2dcf3ac1-35f4-4645-a988-57de665743d2",
   "metadata": {},
   "outputs": [
    {
     "data": {
      "text/plain": [
       "((336797, 39),\n",
       " (336797, 2),\n",
       " optionid    336797\n",
       " optionid    336797\n",
       " dtype: int64)"
      ]
     },
     "execution_count": 168,
     "metadata": {},
     "output_type": "execute_result"
    }
   ],
   "source": [
    "X_train.shape, X_train[\"optionid\"].dropna().shape, (~X_train[\"optionid\"].isna()).sum()"
   ]
  },
  {
   "cell_type": "code",
   "execution_count": 169,
   "id": "92cd252f-a68a-4aad-8111-ffd483eb32c5",
   "metadata": {},
   "outputs": [
    {
     "data": {
      "text/plain": [
       "((336797,), (336797,))"
      ]
     },
     "execution_count": 169,
     "metadata": {},
     "output_type": "execute_result"
    }
   ],
   "source": [
    "y_train.shape, y_train.dropna().shape"
   ]
  },
  {
   "cell_type": "code",
   "execution_count": 170,
   "id": "4e9a5930-2497-4ad8-83a3-f06c9eed4a7d",
   "metadata": {},
   "outputs": [
    {
     "data": {
      "text/plain": [
       "((336797, 38), (336797, 38))"
      ]
     },
     "execution_count": 170,
     "metadata": {},
     "output_type": "execute_result"
    }
   ],
   "source": [
    "X_train[used_characteristics].shape, X_train[used_characteristics].dropna().shape"
   ]
  },
  {
   "cell_type": "code",
   "execution_count": 171,
   "id": "919956da-12a6-40ce-9a35-1c927497079a",
   "metadata": {},
   "outputs": [
    {
     "data": {
      "text/html": [
       "<div>\n",
       "<style scoped>\n",
       "    .dataframe tbody tr th:only-of-type {\n",
       "        vertical-align: middle;\n",
       "    }\n",
       "\n",
       "    .dataframe tbody tr th {\n",
       "        vertical-align: top;\n",
       "    }\n",
       "\n",
       "    .dataframe thead th {\n",
       "        text-align: right;\n",
       "    }\n",
       "</style>\n",
       "<table border=\"1\" class=\"dataframe\">\n",
       "  <thead>\n",
       "    <tr style=\"text-align: right;\">\n",
       "      <th></th>\n",
       "      <th>volume</th>\n",
       "      <th>ReturnSkew</th>\n",
       "      <th>MaxRet</th>\n",
       "      <th>delta</th>\n",
       "      <th>PriceDelaySlope</th>\n",
       "      <th>strike_price</th>\n",
       "      <th>IdioVol3F</th>\n",
       "      <th>ReturnSkew3F</th>\n",
       "      <th>optionid</th>\n",
       "      <th>ir_rate</th>\n",
       "      <th>...</th>\n",
       "      <th>PriceDelayRsq</th>\n",
       "      <th>IdioVolAHT</th>\n",
       "      <th>adj_spot</th>\n",
       "      <th>vega</th>\n",
       "      <th>gamma</th>\n",
       "      <th>best_offer</th>\n",
       "      <th>DolVol</th>\n",
       "      <th>cp_flag_encoded</th>\n",
       "      <th>date_x</th>\n",
       "      <th>optionid</th>\n",
       "    </tr>\n",
       "  </thead>\n",
       "  <tbody>\n",
       "  </tbody>\n",
       "</table>\n",
       "<p>0 rows × 39 columns</p>\n",
       "</div>"
      ],
      "text/plain": [
       "Empty DataFrame\n",
       "Columns: [volume, ReturnSkew, MaxRet, delta, PriceDelaySlope, strike_price, IdioVol3F, ReturnSkew3F, optionid, ir_rate, mid_price, forwardprice, zerotradeAlt1, theta, cfadj, zerotrade, best_bid, spotprice, VolMkt, IdioRisk, days_to_exp, PriceDelayTstat, High52, Coskewness, BidAskSpread, Beta, days_no_trading, open_interest, impl_volatility, PriceDelayRsq, IdioVolAHT, adj_spot, vega, gamma, best_offer, DolVol, cp_flag_encoded, date_x, optionid]\n",
       "Index: []\n",
       "\n",
       "[0 rows x 39 columns]"
      ]
     },
     "execution_count": 171,
     "metadata": {},
     "output_type": "execute_result"
    }
   ],
   "source": [
    "X_train[X_train.isnull().any(axis=1)]"
   ]
  },
  {
   "cell_type": "markdown",
   "id": "ad270bd3-7e01-4f07-bcac-6085d7e71a27",
   "metadata": {},
   "source": [
    "## Linear regression"
   ]
  },
  {
   "cell_type": "code",
   "execution_count": 49,
   "id": "ff722222-142d-4c9c-9cfc-d9fdd21ee3fe",
   "metadata": {
    "execution": {
     "iopub.execute_input": "2022-05-03T17:12:01.963358Z",
     "iopub.status.busy": "2022-05-03T17:12:01.963131Z",
     "iopub.status.idle": "2022-05-03T17:12:03.216899Z",
     "shell.execute_reply": "2022-05-03T17:12:03.216287Z",
     "shell.execute_reply.started": "2022-05-03T17:12:01.963335Z"
    },
    "tags": []
   },
   "outputs": [],
   "source": [
    "import numpy as np\n",
    "from sklearn.linear_model import LinearRegression\n",
    "\n",
    "from sklearn.metrics import mean_squared_error, r2_score\n",
    "from sklearn.model_selection import train_test_split\n",
    "\n",
    "from sklearn import linear_model\n",
    "\n",
    "import matplotlib.pyplot as plt"
   ]
  },
  {
   "cell_type": "code",
   "execution_count": 25,
   "id": "80bdac80-a72c-495a-a94f-96f82d365df0",
   "metadata": {
    "collapsed": true,
    "execution": {
     "iopub.execute_input": "2022-05-01T18:21:13.754306Z",
     "iopub.status.busy": "2022-05-01T18:21:13.754065Z",
     "iopub.status.idle": "2022-05-01T18:25:02.141310Z",
     "shell.execute_reply": "2022-05-01T18:25:02.140707Z",
     "shell.execute_reply.started": "2022-05-01T18:21:13.754286Z"
    },
    "jupyter": {
     "outputs_hidden": true
    },
    "tags": []
   },
   "outputs": [
    {
     "name": "stdout",
     "output_type": "stream",
     "text": [
      "1996 166.76744889906195 -0.0002956954116033472 -7.332486063904575e-05\n",
      "1997 9.513280944254097 -0.0008065380280659618 -0.00018362375693148358\n",
      "1998 237.73763299373687 -5.201494093221015e-07 5.26958709967662e-06\n",
      "1999 108.3464190704547 -6.924315263412417e-05 -4.005933637030168e-05\n",
      "2000 198.34439293971298 -0.0001989682571665874 -9.402695479998613e-05\n",
      "2001 159.1456380009985 -7.626910191649294e-05 -2.2689309159051874e-05\n",
      "2002 54.26285501993854 1.4720226684250548e-06 5.744248232741889e-06\n",
      "2003 2170.2503327209333 -1.0801068331289798e-05 -9.708528510010694e-07\n",
      "2004 180.85363214827177 -2.3544650797902023e-05 -1.3974700026508913e-05\n",
      "2005 8000.392658965444 -2.3030484852526456e-05 -9.68759853003931e-07\n",
      "2006 468.9282026738583 -0.00010726780753755882 -5.3772046007427576e-05\n",
      "2007 980.1819566522795 -7.726669760454996e-06 -4.747639853919239e-06\n",
      "2008 27700.89409471503 -6.151640549179049e-06 -1.2662020478781955e-06\n",
      "2009 1.5476197325047836 -0.02885348172549329 -0.026447900491607168\n"
     ]
    },
    {
     "name": "stderr",
     "output_type": "stream",
     "text": [
      "/Users/zhangjin/anaconda3/envs/aqf/lib/python3.8/site-packages/sklearn/linear_model/_coordinate_descent.py:647: ConvergenceWarning: Objective did not converge. You might want to increase the number of iterations, check the scale of the features or consider increasing regularisation. Duality gap: 8.598e+05, tolerance: 1.497e+05\n",
      "  model = cd_fast.enet_coordinate_descent(\n"
     ]
    },
    {
     "name": "stdout",
     "output_type": "stream",
     "text": [
      "2010 36.72125273293216 -0.0016626465963252013 -0.0016328158743186272\n",
      "2011 63.940361819246796 -0.005628807078494447 -0.004604077222253311\n",
      "2012 68.21777226094191 -0.0016661387143541706 -0.0013576588525336941\n"
     ]
    }
   ],
   "source": [
    "# suppress the warning of \n",
    "#   \"A value is trying to be set on a copy of a slice from a DataFrame. \n",
    "#   Try using .loc[row_indexer,col_indexer] = value instead\"\n",
    "pd.options.mode.chained_assignment = None \n",
    "\n",
    "mean_squared_errors = []\n",
    "r2_scores = []\n",
    "R_squared_OSXS_s = []\n",
    "\n",
    "for year in range(1996, 2020-7):\n",
    "    training_data, validation_data, test_data = train_validation_test_split(option_with_feature, year)\n",
    "    \n",
    "    used_characteristics = ['volume', 'ReturnSkew', 'MaxRet', 'delta', 'PriceDelaySlope', 'strike_price', \n",
    "                        'IdioVol3F', 'ReturnSkew3F', 'ir_rate', 'mid_price', 'forwardprice', \n",
    "                        'zerotradeAlt1', 'theta', 'cfadj', 'zerotrade', 'best_bid', 'spotprice', 'VolMkt', \n",
    "                        'IdioRisk', 'days_to_exp', 'PriceDelayTstat', 'High52', 'Coskewness', 'BidAskSpread', \n",
    "                        'Beta', 'days_no_trading', 'open_interest', 'impl_volatility', 'PriceDelayRsq', 'IdioVolAHT', \n",
    "                        'adj_spot', 'vega', 'gamma', 'best_offer', 'DolVol', 'cp_flag_encoded']\n",
    "\n",
    "    imp = SimpleImputer(missing_values=np.nan, strategy='mean')\n",
    "    imp.fit(training_data[used_characteristics])\n",
    "    training_data.loc[:, used_characteristics] = imp.transform(training_data[used_characteristics])\n",
    "    validation_data.loc[:, used_characteristics] = imp.transform(validation_data[used_characteristics])\n",
    "    test_data.loc[:, used_characteristics] = imp.transform(test_data[used_characteristics])\n",
    "\n",
    "    X_train = training_data[used_characteristics + [\"date_x\", \"optionid\"] ]\n",
    "    y_train = training_data['option_ret']\n",
    "    \n",
    "    X_val = validation_data[used_characteristics + [\"date_x\", \"optionid\"] ]\n",
    "    y_val = validation_data['option_ret']\n",
    "\n",
    "    X_test = test_data[used_characteristics + [\"date_x\", \"optionid\"]]\n",
    "    y_test = test_data['option_ret']\n",
    "    \n",
    "\n",
    "    # # tuning hyperparameter on validation set\n",
    "    # # it costs a long time, so we just select an empirical result later instead of \n",
    "    # # running it every time\n",
    "    # best_alpha = 0.1\n",
    "    # best_r2_score = None\n",
    "    # for alpha in [0.01, 0.1, 1]:\n",
    "    #     reg = linear_model.Lasso(random_state=0, alpha=best_alpha)\n",
    "    #     reg.fit(X_train[used_characteristics], y_train)\n",
    "    #     y_pred = reg.predict(X_val[used_characteristics])\n",
    "    #     r2_score_ = r2_score(y_val, y_pred)\n",
    "    #     if best_r2_score is None or r2_score_ > best_r2_score:\n",
    "    #         best_alpha = alpha \n",
    "    #         best_r2_score = r2_score_\n",
    "    # print(f\"best_alpha: {best_alpha}\")\n",
    "    \n",
    "    # regression    \n",
    "    best_alpha = 0.1 # empirically result from validation\n",
    "    reg = linear_model.Lasso(random_state=0, alpha=best_alpha)\n",
    "    reg.fit(X_train[used_characteristics], y_train)\n",
    "    y_pred = reg.predict(X_test[used_characteristics])\n",
    "    mean_squared_errors.append(mean_squared_error(y_test, y_pred))\n",
    "    r2_scores.append(r2_score(y_test, y_pred))\n",
    "    R_squared_OSXS_s.append(R_squared_OSXS(y_test, y_pred))\n",
    "    print(year, mean_squared_errors[-1], r2_scores[-1], R_squared_OSXS_s[-1])\n",
    "    "
   ]
  },
  {
   "cell_type": "code",
   "execution_count": 29,
   "id": "bee39299-3720-41d1-81b8-950a9482d29f",
   "metadata": {
    "collapsed": true,
    "execution": {
     "iopub.execute_input": "2022-05-01T18:32:58.457721Z",
     "iopub.status.busy": "2022-05-01T18:32:58.457449Z",
     "iopub.status.idle": "2022-05-01T18:32:58.462921Z",
     "shell.execute_reply": "2022-05-01T18:32:58.462099Z",
     "shell.execute_reply.started": "2022-05-01T18:32:58.457691Z"
    },
    "jupyter": {
     "outputs_hidden": true
    },
    "tags": []
   },
   "outputs": [
    {
     "data": {
      "text/plain": [
       "{'alpha': 0.1,\n",
       " 'copy_X': True,\n",
       " 'fit_intercept': True,\n",
       " 'max_iter': 1000,\n",
       " 'normalize': 'deprecated',\n",
       " 'positive': False,\n",
       " 'precompute': False,\n",
       " 'random_state': 0,\n",
       " 'selection': 'cyclic',\n",
       " 'tol': 0.0001,\n",
       " 'warm_start': False}"
      ]
     },
     "execution_count": 29,
     "metadata": {},
     "output_type": "execute_result"
    }
   ],
   "source": [
    "reg.get_params()"
   ]
  },
  {
   "cell_type": "code",
   "execution_count": 30,
   "id": "750048b3-0761-494a-9233-78b361b379cc",
   "metadata": {
    "execution": {
     "iopub.execute_input": "2022-05-01T18:32:59.086660Z",
     "iopub.status.busy": "2022-05-01T18:32:59.086431Z",
     "iopub.status.idle": "2022-05-01T18:32:59.246894Z",
     "shell.execute_reply": "2022-05-01T18:32:59.246347Z",
     "shell.execute_reply.started": "2022-05-01T18:32:59.086636Z"
    },
    "tags": []
   },
   "outputs": [
    {
     "data": {
      "text/plain": [
       "<matplotlib.legend.Legend at 0x7fc17b1902e0>"
      ]
     },
     "execution_count": 30,
     "metadata": {},
     "output_type": "execute_result"
    },
    {
     "data": {
      "image/png": "[encoded data removed]",
      "text/plain": [
       "<Figure size 432x288 with 1 Axes>"
      ]
     },
     "metadata": {
      "needs_background": "light"
     },
     "output_type": "display_data"
    }
   ],
   "source": [
    "plt.plot(r2_scores)\n",
    "plt.plot(R_squared_OSXS_s)\n",
    "plt.legend([\"r2_score\", \"R_squared_OSXS\"])"
   ]
  },
  {
   "cell_type": "markdown",
   "id": "85aaf141-c043-4289-bd69-733d16150f4e",
   "metadata": {},
   "source": [
    "### Ridge"
   ]
  },
  {
   "cell_type": "code",
   "execution_count": 139,
   "id": "c50f006d-060a-457e-9d26-7d8e644567de",
   "metadata": {
    "execution": {
     "iopub.execute_input": "2022-05-03T19:31:35.517832Z",
     "iopub.status.busy": "2022-05-03T19:31:35.516989Z",
     "iopub.status.idle": "2022-05-03T19:31:37.586606Z",
     "shell.execute_reply": "2022-05-03T19:31:37.583060Z",
     "shell.execute_reply.started": "2022-05-03T19:31:35.517798Z"
    },
    "tags": []
   },
   "outputs": [
    {
     "name": "stderr",
     "output_type": "stream",
     "text": [
      "/Users/zhangjin/anaconda3/envs/aqf/lib/python3.8/site-packages/sklearn/linear_model/_ridge.py:157: LinAlgWarning: Ill-conditioned matrix (rcond=3.32134e-30): result may not be accurate.\n",
      "  return linalg.solve(A, Xy, sym_pos=True, overwrite_a=True).T\n"
     ]
    },
    {
     "data": {
      "text/plain": [
       "Ridge()"
      ]
     },
     "execution_count": 139,
     "metadata": {},
     "output_type": "execute_result"
    }
   ],
   "source": [
    "ridge_reg = linear_model.Ridge()\n",
    "ridge_reg.fit(X_train[used_characteristics], y_train)"
   ]
  },
  {
   "cell_type": "code",
   "execution_count": 140,
   "id": "228826d4-55f3-4441-b8c5-b3d9955c0670",
   "metadata": {
    "execution": {
     "iopub.execute_input": "2022-05-03T19:31:39.359599Z",
     "iopub.status.busy": "2022-05-03T19:31:39.359315Z",
     "iopub.status.idle": "2022-05-03T19:31:39.571954Z",
     "shell.execute_reply": "2022-05-03T19:31:39.570720Z",
     "shell.execute_reply.started": "2022-05-03T19:31:39.359574Z"
    },
    "tags": []
   },
   "outputs": [],
   "source": [
    "y_pred = ridge_reg.predict(X_test[used_characteristics])"
   ]
  },
  {
   "cell_type": "code",
   "execution_count": 141,
   "id": "c06b51ae-679c-47da-ab22-50077fe26753",
   "metadata": {
    "execution": {
     "iopub.execute_input": "2022-05-03T19:31:40.437334Z",
     "iopub.status.busy": "2022-05-03T19:31:40.437097Z",
     "iopub.status.idle": "2022-05-03T19:31:40.447274Z",
     "shell.execute_reply": "2022-05-03T19:31:40.446690Z",
     "shell.execute_reply.started": "2022-05-03T19:31:40.437314Z"
    },
    "tags": []
   },
   "outputs": [
    {
     "data": {
      "text/plain": [
       "184.8728802035188"
      ]
     },
     "execution_count": 141,
     "metadata": {},
     "output_type": "execute_result"
    }
   ],
   "source": [
    "mean_squared_error(y_test, y_pred)"
   ]
  },
  {
   "cell_type": "code",
   "execution_count": 142,
   "id": "2f15bc66-4830-4e99-ae04-f9b9bde3a915",
   "metadata": {
    "execution": {
     "iopub.execute_input": "2022-05-03T19:31:41.390443Z",
     "iopub.status.busy": "2022-05-03T19:31:41.390201Z",
     "iopub.status.idle": "2022-05-03T19:31:41.400531Z",
     "shell.execute_reply": "2022-05-03T19:31:41.399982Z",
     "shell.execute_reply.started": "2022-05-03T19:31:41.390420Z"
    },
    "tags": []
   },
   "outputs": [
    {
     "data": {
      "text/plain": [
       "-0.055462374065295306"
      ]
     },
     "execution_count": 142,
     "metadata": {},
     "output_type": "execute_result"
    }
   ],
   "source": [
    "r2_score(y_test, y_pred)"
   ]
  },
  {
   "cell_type": "code",
   "execution_count": 143,
   "id": "766da158-10e0-45f6-aef8-a173c770a030",
   "metadata": {
    "execution": {
     "iopub.execute_input": "2022-05-03T19:31:42.180333Z",
     "iopub.status.busy": "2022-05-03T19:31:42.180017Z",
     "iopub.status.idle": "2022-05-03T19:31:42.213174Z",
     "shell.execute_reply": "2022-05-03T19:31:42.212386Z",
     "shell.execute_reply.started": "2022-05-03T19:31:42.180303Z"
    },
    "tags": []
   },
   "outputs": [
    {
     "data": {
      "text/plain": [
       "-0.04456050633025699"
      ]
     },
     "execution_count": 143,
     "metadata": {},
     "output_type": "execute_result"
    }
   ],
   "source": [
    "R_squared_OSXS(y_test, y_pred)"
   ]
  },
  {
   "cell_type": "code",
   "execution_count": 176,
   "id": "39b2bd4a-1451-465a-aaf7-cf5f9a9caa9d",
   "metadata": {
    "execution": {
     "iopub.execute_input": "2022-05-03T12:25:59.719706Z",
     "iopub.status.busy": "2022-05-03T12:25:59.719256Z",
     "iopub.status.idle": "2022-05-03T12:25:59.725992Z",
     "shell.execute_reply": "2022-05-03T12:25:59.725175Z",
     "shell.execute_reply.started": "2022-05-03T12:25:59.719682Z"
    },
    "tags": []
   },
   "outputs": [
    {
     "data": {
      "text/plain": [
       "['ridge_reg.pkl']"
      ]
     },
     "execution_count": 176,
     "metadata": {},
     "output_type": "execute_result"
    }
   ],
   "source": [
    "import joblib\n",
    "joblib.dump(ridge_reg, \"ridge_reg.pkl\")"
   ]
  },
  {
   "cell_type": "code",
   "execution_count": 177,
   "id": "e45cbc53-a439-4143-8981-522aa8480901",
   "metadata": {
    "execution": {
     "iopub.execute_input": "2022-05-03T12:26:00.380914Z",
     "iopub.status.busy": "2022-05-03T12:26:00.380586Z",
     "iopub.status.idle": "2022-05-03T12:26:00.387618Z",
     "shell.execute_reply": "2022-05-03T12:26:00.386581Z",
     "shell.execute_reply.started": "2022-05-03T12:26:00.380891Z"
    },
    "tags": []
   },
   "outputs": [],
   "source": [
    "tmp = joblib.load(\"ridge_reg.pkl\")\n"
   ]
  },
  {
   "cell_type": "code",
   "execution_count": 172,
   "id": "77cd6dcb-c219-4efc-a755-60ebcd9745f6",
   "metadata": {
    "execution": {
     "iopub.execute_input": "2022-05-03T12:23:56.858121Z",
     "iopub.status.busy": "2022-05-03T12:23:56.857883Z",
     "iopub.status.idle": "2022-05-03T12:23:57.006027Z",
     "shell.execute_reply": "2022-05-03T12:23:57.005217Z",
     "shell.execute_reply.started": "2022-05-03T12:23:56.858096Z"
    },
    "tags": []
   },
   "outputs": [],
   "source": [
    "y_pred = tmp.predict(X_test[used_characteristics])"
   ]
  },
  {
   "cell_type": "code",
   "execution_count": 173,
   "id": "d1ab569e-ba4e-4f7e-9564-13186ad5d2bb",
   "metadata": {
    "execution": {
     "iopub.execute_input": "2022-05-03T12:23:58.454838Z",
     "iopub.status.busy": "2022-05-03T12:23:58.454550Z",
     "iopub.status.idle": "2022-05-03T12:23:58.478813Z",
     "shell.execute_reply": "2022-05-03T12:23:58.478225Z",
     "shell.execute_reply.started": "2022-05-03T12:23:58.454804Z"
    },
    "tags": []
   },
   "outputs": [
    {
     "data": {
      "text/plain": [
       "168.56600934104534"
      ]
     },
     "execution_count": 173,
     "metadata": {},
     "output_type": "execute_result"
    }
   ],
   "source": [
    "mean_squared_error(y_test, y_pred)"
   ]
  },
  {
   "cell_type": "code",
   "execution_count": 174,
   "id": "5a0af0d8-1ee3-41ac-869a-41561b796c8f",
   "metadata": {
    "execution": {
     "iopub.execute_input": "2022-05-03T12:23:59.170217Z",
     "iopub.status.busy": "2022-05-03T12:23:59.169952Z",
     "iopub.status.idle": "2022-05-03T12:23:59.177536Z",
     "shell.execute_reply": "2022-05-03T12:23:59.176922Z",
     "shell.execute_reply.started": "2022-05-03T12:23:59.170194Z"
    },
    "tags": []
   },
   "outputs": [
    {
     "data": {
      "text/plain": [
       "-0.011083725569350333"
      ]
     },
     "execution_count": 174,
     "metadata": {},
     "output_type": "execute_result"
    }
   ],
   "source": [
    "r2_score(y_test, y_pred)"
   ]
  },
  {
   "cell_type": "code",
   "execution_count": 175,
   "id": "48d2dee9-609d-4799-a06d-689b51100020",
   "metadata": {
    "execution": {
     "iopub.execute_input": "2022-05-03T12:23:59.643602Z",
     "iopub.status.busy": "2022-05-03T12:23:59.643375Z",
     "iopub.status.idle": "2022-05-03T12:23:59.670199Z",
     "shell.execute_reply": "2022-05-03T12:23:59.669506Z",
     "shell.execute_reply.started": "2022-05-03T12:23:59.643578Z"
    },
    "tags": []
   },
   "outputs": [
    {
     "data": {
      "text/plain": [
       "-0.00041120131518823655"
      ]
     },
     "execution_count": 175,
     "metadata": {},
     "output_type": "execute_result"
    }
   ],
   "source": [
    "R_squared_OSXS(y_test, y_pred)"
   ]
  },
  {
   "cell_type": "code",
   "execution_count": 171,
   "id": "de775353-bb68-46aa-a60f-acfa7f3debba",
   "metadata": {
    "execution": {
     "iopub.execute_input": "2022-05-03T12:23:33.400543Z",
     "iopub.status.busy": "2022-05-03T12:23:33.400190Z",
     "iopub.status.idle": "2022-05-03T12:23:33.406164Z",
     "shell.execute_reply": "2022-05-03T12:23:33.405097Z",
     "shell.execute_reply.started": "2022-05-03T12:23:33.400521Z"
    }
   },
   "outputs": [
    {
     "data": {
      "text/plain": [
       "Ridge()"
      ]
     },
     "execution_count": 171,
     "metadata": {},
     "output_type": "execute_result"
    }
   ],
   "source": []
  },
  {
   "cell_type": "markdown",
   "id": "f50f1c97-a9fa-4694-aef0-334165b19b67",
   "metadata": {},
   "source": [
    "### Lasso"
   ]
  },
  {
   "cell_type": "code",
   "execution_count": 144,
   "id": "7e7d062e-1a6a-4377-b30b-9e4ca98c05d0",
   "metadata": {
    "execution": {
     "iopub.execute_input": "2022-05-03T19:31:46.411468Z",
     "iopub.status.busy": "2022-05-03T19:31:46.411107Z",
     "iopub.status.idle": "2022-05-03T19:31:51.959057Z",
     "shell.execute_reply": "2022-05-03T19:31:51.958357Z",
     "shell.execute_reply.started": "2022-05-03T19:31:46.411443Z"
    },
    "tags": []
   },
   "outputs": [
    {
     "data": {
      "text/plain": [
       "Lasso()"
      ]
     },
     "execution_count": 144,
     "metadata": {},
     "output_type": "execute_result"
    }
   ],
   "source": [
    "lasso_reg = linear_model.Lasso()\n",
    "lasso_reg.fit(X_train[used_characteristics], y_train)"
   ]
  },
  {
   "cell_type": "code",
   "execution_count": 145,
   "id": "3e51d8f3-efcc-40c2-8c18-b537ebeb33fb",
   "metadata": {
    "execution": {
     "iopub.execute_input": "2022-05-03T19:31:51.962399Z",
     "iopub.status.busy": "2022-05-03T19:31:51.962134Z",
     "iopub.status.idle": "2022-05-03T19:31:52.036321Z",
     "shell.execute_reply": "2022-05-03T19:31:52.035288Z",
     "shell.execute_reply.started": "2022-05-03T19:31:51.962373Z"
    },
    "tags": []
   },
   "outputs": [],
   "source": [
    "y_pred = lasso_reg.predict(X_test[used_characteristics])"
   ]
  },
  {
   "cell_type": "code",
   "execution_count": 146,
   "id": "9dd1797c-449a-4f56-a835-5129b612ba30",
   "metadata": {
    "execution": {
     "iopub.execute_input": "2022-05-03T19:31:55.173731Z",
     "iopub.status.busy": "2022-05-03T19:31:55.173352Z",
     "iopub.status.idle": "2022-05-03T19:31:55.180323Z",
     "shell.execute_reply": "2022-05-03T19:31:55.179497Z",
     "shell.execute_reply.started": "2022-05-03T19:31:55.173704Z"
    },
    "tags": []
   },
   "outputs": [
    {
     "data": {
      "text/plain": [
       "175.32213312243528"
      ]
     },
     "execution_count": 146,
     "metadata": {},
     "output_type": "execute_result"
    }
   ],
   "source": [
    "mean_squared_error(y_test, y_pred)"
   ]
  },
  {
   "cell_type": "code",
   "execution_count": 147,
   "id": "cb2c9609-97a0-4a22-a047-3c0b8c4aa2f0",
   "metadata": {
    "execution": {
     "iopub.execute_input": "2022-05-03T19:31:56.108350Z",
     "iopub.status.busy": "2022-05-03T19:31:56.107896Z",
     "iopub.status.idle": "2022-05-03T19:31:56.115944Z",
     "shell.execute_reply": "2022-05-03T19:31:56.115245Z",
     "shell.execute_reply.started": "2022-05-03T19:31:56.108324Z"
    },
    "tags": []
   },
   "outputs": [
    {
     "data": {
      "text/plain": [
       "-0.0009359655558347502"
      ]
     },
     "execution_count": 147,
     "metadata": {},
     "output_type": "execute_result"
    }
   ],
   "source": [
    "r2_score(y_test, y_pred)"
   ]
  },
  {
   "cell_type": "code",
   "execution_count": 148,
   "id": "0b4e6ac2-92e0-416b-87a9-4d854b87760d",
   "metadata": {
    "execution": {
     "iopub.execute_input": "2022-05-03T19:31:57.115351Z",
     "iopub.status.busy": "2022-05-03T19:31:57.115101Z",
     "iopub.status.idle": "2022-05-03T19:31:57.132918Z",
     "shell.execute_reply": "2022-05-03T19:31:57.132199Z",
     "shell.execute_reply.started": "2022-05-03T19:31:57.115322Z"
    },
    "tags": []
   },
   "outputs": [
    {
     "data": {
      "text/plain": [
       "-0.0006562900533244598"
      ]
     },
     "execution_count": 148,
     "metadata": {},
     "output_type": "execute_result"
    }
   ],
   "source": [
    "R_squared_OSXS(y_test, y_pred)"
   ]
  },
  {
   "cell_type": "code",
   "execution_count": 224,
   "id": "a0a6de10-88c2-4633-8fee-5ce8841f2a37",
   "metadata": {},
   "outputs": [],
   "source": [
    "# CW test"
   ]
  },
  {
   "cell_type": "code",
   "execution_count": 225,
   "id": "ca9c0570-e577-47ee-ab08-a4ff01d0db4b",
   "metadata": {},
   "outputs": [
    {
     "data": {
      "text/plain": [
       "490631    20832089\n",
       "490632    21386851\n",
       "490633    20387393\n",
       "490634    54376425\n",
       "490635    21340061\n",
       "            ...   \n",
       "567968    21201673\n",
       "567969    21259046\n",
       "567970    21224605\n",
       "567971    21233682\n",
       "567972    21247326\n",
       "Name: optionid, Length: 77333, dtype: int64"
      ]
     },
     "execution_count": 225,
     "metadata": {},
     "output_type": "execute_result"
    }
   ],
   "source": [
    "X_test.optionid"
   ]
  },
  {
   "cell_type": "code",
   "execution_count": 226,
   "id": "34b96372-5dcf-4c84-803d-91bc87cdb10b",
   "metadata": {},
   "outputs": [],
   "source": [
    "true_pred_return = pd.DataFrame(\n",
    "    {\n",
    "        \"optionid\": X_test.optionid,\n",
    "        \"time\": X_test.date_x,\n",
    "        \"true_return\": y_test,\n",
    "        \"pred_return\": y_pred\n",
    "    }\n",
    ")"
   ]
  },
  {
   "cell_type": "code",
   "execution_count": 227,
   "id": "559f7995-0df1-4c8b-b166-bdabddc64b0c",
   "metadata": {},
   "outputs": [
    {
     "data": {
      "text/plain": [
       "-0.007289892035047285"
      ]
     },
     "execution_count": 227,
     "metadata": {},
     "output_type": "execute_result"
    }
   ],
   "source": [
    "CW_test(true_pred_return)"
   ]
  },
  {
   "cell_type": "code",
   "execution_count": 228,
   "id": "32dd590c-4023-41ea-af96-a002d978498b",
   "metadata": {},
   "outputs": [],
   "source": [
    "# DW test"
   ]
  },
  {
   "cell_type": "code",
   "execution_count": 229,
   "id": "b2c706ca-897c-4462-a5f0-a5381632c4d2",
   "metadata": {},
   "outputs": [
    {
     "ename": "NameError",
     "evalue": "name 'true_pred_1vs2_return' is not defined",
     "output_type": "error",
     "traceback": [
      "\u001b[0;31m---------------------------------------------------------------------------\u001b[0m",
      "\u001b[0;31mNameError\u001b[0m                                 Traceback (most recent call last)",
      "Input \u001b[0;32mIn [229]\u001b[0m, in \u001b[0;36m<cell line: 1>\u001b[0;34m()\u001b[0m\n\u001b[0;32m----> 1\u001b[0m d \u001b[38;5;241m=\u001b[39m \u001b[38;5;241m1\u001b[39m \u001b[38;5;241m/\u001b[39m \u001b[43mtrue_pred_1vs2_return\u001b[49m\u001b[38;5;241m.\u001b[39mshape[\u001b[38;5;241m0\u001b[39m] \u001b[38;5;241m*\u001b[39m true_pred_1vs2_return\u001b[38;5;241m.\u001b[39mgroupby([\u001b[38;5;124m\"\u001b[39m\u001b[38;5;124moptionid\u001b[39m\u001b[38;5;124m\"\u001b[39m, \u001b[38;5;124m\"\u001b[39m\u001b[38;5;124mtime\u001b[39m\u001b[38;5;124m\"\u001b[39m])\u001b[38;5;241m.\u001b[39mapply(\n\u001b[1;32m      2\u001b[0m     \u001b[38;5;28;01mlambda\u001b[39;00m group:\n\u001b[1;32m      3\u001b[0m     \u001b[38;5;28msum\u001b[39m(\n\u001b[1;32m      4\u001b[0m         np\u001b[38;5;241m.\u001b[39mpower(group[\u001b[38;5;124m\"\u001b[39m\u001b[38;5;124mtrue_return\u001b[39m\u001b[38;5;124m\"\u001b[39m] \u001b[38;5;241m-\u001b[39m group[\u001b[38;5;124m\"\u001b[39m\u001b[38;5;124mpred_return1\u001b[39m\u001b[38;5;124m\"\u001b[39m], \u001b[38;5;241m2\u001b[39m)\n\u001b[1;32m      5\u001b[0m     \u001b[38;5;241m-\u001b[39m np\u001b[38;5;241m.\u001b[39mpower(group[\u001b[38;5;124m\"\u001b[39m\u001b[38;5;124mtrue_return\u001b[39m\u001b[38;5;124m\"\u001b[39m] \u001b[38;5;241m-\u001b[39m group[\u001b[38;5;124m\"\u001b[39m\u001b[38;5;124mpred_return2\u001b[39m\u001b[38;5;124m\"\u001b[39m], \u001b[38;5;241m2\u001b[39m)\n\u001b[1;32m      6\u001b[0m     )\n\u001b[1;32m      7\u001b[0m )\n",
      "\u001b[0;31mNameError\u001b[0m: name 'true_pred_1vs2_return' is not defined"
     ]
    }
   ],
   "source": [
    "d = 1 / true_pred_1vs2_return.shape[0] * true_pred_1vs2_return.groupby([\"optionid\", \"time\"]).apply(\n",
    "    lambda group:\n",
    "    sum(\n",
    "        np.power(group[\"true_return\"] - group[\"pred_return1\"], 2)\n",
    "    - np.power(group[\"true_return\"] - group[\"pred_return2\"], 2)\n",
    "    )\n",
    ")"
   ]
  },
  {
   "cell_type": "code",
   "execution_count": 230,
   "id": "29d4c454-0ed2-4a50-af52-fe070b17214e",
   "metadata": {},
   "outputs": [
    {
     "ename": "NameError",
     "evalue": "name 'd' is not defined",
     "output_type": "error",
     "traceback": [
      "\u001b[0;31m---------------------------------------------------------------------------\u001b[0m",
      "\u001b[0;31mNameError\u001b[0m                                 Traceback (most recent call last)",
      "Input \u001b[0;32mIn [230]\u001b[0m, in \u001b[0;36m<cell line: 1>\u001b[0;34m()\u001b[0m\n\u001b[0;32m----> 1\u001b[0m np\u001b[38;5;241m.\u001b[39mmean(\u001b[43md\u001b[49m) \u001b[38;5;241m/\u001b[39m np\u001b[38;5;241m.\u001b[39mstd(d)\n",
      "\u001b[0;31mNameError\u001b[0m: name 'd' is not defined"
     ]
    }
   ],
   "source": [
    "np.mean(d) / np.std(d)"
   ]
  },
  {
   "cell_type": "code",
   "execution_count": 136,
   "id": "093abce3-3ebf-4f01-9592-23be8eb8dc85",
   "metadata": {},
   "outputs": [
    {
     "data": {
      "text/plain": [
       "-2.781837086300935e-06"
      ]
     },
     "execution_count": 136,
     "metadata": {},
     "output_type": "execute_result"
    }
   ],
   "source": [
    "np.mean(c)"
   ]
  },
  {
   "cell_type": "markdown",
   "id": "0f5ff063-368b-445e-9f07-beb8084e13a6",
   "metadata": {},
   "source": [
    "### ElasticNet\n",
    "\n",
    "combines L1 and L2 punishment term"
   ]
  },
  {
   "cell_type": "code",
   "execution_count": 78,
   "id": "20962aef-3252-4cb5-b97e-76010e967975",
   "metadata": {
    "execution": {
     "iopub.execute_input": "2022-05-03T17:28:50.321660Z",
     "iopub.status.busy": "2022-05-03T17:28:50.320835Z",
     "iopub.status.idle": "2022-05-03T17:28:50.336187Z",
     "shell.execute_reply": "2022-05-03T17:28:50.335482Z",
     "shell.execute_reply.started": "2022-05-03T17:28:50.321588Z"
    },
    "tags": []
   },
   "outputs": [],
   "source": [
    "from sklearn.linear_model import ElasticNet"
   ]
  },
  {
   "cell_type": "code",
   "execution_count": 85,
   "id": "512bdddf-9626-405b-9a2b-ed1c63f67d47",
   "metadata": {
    "execution": {
     "iopub.execute_input": "2022-05-03T17:29:57.062687Z",
     "iopub.status.busy": "2022-05-03T17:29:57.062475Z",
     "iopub.status.idle": "2022-05-03T17:30:05.884080Z",
     "shell.execute_reply": "2022-05-03T17:30:05.883483Z",
     "shell.execute_reply.started": "2022-05-03T17:29:57.062666Z"
    },
    "tags": []
   },
   "outputs": [
    {
     "data": {
      "text/plain": [
       "ElasticNet(alpha=1)"
      ]
     },
     "execution_count": 85,
     "metadata": {},
     "output_type": "execute_result"
    }
   ],
   "source": [
    "elastic_reg = ElasticNet(alpha=1)\n",
    "elastic_reg.fit(X_train[used_characteristics], y_train)"
   ]
  },
  {
   "cell_type": "code",
   "execution_count": 86,
   "id": "a4ac9953-d722-43d2-a453-2e3083278d20",
   "metadata": {
    "execution": {
     "iopub.execute_input": "2022-05-03T17:30:05.885957Z",
     "iopub.status.busy": "2022-05-03T17:30:05.885755Z",
     "iopub.status.idle": "2022-05-03T17:30:05.891433Z",
     "shell.execute_reply": "2022-05-03T17:30:05.890659Z",
     "shell.execute_reply.started": "2022-05-03T17:30:05.885937Z"
    },
    "tags": []
   },
   "outputs": [
    {
     "data": {
      "text/plain": [
       "{'alpha': 1,\n",
       " 'copy_X': True,\n",
       " 'fit_intercept': True,\n",
       " 'l1_ratio': 0.5,\n",
       " 'max_iter': 1000,\n",
       " 'normalize': 'deprecated',\n",
       " 'positive': False,\n",
       " 'precompute': False,\n",
       " 'random_state': None,\n",
       " 'selection': 'cyclic',\n",
       " 'tol': 0.0001,\n",
       " 'warm_start': False}"
      ]
     },
     "execution_count": 86,
     "metadata": {},
     "output_type": "execute_result"
    }
   ],
   "source": [
    "elastic_reg.get_params()"
   ]
  },
  {
   "cell_type": "code",
   "execution_count": 87,
   "id": "a17fb48c-5bfe-48ea-9a46-4b2bdd6d03b6",
   "metadata": {
    "execution": {
     "iopub.execute_input": "2022-05-03T17:30:05.892860Z",
     "iopub.status.busy": "2022-05-03T17:30:05.892426Z",
     "iopub.status.idle": "2022-05-03T17:30:06.027332Z",
     "shell.execute_reply": "2022-05-03T17:30:06.026441Z",
     "shell.execute_reply.started": "2022-05-03T17:30:05.892837Z"
    },
    "tags": []
   },
   "outputs": [],
   "source": [
    "y_pred = elastic_reg.predict(X_test[used_characteristics])"
   ]
  },
  {
   "cell_type": "code",
   "execution_count": 88,
   "id": "ae1f399f-0ddd-4433-90a6-607b238c27a8",
   "metadata": {
    "execution": {
     "iopub.execute_input": "2022-05-03T17:30:08.013514Z",
     "iopub.status.busy": "2022-05-03T17:30:08.013268Z",
     "iopub.status.idle": "2022-05-03T17:30:08.018734Z",
     "shell.execute_reply": "2022-05-03T17:30:08.018190Z",
     "shell.execute_reply.started": "2022-05-03T17:30:08.013490Z"
    },
    "tags": []
   },
   "outputs": [
    {
     "data": {
      "text/plain": [
       "175.33899943963218"
      ]
     },
     "execution_count": 88,
     "metadata": {},
     "output_type": "execute_result"
    }
   ],
   "source": [
    "mean_squared_error(y_test, y_pred)"
   ]
  },
  {
   "cell_type": "code",
   "execution_count": 89,
   "id": "1f742cd7-a349-4dd9-9f75-8f4f1bc48f41",
   "metadata": {
    "execution": {
     "iopub.execute_input": "2022-05-03T17:30:09.070317Z",
     "iopub.status.busy": "2022-05-03T17:30:09.070090Z",
     "iopub.status.idle": "2022-05-03T17:30:09.075045Z",
     "shell.execute_reply": "2022-05-03T17:30:09.074520Z",
     "shell.execute_reply.started": "2022-05-03T17:30:09.070291Z"
    },
    "tags": []
   },
   "outputs": [
    {
     "data": {
      "text/plain": [
       "-0.0010322574682601893"
      ]
     },
     "execution_count": 89,
     "metadata": {},
     "output_type": "execute_result"
    }
   ],
   "source": [
    "r2_score(y_test, y_pred)"
   ]
  },
  {
   "cell_type": "code",
   "execution_count": 90,
   "id": "76ddf38b-65e2-46eb-9831-e780dd72ccb1",
   "metadata": {
    "execution": {
     "iopub.execute_input": "2022-05-03T17:30:10.899420Z",
     "iopub.status.busy": "2022-05-03T17:30:10.899170Z",
     "iopub.status.idle": "2022-05-03T17:30:10.915943Z",
     "shell.execute_reply": "2022-05-03T17:30:10.914812Z",
     "shell.execute_reply.started": "2022-05-03T17:30:10.899395Z"
    },
    "tags": []
   },
   "outputs": [
    {
     "data": {
      "text/plain": [
       "-0.0007141331884756852"
      ]
     },
     "execution_count": 90,
     "metadata": {},
     "output_type": "execute_result"
    }
   ],
   "source": [
    "R_squared_OSXS(y_test, y_pred)"
   ]
  },
  {
   "cell_type": "code",
   "execution_count": null,
   "id": "9e94f364-6e2c-4d84-9e51-aaa5d7255b34",
   "metadata": {},
   "outputs": [],
   "source": []
  },
  {
   "cell_type": "code",
   "execution_count": null,
   "id": "a3d69a89-9cdf-487d-807a-c4dce4f53265",
   "metadata": {},
   "outputs": [],
   "source": []
  },
  {
   "cell_type": "code",
   "execution_count": null,
   "id": "c9c39505-c182-48ca-8e4f-9bda8db77e80",
   "metadata": {},
   "outputs": [],
   "source": []
  },
  {
   "cell_type": "markdown",
   "id": "5bb26b8b-c2f8-4b79-a805-470060466beb",
   "metadata": {
    "tags": []
   },
   "source": [
    "## Emsemble models"
   ]
  },
  {
   "cell_type": "code",
   "execution_count": 91,
   "id": "b00506fc-7890-49a2-9e72-d9334bfe855b",
   "metadata": {
    "execution": {
     "iopub.execute_input": "2022-05-03T17:30:19.869585Z",
     "iopub.status.busy": "2022-05-03T17:30:19.869343Z",
     "iopub.status.idle": "2022-05-03T17:30:20.265066Z",
     "shell.execute_reply": "2022-05-03T17:30:20.264352Z",
     "shell.execute_reply.started": "2022-05-03T17:30:19.869563Z"
    },
    "tags": []
   },
   "outputs": [],
   "source": [
    "import numpy as np\n",
    "from sklearn.metrics import mean_squared_error\n",
    "from sklearn.datasets import make_friedman1\n",
    "from sklearn.ensemble import GradientBoostingRegressor"
   ]
  },
  {
   "cell_type": "code",
   "execution_count": 33,
   "id": "ef8595cf-2e7b-41e1-aa07-f9826a477fcd",
   "metadata": {
    "collapsed": true,
    "execution": {
     "iopub.execute_input": "2022-05-01T18:42:20.720303Z",
     "iopub.status.busy": "2022-05-01T18:42:20.720042Z",
     "iopub.status.idle": "2022-05-01T19:52:16.231695Z",
     "shell.execute_reply": "2022-05-01T19:52:16.228595Z",
     "shell.execute_reply.started": "2022-05-01T18:42:20.720282Z"
    },
    "jupyter": {
     "outputs_hidden": true
    },
    "tags": []
   },
   "outputs": [
    {
     "name": "stdout",
     "output_type": "stream",
     "text": [
      "1996 166.72515602566457 -4.2016534308908504e-05 -4.1556473954873496e-05\n",
      "1997 9.508692113278395 -0.00032378848358183276 -0.00027012746187926595\n",
      "1998 237.79133846533384 -0.00022642253960114544 -0.00016188164709585173\n",
      "1999 108.35106744124403 -0.00011214897912159572 -0.00011133644794059094\n",
      "2000 198.3808270540166 -0.0003826959794164253 -0.00028742152246774566\n",
      "2001 159.12370164601313 6.157965301656354e-05 8.08929580028428e-05\n",
      "2002 54.272135730288674 -0.0001695601997477869 -0.0001414390965177592\n",
      "2003 2170.2522050606913 -1.1663807506279156e-05 -8.844989591860752e-06\n",
      "2004 180.87199264407715 -0.00012506834086023488 -9.162845571530909e-05\n",
      "2005 8000.543689377516 -4.1908794557343754e-05 -1.565627512500889e-05\n",
      "2006 468.9234142336376 -9.705525508518775e-05 -3.965840226438644e-05\n",
      "2007 980.2246825433659 -5.1316761299435854e-05 -4.604101082916756e-05\n"
     ]
    },
    {
     "ename": "KeyboardInterrupt",
     "evalue": "",
     "output_type": "error",
     "traceback": [
      "\u001b[0;31m---------------------------------------------------------------------------\u001b[0m",
      "\u001b[0;31mKeyboardInterrupt\u001b[0m                         Traceback (most recent call last)",
      "Input \u001b[0;32mIn [33]\u001b[0m, in \u001b[0;36m<cell line: 10>\u001b[0;34m()\u001b[0m\n\u001b[1;32m     52\u001b[0m best_alpha \u001b[38;5;241m=\u001b[39m \u001b[38;5;241m0.1\u001b[39m \u001b[38;5;66;03m# empirically result from validation\u001b[39;00m\n\u001b[1;32m     53\u001b[0m reg \u001b[38;5;241m=\u001b[39m GradientBoostingRegressor(\n\u001b[1;32m     54\u001b[0m     n_estimators\u001b[38;5;241m=\u001b[39m\u001b[38;5;241m100\u001b[39m, random_state\u001b[38;5;241m=\u001b[39m\u001b[38;5;241m0\u001b[39m,\n\u001b[1;32m     55\u001b[0m     loss\u001b[38;5;241m=\u001b[39m\u001b[38;5;124m'\u001b[39m\u001b[38;5;124mhuber\u001b[39m\u001b[38;5;124m'\u001b[39m,\n\u001b[1;32m     56\u001b[0m     verbose\u001b[38;5;241m=\u001b[39m\u001b[38;5;241m0\u001b[39m\n\u001b[1;32m     57\u001b[0m )\n\u001b[0;32m---> 58\u001b[0m \u001b[43mreg\u001b[49m\u001b[38;5;241;43m.\u001b[39;49m\u001b[43mfit\u001b[49m\u001b[43m(\u001b[49m\u001b[43mX_train\u001b[49m\u001b[43m[\u001b[49m\u001b[43mused_characteristics\u001b[49m\u001b[43m]\u001b[49m\u001b[43m,\u001b[49m\u001b[43m \u001b[49m\u001b[43my_train\u001b[49m\u001b[43m)\u001b[49m\n\u001b[1;32m     59\u001b[0m y_pred \u001b[38;5;241m=\u001b[39m reg\u001b[38;5;241m.\u001b[39mpredict(X_test[used_characteristics])\n\u001b[1;32m     60\u001b[0m mean_squared_errors\u001b[38;5;241m.\u001b[39mappend(mean_squared_error(y_test, y_pred))\n",
      "File \u001b[0;32m~/anaconda3/envs/aqf/lib/python3.8/site-packages/sklearn/ensemble/_gb.py:586\u001b[0m, in \u001b[0;36mBaseGradientBoosting.fit\u001b[0;34m(self, X, y, sample_weight, monitor)\u001b[0m\n\u001b[1;32m    583\u001b[0m     \u001b[38;5;28mself\u001b[39m\u001b[38;5;241m.\u001b[39m_resize_state()\n\u001b[1;32m    585\u001b[0m \u001b[38;5;66;03m# fit the boosting stages\u001b[39;00m\n\u001b[0;32m--> 586\u001b[0m n_stages \u001b[38;5;241m=\u001b[39m \u001b[38;5;28;43mself\u001b[39;49m\u001b[38;5;241;43m.\u001b[39;49m\u001b[43m_fit_stages\u001b[49m\u001b[43m(\u001b[49m\n\u001b[1;32m    587\u001b[0m \u001b[43m    \u001b[49m\u001b[43mX\u001b[49m\u001b[43m,\u001b[49m\n\u001b[1;32m    588\u001b[0m \u001b[43m    \u001b[49m\u001b[43my\u001b[49m\u001b[43m,\u001b[49m\n\u001b[1;32m    589\u001b[0m \u001b[43m    \u001b[49m\u001b[43mraw_predictions\u001b[49m\u001b[43m,\u001b[49m\n\u001b[1;32m    590\u001b[0m \u001b[43m    \u001b[49m\u001b[43msample_weight\u001b[49m\u001b[43m,\u001b[49m\n\u001b[1;32m    591\u001b[0m \u001b[43m    \u001b[49m\u001b[38;5;28;43mself\u001b[39;49m\u001b[38;5;241;43m.\u001b[39;49m\u001b[43m_rng\u001b[49m\u001b[43m,\u001b[49m\n\u001b[1;32m    592\u001b[0m \u001b[43m    \u001b[49m\u001b[43mX_val\u001b[49m\u001b[43m,\u001b[49m\n\u001b[1;32m    593\u001b[0m \u001b[43m    \u001b[49m\u001b[43my_val\u001b[49m\u001b[43m,\u001b[49m\n\u001b[1;32m    594\u001b[0m \u001b[43m    \u001b[49m\u001b[43msample_weight_val\u001b[49m\u001b[43m,\u001b[49m\n\u001b[1;32m    595\u001b[0m \u001b[43m    \u001b[49m\u001b[43mbegin_at_stage\u001b[49m\u001b[43m,\u001b[49m\n\u001b[1;32m    596\u001b[0m \u001b[43m    \u001b[49m\u001b[43mmonitor\u001b[49m\u001b[43m,\u001b[49m\n\u001b[1;32m    597\u001b[0m \u001b[43m\u001b[49m\u001b[43m)\u001b[49m\n\u001b[1;32m    599\u001b[0m \u001b[38;5;66;03m# change shape of arrays after fit (early-stopping or additional ests)\u001b[39;00m\n\u001b[1;32m    600\u001b[0m \u001b[38;5;28;01mif\u001b[39;00m n_stages \u001b[38;5;241m!=\u001b[39m \u001b[38;5;28mself\u001b[39m\u001b[38;5;241m.\u001b[39mestimators_\u001b[38;5;241m.\u001b[39mshape[\u001b[38;5;241m0\u001b[39m]:\n",
      "File \u001b[0;32m~/anaconda3/envs/aqf/lib/python3.8/site-packages/sklearn/ensemble/_gb.py:663\u001b[0m, in \u001b[0;36mBaseGradientBoosting._fit_stages\u001b[0;34m(self, X, y, raw_predictions, sample_weight, random_state, X_val, y_val, sample_weight_val, begin_at_stage, monitor)\u001b[0m\n\u001b[1;32m    656\u001b[0m     old_oob_score \u001b[38;5;241m=\u001b[39m loss_(\n\u001b[1;32m    657\u001b[0m         y[\u001b[38;5;241m~\u001b[39msample_mask],\n\u001b[1;32m    658\u001b[0m         raw_predictions[\u001b[38;5;241m~\u001b[39msample_mask],\n\u001b[1;32m    659\u001b[0m         sample_weight[\u001b[38;5;241m~\u001b[39msample_mask],\n\u001b[1;32m    660\u001b[0m     )\n\u001b[1;32m    662\u001b[0m \u001b[38;5;66;03m# fit next stage of trees\u001b[39;00m\n\u001b[0;32m--> 663\u001b[0m raw_predictions \u001b[38;5;241m=\u001b[39m \u001b[38;5;28;43mself\u001b[39;49m\u001b[38;5;241;43m.\u001b[39;49m\u001b[43m_fit_stage\u001b[49m\u001b[43m(\u001b[49m\n\u001b[1;32m    664\u001b[0m \u001b[43m    \u001b[49m\u001b[43mi\u001b[49m\u001b[43m,\u001b[49m\n\u001b[1;32m    665\u001b[0m \u001b[43m    \u001b[49m\u001b[43mX\u001b[49m\u001b[43m,\u001b[49m\n\u001b[1;32m    666\u001b[0m \u001b[43m    \u001b[49m\u001b[43my\u001b[49m\u001b[43m,\u001b[49m\n\u001b[1;32m    667\u001b[0m \u001b[43m    \u001b[49m\u001b[43mraw_predictions\u001b[49m\u001b[43m,\u001b[49m\n\u001b[1;32m    668\u001b[0m \u001b[43m    \u001b[49m\u001b[43msample_weight\u001b[49m\u001b[43m,\u001b[49m\n\u001b[1;32m    669\u001b[0m \u001b[43m    \u001b[49m\u001b[43msample_mask\u001b[49m\u001b[43m,\u001b[49m\n\u001b[1;32m    670\u001b[0m \u001b[43m    \u001b[49m\u001b[43mrandom_state\u001b[49m\u001b[43m,\u001b[49m\n\u001b[1;32m    671\u001b[0m \u001b[43m    \u001b[49m\u001b[43mX_csc\u001b[49m\u001b[43m,\u001b[49m\n\u001b[1;32m    672\u001b[0m \u001b[43m    \u001b[49m\u001b[43mX_csr\u001b[49m\u001b[43m,\u001b[49m\n\u001b[1;32m    673\u001b[0m \u001b[43m\u001b[49m\u001b[43m)\u001b[49m\n\u001b[1;32m    675\u001b[0m \u001b[38;5;66;03m# track deviance (= loss)\u001b[39;00m\n\u001b[1;32m    676\u001b[0m \u001b[38;5;28;01mif\u001b[39;00m do_oob:\n",
      "File \u001b[0;32m~/anaconda3/envs/aqf/lib/python3.8/site-packages/sklearn/ensemble/_gb.py:246\u001b[0m, in \u001b[0;36mBaseGradientBoosting._fit_stage\u001b[0;34m(self, i, X, y, raw_predictions, sample_weight, sample_mask, random_state, X_csc, X_csr)\u001b[0m\n\u001b[1;32m    243\u001b[0m     sample_weight \u001b[38;5;241m=\u001b[39m sample_weight \u001b[38;5;241m*\u001b[39m sample_mask\u001b[38;5;241m.\u001b[39mastype(np\u001b[38;5;241m.\u001b[39mfloat64)\n\u001b[1;32m    245\u001b[0m X \u001b[38;5;241m=\u001b[39m X_csr \u001b[38;5;28;01mif\u001b[39;00m X_csr \u001b[38;5;129;01mis\u001b[39;00m \u001b[38;5;129;01mnot\u001b[39;00m \u001b[38;5;28;01mNone\u001b[39;00m \u001b[38;5;28;01melse\u001b[39;00m X\n\u001b[0;32m--> 246\u001b[0m \u001b[43mtree\u001b[49m\u001b[38;5;241;43m.\u001b[39;49m\u001b[43mfit\u001b[49m\u001b[43m(\u001b[49m\u001b[43mX\u001b[49m\u001b[43m,\u001b[49m\u001b[43m \u001b[49m\u001b[43mresidual\u001b[49m\u001b[43m,\u001b[49m\u001b[43m \u001b[49m\u001b[43msample_weight\u001b[49m\u001b[38;5;241;43m=\u001b[39;49m\u001b[43msample_weight\u001b[49m\u001b[43m,\u001b[49m\u001b[43m \u001b[49m\u001b[43mcheck_input\u001b[49m\u001b[38;5;241;43m=\u001b[39;49m\u001b[38;5;28;43;01mFalse\u001b[39;49;00m\u001b[43m)\u001b[49m\n\u001b[1;32m    248\u001b[0m \u001b[38;5;66;03m# update tree leaves\u001b[39;00m\n\u001b[1;32m    249\u001b[0m loss\u001b[38;5;241m.\u001b[39mupdate_terminal_regions(\n\u001b[1;32m    250\u001b[0m     tree\u001b[38;5;241m.\u001b[39mtree_,\n\u001b[1;32m    251\u001b[0m     X,\n\u001b[0;32m   (...)\u001b[0m\n\u001b[1;32m    258\u001b[0m     k\u001b[38;5;241m=\u001b[39mk,\n\u001b[1;32m    259\u001b[0m )\n",
      "File \u001b[0;32m~/anaconda3/envs/aqf/lib/python3.8/site-packages/sklearn/tree/_classes.py:1315\u001b[0m, in \u001b[0;36mDecisionTreeRegressor.fit\u001b[0;34m(self, X, y, sample_weight, check_input, X_idx_sorted)\u001b[0m\n\u001b[1;32m   1278\u001b[0m \u001b[38;5;28;01mdef\u001b[39;00m \u001b[38;5;21mfit\u001b[39m(\n\u001b[1;32m   1279\u001b[0m     \u001b[38;5;28mself\u001b[39m, X, y, sample_weight\u001b[38;5;241m=\u001b[39m\u001b[38;5;28;01mNone\u001b[39;00m, check_input\u001b[38;5;241m=\u001b[39m\u001b[38;5;28;01mTrue\u001b[39;00m, X_idx_sorted\u001b[38;5;241m=\u001b[39m\u001b[38;5;124m\"\u001b[39m\u001b[38;5;124mdeprecated\u001b[39m\u001b[38;5;124m\"\u001b[39m\n\u001b[1;32m   1280\u001b[0m ):\n\u001b[1;32m   1281\u001b[0m     \u001b[38;5;124;03m\"\"\"Build a decision tree regressor from the training set (X, y).\u001b[39;00m\n\u001b[1;32m   1282\u001b[0m \n\u001b[1;32m   1283\u001b[0m \u001b[38;5;124;03m    Parameters\u001b[39;00m\n\u001b[0;32m   (...)\u001b[0m\n\u001b[1;32m   1312\u001b[0m \u001b[38;5;124;03m        Fitted estimator.\u001b[39;00m\n\u001b[1;32m   1313\u001b[0m \u001b[38;5;124;03m    \"\"\"\u001b[39;00m\n\u001b[0;32m-> 1315\u001b[0m     \u001b[38;5;28;43msuper\u001b[39;49m\u001b[43m(\u001b[49m\u001b[43m)\u001b[49m\u001b[38;5;241;43m.\u001b[39;49m\u001b[43mfit\u001b[49m\u001b[43m(\u001b[49m\n\u001b[1;32m   1316\u001b[0m \u001b[43m        \u001b[49m\u001b[43mX\u001b[49m\u001b[43m,\u001b[49m\n\u001b[1;32m   1317\u001b[0m \u001b[43m        \u001b[49m\u001b[43my\u001b[49m\u001b[43m,\u001b[49m\n\u001b[1;32m   1318\u001b[0m \u001b[43m        \u001b[49m\u001b[43msample_weight\u001b[49m\u001b[38;5;241;43m=\u001b[39;49m\u001b[43msample_weight\u001b[49m\u001b[43m,\u001b[49m\n\u001b[1;32m   1319\u001b[0m \u001b[43m        \u001b[49m\u001b[43mcheck_input\u001b[49m\u001b[38;5;241;43m=\u001b[39;49m\u001b[43mcheck_input\u001b[49m\u001b[43m,\u001b[49m\n\u001b[1;32m   1320\u001b[0m \u001b[43m        \u001b[49m\u001b[43mX_idx_sorted\u001b[49m\u001b[38;5;241;43m=\u001b[39;49m\u001b[43mX_idx_sorted\u001b[49m\u001b[43m,\u001b[49m\n\u001b[1;32m   1321\u001b[0m \u001b[43m    \u001b[49m\u001b[43m)\u001b[49m\n\u001b[1;32m   1322\u001b[0m     \u001b[38;5;28;01mreturn\u001b[39;00m \u001b[38;5;28mself\u001b[39m\n",
      "File \u001b[0;32m~/anaconda3/envs/aqf/lib/python3.8/site-packages/sklearn/tree/_classes.py:420\u001b[0m, in \u001b[0;36mBaseDecisionTree.fit\u001b[0;34m(self, X, y, sample_weight, check_input, X_idx_sorted)\u001b[0m\n\u001b[1;32m    409\u001b[0m \u001b[38;5;28;01melse\u001b[39;00m:\n\u001b[1;32m    410\u001b[0m     builder \u001b[38;5;241m=\u001b[39m BestFirstTreeBuilder(\n\u001b[1;32m    411\u001b[0m         splitter,\n\u001b[1;32m    412\u001b[0m         min_samples_split,\n\u001b[0;32m   (...)\u001b[0m\n\u001b[1;32m    417\u001b[0m         \u001b[38;5;28mself\u001b[39m\u001b[38;5;241m.\u001b[39mmin_impurity_decrease,\n\u001b[1;32m    418\u001b[0m     )\n\u001b[0;32m--> 420\u001b[0m \u001b[43mbuilder\u001b[49m\u001b[38;5;241;43m.\u001b[39;49m\u001b[43mbuild\u001b[49m\u001b[43m(\u001b[49m\u001b[38;5;28;43mself\u001b[39;49m\u001b[38;5;241;43m.\u001b[39;49m\u001b[43mtree_\u001b[49m\u001b[43m,\u001b[49m\u001b[43m \u001b[49m\u001b[43mX\u001b[49m\u001b[43m,\u001b[49m\u001b[43m \u001b[49m\u001b[43my\u001b[49m\u001b[43m,\u001b[49m\u001b[43m \u001b[49m\u001b[43msample_weight\u001b[49m\u001b[43m)\u001b[49m\n\u001b[1;32m    422\u001b[0m \u001b[38;5;28;01mif\u001b[39;00m \u001b[38;5;28mself\u001b[39m\u001b[38;5;241m.\u001b[39mn_outputs_ \u001b[38;5;241m==\u001b[39m \u001b[38;5;241m1\u001b[39m \u001b[38;5;129;01mand\u001b[39;00m is_classifier(\u001b[38;5;28mself\u001b[39m):\n\u001b[1;32m    423\u001b[0m     \u001b[38;5;28mself\u001b[39m\u001b[38;5;241m.\u001b[39mn_classes_ \u001b[38;5;241m=\u001b[39m \u001b[38;5;28mself\u001b[39m\u001b[38;5;241m.\u001b[39mn_classes_[\u001b[38;5;241m0\u001b[39m]\n",
      "\u001b[0;31mKeyboardInterrupt\u001b[0m: "
     ]
    }
   ],
   "source": [
    "# suppress the warning of \n",
    "#   \"A value is trying to be set on a copy of a slice from a DataFrame. \n",
    "#   Try using .loc[row_indexer,col_indexer] = value instead\"\n",
    "pd.options.mode.chained_assignment = None \n",
    "\n",
    "mean_squared_errors = []\n",
    "r2_scores = []\n",
    "R_squared_OSXS_s = []\n",
    "\n",
    "for year in range(1996, 2020-7):\n",
    "    training_data, validation_data, test_data = train_validation_test_split(option_with_feature, year)\n",
    "    \n",
    "    used_characteristics = ['volume', 'ReturnSkew', 'MaxRet', 'delta', 'PriceDelaySlope', 'strike_price', \n",
    "                        'IdioVol3F', 'ReturnSkew3F', 'ir_rate', 'mid_price', 'forwardprice', \n",
    "                        'zerotradeAlt1', 'theta', 'cfadj', 'zerotrade', 'best_bid', 'spotprice', 'VolMkt', \n",
    "                        'IdioRisk', 'days_to_exp', 'PriceDelayTstat', 'High52', 'Coskewness', 'BidAskSpread', \n",
    "                        'Beta', 'days_no_trading', 'open_interest', 'impl_volatility', 'PriceDelayRsq', 'IdioVolAHT', \n",
    "                        'adj_spot', 'vega', 'gamma', 'best_offer', 'DolVol', 'cp_flag_encoded']\n",
    "\n",
    "    imp = SimpleImputer(missing_values=np.nan, strategy='mean')\n",
    "    imp.fit(training_data[used_characteristics])\n",
    "    training_data.loc[:, used_characteristics] = imp.transform(training_data[used_characteristics])\n",
    "    validation_data.loc[:, used_characteristics] = imp.transform(validation_data[used_characteristics])\n",
    "    test_data.loc[:, used_characteristics] = imp.transform(test_data[used_characteristics])\n",
    "\n",
    "    X_train = training_data[used_characteristics + [\"date_x\", \"optionid\"] ]\n",
    "    y_train = training_data['option_ret']\n",
    "    \n",
    "    X_val = validation_data[used_characteristics + [\"date_x\", \"optionid\"] ]\n",
    "    y_val = validation_data['option_ret']\n",
    "\n",
    "    X_test = test_data[used_characteristics + [\"date_x\", \"optionid\"]]\n",
    "    y_test = test_data['option_ret']\n",
    "    \n",
    "\n",
    "    # tuning hyperparameter on validation set\n",
    "    # it costs a long time, so we just select an empirical result later instead of \n",
    "    # # running it every time\n",
    "    # best_alpha = 0.1\n",
    "    # best_r2_score = None\n",
    "    # for alpha in [0.01, 0.1, 1]:\n",
    "    #     reg = linear_model.Lasso(random_state=0, alpha=best_alpha)\n",
    "    #     reg.fit(X_train[used_characteristics], y_train)\n",
    "    #     y_pred = reg.predict(X_val[used_characteristics])\n",
    "    #     r2_score_ = r2_score(y_val, y_pred)\n",
    "    #     if best_r2_score is None or r2_score_ > best_r2_score:\n",
    "    #         best_alpha = alpha \n",
    "    #         best_r2_score = r2_score_\n",
    "    # print(f\"best_alpha: {best_alpha}\")\n",
    "    \n",
    "    # regression    \n",
    "    best_alpha = 0.1 # empirically result from validation\n",
    "    reg = GradientBoostingRegressor(\n",
    "        n_estimators=100, random_state=0,\n",
    "        loss='huber',\n",
    "        verbose=0\n",
    "    )\n",
    "    reg.fit(X_train[used_characteristics], y_train)\n",
    "    y_pred = reg.predict(X_test[used_characteristics])\n",
    "    mean_squared_errors.append(mean_squared_error(y_test, y_pred))\n",
    "    r2_scores.append(r2_score(y_test, y_pred))\n",
    "    R_squared_OSXS_s.append(R_squared_OSXS(y_test, y_pred))\n",
    "    print(year, mean_squared_errors[-1], r2_scores[-1], R_squared_OSXS_s[-1])\n",
    "    "
   ]
  },
  {
   "cell_type": "code",
   "execution_count": 29,
   "id": "06a3b768-5b7e-4f35-ad4f-ef1e55871324",
   "metadata": {
    "collapsed": true,
    "execution": {
     "iopub.execute_input": "2022-05-01T18:32:58.457721Z",
     "iopub.status.busy": "2022-05-01T18:32:58.457449Z",
     "iopub.status.idle": "2022-05-01T18:32:58.462921Z",
     "shell.execute_reply": "2022-05-01T18:32:58.462099Z",
     "shell.execute_reply.started": "2022-05-01T18:32:58.457691Z"
    },
    "jupyter": {
     "outputs_hidden": true
    },
    "tags": []
   },
   "outputs": [
    {
     "data": {
      "text/plain": [
       "{'alpha': 0.1,\n",
       " 'copy_X': True,\n",
       " 'fit_intercept': True,\n",
       " 'max_iter': 1000,\n",
       " 'normalize': 'deprecated',\n",
       " 'positive': False,\n",
       " 'precompute': False,\n",
       " 'random_state': 0,\n",
       " 'selection': 'cyclic',\n",
       " 'tol': 0.0001,\n",
       " 'warm_start': False}"
      ]
     },
     "execution_count": 29,
     "metadata": {},
     "output_type": "execute_result"
    }
   ],
   "source": [
    "reg.get_params()"
   ]
  },
  {
   "cell_type": "code",
   "execution_count": 30,
   "id": "06d0d490-c696-41de-8a6f-888ba5acae37",
   "metadata": {
    "execution": {
     "iopub.execute_input": "2022-05-01T18:32:59.086660Z",
     "iopub.status.busy": "2022-05-01T18:32:59.086431Z",
     "iopub.status.idle": "2022-05-01T18:32:59.246894Z",
     "shell.execute_reply": "2022-05-01T18:32:59.246347Z",
     "shell.execute_reply.started": "2022-05-01T18:32:59.086636Z"
    },
    "tags": []
   },
   "outputs": [
    {
     "data": {
      "text/plain": [
       "<matplotlib.legend.Legend at 0x7fc17b1902e0>"
      ]
     },
     "execution_count": 30,
     "metadata": {},
     "output_type": "execute_result"
    },
    {
     "data": {
      "image/png": "[encoded data removed]",
      "text/plain": [
       "<Figure size 432x288 with 1 Axes>"
      ]
     },
     "metadata": {
      "needs_background": "light"
     },
     "output_type": "display_data"
    }
   ],
   "source": [
    "plt.plot(r2_scores)\n",
    "plt.plot(R_squared_OSXS_s)\n",
    "plt.legend([\"r2_score\", \"R_squared_OSXS\"])"
   ]
  },
  {
   "cell_type": "markdown",
   "id": "e4dee4f1-99c7-480f-b04b-4913f19de86b",
   "metadata": {
    "tags": []
   },
   "source": [
    "### GBR"
   ]
  },
  {
   "cell_type": "code",
   "execution_count": null,
   "id": "2aac9ece-5960-4465-80b9-bbbfe46f76d7",
   "metadata": {
    "execution": {
     "iopub.execute_input": "2022-05-03T19:32:27.168529Z",
     "iopub.status.busy": "2022-05-03T19:32:27.167959Z"
    },
    "tags": []
   },
   "outputs": [
    {
     "name": "stdout",
     "output_type": "stream",
     "text": [
      "      Iter       Train Loss   Remaining Time \n",
      "         1           0.3940           16.10m\n",
      "         2           0.3922           15.76m\n",
      "         3           0.3914           15.52m\n",
      "         4           0.3897           15.53m\n",
      "         5           0.3883           15.41m\n",
      "         6           0.3869           15.29m\n",
      "         7           0.3856           15.21m\n",
      "         8           0.3841           15.13m\n",
      "         9           0.3830           15.17m\n",
      "        10           0.3814           15.01m\n"
     ]
    }
   ],
   "source": [
    "gbr_reg = GradientBoostingRegressor(\n",
    "    n_estimators=100, random_state=0,\n",
    "    loss='huber',\n",
    "    verbose=1\n",
    ").fit(X_train[used_characteristics], y_train)"
   ]
  },
  {
   "cell_type": "code",
   "execution_count": 93,
   "id": "f07eb4e8-0e1f-4597-964c-2d3565d3c585",
   "metadata": {
    "execution": {
     "iopub.execute_input": "2022-05-03T17:55:55.577798Z",
     "iopub.status.busy": "2022-05-03T17:55:55.574118Z",
     "iopub.status.idle": "2022-05-03T17:55:56.684010Z",
     "shell.execute_reply": "2022-05-03T17:55:56.683127Z",
     "shell.execute_reply.started": "2022-05-03T17:55:55.577703Z"
    }
   },
   "outputs": [],
   "source": [
    "y_pred = gbr_reg.predict(X_test[used_characteristics])"
   ]
  },
  {
   "cell_type": "code",
   "execution_count": 94,
   "id": "1d1fdbdb-4a91-4ee6-9233-6f11b03167f7",
   "metadata": {
    "execution": {
     "iopub.execute_input": "2022-05-03T17:55:56.686004Z",
     "iopub.status.busy": "2022-05-03T17:55:56.685763Z",
     "iopub.status.idle": "2022-05-03T17:55:56.698679Z",
     "shell.execute_reply": "2022-05-03T17:55:56.697881Z",
     "shell.execute_reply.started": "2022-05-03T17:55:56.685976Z"
    }
   },
   "outputs": [
    {
     "data": {
      "text/plain": [
       "175.17011075827133"
      ]
     },
     "execution_count": 94,
     "metadata": {},
     "output_type": "execute_result"
    }
   ],
   "source": [
    "mean_squared_error(y_test, y_pred)"
   ]
  },
  {
   "cell_type": "code",
   "execution_count": 95,
   "id": "9e4f60b7-ea26-45be-9a2a-b63ea4616d94",
   "metadata": {
    "execution": {
     "iopub.execute_input": "2022-05-03T17:55:57.860897Z",
     "iopub.status.busy": "2022-05-03T17:55:57.860620Z",
     "iopub.status.idle": "2022-05-03T17:55:57.867533Z",
     "shell.execute_reply": "2022-05-03T17:55:57.866871Z",
     "shell.execute_reply.started": "2022-05-03T17:55:57.860872Z"
    }
   },
   "outputs": [
    {
     "data": {
      "text/plain": [
       "-6.805088271000237e-05"
      ]
     },
     "execution_count": 95,
     "metadata": {},
     "output_type": "execute_result"
    }
   ],
   "source": [
    "r2_score(y_test, y_pred)"
   ]
  },
  {
   "cell_type": "code",
   "execution_count": 96,
   "id": "3b850dbc-e01c-40f9-b625-421c5a4a20c5",
   "metadata": {
    "execution": {
     "iopub.execute_input": "2022-05-03T17:55:59.718692Z",
     "iopub.status.busy": "2022-05-03T17:55:59.718398Z",
     "iopub.status.idle": "2022-05-03T17:55:59.739484Z",
     "shell.execute_reply": "2022-05-03T17:55:59.738667Z",
     "shell.execute_reply.started": "2022-05-03T17:55:59.718664Z"
    }
   },
   "outputs": [
    {
     "data": {
      "text/plain": [
       "-6.771774032054978e-05"
      ]
     },
     "execution_count": 96,
     "metadata": {},
     "output_type": "execute_result"
    }
   ],
   "source": [
    "R_squared_OSXS(y_test, y_pred)"
   ]
  },
  {
   "cell_type": "code",
   "execution_count": 97,
   "id": "aa6f1251-d82f-4066-a5f0-b8ddd2cbd016",
   "metadata": {
    "execution": {
     "iopub.execute_input": "2022-05-03T17:56:06.646465Z",
     "iopub.status.busy": "2022-05-03T17:56:06.646123Z",
     "iopub.status.idle": "2022-05-03T17:56:07.105771Z",
     "shell.execute_reply": "2022-05-03T17:56:07.105034Z",
     "shell.execute_reply.started": "2022-05-03T17:56:06.646442Z"
    }
   },
   "outputs": [
    {
     "data": {
      "text/plain": [
       "<AxesSubplot:>"
      ]
     },
     "execution_count": 97,
     "metadata": {},
     "output_type": "execute_result"
    },
    {
     "data": {
      "image/png": "[encoded data removed]",
      "text/plain": [
       "<Figure size 432x288 with 1 Axes>"
      ]
     },
     "metadata": {
      "needs_background": "light"
     },
     "output_type": "display_data"
    }
   ],
   "source": [
    "feat_importances = pd.Series(gbr_reg.feature_importances_, index=used_characteristics)\n",
    "feat_importances.nlargest(10).plot(kind='barh')"
   ]
  },
  {
   "cell_type": "code",
   "execution_count": null,
   "id": "1bd3d101-a648-4111-a229-20f07480f6a9",
   "metadata": {},
   "outputs": [],
   "source": []
  },
  {
   "cell_type": "code",
   "execution_count": 250,
   "id": "5aeabe08-edcd-45e5-b277-ca0cf4fcd938",
   "metadata": {},
   "outputs": [
    {
     "data": {
      "text/html": [
       "<div>\n",
       "<style scoped>\n",
       "    .dataframe tbody tr th:only-of-type {\n",
       "        vertical-align: middle;\n",
       "    }\n",
       "\n",
       "    .dataframe tbody tr th {\n",
       "        vertical-align: top;\n",
       "    }\n",
       "\n",
       "    .dataframe thead th {\n",
       "        text-align: right;\n",
       "    }\n",
       "</style>\n",
       "<table border=\"1\" class=\"dataframe\">\n",
       "  <thead>\n",
       "    <tr style=\"text-align: right;\">\n",
       "      <th></th>\n",
       "      <th>volume</th>\n",
       "      <th>ReturnSkew</th>\n",
       "      <th>MaxRet</th>\n",
       "      <th>delta</th>\n",
       "      <th>PriceDelaySlope</th>\n",
       "      <th>strike_price</th>\n",
       "      <th>IdioVol3F</th>\n",
       "      <th>ReturnSkew3F</th>\n",
       "      <th>ir_rate</th>\n",
       "      <th>mid_price</th>\n",
       "      <th>...</th>\n",
       "      <th>PriceDelayRsq</th>\n",
       "      <th>IdioVolAHT</th>\n",
       "      <th>adj_spot</th>\n",
       "      <th>vega</th>\n",
       "      <th>gamma</th>\n",
       "      <th>best_offer</th>\n",
       "      <th>DolVol</th>\n",
       "      <th>cp_flag_encoded</th>\n",
       "      <th>date_x</th>\n",
       "      <th>optionid</th>\n",
       "    </tr>\n",
       "  </thead>\n",
       "  <tbody>\n",
       "    <tr>\n",
       "      <th>530009</th>\n",
       "      <td>50.0</td>\n",
       "      <td>-0.691725</td>\n",
       "      <td>-0.056886</td>\n",
       "      <td>0.612642</td>\n",
       "      <td>-0.71292</td>\n",
       "      <td>35.0</td>\n",
       "      <td>-0.020205</td>\n",
       "      <td>-0.846054</td>\n",
       "      <td>0.011254</td>\n",
       "      <td>2.3</td>\n",
       "      <td>...</td>\n",
       "      <td>0.022542</td>\n",
       "      <td>-0.023794</td>\n",
       "      <td>17.97</td>\n",
       "      <td>4.885894</td>\n",
       "      <td>0.085466</td>\n",
       "      <td>2.35</td>\n",
       "      <td>-9.32033</td>\n",
       "      <td>1.0</td>\n",
       "      <td>2003-06-30</td>\n",
       "      <td>21074852</td>\n",
       "    </tr>\n",
       "  </tbody>\n",
       "</table>\n",
       "<p>1 rows × 38 columns</p>\n",
       "</div>"
      ],
      "text/plain": [
       "        volume  ReturnSkew    MaxRet     delta  PriceDelaySlope  strike_price  \\\n",
       "530009    50.0   -0.691725 -0.056886  0.612642         -0.71292          35.0   \n",
       "\n",
       "        IdioVol3F  ReturnSkew3F   ir_rate  mid_price  ...  PriceDelayRsq  \\\n",
       "530009  -0.020205     -0.846054  0.011254        2.3  ...       0.022542   \n",
       "\n",
       "        IdioVolAHT  adj_spot      vega     gamma  best_offer   DolVol  \\\n",
       "530009   -0.023794     17.97  4.885894  0.085466        2.35 -9.32033   \n",
       "\n",
       "        cp_flag_encoded     date_x  optionid  \n",
       "530009              1.0 2003-06-30  21074852  \n",
       "\n",
       "[1 rows x 38 columns]"
      ]
     },
     "execution_count": 250,
     "metadata": {},
     "output_type": "execute_result"
    }
   ],
   "source": [
    "X_test.sample()"
   ]
  },
  {
   "cell_type": "code",
   "execution_count": null,
   "id": "300ac2ea-c0c1-476a-8eb1-479228640f20",
   "metadata": {},
   "outputs": [],
   "source": []
  },
  {
   "cell_type": "markdown",
   "id": "c3b2a041-52af-4b5f-9b3d-5754080ddc55",
   "metadata": {},
   "source": [
    "### RF"
   ]
  },
  {
   "cell_type": "code",
   "execution_count": 98,
   "id": "6bf8787e-4d0e-4416-b1ee-3d54e98d324d",
   "metadata": {
    "execution": {
     "iopub.execute_input": "2022-05-03T17:56:55.137154Z",
     "iopub.status.busy": "2022-05-03T17:56:55.136802Z",
     "iopub.status.idle": "2022-05-03T18:23:58.654374Z",
     "shell.execute_reply": "2022-05-03T18:23:58.653400Z",
     "shell.execute_reply.started": "2022-05-03T17:56:55.137128Z"
    }
   },
   "outputs": [
    {
     "name": "stderr",
     "output_type": "stream",
     "text": [
      "[Parallel(n_jobs=1)]: Using backend SequentialBackend with 1 concurrent workers.\n",
      "[Parallel(n_jobs=1)]: Done 200 out of 200 | elapsed: 27.0min finished\n"
     ]
    },
    {
     "data": {
      "text/plain": [
       "RandomForestRegressor(max_depth=3, n_estimators=200, random_state=0, verbose=1)"
      ]
     },
     "execution_count": 98,
     "metadata": {},
     "output_type": "execute_result"
    }
   ],
   "source": [
    "from sklearn.ensemble import RandomForestRegressor\n",
    "from sklearn.datasets import make_regression\n",
    "\n",
    "rf_reg = RandomForestRegressor(\n",
    "    n_estimators=200,\n",
    "    max_depth=3, random_state=0, \n",
    "    verbose=1)\n",
    "rf_reg.fit(X_train[used_characteristics], y_train)"
   ]
  },
  {
   "cell_type": "code",
   "execution_count": 99,
   "id": "50bcfe47-0d79-4d91-9a93-636fe945d303",
   "metadata": {
    "execution": {
     "iopub.execute_input": "2022-05-03T18:59:25.745265Z",
     "iopub.status.busy": "2022-05-03T18:59:25.743028Z",
     "iopub.status.idle": "2022-05-03T18:59:26.466312Z",
     "shell.execute_reply": "2022-05-03T18:59:26.464463Z",
     "shell.execute_reply.started": "2022-05-03T18:59:25.745165Z"
    }
   },
   "outputs": [
    {
     "name": "stderr",
     "output_type": "stream",
     "text": [
      "[Parallel(n_jobs=1)]: Using backend SequentialBackend with 1 concurrent workers.\n",
      "[Parallel(n_jobs=1)]: Done 200 out of 200 | elapsed:    0.2s finished\n"
     ]
    }
   ],
   "source": [
    "y_pred = rf_reg.predict(X_test[used_characteristics])"
   ]
  },
  {
   "cell_type": "code",
   "execution_count": 100,
   "id": "a4ea65e1-8d8b-4e2a-b9de-3662f6a8ab40",
   "metadata": {
    "execution": {
     "iopub.execute_input": "2022-05-03T18:59:28.775156Z",
     "iopub.status.busy": "2022-05-03T18:59:28.774828Z",
     "iopub.status.idle": "2022-05-03T18:59:28.790932Z",
     "shell.execute_reply": "2022-05-03T18:59:28.790353Z",
     "shell.execute_reply.started": "2022-05-03T18:59:28.775138Z"
    }
   },
   "outputs": [
    {
     "data": {
      "text/plain": [
       "195.36592262704895"
      ]
     },
     "execution_count": 100,
     "metadata": {},
     "output_type": "execute_result"
    }
   ],
   "source": [
    "mean_squared_error(y_test, y_pred)"
   ]
  },
  {
   "cell_type": "code",
   "execution_count": 101,
   "id": "8fc98e73-0195-4c92-b6ff-83d34cf3be9d",
   "metadata": {
    "execution": {
     "iopub.execute_input": "2022-05-03T18:59:29.987846Z",
     "iopub.status.busy": "2022-05-03T18:59:29.987582Z",
     "iopub.status.idle": "2022-05-03T18:59:29.994842Z",
     "shell.execute_reply": "2022-05-03T18:59:29.994239Z",
     "shell.execute_reply.started": "2022-05-03T18:59:29.987826Z"
    }
   },
   "outputs": [
    {
     "data": {
      "text/plain": [
       "-0.11536846443028015"
      ]
     },
     "execution_count": 101,
     "metadata": {},
     "output_type": "execute_result"
    }
   ],
   "source": [
    "r2_score(y_test, y_pred)"
   ]
  },
  {
   "cell_type": "code",
   "execution_count": 102,
   "id": "6e14a284-2d67-4577-b72d-d592a58f5764",
   "metadata": {
    "execution": {
     "iopub.execute_input": "2022-05-03T18:59:30.955389Z",
     "iopub.status.busy": "2022-05-03T18:59:30.954626Z",
     "iopub.status.idle": "2022-05-03T18:59:30.977681Z",
     "shell.execute_reply": "2022-05-03T18:59:30.976847Z",
     "shell.execute_reply.started": "2022-05-03T18:59:30.955360Z"
    }
   },
   "outputs": [
    {
     "data": {
      "text/plain": [
       "-0.11515996526410688"
      ]
     },
     "execution_count": 102,
     "metadata": {},
     "output_type": "execute_result"
    }
   ],
   "source": [
    "R_squared_OSXS(y_test, y_pred)"
   ]
  },
  {
   "cell_type": "code",
   "execution_count": 265,
   "id": "d34793a3-b959-4c82-adb0-e4141d0f6a72",
   "metadata": {},
   "outputs": [
    {
     "data": {
      "text/plain": [
       "<AxesSubplot:>"
      ]
     },
     "execution_count": 265,
     "metadata": {},
     "output_type": "execute_result"
    },
    {
     "data": {
      "image/png": "[encoded data removed]",
      "text/plain": [
       "<Figure size 432x288 with 1 Axes>"
      ]
     },
     "metadata": {
      "needs_background": "light"
     },
     "output_type": "display_data"
    }
   ],
   "source": [
    "feat_importances = pd.Series(rf_reg.feature_importances_, index=used_characteristics)\n",
    "feat_importances.nlargest(10).plot(kind='barh')"
   ]
  },
  {
   "cell_type": "markdown",
   "id": "08ccf6dc-4b00-4c6e-a9e8-ab0afc76281a",
   "metadata": {
    "tags": []
   },
   "source": [
    "### XGBOOST"
   ]
  },
  {
   "cell_type": "code",
   "execution_count": 139,
   "id": "1f1b2060-4178-4b34-ac69-3be28b883224",
   "metadata": {
    "execution": {
     "iopub.execute_input": "2022-05-02T18:37:27.506782Z",
     "iopub.status.busy": "2022-05-02T18:37:27.506576Z",
     "iopub.status.idle": "2022-05-02T18:37:31.450024Z",
     "shell.execute_reply": "2022-05-02T18:37:31.449389Z",
     "shell.execute_reply.started": "2022-05-02T18:37:27.506764Z"
    },
    "tags": []
   },
   "outputs": [],
   "source": [
    "training_data, validation_data, test_data = train_validation_test_split(option_with_feature, year=1996)\n",
    "used_characteristics = ['volume', 'ReturnSkew', 'MaxRet', 'delta', 'PriceDelaySlope', 'strike_price', \n",
    "                        'IdioVol3F', 'ReturnSkew3F', 'ir_rate', 'mid_price', 'forwardprice', \n",
    "                        'zerotradeAlt1', 'theta', 'cfadj', 'zerotrade', 'best_bid', 'spotprice', 'VolMkt', \n",
    "                        'IdioRisk', 'days_to_exp', 'PriceDelayTstat', 'High52', 'Coskewness', 'BidAskSpread', \n",
    "                        'Beta', 'days_no_trading', 'open_interest', 'impl_volatility', 'PriceDelayRsq', 'IdioVolAHT', \n",
    "                        'adj_spot', 'vega', 'gamma', 'best_offer', 'DolVol', 'cp_flag_encoded']\n",
    "\n",
    "imp = SimpleImputer(missing_values=np.nan, strategy='mean')\n",
    "imp.fit(training_data[used_characteristics])\n",
    "training_data.loc[:, used_characteristics] = imp.transform(training_data[used_characteristics])\n",
    "validation_data.loc[:, used_characteristics] = imp.transform(validation_data[used_characteristics])\n",
    "test_data.loc[:, used_characteristics] = imp.transform(test_data[used_characteristics])\n",
    "\n",
    "X_train = training_data[used_characteristics + [\"date_x\", \"optionid\"] ]\n",
    "y_train = training_data['option_ret']\n",
    "\n",
    "X_val = validation_data[used_characteristics + [\"date_x\", \"optionid\"] ]\n",
    "y_val = validation_data['option_ret']\n",
    "\n",
    "X_test = test_data[used_characteristics + [\"date_x\", \"optionid\"]]\n",
    "y_test = test_data['option_ret']"
   ]
  },
  {
   "cell_type": "code",
   "execution_count": 162,
   "id": "ac1a8142-60c8-4c32-95ed-b051d432794f",
   "metadata": {
    "execution": {
     "iopub.execute_input": "2022-05-02T18:51:27.584503Z",
     "iopub.status.busy": "2022-05-02T18:51:27.584284Z",
     "iopub.status.idle": "2022-05-02T18:51:27.587705Z",
     "shell.execute_reply": "2022-05-02T18:51:27.587020Z",
     "shell.execute_reply.started": "2022-05-02T18:51:27.584480Z"
    },
    "tags": []
   },
   "outputs": [],
   "source": [
    "import xgboost\n",
    "# reg = xgboost.XGBRegressor(n_estimators=1000, max_depth=3)\n",
    "reg = xgboost.XGBRegressor(\n",
    "    n_estimators=4096,\n",
    "    max_depth=3,\n",
    "    gamma=1, \n",
    "    verbosity=1)"
   ]
  },
  {
   "cell_type": "code",
   "execution_count": 163,
   "id": "02116576-c44e-48bc-9d22-b25115221220",
   "metadata": {
    "execution": {
     "iopub.execute_input": "2022-05-02T18:51:29.299084Z",
     "iopub.status.busy": "2022-05-02T18:51:29.298847Z",
     "iopub.status.idle": "2022-05-02T19:04:20.776833Z",
     "shell.execute_reply": "2022-05-02T19:04:20.774788Z",
     "shell.execute_reply.started": "2022-05-02T18:51:29.299060Z"
    },
    "tags": []
   },
   "outputs": [
    {
     "data": {
      "text/plain": [
       "XGBRegressor(base_score=0.5, booster='gbtree', callbacks=None,\n",
       "             colsample_bylevel=1, colsample_bynode=1, colsample_bytree=1,\n",
       "             early_stopping_rounds=None, enable_categorical=False,\n",
       "             eval_metric=None, gamma=1, gpu_id=-1, grow_policy='depthwise',\n",
       "             importance_type=None, interaction_constraints='',\n",
       "             learning_rate=0.300000012, max_bin=256, max_cat_to_onehot=4,\n",
       "             max_delta_step=0, max_depth=3, max_leaves=0, min_child_weight=1,\n",
       "             missing=nan, monotone_constraints='()', n_estimators=4096,\n",
       "             n_jobs=0, num_parallel_tree=1, predictor='auto', random_state=0,\n",
       "             reg_alpha=0, reg_lambda=1, ...)"
      ]
     },
     "execution_count": 163,
     "metadata": {},
     "output_type": "execute_result"
    }
   ],
   "source": [
    "reg.fit(X_train[used_characteristics], y_train)"
   ]
  },
  {
   "cell_type": "code",
   "execution_count": 161,
   "id": "114077ef-da67-400a-8fb4-c372f8c083f8",
   "metadata": {
    "collapsed": true,
    "execution": {
     "iopub.execute_input": "2022-05-02T18:47:19.594676Z",
     "iopub.status.busy": "2022-05-02T18:47:19.594333Z",
     "iopub.status.idle": "2022-05-02T18:47:19.600993Z",
     "shell.execute_reply": "2022-05-02T18:47:19.600496Z",
     "shell.execute_reply.started": "2022-05-02T18:47:19.594655Z"
    },
    "jupyter": {
     "outputs_hidden": true
    },
    "tags": []
   },
   "outputs": [
    {
     "data": {
      "text/plain": [
       "{'objective': 'reg:squarederror',\n",
       " 'base_score': 0.5,\n",
       " 'booster': 'gbtree',\n",
       " 'callbacks': None,\n",
       " 'colsample_bylevel': 1,\n",
       " 'colsample_bynode': 1,\n",
       " 'colsample_bytree': 1,\n",
       " 'early_stopping_rounds': None,\n",
       " 'enable_categorical': False,\n",
       " 'eval_metric': None,\n",
       " 'gamma': 0,\n",
       " 'gpu_id': -1,\n",
       " 'grow_policy': 'depthwise',\n",
       " 'importance_type': None,\n",
       " 'interaction_constraints': '',\n",
       " 'learning_rate': 0.300000012,\n",
       " 'max_bin': 256,\n",
       " 'max_cat_to_onehot': 4,\n",
       " 'max_delta_step': 0,\n",
       " 'max_depth': 6,\n",
       " 'max_leaves': 0,\n",
       " 'min_child_weight': 1,\n",
       " 'missing': nan,\n",
       " 'monotone_constraints': '()',\n",
       " 'n_estimators': 100,\n",
       " 'n_jobs': 0,\n",
       " 'num_parallel_tree': 1,\n",
       " 'predictor': 'auto',\n",
       " 'random_state': 0,\n",
       " 'reg_alpha': 0,\n",
       " 'reg_lambda': 1,\n",
       " 'sampling_method': 'uniform',\n",
       " 'scale_pos_weight': 1,\n",
       " 'subsample': 1,\n",
       " 'tree_method': 'exact',\n",
       " 'validate_parameters': 1,\n",
       " 'verbosity': 2}"
      ]
     },
     "execution_count": 161,
     "metadata": {},
     "output_type": "execute_result"
    }
   ],
   "source": [
    "reg.get_params()"
   ]
  },
  {
   "cell_type": "code",
   "execution_count": 151,
   "id": "c5d3fb12-5970-4daa-9277-d2dc0b070530",
   "metadata": {
    "collapsed": true,
    "execution": {
     "iopub.execute_input": "2022-05-02T18:42:31.809755Z",
     "iopub.status.busy": "2022-05-02T18:42:31.809539Z",
     "iopub.status.idle": "2022-05-02T18:42:31.833252Z",
     "shell.execute_reply": "2022-05-02T18:42:31.832480Z",
     "shell.execute_reply.started": "2022-05-02T18:42:31.809732Z"
    },
    "jupyter": {
     "outputs_hidden": true
    },
    "tags": []
   },
   "outputs": [
    {
     "data": {
      "text/plain": [
       "\u001b[0;31mInit signature:\u001b[0m\n",
       "\u001b[0mxgboost\u001b[0m\u001b[0;34m.\u001b[0m\u001b[0mXGBRegressor\u001b[0m\u001b[0;34m(\u001b[0m\u001b[0;34m\u001b[0m\n",
       "\u001b[0;34m\u001b[0m    \u001b[0;34m*\u001b[0m\u001b[0;34m,\u001b[0m\u001b[0;34m\u001b[0m\n",
       "\u001b[0;34m\u001b[0m    \u001b[0mobjective\u001b[0m\u001b[0;34m:\u001b[0m \u001b[0mUnion\u001b[0m\u001b[0;34m[\u001b[0m\u001b[0mstr\u001b[0m\u001b[0;34m,\u001b[0m \u001b[0mCallable\u001b[0m\u001b[0;34m[\u001b[0m\u001b[0;34m[\u001b[0m\u001b[0mnumpy\u001b[0m\u001b[0;34m.\u001b[0m\u001b[0mndarray\u001b[0m\u001b[0;34m,\u001b[0m \u001b[0mnumpy\u001b[0m\u001b[0;34m.\u001b[0m\u001b[0mndarray\u001b[0m\u001b[0;34m]\u001b[0m\u001b[0;34m,\u001b[0m \u001b[0mTuple\u001b[0m\u001b[0;34m[\u001b[0m\u001b[0mnumpy\u001b[0m\u001b[0;34m.\u001b[0m\u001b[0mndarray\u001b[0m\u001b[0;34m,\u001b[0m \u001b[0mnumpy\u001b[0m\u001b[0;34m.\u001b[0m\u001b[0mndarray\u001b[0m\u001b[0;34m]\u001b[0m\u001b[0;34m]\u001b[0m\u001b[0;34m,\u001b[0m \u001b[0mNoneType\u001b[0m\u001b[0;34m]\u001b[0m \u001b[0;34m=\u001b[0m \u001b[0;34m'reg:squarederror'\u001b[0m\u001b[0;34m,\u001b[0m\u001b[0;34m\u001b[0m\n",
       "\u001b[0;34m\u001b[0m    \u001b[0;34m**\u001b[0m\u001b[0mkwargs\u001b[0m\u001b[0;34m:\u001b[0m \u001b[0mAny\u001b[0m\u001b[0;34m,\u001b[0m\u001b[0;34m\u001b[0m\n",
       "\u001b[0;34m\u001b[0m\u001b[0;34m)\u001b[0m \u001b[0;34m->\u001b[0m \u001b[0;32mNone\u001b[0m\u001b[0;34m\u001b[0m\u001b[0;34m\u001b[0m\u001b[0m\n",
       "\u001b[0;31mDocstring:\u001b[0m     \n",
       "Implementation of the scikit-learn API for XGBoost regression.\n",
       "\n",
       "\n",
       "Parameters\n",
       "----------\n",
       "\n",
       "    n_estimators : int\n",
       "        Number of gradient boosted trees.  Equivalent to number of boosting\n",
       "        rounds.\n",
       "\n",
       "    max_depth :  Optional[int]\n",
       "        Maximum tree depth for base learners.\n",
       "    max_leaves :\n",
       "        Maximum number of leaves; 0 indicates no limit.\n",
       "    max_bin :\n",
       "        If using histogram-based algorithm, maximum number of bins per feature\n",
       "    grow_policy :\n",
       "        Tree growing policy. 0: favor splitting at nodes closest to the node, i.e. grow\n",
       "        depth-wise. 1: favor splitting at nodes with highest loss change.\n",
       "    learning_rate : Optional[float]\n",
       "        Boosting learning rate (xgb's \"eta\")\n",
       "    verbosity : Optional[int]\n",
       "        The degree of verbosity. Valid values are 0 (silent) - 3 (debug).\n",
       "    objective : typing.Union[str, typing.Callable[[numpy.ndarray, numpy.ndarray], typing.Tuple[numpy.ndarray, numpy.ndarray]], NoneType]\n",
       "        Specify the learning task and the corresponding learning objective or\n",
       "        a custom objective function to be used (see note below).\n",
       "    booster: Optional[str]\n",
       "        Specify which booster to use: gbtree, gblinear or dart.\n",
       "    tree_method: Optional[str]\n",
       "        Specify which tree method to use.  Default to auto.  If this parameter is set to\n",
       "        default, XGBoost will choose the most conservative option available.  It's\n",
       "        recommended to study this option from the parameters document :doc:`tree method\n",
       "        </treemethod>`\n",
       "    n_jobs : Optional[int]\n",
       "        Number of parallel threads used to run xgboost.  When used with other Scikit-Learn\n",
       "        algorithms like grid search, you may choose which algorithm to parallelize and\n",
       "        balance the threads.  Creating thread contention will significantly slow down both\n",
       "        algorithms.\n",
       "    gamma : Optional[float]\n",
       "        (min_split_loss) Minimum loss reduction required to make a further partition on a\n",
       "        leaf node of the tree.\n",
       "    min_child_weight : Optional[float]\n",
       "        Minimum sum of instance weight(hessian) needed in a child.\n",
       "    max_delta_step : Optional[float]\n",
       "        Maximum delta step we allow each tree's weight estimation to be.\n",
       "    subsample : Optional[float]\n",
       "        Subsample ratio of the training instance.\n",
       "    sampling_method :\n",
       "        Sampling method. Used only by `gpu_hist` tree method.\n",
       "          - `uniform`: select random training instances uniformly.\n",
       "          - `gradient_based` select random training instances with higher probability when\n",
       "            the gradient and hessian are larger. (cf. CatBoost)\n",
       "    colsample_bytree : Optional[float]\n",
       "        Subsample ratio of columns when constructing each tree.\n",
       "    colsample_bylevel : Optional[float]\n",
       "        Subsample ratio of columns for each level.\n",
       "    colsample_bynode : Optional[float]\n",
       "        Subsample ratio of columns for each split.\n",
       "    reg_alpha : Optional[float]\n",
       "        L1 regularization term on weights (xgb's alpha).\n",
       "    reg_lambda : Optional[float]\n",
       "        L2 regularization term on weights (xgb's lambda).\n",
       "    scale_pos_weight : Optional[float]\n",
       "        Balancing of positive and negative weights.\n",
       "    base_score : Optional[float]\n",
       "        The initial prediction score of all instances, global bias.\n",
       "    random_state : Optional[Union[numpy.random.RandomState, int]]\n",
       "        Random number seed.\n",
       "\n",
       "        .. note::\n",
       "\n",
       "           Using gblinear booster with shotgun updater is nondeterministic as\n",
       "           it uses Hogwild algorithm.\n",
       "\n",
       "    missing : float, default np.nan\n",
       "        Value in the data which needs to be present as a missing value.\n",
       "    num_parallel_tree: Optional[int]\n",
       "        Used for boosting random forest.\n",
       "    monotone_constraints : Optional[Union[Dict[str, int], str]]\n",
       "        Constraint of variable monotonicity.  See :doc:`tutorial </tutorials/monotonic>`\n",
       "        for more information.\n",
       "    interaction_constraints : Optional[Union[str, List[Tuple[str]]]]\n",
       "        Constraints for interaction representing permitted interactions.  The\n",
       "        constraints must be specified in the form of a nested list, e.g. ``[[0, 1], [2,\n",
       "        3, 4]]``, where each inner list is a group of indices of features that are\n",
       "        allowed to interact with each other.  See :doc:`tutorial\n",
       "        </tutorials/feature_interaction_constraint>` for more information\n",
       "    importance_type: Optional[str]\n",
       "        The feature importance type for the feature_importances\\_ property:\n",
       "\n",
       "        * For tree model, it's either \"gain\", \"weight\", \"cover\", \"total_gain\" or\n",
       "          \"total_cover\".\n",
       "        * For linear model, only \"weight\" is defined and it's the normalized coefficients\n",
       "          without bias.\n",
       "\n",
       "    gpu_id : Optional[int]\n",
       "        Device ordinal.\n",
       "    validate_parameters : Optional[bool]\n",
       "        Give warnings for unknown parameter.\n",
       "    predictor : Optional[str]\n",
       "        Force XGBoost to use specific predictor, available choices are [cpu_predictor,\n",
       "        gpu_predictor].\n",
       "    enable_categorical : bool\n",
       "\n",
       "        .. versionadded:: 1.5.0\n",
       "\n",
       "        .. note:: This parameter is experimental\n",
       "\n",
       "        Experimental support for categorical data.  When enabled, cudf/pandas.DataFrame\n",
       "        should be used to specify categorical data type.  Also, JSON/UBJSON\n",
       "        serialization format is required.\n",
       "\n",
       "    max_cat_to_onehot : Optional[int]\n",
       "\n",
       "        .. versionadded:: 1.6.0\n",
       "\n",
       "        .. note:: This parameter is experimental\n",
       "\n",
       "        A threshold for deciding whether XGBoost should use one-hot encoding based split\n",
       "        for categorical data.  When number of categories is lesser than the threshold\n",
       "        then one-hot encoding is chosen, otherwise the categories will be partitioned\n",
       "        into children nodes.  Only relevant for regression and binary classification.\n",
       "        See :doc:`Categorical Data </tutorials/categorical>` for details.\n",
       "\n",
       "    eval_metric : Optional[Union[str, List[str], Callable]]\n",
       "\n",
       "        .. versionadded:: 1.6.0\n",
       "\n",
       "        Metric used for monitoring the training result and early stopping.  It can be a\n",
       "        string or list of strings as names of predefined metric in XGBoost (See\n",
       "        doc/parameter.rst), one of the metrics in :py:mod:`sklearn.metrics`, or any other\n",
       "        user defined metric that looks like `sklearn.metrics`.\n",
       "\n",
       "        If custom objective is also provided, then custom metric should implement the\n",
       "        corresponding reverse link function.\n",
       "\n",
       "        Unlike the `scoring` parameter commonly used in scikit-learn, when a callable\n",
       "        object is provided, it's assumed to be a cost function and by default XGBoost will\n",
       "        minimize the result during early stopping.\n",
       "\n",
       "        For advanced usage on Early stopping like directly choosing to maximize instead of\n",
       "        minimize, see :py:obj:`xgboost.callback.EarlyStopping`.\n",
       "\n",
       "        See :doc:`Custom Objective and Evaluation Metric </tutorials/custom_metric_obj>`\n",
       "        for more.\n",
       "\n",
       "        .. note::\n",
       "\n",
       "             This parameter replaces `eval_metric` in :py:meth:`fit` method.  The old one\n",
       "             receives un-transformed prediction regardless of whether custom objective is\n",
       "             being used.\n",
       "\n",
       "        .. code-block:: python\n",
       "\n",
       "            from sklearn.datasets import load_diabetes\n",
       "            from sklearn.metrics import mean_absolute_error\n",
       "            X, y = load_diabetes(return_X_y=True)\n",
       "            reg = xgb.XGBRegressor(\n",
       "                tree_method=\"hist\",\n",
       "                eval_metric=mean_absolute_error,\n",
       "            )\n",
       "            reg.fit(X, y, eval_set=[(X, y)])\n",
       "\n",
       "    early_stopping_rounds : Optional[int]\n",
       "\n",
       "        .. versionadded:: 1.6.0\n",
       "\n",
       "        Activates early stopping. Validation metric needs to improve at least once in\n",
       "        every **early_stopping_rounds** round(s) to continue training.  Requires at least\n",
       "        one item in **eval_set** in :py:meth:`fit`.\n",
       "\n",
       "        The method returns the model from the last iteration (not the best one).  If\n",
       "        there's more than one item in **eval_set**, the last entry will be used for early\n",
       "        stopping.  If there's more than one metric in **eval_metric**, the last metric\n",
       "        will be used for early stopping.\n",
       "\n",
       "        If early stopping occurs, the model will have three additional fields:\n",
       "        :py:attr:`best_score`, :py:attr:`best_iteration` and\n",
       "        :py:attr:`best_ntree_limit`.\n",
       "\n",
       "        .. note::\n",
       "\n",
       "            This parameter replaces `early_stopping_rounds` in :py:meth:`fit` method.\n",
       "\n",
       "    callbacks : Optional[List[TrainingCallback]]\n",
       "        List of callback functions that are applied at end of each iteration.\n",
       "        It is possible to use predefined callbacks by using\n",
       "        :ref:`Callback API <callback_api>`.\n",
       "\n",
       "        .. note::\n",
       "\n",
       "           States in callback are not preserved during training, which means callback\n",
       "           objects can not be reused for multiple training sessions without\n",
       "           reinitialization or deepcopy.\n",
       "\n",
       "        .. code-block:: python\n",
       "\n",
       "            for params in parameters_grid:\n",
       "                # be sure to (re)initialize the callbacks before each run\n",
       "                callbacks = [xgb.callback.LearningRateScheduler(custom_rates)]\n",
       "                xgboost.train(params, Xy, callbacks=callbacks)\n",
       "\n",
       "    kwargs : dict, optional\n",
       "        Keyword arguments for XGBoost Booster object.  Full documentation of parameters\n",
       "        can be found :doc:`here </parameter>`.\n",
       "        Attempting to set a parameter via the constructor args and \\*\\*kwargs\n",
       "        dict simultaneously will result in a TypeError.\n",
       "\n",
       "        .. note:: \\*\\*kwargs unsupported by scikit-learn\n",
       "\n",
       "            \\*\\*kwargs is unsupported by scikit-learn.  We do not guarantee\n",
       "            that parameters passed via this argument will interact properly\n",
       "            with scikit-learn.\n",
       "\n",
       "        .. note::  Custom objective function\n",
       "\n",
       "            A custom objective function can be provided for the ``objective``\n",
       "            parameter. In this case, it should have the signature\n",
       "            ``objective(y_true, y_pred) -> grad, hess``:\n",
       "\n",
       "            y_true: array_like of shape [n_samples]\n",
       "                The target values\n",
       "            y_pred: array_like of shape [n_samples]\n",
       "                The predicted values\n",
       "\n",
       "            grad: array_like of shape [n_samples]\n",
       "                The value of the gradient for each sample point.\n",
       "            hess: array_like of shape [n_samples]\n",
       "                The value of the second derivative for each sample point\n",
       "\u001b[0;31mFile:\u001b[0m           ~/anaconda3/envs/aqf/lib/python3.8/site-packages/xgboost/sklearn.py\n",
       "\u001b[0;31mType:\u001b[0m           type\n",
       "\u001b[0;31mSubclasses:\u001b[0m     XGBRFRegressor\n"
      ]
     },
     "metadata": {},
     "output_type": "display_data"
    }
   ],
   "source": [
    "?xgboost.XGBRegressor"
   ]
  },
  {
   "cell_type": "code",
   "execution_count": 164,
   "id": "bc03369f-1c98-44bb-991d-c0ca940928c0",
   "metadata": {
    "execution": {
     "iopub.execute_input": "2022-05-02T19:05:24.068205Z",
     "iopub.status.busy": "2022-05-02T19:05:24.067790Z",
     "iopub.status.idle": "2022-05-02T19:05:24.567984Z",
     "shell.execute_reply": "2022-05-02T19:05:24.567213Z",
     "shell.execute_reply.started": "2022-05-02T19:05:24.068177Z"
    },
    "tags": []
   },
   "outputs": [],
   "source": [
    "y_pred = reg.predict(X_test[used_characteristics])"
   ]
  },
  {
   "cell_type": "code",
   "execution_count": 165,
   "id": "ad13d4c3-ca06-418e-99ac-db842ce31c9e",
   "metadata": {
    "execution": {
     "iopub.execute_input": "2022-05-02T19:05:24.841487Z",
     "iopub.status.busy": "2022-05-02T19:05:24.841132Z",
     "iopub.status.idle": "2022-05-02T19:05:24.851972Z",
     "shell.execute_reply": "2022-05-02T19:05:24.851028Z",
     "shell.execute_reply.started": "2022-05-02T19:05:24.841456Z"
    },
    "tags": []
   },
   "outputs": [
    {
     "data": {
      "text/plain": [
       "717.4352852475813"
      ]
     },
     "execution_count": 165,
     "metadata": {},
     "output_type": "execute_result"
    }
   ],
   "source": [
    "mean_squared_error(y_test, y_pred)"
   ]
  },
  {
   "cell_type": "code",
   "execution_count": 166,
   "id": "3fe6ac21-e346-4358-92dc-0dd892bd8b99",
   "metadata": {
    "execution": {
     "iopub.execute_input": "2022-05-02T19:05:25.843158Z",
     "iopub.status.busy": "2022-05-02T19:05:25.842878Z",
     "iopub.status.idle": "2022-05-02T19:05:25.848787Z",
     "shell.execute_reply": "2022-05-02T19:05:25.848247Z",
     "shell.execute_reply.started": "2022-05-02T19:05:25.843134Z"
    },
    "tags": []
   },
   "outputs": [
    {
     "data": {
      "text/plain": [
       "-3.303282398976531"
      ]
     },
     "execution_count": 166,
     "metadata": {},
     "output_type": "execute_result"
    }
   ],
   "source": [
    "r2_score(y_test, y_pred)"
   ]
  },
  {
   "cell_type": "code",
   "execution_count": 167,
   "id": "84ab070d-8865-46ab-bc18-12307dabcffd",
   "metadata": {
    "execution": {
     "iopub.execute_input": "2022-05-02T19:05:26.465225Z",
     "iopub.status.busy": "2022-05-02T19:05:26.464980Z",
     "iopub.status.idle": "2022-05-02T19:05:26.487829Z",
     "shell.execute_reply": "2022-05-02T19:05:26.487209Z",
     "shell.execute_reply.started": "2022-05-02T19:05:26.465200Z"
    },
    "tags": []
   },
   "outputs": [
    {
     "data": {
      "text/plain": [
       "-3.302895635378647"
      ]
     },
     "execution_count": 167,
     "metadata": {},
     "output_type": "execute_result"
    }
   ],
   "source": [
    "R_squared_OSXS(y_test, y_pred)"
   ]
  },
  {
   "cell_type": "code",
   "execution_count": 127,
   "id": "00fd8e66-92ef-415f-8161-5468c54aa13b",
   "metadata": {
    "execution": {
     "iopub.execute_input": "2022-05-02T18:33:56.869158Z",
     "iopub.status.busy": "2022-05-02T18:33:56.868911Z",
     "iopub.status.idle": "2022-05-02T18:33:57.278514Z",
     "shell.execute_reply": "2022-05-02T18:33:57.277939Z",
     "shell.execute_reply.started": "2022-05-02T18:33:56.869137Z"
    },
    "tags": []
   },
   "outputs": [
    {
     "data": {
      "text/plain": [
       "<AxesSubplot:>"
      ]
     },
     "execution_count": 127,
     "metadata": {},
     "output_type": "execute_result"
    },
    {
     "data": {
      "image/png": "[encoded data removed]",
      "text/plain": [
       "<Figure size 432x288 with 1 Axes>"
      ]
     },
     "metadata": {
      "needs_background": "light"
     },
     "output_type": "display_data"
    }
   ],
   "source": [
    "feat_importances = pd.Series(reg.feature_importances_, index=used_characteristics)\n",
    "feat_importances.nlargest(10).plot(kind='barh')"
   ]
  },
  {
   "cell_type": "code",
   "execution_count": null,
   "id": "97643904-a66e-4c92-9413-f3e9b356fbe3",
   "metadata": {},
   "outputs": [],
   "source": []
  },
  {
   "cell_type": "code",
   "execution_count": null,
   "id": "4030c11d-0c0c-4c61-ad4c-7342ca529ead",
   "metadata": {},
   "outputs": [],
   "source": []
  },
  {
   "cell_type": "code",
   "execution_count": null,
   "id": "9484dd85-8fc6-4a04-995e-45f419a680bb",
   "metadata": {},
   "outputs": [],
   "source": []
  },
  {
   "cell_type": "markdown",
   "id": "2d3c341c-2fee-4662-bb80-3479eae53d6c",
   "metadata": {},
   "source": [
    "### FNN\n",
    "One epoch training on my macbook pro costs 12 hours. \n",
    "We think we don't have enough computation power for this."
   ]
  },
  {
   "cell_type": "code",
   "execution_count": 101,
   "id": "45d7ce7b-cacd-47f5-811a-2a1595e0f57e",
   "metadata": {
    "execution": {
     "iopub.execute_input": "2022-05-02T15:15:49.737998Z",
     "iopub.status.busy": "2022-05-02T15:15:49.737743Z",
     "iopub.status.idle": "2022-05-02T15:15:49.754956Z",
     "shell.execute_reply": "2022-05-02T15:15:49.754327Z",
     "shell.execute_reply.started": "2022-05-02T15:15:49.737973Z"
    },
    "tags": []
   },
   "outputs": [],
   "source": [
    "import torch\n",
    "import torch.nn as nn\n",
    "import torch.nn.functional as F\n",
    "\n",
    "from torch.utils.data import Dataset\n",
    "import matplotlib.pyplot as plt\n",
    "\n",
    "from torch.utils.data import DataLoader\n",
    "import torch.optim as optim\n",
    "\n",
    "from tqdm import tqdm"
   ]
  },
  {
   "cell_type": "code",
   "execution_count": 47,
   "id": "a322e94d-aa5b-4abd-931e-44282117ab56",
   "metadata": {
    "execution": {
     "iopub.execute_input": "2022-05-02T14:46:09.954448Z",
     "iopub.status.busy": "2022-05-02T14:46:09.954230Z",
     "iopub.status.idle": "2022-05-02T14:46:10.653985Z",
     "shell.execute_reply": "2022-05-02T14:46:10.653244Z",
     "shell.execute_reply.started": "2022-05-02T14:46:09.954426Z"
    },
    "tags": []
   },
   "outputs": [
    {
     "data": {
      "text/plain": [
       "tensor([ 4.0000e+00,  1.2630e+00, -1.0909e-02,  8.3321e-01, -2.1056e-01,\n",
       "         6.5000e+01, -7.8028e-03,  5.4315e-01,  5.3274e-02,  6.1250e+00,\n",
       "         7.0169e+01,  5.6492e-08, -5.5153e+00,  1.0000e+00,  6.1690e-08,\n",
       "         5.8750e+00,  7.0375e+01, -3.1556e-02, -1.0260e-02,  1.0800e+02,\n",
       "         1.2058e+00,  9.7574e-01,  1.1993e-01,  2.0131e-03,  1.7790e-03,\n",
       "         0.0000e+00,  4.2000e+02,  1.6730e-01,  1.1355e-01, -8.9034e-03,\n",
       "         3.5188e+01,  9.0202e+00,  3.9200e-02,  6.3750e+00, -7.0437e+00,\n",
       "         1.0000e+00], dtype=torch.float64)"
      ]
     },
     "execution_count": 47,
     "metadata": {},
     "output_type": "execute_result"
    }
   ],
   "source": [
    "torch.tensor(option_with_feature[used_characteristics].iloc[2])"
   ]
  },
  {
   "cell_type": "code",
   "execution_count": 88,
   "id": "f59b1804-a571-4cc7-9aa3-679375d46c9e",
   "metadata": {
    "execution": {
     "iopub.execute_input": "2022-05-02T15:02:41.424991Z",
     "iopub.status.busy": "2022-05-02T15:02:41.424642Z",
     "iopub.status.idle": "2022-05-02T15:02:41.431781Z",
     "shell.execute_reply": "2022-05-02T15:02:41.431040Z",
     "shell.execute_reply.started": "2022-05-02T15:02:41.424948Z"
    },
    "tags": []
   },
   "outputs": [],
   "source": [
    "class CustomDataset(Dataset):\n",
    "    def __init__(self, dataset, used_characteristics, pred):\n",
    "        self.dataset = dataset\n",
    "        self.used_characteristics = used_characteristics\n",
    "        self.pred = pred \n",
    "\n",
    "    def __len__(self):\n",
    "        return len(self.dataset)\n",
    "\n",
    "    def __getitem__(self, idx):\n",
    "        x = torch.tensor(self.dataset[self.used_characteristics].iloc[idx].astype(np.float32))\n",
    "        y = self.dataset[self.pred].iloc[idx].astype(np.float32)\n",
    "        return x, y "
   ]
  },
  {
   "cell_type": "code",
   "execution_count": 89,
   "id": "e16165a1-6021-4048-b642-168c78bd9355",
   "metadata": {
    "execution": {
     "iopub.execute_input": "2022-05-02T15:02:41.974767Z",
     "iopub.status.busy": "2022-05-02T15:02:41.974509Z",
     "iopub.status.idle": "2022-05-02T15:02:41.979058Z",
     "shell.execute_reply": "2022-05-02T15:02:41.978028Z",
     "shell.execute_reply.started": "2022-05-02T15:02:41.974740Z"
    },
    "tags": []
   },
   "outputs": [],
   "source": [
    "training_data_torch = CustomDataset(training_data, used_characteristics, \"option_ret\")\n",
    "test_data_torch = CustomDataset(test_data, used_characteristics, \"option_ret\")"
   ]
  },
  {
   "cell_type": "code",
   "execution_count": 90,
   "id": "abe483bf-f44a-44c1-950b-935654f4a7a0",
   "metadata": {
    "execution": {
     "iopub.execute_input": "2022-05-02T15:02:42.530317Z",
     "iopub.status.busy": "2022-05-02T15:02:42.530049Z",
     "iopub.status.idle": "2022-05-02T15:02:50.791233Z",
     "shell.execute_reply": "2022-05-02T15:02:50.790526Z",
     "shell.execute_reply.started": "2022-05-02T15:02:42.530289Z"
    },
    "tags": []
   },
   "outputs": [],
   "source": [
    "train_dataloader = DataLoader(training_data_torch, batch_size=64, shuffle=True)\n",
    "test_dataloader = DataLoader(test_data_torch, batch_size=64, shuffle=True)\n",
    "X, Y = next(iter(train_dataloader))"
   ]
  },
  {
   "cell_type": "code",
   "execution_count": 84,
   "id": "0856c429-1527-4650-ae24-50819f428260",
   "metadata": {
    "execution": {
     "iopub.execute_input": "2022-05-02T15:00:50.448974Z",
     "iopub.status.busy": "2022-05-02T15:00:50.448605Z",
     "iopub.status.idle": "2022-05-02T15:00:50.455742Z",
     "shell.execute_reply": "2022-05-02T15:00:50.455069Z",
     "shell.execute_reply.started": "2022-05-02T15:00:50.448947Z"
    },
    "tags": []
   },
   "outputs": [
    {
     "data": {
      "text/plain": [
       "(torch.Tensor, torch.Tensor)"
      ]
     },
     "execution_count": 84,
     "metadata": {},
     "output_type": "execute_result"
    }
   ],
   "source": [
    "type(X[0][0]), type(Y[0])"
   ]
  },
  {
   "cell_type": "code",
   "execution_count": 87,
   "id": "a8c4f246-97ee-4d86-8f51-f49d6f04dc96",
   "metadata": {
    "execution": {
     "iopub.execute_input": "2022-05-02T15:02:21.798746Z",
     "iopub.status.busy": "2022-05-02T15:02:21.798519Z",
     "iopub.status.idle": "2022-05-02T15:02:21.803576Z",
     "shell.execute_reply": "2022-05-02T15:02:21.803045Z",
     "shell.execute_reply.started": "2022-05-02T15:02:21.798724Z"
    },
    "tags": []
   },
   "outputs": [
    {
     "data": {
      "text/plain": [
       "tensor([ 8.2766e-03,  4.7117e-02, -1.9022e-02, -5.9921e-02,  5.6904e-02,\n",
       "         2.6020e-01,  5.1417e-02, -2.5680e-02, -1.5497e-01, -2.5031e-02,\n",
       "         1.7222e-03, -3.0399e-02,  9.1998e-03, -3.0525e-02, -1.3115e-01,\n",
       "        -9.3410e-02,  2.3932e-02,  1.1766e-02, -2.3166e-02, -7.6649e-02,\n",
       "         2.0566e-02, -7.7296e-02, -6.4469e-02,  9.9131e-03,  4.4708e-02,\n",
       "        -1.2763e-02,  1.0602e-02,  2.2166e-04,  8.7494e-03,  9.8529e-02,\n",
       "         1.2360e-02,  2.7572e-02,  2.7231e-02, -6.1731e-02, -3.1454e-02,\n",
       "        -2.8895e-02,  4.9418e-03, -2.4311e-02,  6.1080e-02, -1.1035e-04,\n",
       "         1.6525e-01,  2.9687e-01, -1.5116e-01, -1.0997e-02, -6.2082e-01,\n",
       "        -2.0579e-02, -6.0351e-02,  1.6415e-02, -7.4811e-02,  3.5579e-02,\n",
       "         2.4599e-03, -2.2690e-02, -2.1019e-02, -4.3125e-02, -3.8773e-02,\n",
       "         1.2967e-01, -3.0011e-02, -2.9186e-02, -5.6971e-03, -2.6072e-02,\n",
       "        -8.2621e-03, -8.6199e-01, -2.8827e-02, -5.3083e-02],\n",
       "       dtype=torch.float64)"
      ]
     },
     "execution_count": 87,
     "metadata": {},
     "output_type": "execute_result"
    }
   ],
   "source": [
    "Y"
   ]
  },
  {
   "cell_type": "code",
   "execution_count": null,
   "id": "c27060f2-aaed-485d-87c7-22818b36afb1",
   "metadata": {},
   "outputs": [],
   "source": []
  },
  {
   "cell_type": "code",
   "execution_count": 104,
   "id": "757c7d8a-4d96-48c7-9e4d-a118560add0c",
   "metadata": {
    "execution": {
     "iopub.execute_input": "2022-05-02T15:20:33.100033Z",
     "iopub.status.busy": "2022-05-02T15:20:33.099749Z",
     "iopub.status.idle": "2022-05-02T15:20:33.105766Z",
     "shell.execute_reply": "2022-05-02T15:20:33.104542Z",
     "shell.execute_reply.started": "2022-05-02T15:20:33.100010Z"
    },
    "tags": []
   },
   "outputs": [],
   "source": [
    "class NeuralNetwork(nn.Module):\n",
    "    def __init__(self, n):\n",
    "        super(NeuralNetwork, self).__init__()\n",
    "        self.linear_relu_stack = nn.Sequential(\n",
    "            nn.Linear(n, n//2),\n",
    "            nn.ReLU(),\n",
    "            # nn.Linear(n//2, n//4),\n",
    "            # nn.ReLU(),\n",
    "            # nn.Linear(n//4, 1),\n",
    "            nn.Linear(n//2, 1)\n",
    "        )\n",
    "\n",
    "    def forward(self, x):\n",
    "        pred = self.linear_relu_stack(x)\n",
    "        return pred"
   ]
  },
  {
   "cell_type": "code",
   "execution_count": 105,
   "id": "75b16913-737b-4f0f-a007-23609b01ab96",
   "metadata": {
    "execution": {
     "iopub.execute_input": "2022-05-02T15:20:34.000695Z",
     "iopub.status.busy": "2022-05-02T15:20:34.000421Z",
     "iopub.status.idle": "2022-05-02T15:53:28.960734Z",
     "shell.execute_reply": "2022-05-02T15:53:28.959465Z",
     "shell.execute_reply.started": "2022-05-02T15:20:34.000670Z"
    },
    "tags": []
   },
   "outputs": [
    {
     "name": "stderr",
     "output_type": "stream",
     "text": [
      "  2%|█▊                                                                            | 61/2687 [32:54<23:36:57, 32.38s/it]\n"
     ]
    },
    {
     "ename": "KeyboardInterrupt",
     "evalue": "",
     "output_type": "error",
     "traceback": [
      "\u001b[0;31m---------------------------------------------------------------------------\u001b[0m",
      "\u001b[0;31mKeyboardInterrupt\u001b[0m                         Traceback (most recent call last)",
      "Input \u001b[0;32mIn [105]\u001b[0m, in \u001b[0;36m<cell line: 8>\u001b[0;34m()\u001b[0m\n\u001b[1;32m      8\u001b[0m \u001b[38;5;28;01mfor\u001b[39;00m epoch \u001b[38;5;129;01min\u001b[39;00m \u001b[38;5;28mrange\u001b[39m(\u001b[38;5;241m2\u001b[39m):  \u001b[38;5;66;03m# loop over the dataset multiple times\u001b[39;00m\n\u001b[1;32m      9\u001b[0m     running_loss \u001b[38;5;241m=\u001b[39m \u001b[38;5;241m0.0\u001b[39m\n\u001b[0;32m---> 10\u001b[0m     \u001b[38;5;28;01mfor\u001b[39;00m i, data \u001b[38;5;129;01min\u001b[39;00m \u001b[38;5;28menumerate\u001b[39m(tqdm(train_dataloader)):\n\u001b[1;32m     11\u001b[0m         \u001b[38;5;66;03m# get the inputs; data is a list of [inputs, labels]\u001b[39;00m\n\u001b[1;32m     12\u001b[0m         inputs, Y \u001b[38;5;241m=\u001b[39m data\n\u001b[1;32m     14\u001b[0m         \u001b[38;5;66;03m# zero the parameter gradients\u001b[39;00m\n",
      "File \u001b[0;32m~/anaconda3/envs/aqf/lib/python3.8/site-packages/tqdm/std.py:1195\u001b[0m, in \u001b[0;36mtqdm.__iter__\u001b[0;34m(self)\u001b[0m\n\u001b[1;32m   1192\u001b[0m time \u001b[38;5;241m=\u001b[39m \u001b[38;5;28mself\u001b[39m\u001b[38;5;241m.\u001b[39m_time\n\u001b[1;32m   1194\u001b[0m \u001b[38;5;28;01mtry\u001b[39;00m:\n\u001b[0;32m-> 1195\u001b[0m     \u001b[38;5;28;01mfor\u001b[39;00m obj \u001b[38;5;129;01min\u001b[39;00m iterable:\n\u001b[1;32m   1196\u001b[0m         \u001b[38;5;28;01myield\u001b[39;00m obj\n\u001b[1;32m   1197\u001b[0m         \u001b[38;5;66;03m# Update and possibly print the progressbar.\u001b[39;00m\n\u001b[1;32m   1198\u001b[0m         \u001b[38;5;66;03m# Note: does not call self.update(1) for speed optimisation.\u001b[39;00m\n",
      "File \u001b[0;32m~/anaconda3/envs/aqf/lib/python3.8/site-packages/torch/utils/data/dataloader.py:530\u001b[0m, in \u001b[0;36m_BaseDataLoaderIter.__next__\u001b[0;34m(self)\u001b[0m\n\u001b[1;32m    528\u001b[0m \u001b[38;5;28;01mif\u001b[39;00m \u001b[38;5;28mself\u001b[39m\u001b[38;5;241m.\u001b[39m_sampler_iter \u001b[38;5;129;01mis\u001b[39;00m \u001b[38;5;28;01mNone\u001b[39;00m:\n\u001b[1;32m    529\u001b[0m     \u001b[38;5;28mself\u001b[39m\u001b[38;5;241m.\u001b[39m_reset()\n\u001b[0;32m--> 530\u001b[0m data \u001b[38;5;241m=\u001b[39m \u001b[38;5;28;43mself\u001b[39;49m\u001b[38;5;241;43m.\u001b[39;49m\u001b[43m_next_data\u001b[49m\u001b[43m(\u001b[49m\u001b[43m)\u001b[49m\n\u001b[1;32m    531\u001b[0m \u001b[38;5;28mself\u001b[39m\u001b[38;5;241m.\u001b[39m_num_yielded \u001b[38;5;241m+\u001b[39m\u001b[38;5;241m=\u001b[39m \u001b[38;5;241m1\u001b[39m\n\u001b[1;32m    532\u001b[0m \u001b[38;5;28;01mif\u001b[39;00m \u001b[38;5;28mself\u001b[39m\u001b[38;5;241m.\u001b[39m_dataset_kind \u001b[38;5;241m==\u001b[39m _DatasetKind\u001b[38;5;241m.\u001b[39mIterable \u001b[38;5;129;01mand\u001b[39;00m \\\n\u001b[1;32m    533\u001b[0m         \u001b[38;5;28mself\u001b[39m\u001b[38;5;241m.\u001b[39m_IterableDataset_len_called \u001b[38;5;129;01mis\u001b[39;00m \u001b[38;5;129;01mnot\u001b[39;00m \u001b[38;5;28;01mNone\u001b[39;00m \u001b[38;5;129;01mand\u001b[39;00m \\\n\u001b[1;32m    534\u001b[0m         \u001b[38;5;28mself\u001b[39m\u001b[38;5;241m.\u001b[39m_num_yielded \u001b[38;5;241m>\u001b[39m \u001b[38;5;28mself\u001b[39m\u001b[38;5;241m.\u001b[39m_IterableDataset_len_called:\n",
      "File \u001b[0;32m~/anaconda3/envs/aqf/lib/python3.8/site-packages/torch/utils/data/dataloader.py:570\u001b[0m, in \u001b[0;36m_SingleProcessDataLoaderIter._next_data\u001b[0;34m(self)\u001b[0m\n\u001b[1;32m    568\u001b[0m \u001b[38;5;28;01mdef\u001b[39;00m \u001b[38;5;21m_next_data\u001b[39m(\u001b[38;5;28mself\u001b[39m):\n\u001b[1;32m    569\u001b[0m     index \u001b[38;5;241m=\u001b[39m \u001b[38;5;28mself\u001b[39m\u001b[38;5;241m.\u001b[39m_next_index()  \u001b[38;5;66;03m# may raise StopIteration\u001b[39;00m\n\u001b[0;32m--> 570\u001b[0m     data \u001b[38;5;241m=\u001b[39m \u001b[38;5;28;43mself\u001b[39;49m\u001b[38;5;241;43m.\u001b[39;49m\u001b[43m_dataset_fetcher\u001b[49m\u001b[38;5;241;43m.\u001b[39;49m\u001b[43mfetch\u001b[49m\u001b[43m(\u001b[49m\u001b[43mindex\u001b[49m\u001b[43m)\u001b[49m  \u001b[38;5;66;03m# may raise StopIteration\u001b[39;00m\n\u001b[1;32m    571\u001b[0m     \u001b[38;5;28;01mif\u001b[39;00m \u001b[38;5;28mself\u001b[39m\u001b[38;5;241m.\u001b[39m_pin_memory:\n\u001b[1;32m    572\u001b[0m         data \u001b[38;5;241m=\u001b[39m _utils\u001b[38;5;241m.\u001b[39mpin_memory\u001b[38;5;241m.\u001b[39mpin_memory(data)\n",
      "File \u001b[0;32m~/anaconda3/envs/aqf/lib/python3.8/site-packages/torch/utils/data/_utils/fetch.py:49\u001b[0m, in \u001b[0;36m_MapDatasetFetcher.fetch\u001b[0;34m(self, possibly_batched_index)\u001b[0m\n\u001b[1;32m     47\u001b[0m \u001b[38;5;28;01mdef\u001b[39;00m \u001b[38;5;21mfetch\u001b[39m(\u001b[38;5;28mself\u001b[39m, possibly_batched_index):\n\u001b[1;32m     48\u001b[0m     \u001b[38;5;28;01mif\u001b[39;00m \u001b[38;5;28mself\u001b[39m\u001b[38;5;241m.\u001b[39mauto_collation:\n\u001b[0;32m---> 49\u001b[0m         data \u001b[38;5;241m=\u001b[39m [\u001b[38;5;28mself\u001b[39m\u001b[38;5;241m.\u001b[39mdataset[idx] \u001b[38;5;28;01mfor\u001b[39;00m idx \u001b[38;5;129;01min\u001b[39;00m possibly_batched_index]\n\u001b[1;32m     50\u001b[0m     \u001b[38;5;28;01melse\u001b[39;00m:\n\u001b[1;32m     51\u001b[0m         data \u001b[38;5;241m=\u001b[39m \u001b[38;5;28mself\u001b[39m\u001b[38;5;241m.\u001b[39mdataset[possibly_batched_index]\n",
      "File \u001b[0;32m~/anaconda3/envs/aqf/lib/python3.8/site-packages/torch/utils/data/_utils/fetch.py:49\u001b[0m, in \u001b[0;36m<listcomp>\u001b[0;34m(.0)\u001b[0m\n\u001b[1;32m     47\u001b[0m \u001b[38;5;28;01mdef\u001b[39;00m \u001b[38;5;21mfetch\u001b[39m(\u001b[38;5;28mself\u001b[39m, possibly_batched_index):\n\u001b[1;32m     48\u001b[0m     \u001b[38;5;28;01mif\u001b[39;00m \u001b[38;5;28mself\u001b[39m\u001b[38;5;241m.\u001b[39mauto_collation:\n\u001b[0;32m---> 49\u001b[0m         data \u001b[38;5;241m=\u001b[39m [\u001b[38;5;28;43mself\u001b[39;49m\u001b[38;5;241;43m.\u001b[39;49m\u001b[43mdataset\u001b[49m\u001b[43m[\u001b[49m\u001b[43midx\u001b[49m\u001b[43m]\u001b[49m \u001b[38;5;28;01mfor\u001b[39;00m idx \u001b[38;5;129;01min\u001b[39;00m possibly_batched_index]\n\u001b[1;32m     50\u001b[0m     \u001b[38;5;28;01melse\u001b[39;00m:\n\u001b[1;32m     51\u001b[0m         data \u001b[38;5;241m=\u001b[39m \u001b[38;5;28mself\u001b[39m\u001b[38;5;241m.\u001b[39mdataset[possibly_batched_index]\n",
      "Input \u001b[0;32mIn [88]\u001b[0m, in \u001b[0;36mCustomDataset.__getitem__\u001b[0;34m(self, idx)\u001b[0m\n\u001b[1;32m     10\u001b[0m \u001b[38;5;28;01mdef\u001b[39;00m \u001b[38;5;21m__getitem__\u001b[39m(\u001b[38;5;28mself\u001b[39m, idx):\n\u001b[0;32m---> 11\u001b[0m     x \u001b[38;5;241m=\u001b[39m torch\u001b[38;5;241m.\u001b[39mtensor(\u001b[38;5;28;43mself\u001b[39;49m\u001b[38;5;241;43m.\u001b[39;49m\u001b[43mdataset\u001b[49m\u001b[43m[\u001b[49m\u001b[38;5;28;43mself\u001b[39;49m\u001b[38;5;241;43m.\u001b[39;49m\u001b[43mused_characteristics\u001b[49m\u001b[43m]\u001b[49m\u001b[38;5;241;43m.\u001b[39;49m\u001b[43miloc\u001b[49m\u001b[43m[\u001b[49m\u001b[43midx\u001b[49m\u001b[43m]\u001b[49m\u001b[38;5;241;43m.\u001b[39;49m\u001b[43mastype\u001b[49m\u001b[43m(\u001b[49m\u001b[43mnp\u001b[49m\u001b[38;5;241;43m.\u001b[39;49m\u001b[43mfloat32\u001b[49m\u001b[43m)\u001b[49m)\n\u001b[1;32m     12\u001b[0m     y \u001b[38;5;241m=\u001b[39m \u001b[38;5;28mself\u001b[39m\u001b[38;5;241m.\u001b[39mdataset[\u001b[38;5;28mself\u001b[39m\u001b[38;5;241m.\u001b[39mpred]\u001b[38;5;241m.\u001b[39miloc[idx]\u001b[38;5;241m.\u001b[39mastype(np\u001b[38;5;241m.\u001b[39mfloat32)\n\u001b[1;32m     13\u001b[0m     \u001b[38;5;28;01mreturn\u001b[39;00m x, y\n",
      "\u001b[0;31mKeyboardInterrupt\u001b[0m: "
     ]
    }
   ],
   "source": [
    "train_dataloader = DataLoader(training_data_torch, batch_size=256, shuffle=True)\n",
    "test_dataloader = DataLoader(test_data_torch, batch_size=256, shuffle=True)\n",
    "\n",
    "net = NeuralNetwork(len(used_characteristics))\n",
    "criterion = nn.MSELoss()\n",
    "optimizer = optim.SGD(net.parameters(), lr=0.01)\n",
    "\n",
    "for epoch in range(2):  # loop over the dataset multiple times\n",
    "    running_loss = 0.0\n",
    "    for i, data in enumerate(tqdm(train_dataloader)):\n",
    "        # get the inputs; data is a list of [inputs, labels]\n",
    "        inputs, Y = data\n",
    "\n",
    "        # zero the parameter gradients\n",
    "        optimizer.zero_grad()\n",
    "\n",
    "        # forward + backward + optimize\n",
    "        outputs = net(inputs)\n",
    "        outputs = outputs.reshape(Y.shape)\n",
    "        loss = criterion(outputs, Y)\n",
    "        loss.backward()\n",
    "        optimizer.step()\n",
    "\n",
    "        # print statistics\n",
    "        running_loss += loss.item()\n",
    "        if i % 2000 == 1999:    # print every 2000 mini-batches\n",
    "            print(f'[{epoch + 1}, {i + 1:5d}] loss: {running_loss / 2000:.3f}')\n",
    "            running_loss = 0.0\n",
    "\n",
    "print('Finished Training')"
   ]
  },
  {
   "cell_type": "code",
   "execution_count": 97,
   "id": "45ccfe44-80a9-4f0f-b1e2-154be486b207",
   "metadata": {
    "execution": {
     "iopub.execute_input": "2022-05-02T15:05:15.451468Z",
     "iopub.status.busy": "2022-05-02T15:05:15.451230Z",
     "iopub.status.idle": "2022-05-02T15:05:15.456401Z",
     "shell.execute_reply": "2022-05-02T15:05:15.455753Z",
     "shell.execute_reply.started": "2022-05-02T15:05:15.451443Z"
    },
    "tags": []
   },
   "outputs": [
    {
     "data": {
      "text/plain": [
       "torch.Size([64])"
      ]
     },
     "execution_count": 97,
     "metadata": {},
     "output_type": "execute_result"
    }
   ],
   "source": []
  },
  {
   "cell_type": "code",
   "execution_count": null,
   "id": "48c2991e-5943-4012-be3b-906d66410651",
   "metadata": {},
   "outputs": [],
   "source": []
  },
  {
   "cell_type": "code",
   "execution_count": 35,
   "id": "f9ad4c27-68b1-49df-9362-39fc036b0ca9",
   "metadata": {
    "collapsed": true,
    "execution": {
     "iopub.execute_input": "2022-05-02T14:20:30.047978Z",
     "iopub.status.busy": "2022-05-02T14:20:30.047764Z",
     "iopub.status.idle": "2022-05-02T14:20:30.544401Z",
     "shell.execute_reply": "2022-05-02T14:20:30.543407Z",
     "shell.execute_reply.started": "2022-05-02T14:20:30.047958Z"
    },
    "jupyter": {
     "outputs_hidden": true
    },
    "tags": []
   },
   "outputs": [
    {
     "ename": "TypeError",
     "evalue": "conv2d() received an invalid combination of arguments - got (method, Parameter, Parameter, tuple, tuple, tuple, int), but expected one of:\n * (Tensor input, Tensor weight, Tensor bias, tuple of ints stride, tuple of ints padding, tuple of ints dilation, int groups)\n      didn't match because some of the arguments have invalid types: (!method!, !Parameter!, !Parameter!, !tuple!, !tuple!, !tuple!, int)\n * (Tensor input, Tensor weight, Tensor bias, tuple of ints stride, str padding, tuple of ints dilation, int groups)\n      didn't match because some of the arguments have invalid types: (!method!, !Parameter!, !Parameter!, !tuple!, !tuple!, !tuple!, int)\n",
     "output_type": "error",
     "traceback": [
      "\u001b[0;31m---------------------------------------------------------------------------\u001b[0m",
      "\u001b[0;31mTypeError\u001b[0m                                 Traceback (most recent call last)",
      "Input \u001b[0;32mIn [35]\u001b[0m, in \u001b[0;36m<cell line: 1>\u001b[0;34m()\u001b[0m\n\u001b[0;32m----> 1\u001b[0m output \u001b[38;5;241m=\u001b[39m \u001b[43mnet\u001b[49m\u001b[43m(\u001b[49m\u001b[38;5;28;43minput\u001b[39;49m\u001b[43m)\u001b[49m\n\u001b[1;32m      2\u001b[0m target \u001b[38;5;241m=\u001b[39m torch\u001b[38;5;241m.\u001b[39mrandn(\u001b[38;5;241m10\u001b[39m)  \u001b[38;5;66;03m# a dummy target, for example\u001b[39;00m\n\u001b[1;32m      3\u001b[0m target \u001b[38;5;241m=\u001b[39m target\u001b[38;5;241m.\u001b[39mview(\u001b[38;5;241m1\u001b[39m, \u001b[38;5;241m-\u001b[39m\u001b[38;5;241m1\u001b[39m)  \u001b[38;5;66;03m# make it the same shape as output\u001b[39;00m\n",
      "File \u001b[0;32m~/anaconda3/envs/aqf/lib/python3.8/site-packages/torch/nn/modules/module.py:1110\u001b[0m, in \u001b[0;36mModule._call_impl\u001b[0;34m(self, *input, **kwargs)\u001b[0m\n\u001b[1;32m   1106\u001b[0m \u001b[38;5;66;03m# If we don't have any hooks, we want to skip the rest of the logic in\u001b[39;00m\n\u001b[1;32m   1107\u001b[0m \u001b[38;5;66;03m# this function, and just call forward.\u001b[39;00m\n\u001b[1;32m   1108\u001b[0m \u001b[38;5;28;01mif\u001b[39;00m \u001b[38;5;129;01mnot\u001b[39;00m (\u001b[38;5;28mself\u001b[39m\u001b[38;5;241m.\u001b[39m_backward_hooks \u001b[38;5;129;01mor\u001b[39;00m \u001b[38;5;28mself\u001b[39m\u001b[38;5;241m.\u001b[39m_forward_hooks \u001b[38;5;129;01mor\u001b[39;00m \u001b[38;5;28mself\u001b[39m\u001b[38;5;241m.\u001b[39m_forward_pre_hooks \u001b[38;5;129;01mor\u001b[39;00m _global_backward_hooks\n\u001b[1;32m   1109\u001b[0m         \u001b[38;5;129;01mor\u001b[39;00m _global_forward_hooks \u001b[38;5;129;01mor\u001b[39;00m _global_forward_pre_hooks):\n\u001b[0;32m-> 1110\u001b[0m     \u001b[38;5;28;01mreturn\u001b[39;00m \u001b[43mforward_call\u001b[49m\u001b[43m(\u001b[49m\u001b[38;5;241;43m*\u001b[39;49m\u001b[38;5;28;43minput\u001b[39;49m\u001b[43m,\u001b[49m\u001b[43m \u001b[49m\u001b[38;5;241;43m*\u001b[39;49m\u001b[38;5;241;43m*\u001b[39;49m\u001b[43mkwargs\u001b[49m\u001b[43m)\u001b[49m\n\u001b[1;32m   1111\u001b[0m \u001b[38;5;66;03m# Do not call functions when jit is used\u001b[39;00m\n\u001b[1;32m   1112\u001b[0m full_backward_hooks, non_full_backward_hooks \u001b[38;5;241m=\u001b[39m [], []\n",
      "Input \u001b[0;32mIn [34]\u001b[0m, in \u001b[0;36mNet.forward\u001b[0;34m(self, x)\u001b[0m\n\u001b[1;32m     19\u001b[0m \u001b[38;5;28;01mdef\u001b[39;00m \u001b[38;5;21mforward\u001b[39m(\u001b[38;5;28mself\u001b[39m, x):\n\u001b[1;32m     20\u001b[0m     \u001b[38;5;66;03m# Max pooling over a (2, 2) window\u001b[39;00m\n\u001b[0;32m---> 21\u001b[0m     x \u001b[38;5;241m=\u001b[39m F\u001b[38;5;241m.\u001b[39mmax_pool2d(F\u001b[38;5;241m.\u001b[39mrelu(\u001b[38;5;28;43mself\u001b[39;49m\u001b[38;5;241;43m.\u001b[39;49m\u001b[43mconv1\u001b[49m\u001b[43m(\u001b[49m\u001b[43mx\u001b[49m\u001b[43m)\u001b[49m), (\u001b[38;5;241m2\u001b[39m, \u001b[38;5;241m2\u001b[39m))\n\u001b[1;32m     22\u001b[0m     \u001b[38;5;66;03m# If the size is a square, you can specify with a single number\u001b[39;00m\n\u001b[1;32m     23\u001b[0m     x \u001b[38;5;241m=\u001b[39m F\u001b[38;5;241m.\u001b[39mmax_pool2d(F\u001b[38;5;241m.\u001b[39mrelu(\u001b[38;5;28mself\u001b[39m\u001b[38;5;241m.\u001b[39mconv2(x)), \u001b[38;5;241m2\u001b[39m)\n",
      "File \u001b[0;32m~/anaconda3/envs/aqf/lib/python3.8/site-packages/torch/nn/modules/module.py:1110\u001b[0m, in \u001b[0;36mModule._call_impl\u001b[0;34m(self, *input, **kwargs)\u001b[0m\n\u001b[1;32m   1106\u001b[0m \u001b[38;5;66;03m# If we don't have any hooks, we want to skip the rest of the logic in\u001b[39;00m\n\u001b[1;32m   1107\u001b[0m \u001b[38;5;66;03m# this function, and just call forward.\u001b[39;00m\n\u001b[1;32m   1108\u001b[0m \u001b[38;5;28;01mif\u001b[39;00m \u001b[38;5;129;01mnot\u001b[39;00m (\u001b[38;5;28mself\u001b[39m\u001b[38;5;241m.\u001b[39m_backward_hooks \u001b[38;5;129;01mor\u001b[39;00m \u001b[38;5;28mself\u001b[39m\u001b[38;5;241m.\u001b[39m_forward_hooks \u001b[38;5;129;01mor\u001b[39;00m \u001b[38;5;28mself\u001b[39m\u001b[38;5;241m.\u001b[39m_forward_pre_hooks \u001b[38;5;129;01mor\u001b[39;00m _global_backward_hooks\n\u001b[1;32m   1109\u001b[0m         \u001b[38;5;129;01mor\u001b[39;00m _global_forward_hooks \u001b[38;5;129;01mor\u001b[39;00m _global_forward_pre_hooks):\n\u001b[0;32m-> 1110\u001b[0m     \u001b[38;5;28;01mreturn\u001b[39;00m \u001b[43mforward_call\u001b[49m\u001b[43m(\u001b[49m\u001b[38;5;241;43m*\u001b[39;49m\u001b[38;5;28;43minput\u001b[39;49m\u001b[43m,\u001b[49m\u001b[43m \u001b[49m\u001b[38;5;241;43m*\u001b[39;49m\u001b[38;5;241;43m*\u001b[39;49m\u001b[43mkwargs\u001b[49m\u001b[43m)\u001b[49m\n\u001b[1;32m   1111\u001b[0m \u001b[38;5;66;03m# Do not call functions when jit is used\u001b[39;00m\n\u001b[1;32m   1112\u001b[0m full_backward_hooks, non_full_backward_hooks \u001b[38;5;241m=\u001b[39m [], []\n",
      "File \u001b[0;32m~/anaconda3/envs/aqf/lib/python3.8/site-packages/torch/nn/modules/conv.py:447\u001b[0m, in \u001b[0;36mConv2d.forward\u001b[0;34m(self, input)\u001b[0m\n\u001b[1;32m    446\u001b[0m \u001b[38;5;28;01mdef\u001b[39;00m \u001b[38;5;21mforward\u001b[39m(\u001b[38;5;28mself\u001b[39m, \u001b[38;5;28minput\u001b[39m: Tensor) \u001b[38;5;241m-\u001b[39m\u001b[38;5;241m>\u001b[39m Tensor:\n\u001b[0;32m--> 447\u001b[0m     \u001b[38;5;28;01mreturn\u001b[39;00m \u001b[38;5;28;43mself\u001b[39;49m\u001b[38;5;241;43m.\u001b[39;49m\u001b[43m_conv_forward\u001b[49m\u001b[43m(\u001b[49m\u001b[38;5;28;43minput\u001b[39;49m\u001b[43m,\u001b[49m\u001b[43m \u001b[49m\u001b[38;5;28;43mself\u001b[39;49m\u001b[38;5;241;43m.\u001b[39;49m\u001b[43mweight\u001b[49m\u001b[43m,\u001b[49m\u001b[43m \u001b[49m\u001b[38;5;28;43mself\u001b[39;49m\u001b[38;5;241;43m.\u001b[39;49m\u001b[43mbias\u001b[49m\u001b[43m)\u001b[49m\n",
      "File \u001b[0;32m~/anaconda3/envs/aqf/lib/python3.8/site-packages/torch/nn/modules/conv.py:443\u001b[0m, in \u001b[0;36mConv2d._conv_forward\u001b[0;34m(self, input, weight, bias)\u001b[0m\n\u001b[1;32m    439\u001b[0m \u001b[38;5;28;01mif\u001b[39;00m \u001b[38;5;28mself\u001b[39m\u001b[38;5;241m.\u001b[39mpadding_mode \u001b[38;5;241m!=\u001b[39m \u001b[38;5;124m'\u001b[39m\u001b[38;5;124mzeros\u001b[39m\u001b[38;5;124m'\u001b[39m:\n\u001b[1;32m    440\u001b[0m     \u001b[38;5;28;01mreturn\u001b[39;00m F\u001b[38;5;241m.\u001b[39mconv2d(F\u001b[38;5;241m.\u001b[39mpad(\u001b[38;5;28minput\u001b[39m, \u001b[38;5;28mself\u001b[39m\u001b[38;5;241m.\u001b[39m_reversed_padding_repeated_twice, mode\u001b[38;5;241m=\u001b[39m\u001b[38;5;28mself\u001b[39m\u001b[38;5;241m.\u001b[39mpadding_mode),\n\u001b[1;32m    441\u001b[0m                     weight, bias, \u001b[38;5;28mself\u001b[39m\u001b[38;5;241m.\u001b[39mstride,\n\u001b[1;32m    442\u001b[0m                     _pair(\u001b[38;5;241m0\u001b[39m), \u001b[38;5;28mself\u001b[39m\u001b[38;5;241m.\u001b[39mdilation, \u001b[38;5;28mself\u001b[39m\u001b[38;5;241m.\u001b[39mgroups)\n\u001b[0;32m--> 443\u001b[0m \u001b[38;5;28;01mreturn\u001b[39;00m \u001b[43mF\u001b[49m\u001b[38;5;241;43m.\u001b[39;49m\u001b[43mconv2d\u001b[49m\u001b[43m(\u001b[49m\u001b[38;5;28;43minput\u001b[39;49m\u001b[43m,\u001b[49m\u001b[43m \u001b[49m\u001b[43mweight\u001b[49m\u001b[43m,\u001b[49m\u001b[43m \u001b[49m\u001b[43mbias\u001b[49m\u001b[43m,\u001b[49m\u001b[43m \u001b[49m\u001b[38;5;28;43mself\u001b[39;49m\u001b[38;5;241;43m.\u001b[39;49m\u001b[43mstride\u001b[49m\u001b[43m,\u001b[49m\n\u001b[1;32m    444\u001b[0m \u001b[43m                \u001b[49m\u001b[38;5;28;43mself\u001b[39;49m\u001b[38;5;241;43m.\u001b[39;49m\u001b[43mpadding\u001b[49m\u001b[43m,\u001b[49m\u001b[43m \u001b[49m\u001b[38;5;28;43mself\u001b[39;49m\u001b[38;5;241;43m.\u001b[39;49m\u001b[43mdilation\u001b[49m\u001b[43m,\u001b[49m\u001b[43m \u001b[49m\u001b[38;5;28;43mself\u001b[39;49m\u001b[38;5;241;43m.\u001b[39;49m\u001b[43mgroups\u001b[49m\u001b[43m)\u001b[49m\n",
      "\u001b[0;31mTypeError\u001b[0m: conv2d() received an invalid combination of arguments - got (method, Parameter, Parameter, tuple, tuple, tuple, int), but expected one of:\n * (Tensor input, Tensor weight, Tensor bias, tuple of ints stride, tuple of ints padding, tuple of ints dilation, int groups)\n      didn't match because some of the arguments have invalid types: (!method!, !Parameter!, !Parameter!, !tuple!, !tuple!, !tuple!, int)\n * (Tensor input, Tensor weight, Tensor bias, tuple of ints stride, str padding, tuple of ints dilation, int groups)\n      didn't match because some of the arguments have invalid types: (!method!, !Parameter!, !Parameter!, !tuple!, !tuple!, !tuple!, int)\n"
     ]
    }
   ],
   "source": [
    "output = net(input)\n",
    "target = torch.randn(10)  # a dummy target, for example\n",
    "target = target.view(1, -1)  # make it the same shape as output\n",
    "criterion = nn.MSELoss()\n",
    "\n",
    "loss = criterion(output, target)\n",
    "print(loss)"
   ]
  },
  {
   "cell_type": "code",
   "execution_count": null,
   "id": "485659c1-db7c-4e4b-9968-9aeeab33bf70",
   "metadata": {},
   "outputs": [],
   "source": [
    "import torch.optim as optim\n",
    "\n",
    "# create your optimizer\n",
    "optimizer = optim.SGD(net.parameters(), lr=0.01)\n",
    "\n",
    "# in your training loop:\n",
    "optimizer.zero_grad()   # zero the gradient buffers\n",
    "output = net(input)\n",
    "loss = criterion(output, target)\n",
    "loss.backward()\n",
    "optimizer.step()    # Does the update"
   ]
  },
  {
   "cell_type": "code",
   "execution_count": null,
   "id": "3a0d3f7a-4e6a-4cfe-87b1-1ea22aed2794",
   "metadata": {},
   "outputs": [],
   "source": []
  },
  {
   "cell_type": "code",
   "execution_count": null,
   "id": "c1c26e28-6674-48b4-9de3-6ca168e98580",
   "metadata": {},
   "outputs": [],
   "source": []
  },
  {
   "cell_type": "markdown",
   "id": "62f47601-8f56-44e4-a57e-608765260ff2",
   "metadata": {
    "tags": []
   },
   "source": [
    "## Backtesting\n",
    "\n",
    "Since the $R^2$ is not very inspiring (in finance, the data is so noisy to get a good $R^2$ score), \n",
    "we want to do a backtesting based on our trained ML model. Using the so called long-short portfolio trading strategy. \n",
    "\n",
    "\n",
    "The trading strategy is defined as follows: \n",
    "1. On current month, predict next month's option return\n",
    "2. Rank the option return \n",
    "3. Long the top 10, short the tail 10 (long/short the corresponding delta hedging portfolio)\n"
   ]
  },
  {
   "cell_type": "code",
   "execution_count": null,
   "id": "7a0b0cdc-e15c-430a-a413-bc0c4ce0b11b",
   "metadata": {},
   "outputs": [],
   "source": [
    "import matplotlib.py"
   ]
  },
  {
   "cell_type": "code",
   "execution_count": 115,
   "id": "cc443ef7-ebad-49b0-8557-2efc83697193",
   "metadata": {
    "execution": {
     "iopub.execute_input": "2022-05-03T19:16:48.091202Z",
     "iopub.status.busy": "2022-05-03T19:16:48.090988Z",
     "iopub.status.idle": "2022-05-03T19:16:48.097639Z",
     "shell.execute_reply": "2022-05-03T19:16:48.096860Z",
     "shell.execute_reply.started": "2022-05-03T19:16:48.091178Z"
    },
    "tags": []
   },
   "outputs": [],
   "source": [
    "def backtesting(test_data, regressor):\n",
    "    dates = sorted(list(set(test_data.date)))\n",
    "    hedge_from_gains = []\n",
    "    for i in range(len(dates)):\n",
    "        df = test_data[test_data.date == dates[i]]\n",
    "        df = pd.DataFrame(\n",
    "            {\n",
    "                \"secid\": df.secid_x,\n",
    "                \"adj_spot\": df.adj_spot,\n",
    "                \"strike_price\": df.strike_price,\n",
    "                \"delta\": df.delta_x,\n",
    "                \"mid_price\": df.mid_price,\n",
    "                \"option_ret_real\": df.option_ret,\n",
    "                \"option_ret_pred\": regressor.predict(df[used_characteristics])\n",
    "            }\n",
    "        )\n",
    "        df[\"hedge_cost\"] = df[\"mid_price\"] - df[\"adj_spot\"] * df[\"delta\"]\n",
    "        df[\"hedge_gain\"] = abs(df[\"hedge_cost\"]) * df[\"option_ret_real\"]\n",
    "        \n",
    "        long_portfolio = df.sort_values(by=\"option_ret_pred\").head(10)\n",
    "        short_portfolio = df.sort_values(by=\"option_ret_pred\").tail(10)\n",
    "        short_portfolio.hedge_cost = - short_portfolio.hedge_cost\n",
    "        hedge_from_gain = (sum(long_portfolio[\"hedge_cost\"]) + sum(short_portfolio[\"hedge_cost\"]) \n",
    "            + sum(long_portfolio[\"hedge_gain\"]) + sum(short_portfolio[\"hedge_gain\"]))\n",
    "        hedge_from_gains.append(hedge_from_gain)\n",
    "    return dates, hedge_from_gains\n",
    "    "
   ]
  },
  {
   "cell_type": "code",
   "execution_count": 116,
   "id": "835af806-6765-4d5c-94a9-1967b9ecafad",
   "metadata": {
    "execution": {
     "iopub.execute_input": "2022-05-03T19:16:48.843593Z",
     "iopub.status.busy": "2022-05-03T19:16:48.843343Z",
     "iopub.status.idle": "2022-05-03T19:16:48.849417Z",
     "shell.execute_reply": "2022-05-03T19:16:48.848402Z",
     "shell.execute_reply.started": "2022-05-03T19:16:48.843566Z"
    },
    "tags": []
   },
   "outputs": [
    {
     "data": {
      "text/plain": [
       "Index(['Unnamed: 0', 'secid_x', 'permno', 'date', 'exdate_x', 'optionid',\n",
       "       'bucket_class', 'C', 'P', 'expiration_month',\n",
       "       ...\n",
       "       'theta_y', 'cfadj', 'days_no_trading', 'days_to_exp', 'forwardprice',\n",
       "       'spotprice', 'adj_spot', 'ir_rate', 'mid_price', 'option_ret'],\n",
       "      dtype='object', length=277)"
      ]
     },
     "execution_count": 116,
     "metadata": {},
     "output_type": "execute_result"
    }
   ],
   "source": [
    "test_data.columns"
   ]
  },
  {
   "cell_type": "code",
   "execution_count": 149,
   "id": "c3aec06f-0fff-4c02-b245-1331154f5197",
   "metadata": {
    "execution": {
     "iopub.execute_input": "2022-05-03T19:32:05.451288Z",
     "iopub.status.busy": "2022-05-03T19:32:05.451073Z",
     "iopub.status.idle": "2022-05-03T19:32:06.238240Z",
     "shell.execute_reply": "2022-05-03T19:32:06.237699Z",
     "shell.execute_reply.started": "2022-05-03T19:32:05.451266Z"
    },
    "tags": []
   },
   "outputs": [
    {
     "data": {
      "text/plain": [
       "[<matplotlib.lines.Line2D at 0x7f8a0737eac0>]"
      ]
     },
     "execution_count": 149,
     "metadata": {},
     "output_type": "execute_result"
    },
    {
     "data": {
      "image/png": "[encoded data removed]",
      "text/plain": [
       "<Figure size 432x288 with 1 Axes>"
      ]
     },
     "metadata": {
      "needs_background": "light"
     },
     "output_type": "display_data"
    }
   ],
   "source": [
    "dates, hedge_from_gains = backtesting(test_data, lasso_reg)\n",
    "plt.plot(dates, hedge_from_gains)"
   ]
  },
  {
   "cell_type": "code",
   "execution_count": 150,
   "id": "36f616af-81d6-4edd-8d70-d5bb8a67566c",
   "metadata": {
    "execution": {
     "iopub.execute_input": "2022-05-03T19:32:08.442575Z",
     "iopub.status.busy": "2022-05-03T19:32:08.442249Z",
     "iopub.status.idle": "2022-05-03T19:32:11.822642Z",
     "shell.execute_reply": "2022-05-03T19:32:11.822090Z",
     "shell.execute_reply.started": "2022-05-03T19:32:08.442553Z"
    },
    "tags": []
   },
   "outputs": [
    {
     "data": {
      "text/plain": [
       "[<matplotlib.lines.Line2D at 0x7f8a07538a90>]"
      ]
     },
     "execution_count": 150,
     "metadata": {},
     "output_type": "execute_result"
    },
    {
     "data": {
      "image/png": "[encoded data removed]",
      "text/plain": [
       "<Figure size 432x288 with 1 Axes>"
      ]
     },
     "metadata": {
      "needs_background": "light"
     },
     "output_type": "display_data"
    }
   ],
   "source": [
    "dates, hedge_from_gains = backtesting(test_data, ridge_reg)\n",
    "plt.plot(dates, hedge_from_gains)"
   ]
  },
  {
   "cell_type": "code",
   "execution_count": 151,
   "id": "248832f5-2677-46b0-8c34-73ed1baf804e",
   "metadata": {
    "execution": {
     "iopub.execute_input": "2022-05-03T19:32:16.279832Z",
     "iopub.status.busy": "2022-05-03T19:32:16.279573Z",
     "iopub.status.idle": "2022-05-03T19:32:16.648070Z",
     "shell.execute_reply": "2022-05-03T19:32:16.647086Z",
     "shell.execute_reply.started": "2022-05-03T19:32:16.279793Z"
    },
    "tags": []
   },
   "outputs": [
    {
     "name": "stderr",
     "output_type": "stream",
     "text": [
      "/Users/zhangjin/anaconda3/envs/aqf/lib/python3.8/site-packages/sklearn/base.py:493: FutureWarning: The feature names should match those that were passed during fit. Starting version 1.2, an error will be raised.\n",
      "Feature names seen at fit time, yet now missing:\n",
      "- AOP\n",
      "- AccrualsBM\n",
      "- Activism1\n",
      "- Activism2\n",
      "- AdExp\n",
      "- ...\n",
      "\n",
      "  warnings.warn(message, FutureWarning)\n"
     ]
    },
    {
     "ename": "ValueError",
     "evalue": "X has 194 features, but GradientBoostingRegressor is expecting 262 features as input.",
     "output_type": "error",
     "traceback": [
      "\u001b[0;31m---------------------------------------------------------------------------\u001b[0m",
      "\u001b[0;31mValueError\u001b[0m                                Traceback (most recent call last)",
      "Input \u001b[0;32mIn [151]\u001b[0m, in \u001b[0;36m<cell line: 1>\u001b[0;34m()\u001b[0m\n\u001b[0;32m----> 1\u001b[0m dates, hedge_from_gains \u001b[38;5;241m=\u001b[39m \u001b[43mbacktesting\u001b[49m\u001b[43m(\u001b[49m\u001b[43mtest_data\u001b[49m\u001b[43m,\u001b[49m\u001b[43m \u001b[49m\u001b[43mgbr_reg\u001b[49m\u001b[43m)\u001b[49m\n\u001b[1;32m      2\u001b[0m plt\u001b[38;5;241m.\u001b[39mplot(dates, hedge_from_gains)\n",
      "Input \u001b[0;32mIn [115]\u001b[0m, in \u001b[0;36mbacktesting\u001b[0;34m(test_data, regressor)\u001b[0m\n\u001b[1;32m      4\u001b[0m \u001b[38;5;28;01mfor\u001b[39;00m i \u001b[38;5;129;01min\u001b[39;00m \u001b[38;5;28mrange\u001b[39m(\u001b[38;5;28mlen\u001b[39m(dates)):\n\u001b[1;32m      5\u001b[0m     df \u001b[38;5;241m=\u001b[39m test_data[test_data\u001b[38;5;241m.\u001b[39mdate \u001b[38;5;241m==\u001b[39m dates[i]]\n\u001b[1;32m      6\u001b[0m     df \u001b[38;5;241m=\u001b[39m pd\u001b[38;5;241m.\u001b[39mDataFrame(\n\u001b[1;32m      7\u001b[0m         {\n\u001b[1;32m      8\u001b[0m             \u001b[38;5;124m\"\u001b[39m\u001b[38;5;124msecid\u001b[39m\u001b[38;5;124m\"\u001b[39m: df\u001b[38;5;241m.\u001b[39msecid_x,\n\u001b[1;32m      9\u001b[0m             \u001b[38;5;124m\"\u001b[39m\u001b[38;5;124madj_spot\u001b[39m\u001b[38;5;124m\"\u001b[39m: df\u001b[38;5;241m.\u001b[39madj_spot,\n\u001b[1;32m     10\u001b[0m             \u001b[38;5;124m\"\u001b[39m\u001b[38;5;124mstrike_price\u001b[39m\u001b[38;5;124m\"\u001b[39m: df\u001b[38;5;241m.\u001b[39mstrike_price,\n\u001b[1;32m     11\u001b[0m             \u001b[38;5;124m\"\u001b[39m\u001b[38;5;124mdelta\u001b[39m\u001b[38;5;124m\"\u001b[39m: df\u001b[38;5;241m.\u001b[39mdelta_x,\n\u001b[1;32m     12\u001b[0m             \u001b[38;5;124m\"\u001b[39m\u001b[38;5;124mmid_price\u001b[39m\u001b[38;5;124m\"\u001b[39m: df\u001b[38;5;241m.\u001b[39mmid_price,\n\u001b[1;32m     13\u001b[0m             \u001b[38;5;124m\"\u001b[39m\u001b[38;5;124moption_ret_real\u001b[39m\u001b[38;5;124m\"\u001b[39m: df\u001b[38;5;241m.\u001b[39moption_ret,\n\u001b[0;32m---> 14\u001b[0m             \u001b[38;5;124m\"\u001b[39m\u001b[38;5;124moption_ret_pred\u001b[39m\u001b[38;5;124m\"\u001b[39m: \u001b[43mregressor\u001b[49m\u001b[38;5;241;43m.\u001b[39;49m\u001b[43mpredict\u001b[49m\u001b[43m(\u001b[49m\u001b[43mdf\u001b[49m\u001b[43m[\u001b[49m\u001b[43mused_characteristics\u001b[49m\u001b[43m]\u001b[49m\u001b[43m)\u001b[49m\n\u001b[1;32m     15\u001b[0m         }\n\u001b[1;32m     16\u001b[0m     )\n\u001b[1;32m     17\u001b[0m     df[\u001b[38;5;124m\"\u001b[39m\u001b[38;5;124mhedge_cost\u001b[39m\u001b[38;5;124m\"\u001b[39m] \u001b[38;5;241m=\u001b[39m df[\u001b[38;5;124m\"\u001b[39m\u001b[38;5;124mmid_price\u001b[39m\u001b[38;5;124m\"\u001b[39m] \u001b[38;5;241m-\u001b[39m df[\u001b[38;5;124m\"\u001b[39m\u001b[38;5;124madj_spot\u001b[39m\u001b[38;5;124m\"\u001b[39m] \u001b[38;5;241m*\u001b[39m df[\u001b[38;5;124m\"\u001b[39m\u001b[38;5;124mdelta\u001b[39m\u001b[38;5;124m\"\u001b[39m]\n\u001b[1;32m     18\u001b[0m     df[\u001b[38;5;124m\"\u001b[39m\u001b[38;5;124mhedge_gain\u001b[39m\u001b[38;5;124m\"\u001b[39m] \u001b[38;5;241m=\u001b[39m \u001b[38;5;28mabs\u001b[39m(df[\u001b[38;5;124m\"\u001b[39m\u001b[38;5;124mhedge_cost\u001b[39m\u001b[38;5;124m\"\u001b[39m]) \u001b[38;5;241m*\u001b[39m df[\u001b[38;5;124m\"\u001b[39m\u001b[38;5;124moption_ret_real\u001b[39m\u001b[38;5;124m\"\u001b[39m] \n",
      "File \u001b[0;32m~/anaconda3/envs/aqf/lib/python3.8/site-packages/sklearn/ensemble/_gb.py:1877\u001b[0m, in \u001b[0;36mGradientBoostingRegressor.predict\u001b[0;34m(self, X)\u001b[0m\n\u001b[1;32m   1862\u001b[0m \u001b[38;5;28;01mdef\u001b[39;00m \u001b[38;5;21mpredict\u001b[39m(\u001b[38;5;28mself\u001b[39m, X):\n\u001b[1;32m   1863\u001b[0m     \u001b[38;5;124;03m\"\"\"Predict regression target for X.\u001b[39;00m\n\u001b[1;32m   1864\u001b[0m \n\u001b[1;32m   1865\u001b[0m \u001b[38;5;124;03m    Parameters\u001b[39;00m\n\u001b[0;32m   (...)\u001b[0m\n\u001b[1;32m   1875\u001b[0m \u001b[38;5;124;03m        The predicted values.\u001b[39;00m\n\u001b[1;32m   1876\u001b[0m \u001b[38;5;124;03m    \"\"\"\u001b[39;00m\n\u001b[0;32m-> 1877\u001b[0m     X \u001b[38;5;241m=\u001b[39m \u001b[38;5;28;43mself\u001b[39;49m\u001b[38;5;241;43m.\u001b[39;49m\u001b[43m_validate_data\u001b[49m\u001b[43m(\u001b[49m\n\u001b[1;32m   1878\u001b[0m \u001b[43m        \u001b[49m\u001b[43mX\u001b[49m\u001b[43m,\u001b[49m\u001b[43m \u001b[49m\u001b[43mdtype\u001b[49m\u001b[38;5;241;43m=\u001b[39;49m\u001b[43mDTYPE\u001b[49m\u001b[43m,\u001b[49m\u001b[43m \u001b[49m\u001b[43morder\u001b[49m\u001b[38;5;241;43m=\u001b[39;49m\u001b[38;5;124;43m\"\u001b[39;49m\u001b[38;5;124;43mC\u001b[39;49m\u001b[38;5;124;43m\"\u001b[39;49m\u001b[43m,\u001b[49m\u001b[43m \u001b[49m\u001b[43maccept_sparse\u001b[49m\u001b[38;5;241;43m=\u001b[39;49m\u001b[38;5;124;43m\"\u001b[39;49m\u001b[38;5;124;43mcsr\u001b[39;49m\u001b[38;5;124;43m\"\u001b[39;49m\u001b[43m,\u001b[49m\u001b[43m \u001b[49m\u001b[43mreset\u001b[49m\u001b[38;5;241;43m=\u001b[39;49m\u001b[38;5;28;43;01mFalse\u001b[39;49;00m\n\u001b[1;32m   1879\u001b[0m \u001b[43m    \u001b[49m\u001b[43m)\u001b[49m\n\u001b[1;32m   1880\u001b[0m     \u001b[38;5;66;03m# In regression we can directly return the raw value from the trees.\u001b[39;00m\n\u001b[1;32m   1881\u001b[0m     \u001b[38;5;28;01mreturn\u001b[39;00m \u001b[38;5;28mself\u001b[39m\u001b[38;5;241m.\u001b[39m_raw_predict(X)\u001b[38;5;241m.\u001b[39mravel()\n",
      "File \u001b[0;32m~/anaconda3/envs/aqf/lib/python3.8/site-packages/sklearn/base.py:585\u001b[0m, in \u001b[0;36mBaseEstimator._validate_data\u001b[0;34m(self, X, y, reset, validate_separately, **check_params)\u001b[0m\n\u001b[1;32m    582\u001b[0m     out \u001b[38;5;241m=\u001b[39m X, y\n\u001b[1;32m    584\u001b[0m \u001b[38;5;28;01mif\u001b[39;00m \u001b[38;5;129;01mnot\u001b[39;00m no_val_X \u001b[38;5;129;01mand\u001b[39;00m check_params\u001b[38;5;241m.\u001b[39mget(\u001b[38;5;124m\"\u001b[39m\u001b[38;5;124mensure_2d\u001b[39m\u001b[38;5;124m\"\u001b[39m, \u001b[38;5;28;01mTrue\u001b[39;00m):\n\u001b[0;32m--> 585\u001b[0m     \u001b[38;5;28;43mself\u001b[39;49m\u001b[38;5;241;43m.\u001b[39;49m\u001b[43m_check_n_features\u001b[49m\u001b[43m(\u001b[49m\u001b[43mX\u001b[49m\u001b[43m,\u001b[49m\u001b[43m \u001b[49m\u001b[43mreset\u001b[49m\u001b[38;5;241;43m=\u001b[39;49m\u001b[43mreset\u001b[49m\u001b[43m)\u001b[49m\n\u001b[1;32m    587\u001b[0m \u001b[38;5;28;01mreturn\u001b[39;00m out\n",
      "File \u001b[0;32m~/anaconda3/envs/aqf/lib/python3.8/site-packages/sklearn/base.py:400\u001b[0m, in \u001b[0;36mBaseEstimator._check_n_features\u001b[0;34m(self, X, reset)\u001b[0m\n\u001b[1;32m    397\u001b[0m     \u001b[38;5;28;01mreturn\u001b[39;00m\n\u001b[1;32m    399\u001b[0m \u001b[38;5;28;01mif\u001b[39;00m n_features \u001b[38;5;241m!=\u001b[39m \u001b[38;5;28mself\u001b[39m\u001b[38;5;241m.\u001b[39mn_features_in_:\n\u001b[0;32m--> 400\u001b[0m     \u001b[38;5;28;01mraise\u001b[39;00m \u001b[38;5;167;01mValueError\u001b[39;00m(\n\u001b[1;32m    401\u001b[0m         \u001b[38;5;124mf\u001b[39m\u001b[38;5;124m\"\u001b[39m\u001b[38;5;124mX has \u001b[39m\u001b[38;5;132;01m{\u001b[39;00mn_features\u001b[38;5;132;01m}\u001b[39;00m\u001b[38;5;124m features, but \u001b[39m\u001b[38;5;132;01m{\u001b[39;00m\u001b[38;5;28mself\u001b[39m\u001b[38;5;241m.\u001b[39m\u001b[38;5;18m__class__\u001b[39m\u001b[38;5;241m.\u001b[39m\u001b[38;5;18m__name__\u001b[39m\u001b[38;5;132;01m}\u001b[39;00m\u001b[38;5;124m \u001b[39m\u001b[38;5;124m\"\u001b[39m\n\u001b[1;32m    402\u001b[0m         \u001b[38;5;124mf\u001b[39m\u001b[38;5;124m\"\u001b[39m\u001b[38;5;124mis expecting \u001b[39m\u001b[38;5;132;01m{\u001b[39;00m\u001b[38;5;28mself\u001b[39m\u001b[38;5;241m.\u001b[39mn_features_in_\u001b[38;5;132;01m}\u001b[39;00m\u001b[38;5;124m features as input.\u001b[39m\u001b[38;5;124m\"\u001b[39m\n\u001b[1;32m    403\u001b[0m     )\n",
      "\u001b[0;31mValueError\u001b[0m: X has 194 features, but GradientBoostingRegressor is expecting 262 features as input."
     ]
    }
   ],
   "source": [
    "dates, hedge_from_gains = backtesting(test_data, gbr_reg)\n",
    "plt.plot(dates, hedge_from_gains)"
   ]
  },
  {
   "cell_type": "code",
   "execution_count": 75,
   "id": "526c0c8c-52f8-42b4-afb9-534cfe3a73d2",
   "metadata": {},
   "outputs": [],
   "source": [
    "import matplotlib.pyplot as plt"
   ]
  },
  {
   "cell_type": "code",
   "execution_count": 37,
   "id": "64c2f347-0bdd-4fb4-94d3-456898c498e7",
   "metadata": {},
   "outputs": [
    {
     "data": {
      "text/plain": [
       "Index(['Unnamed: 0', 'secid', 'date_x', 'exdate', 'cp_flag', 'strike_price',\n",
       "       'best_bid', 'best_offer', 'volume', 'open_interest', 'impl_volatility',\n",
       "       'delta', 'gamma', 'vega', 'theta', 'optionid', 'cfadj',\n",
       "       'days_no_trading', 'days_to_exp', 'forwardprice', 'spotprice',\n",
       "       'adj_spot', 'ir_rate', 'mid_price', 'option_ret', 'sdate', 'edate',\n",
       "       'permno', 'date2', 'yyyymm', 'Beta', 'BidAskSpread', 'Coskewness',\n",
       "       'DolVol', 'High52', 'IdioRisk', 'IdioVol3F', 'IdioVolAHT', 'MaxRet',\n",
       "       'PriceDelayRsq', 'PriceDelaySlope', 'PriceDelayTstat', 'ReturnSkew',\n",
       "       'ReturnSkew3F', 'VolMkt', 'zerotrade', 'zerotradeAlt1', 'date_y',\n",
       "       'cp_flag_encoded'],\n",
       "      dtype='object')"
      ]
     },
     "execution_count": 37,
     "metadata": {},
     "output_type": "execute_result"
    }
   ],
   "source": [
    "option_with_feature.columns"
   ]
  },
  {
   "cell_type": "code",
   "execution_count": 38,
   "id": "5b8d689c-c536-4718-ac00-f42759e61b32",
   "metadata": {
    "collapsed": true,
    "jupyter": {
     "outputs_hidden": true
    },
    "tags": []
   },
   "outputs": [
    {
     "data": {
      "text/html": [
       "<div>\n",
       "<style scoped>\n",
       "    .dataframe tbody tr th:only-of-type {\n",
       "        vertical-align: middle;\n",
       "    }\n",
       "\n",
       "    .dataframe tbody tr th {\n",
       "        vertical-align: top;\n",
       "    }\n",
       "\n",
       "    .dataframe thead th {\n",
       "        text-align: right;\n",
       "    }\n",
       "</style>\n",
       "<table border=\"1\" class=\"dataframe\">\n",
       "  <thead>\n",
       "    <tr style=\"text-align: right;\">\n",
       "      <th></th>\n",
       "      <th>Unnamed: 0</th>\n",
       "      <th>secid</th>\n",
       "      <th>date_x</th>\n",
       "      <th>exdate</th>\n",
       "      <th>cp_flag</th>\n",
       "      <th>strike_price</th>\n",
       "      <th>best_bid</th>\n",
       "      <th>best_offer</th>\n",
       "      <th>volume</th>\n",
       "      <th>open_interest</th>\n",
       "      <th>...</th>\n",
       "      <th>PriceDelayRsq</th>\n",
       "      <th>PriceDelaySlope</th>\n",
       "      <th>PriceDelayTstat</th>\n",
       "      <th>ReturnSkew</th>\n",
       "      <th>ReturnSkew3F</th>\n",
       "      <th>VolMkt</th>\n",
       "      <th>zerotrade</th>\n",
       "      <th>zerotradeAlt1</th>\n",
       "      <th>date_y</th>\n",
       "      <th>cp_flag_encoded</th>\n",
       "    </tr>\n",
       "  </thead>\n",
       "  <tbody>\n",
       "    <tr>\n",
       "      <th>0</th>\n",
       "      <td>0</td>\n",
       "      <td>5015</td>\n",
       "      <td>1996-01-31</td>\n",
       "      <td>1996-07-20 00:00:00</td>\n",
       "      <td>C</td>\n",
       "      <td>20.0</td>\n",
       "      <td>4.6250</td>\n",
       "      <td>5.0000</td>\n",
       "      <td>15</td>\n",
       "      <td>25</td>\n",
       "      <td>...</td>\n",
       "      <td>0.041281</td>\n",
       "      <td>0.389311</td>\n",
       "      <td>1.212702</td>\n",
       "      <td>1.425051</td>\n",
       "      <td>1.314407</td>\n",
       "      <td>-0.083688</td>\n",
       "      <td>2.212753e-08</td>\n",
       "      <td>2.905242e-08</td>\n",
       "      <td>1996-01-01</td>\n",
       "      <td>1</td>\n",
       "    </tr>\n",
       "    <tr>\n",
       "      <th>2104</th>\n",
       "      <td>2104</td>\n",
       "      <td>5015</td>\n",
       "      <td>1996-01-31</td>\n",
       "      <td>1996-07-20 00:00:00</td>\n",
       "      <td>C</td>\n",
       "      <td>27.5</td>\n",
       "      <td>0.9375</td>\n",
       "      <td>1.1875</td>\n",
       "      <td>1</td>\n",
       "      <td>55</td>\n",
       "      <td>...</td>\n",
       "      <td>0.041281</td>\n",
       "      <td>0.389311</td>\n",
       "      <td>1.212702</td>\n",
       "      <td>1.425051</td>\n",
       "      <td>1.314407</td>\n",
       "      <td>-0.083688</td>\n",
       "      <td>2.212753e-08</td>\n",
       "      <td>2.905242e-08</td>\n",
       "      <td>1996-01-01</td>\n",
       "      <td>1</td>\n",
       "    </tr>\n",
       "    <tr>\n",
       "      <th>124598</th>\n",
       "      <td>124598</td>\n",
       "      <td>5015</td>\n",
       "      <td>1998-07-31</td>\n",
       "      <td>1998-10-17 00:00:00</td>\n",
       "      <td>P</td>\n",
       "      <td>70.0</td>\n",
       "      <td>5.8750</td>\n",
       "      <td>6.2500</td>\n",
       "      <td>5</td>\n",
       "      <td>32</td>\n",
       "      <td>...</td>\n",
       "      <td>0.062768</td>\n",
       "      <td>-0.221246</td>\n",
       "      <td>-1.163268</td>\n",
       "      <td>-0.087869</td>\n",
       "      <td>0.251508</td>\n",
       "      <td>-0.129950</td>\n",
       "      <td>1.494627e-08</td>\n",
       "      <td>1.855388e-08</td>\n",
       "      <td>1998-07-01</td>\n",
       "      <td>0</td>\n",
       "    </tr>\n",
       "    <tr>\n",
       "      <th>124597</th>\n",
       "      <td>124597</td>\n",
       "      <td>5015</td>\n",
       "      <td>1998-07-31</td>\n",
       "      <td>1999-01-16 00:00:00</td>\n",
       "      <td>C</td>\n",
       "      <td>70.0</td>\n",
       "      <td>4.3750</td>\n",
       "      <td>4.7500</td>\n",
       "      <td>10</td>\n",
       "      <td>35</td>\n",
       "      <td>...</td>\n",
       "      <td>0.062768</td>\n",
       "      <td>-0.221246</td>\n",
       "      <td>-1.163268</td>\n",
       "      <td>-0.087869</td>\n",
       "      <td>0.251508</td>\n",
       "      <td>-0.129950</td>\n",
       "      <td>1.494627e-08</td>\n",
       "      <td>1.855388e-08</td>\n",
       "      <td>1998-07-01</td>\n",
       "      <td>1</td>\n",
       "    </tr>\n",
       "    <tr>\n",
       "      <th>41988</th>\n",
       "      <td>41988</td>\n",
       "      <td>5015</td>\n",
       "      <td>1997-01-31</td>\n",
       "      <td>1997-07-19 00:00:00</td>\n",
       "      <td>P</td>\n",
       "      <td>35.0</td>\n",
       "      <td>1.3125</td>\n",
       "      <td>1.5625</td>\n",
       "      <td>10</td>\n",
       "      <td>55</td>\n",
       "      <td>...</td>\n",
       "      <td>0.381327</td>\n",
       "      <td>-1.615642</td>\n",
       "      <td>1.212702</td>\n",
       "      <td>0.190639</td>\n",
       "      <td>-1.284276</td>\n",
       "      <td>-0.081350</td>\n",
       "      <td>2.433947e-08</td>\n",
       "      <td>1.740106e-08</td>\n",
       "      <td>1997-01-01</td>\n",
       "      <td>0</td>\n",
       "    </tr>\n",
       "    <tr>\n",
       "      <th>...</th>\n",
       "      <td>...</td>\n",
       "      <td>...</td>\n",
       "      <td>...</td>\n",
       "      <td>...</td>\n",
       "      <td>...</td>\n",
       "      <td>...</td>\n",
       "      <td>...</td>\n",
       "      <td>...</td>\n",
       "      <td>...</td>\n",
       "      <td>...</td>\n",
       "      <td>...</td>\n",
       "      <td>...</td>\n",
       "      <td>...</td>\n",
       "      <td>...</td>\n",
       "      <td>...</td>\n",
       "      <td>...</td>\n",
       "      <td>...</td>\n",
       "      <td>...</td>\n",
       "      <td>...</td>\n",
       "      <td>...</td>\n",
       "      <td>...</td>\n",
       "    </tr>\n",
       "    <tr>\n",
       "      <th>3168133</th>\n",
       "      <td>3168133</td>\n",
       "      <td>213212</td>\n",
       "      <td>2019-12-31</td>\n",
       "      <td>2020-08-21 00:00:00</td>\n",
       "      <td>P</td>\n",
       "      <td>17.5</td>\n",
       "      <td>0.7500</td>\n",
       "      <td>0.9000</td>\n",
       "      <td>54</td>\n",
       "      <td>33</td>\n",
       "      <td>...</td>\n",
       "      <td>0.107279</td>\n",
       "      <td>0.786024</td>\n",
       "      <td>1.873614</td>\n",
       "      <td>-0.062024</td>\n",
       "      <td>0.379443</td>\n",
       "      <td>-0.427328</td>\n",
       "      <td>8.234986e-09</td>\n",
       "      <td>1.198200e-08</td>\n",
       "      <td>2019-12-01</td>\n",
       "      <td>0</td>\n",
       "    </tr>\n",
       "    <tr>\n",
       "      <th>2914495</th>\n",
       "      <td>2914495</td>\n",
       "      <td>213212</td>\n",
       "      <td>2018-12-31</td>\n",
       "      <td>2019-08-16 00:00:00</td>\n",
       "      <td>C</td>\n",
       "      <td>17.5</td>\n",
       "      <td>0.4000</td>\n",
       "      <td>1.0000</td>\n",
       "      <td>28</td>\n",
       "      <td>1</td>\n",
       "      <td>...</td>\n",
       "      <td>0.055853</td>\n",
       "      <td>-0.669433</td>\n",
       "      <td>3.417680</td>\n",
       "      <td>-0.013643</td>\n",
       "      <td>0.527326</td>\n",
       "      <td>-1.600722</td>\n",
       "      <td>5.873811e-09</td>\n",
       "      <td>6.332559e-09</td>\n",
       "      <td>2018-12-01</td>\n",
       "      <td>1</td>\n",
       "    </tr>\n",
       "    <tr>\n",
       "      <th>2941619</th>\n",
       "      <td>2941619</td>\n",
       "      <td>213212</td>\n",
       "      <td>2019-01-31</td>\n",
       "      <td>2019-05-17 00:00:00</td>\n",
       "      <td>C</td>\n",
       "      <td>17.5</td>\n",
       "      <td>0.6500</td>\n",
       "      <td>2.4000</td>\n",
       "      <td>15</td>\n",
       "      <td>70</td>\n",
       "      <td>...</td>\n",
       "      <td>0.055853</td>\n",
       "      <td>-0.669433</td>\n",
       "      <td>3.417680</td>\n",
       "      <td>-0.179418</td>\n",
       "      <td>-0.908827</td>\n",
       "      <td>-1.341789</td>\n",
       "      <td>6.179499e-09</td>\n",
       "      <td>6.427636e-09</td>\n",
       "      <td>2019-01-01</td>\n",
       "      <td>1</td>\n",
       "    </tr>\n",
       "    <tr>\n",
       "      <th>3052187</th>\n",
       "      <td>3052187</td>\n",
       "      <td>213212</td>\n",
       "      <td>2019-06-28</td>\n",
       "      <td>2020-02-21 00:00:00</td>\n",
       "      <td>C</td>\n",
       "      <td>20.0</td>\n",
       "      <td>0.0500</td>\n",
       "      <td>1.5500</td>\n",
       "      <td>120</td>\n",
       "      <td>31</td>\n",
       "      <td>...</td>\n",
       "      <td>0.055853</td>\n",
       "      <td>-0.669433</td>\n",
       "      <td>3.417680</td>\n",
       "      <td>-0.194380</td>\n",
       "      <td>0.314063</td>\n",
       "      <td>-1.230118</td>\n",
       "      <td>6.836241e-09</td>\n",
       "      <td>4.644217e-09</td>\n",
       "      <td>2019-06-01</td>\n",
       "      <td>1</td>\n",
       "    </tr>\n",
       "    <tr>\n",
       "      <th>3168134</th>\n",
       "      <td>3168134</td>\n",
       "      <td>213212</td>\n",
       "      <td>2019-12-31</td>\n",
       "      <td>2020-08-21 00:00:00</td>\n",
       "      <td>P</td>\n",
       "      <td>20.0</td>\n",
       "      <td>2.2500</td>\n",
       "      <td>2.4000</td>\n",
       "      <td>50</td>\n",
       "      <td>26</td>\n",
       "      <td>...</td>\n",
       "      <td>0.107279</td>\n",
       "      <td>0.786024</td>\n",
       "      <td>1.873614</td>\n",
       "      <td>-0.062024</td>\n",
       "      <td>0.379443</td>\n",
       "      <td>-0.427328</td>\n",
       "      <td>8.234986e-09</td>\n",
       "      <td>1.198200e-08</td>\n",
       "      <td>2019-12-01</td>\n",
       "      <td>0</td>\n",
       "    </tr>\n",
       "  </tbody>\n",
       "</table>\n",
       "<p>2965969 rows × 49 columns</p>\n",
       "</div>"
      ],
      "text/plain": [
       "         Unnamed: 0   secid     date_x               exdate cp_flag  \\\n",
       "0                 0    5015 1996-01-31  1996-07-20 00:00:00       C   \n",
       "2104           2104    5015 1996-01-31  1996-07-20 00:00:00       C   \n",
       "124598       124598    5015 1998-07-31  1998-10-17 00:00:00       P   \n",
       "124597       124597    5015 1998-07-31  1999-01-16 00:00:00       C   \n",
       "41988         41988    5015 1997-01-31  1997-07-19 00:00:00       P   \n",
       "...             ...     ...        ...                  ...     ...   \n",
       "3168133     3168133  213212 2019-12-31  2020-08-21 00:00:00       P   \n",
       "2914495     2914495  213212 2018-12-31  2019-08-16 00:00:00       C   \n",
       "2941619     2941619  213212 2019-01-31  2019-05-17 00:00:00       C   \n",
       "3052187     3052187  213212 2019-06-28  2020-02-21 00:00:00       C   \n",
       "3168134     3168134  213212 2019-12-31  2020-08-21 00:00:00       P   \n",
       "\n",
       "         strike_price  best_bid  best_offer  volume  open_interest  ...  \\\n",
       "0                20.0    4.6250      5.0000      15             25  ...   \n",
       "2104             27.5    0.9375      1.1875       1             55  ...   \n",
       "124598           70.0    5.8750      6.2500       5             32  ...   \n",
       "124597           70.0    4.3750      4.7500      10             35  ...   \n",
       "41988            35.0    1.3125      1.5625      10             55  ...   \n",
       "...               ...       ...         ...     ...            ...  ...   \n",
       "3168133          17.5    0.7500      0.9000      54             33  ...   \n",
       "2914495          17.5    0.4000      1.0000      28              1  ...   \n",
       "2941619          17.5    0.6500      2.4000      15             70  ...   \n",
       "3052187          20.0    0.0500      1.5500     120             31  ...   \n",
       "3168134          20.0    2.2500      2.4000      50             26  ...   \n",
       "\n",
       "         PriceDelayRsq  PriceDelaySlope  PriceDelayTstat  ReturnSkew  \\\n",
       "0             0.041281         0.389311         1.212702    1.425051   \n",
       "2104          0.041281         0.389311         1.212702    1.425051   \n",
       "124598        0.062768        -0.221246        -1.163268   -0.087869   \n",
       "124597        0.062768        -0.221246        -1.163268   -0.087869   \n",
       "41988         0.381327        -1.615642         1.212702    0.190639   \n",
       "...                ...              ...              ...         ...   \n",
       "3168133       0.107279         0.786024         1.873614   -0.062024   \n",
       "2914495       0.055853        -0.669433         3.417680   -0.013643   \n",
       "2941619       0.055853        -0.669433         3.417680   -0.179418   \n",
       "3052187       0.055853        -0.669433         3.417680   -0.194380   \n",
       "3168134       0.107279         0.786024         1.873614   -0.062024   \n",
       "\n",
       "         ReturnSkew3F    VolMkt     zerotrade  zerotradeAlt1      date_y  \\\n",
       "0            1.314407 -0.083688  2.212753e-08   2.905242e-08  1996-01-01   \n",
       "2104         1.314407 -0.083688  2.212753e-08   2.905242e-08  1996-01-01   \n",
       "124598       0.251508 -0.129950  1.494627e-08   1.855388e-08  1998-07-01   \n",
       "124597       0.251508 -0.129950  1.494627e-08   1.855388e-08  1998-07-01   \n",
       "41988       -1.284276 -0.081350  2.433947e-08   1.740106e-08  1997-01-01   \n",
       "...               ...       ...           ...            ...         ...   \n",
       "3168133      0.379443 -0.427328  8.234986e-09   1.198200e-08  2019-12-01   \n",
       "2914495      0.527326 -1.600722  5.873811e-09   6.332559e-09  2018-12-01   \n",
       "2941619     -0.908827 -1.341789  6.179499e-09   6.427636e-09  2019-01-01   \n",
       "3052187      0.314063 -1.230118  6.836241e-09   4.644217e-09  2019-06-01   \n",
       "3168134      0.379443 -0.427328  8.234986e-09   1.198200e-08  2019-12-01   \n",
       "\n",
       "         cp_flag_encoded  \n",
       "0                      1  \n",
       "2104                   1  \n",
       "124598                 0  \n",
       "124597                 1  \n",
       "41988                  0  \n",
       "...                  ...  \n",
       "3168133                0  \n",
       "2914495                1  \n",
       "2941619                1  \n",
       "3052187                1  \n",
       "3168134                0  \n",
       "\n",
       "[2965969 rows x 49 columns]"
      ]
     },
     "execution_count": 38,
     "metadata": {},
     "output_type": "execute_result"
    }
   ],
   "source": [
    "option_with_feature.sort_values(by=\"secid\")"
   ]
  },
  {
   "cell_type": "code",
   "execution_count": null,
   "id": "f2c8e433-39d4-4151-9748-7d311452fcc9",
   "metadata": {},
   "outputs": [],
   "source": []
  },
  {
   "cell_type": "markdown",
   "id": "ae3abf0b-c817-4edd-abed-bd80f675acc7",
   "metadata": {},
   "source": [
    "## DW test"
   ]
  },
  {
   "cell_type": "code",
   "execution_count": null,
   "id": "baa797f6-5889-4a9e-aff5-285575ecadf3",
   "metadata": {},
   "outputs": [],
   "source": []
  },
  {
   "cell_type": "code",
   "execution_count": 158,
   "id": "d88489be-1781-4c3d-b720-8a7e698d9b4e",
   "metadata": {},
   "outputs": [],
   "source": [
    "true_pred_1vs2_return = pd.DataFrame(\n",
    "    {\n",
    "        \"optionid\": X_test.optionid,\n",
    "        \"time\": X_test.date_x,\n",
    "        \"true_return\": y_test,\n",
    "        \"pred_return1\": regressor.predict(X_test[used_characteristics]),\n",
    "        \"pred_return2\": est.predict(X_test[used_characteristics])\n",
    "    }\n",
    ")"
   ]
  },
  {
   "cell_type": "code",
   "execution_count": null,
   "id": "3c51fe2b-b73f-4ad9-85d5-fc28b61c2d26",
   "metadata": {},
   "outputs": [],
   "source": [
    "DW_test(true_pred_1vs2_return)"
   ]
  }
 ],
 "metadata": {
  "kernelspec": {
   "display_name": "aqf",
   "language": "python",
   "name": "aqf"
  },
  "language_info": {
   "codemirror_mode": {
    "name": "ipython",
    "version": 3
   },
   "file_extension": ".py",
   "mimetype": "text/x-python",
   "name": "python",
   "nbconvert_exporter": "python",
   "pygments_lexer": "ipython3",
   "version": "3.8.0"
  },
  "widgets": {
   "application/vnd.jupyter.widget-state+json": {
    "state": {},
    "version_major": 2,
    "version_minor": 0
   }
  }
 },
 "nbformat": 4,
 "nbformat_minor": 5
}
