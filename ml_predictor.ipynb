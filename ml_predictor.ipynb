{
 "cells": [
  {
   "cell_type": "markdown",
   "id": "5b71adcf-f393-43fb-b3ed-b9de6b1f7e24",
   "metadata": {
    "tags": []
   },
   "source": [
    "# Training and Making predicting"
   ]
  },
  {
   "cell_type": "markdown",
   "id": "ceb061e0-7bce-4bf3-873e-1e0997bd06ce",
   "metadata": {},
   "source": [
    "## Description"
   ]
  },
  {
   "cell_type": "markdown",
   "id": "002dd3eb-94f7-491c-8cab-eae90e761593",
   "metadata": {},
   "source": [
    "**8 Models considered:**\n",
    "\n",
    "For Penelized linear models: Lasso, Ridge, Elastic Net regression \n",
    "\n",
    "For Linear dimension reduction tech: PCR, partial least squares regressions \n",
    "\n",
    "For Nonlinear models: RF, gradient boosted tree regression (GBR), gradient boosted tree regression with dropout (Dart), deep feed=forward neural networks (FFN)"
   ]
  },
  {
   "cell_type": "markdown",
   "id": "8bc80d6b-0e46-4d95-9897-70285d9e5f9a",
   "metadata": {},
   "source": [
    "**Assessing predictive power:**\n",
    "\n",
    "standard out-of-sample $R^2$ statistic\n",
    "\n",
    "$$\n",
    "R^2_{OS} = 1 - \\frac{\\sum_{(i,t)\\in T_3} (r_{i, s, t+1} \n",
    "            - \\hat{r}_{i,s,t+1})^2} {\\sum_{(i,t)\\in T_3 r^2_{i, s,t+1}}}\n",
    "$$"
   ]
  },
  {
   "cell_type": "markdown",
   "id": "1e7d7b41-19a5-47f0-bc65-51a61f4e727b",
   "metadata": {},
   "source": [
    "**Four Periods:**\n",
    "\n",
    "$T_1$ (1996/01 -- 2000/12) -> training\n",
    "\n",
    "$T_2$ (2001 -- 2002) -> *hyperparameter* optimization **validating**\n",
    "\n",
    "$T_3$ (2003) -> **testing**\n",
    "\n",
    "> We repeat this procedure for each year in the testing sample from 2003 through 2020, increasing the number of training years by one at each iteration.\n",
    "\n",
    "That is: \n",
    "* First iteration: 1996 ~ 2000 as train, 2001 ~ 2002 as validate, 2003 as test \n",
    "\n",
    "* Second iteration: 1996 ~ 2001 as train, 2002 ~ 2003 as validate, 2004 as test \n",
    "\n",
    "... \n",
    "\n",
    "* i-th iteration: 1996 ~ 2000 + i-1 as train, 2000 + i ~ 2000 + i+1 as validation, 2000 + i+2 as test"
   ]
  },
  {
   "cell_type": "markdown",
   "id": "4bc0fa9b-0ba2-4637-8962-bfc398ec254d",
   "metadata": {},
   "source": [
    "***QUESTION*** How the reported $R^2$ or $R^2_{OS,XS}$ is estimated, since we are running training-validation-testing procedure on multiple periods? "
   ]
  },
  {
   "cell_type": "markdown",
   "id": "a29cbdb5-d11e-4908-b86a-6b5f5633383f",
   "metadata": {},
   "source": [
    "**Cross sectional asset pricing test**\n",
    "\n",
    "> In cross-sectional asset pricing tests, our main objective is not to forecast time-series variation in future returns, but rather cross-sectional return spreads in the testing sample.\n",
    "\n",
    "Han et al (2021) proposes a cross-sectional out-of-sample $R^2$:\n",
    "\n",
    "$$\n",
    "R^2_{OS; XS} = 1 - \\frac{\\sum_{(i,t)\\in T_3} [(r_{i,s,t+1} - \\bar{r}_{i,s,t+1}) - (\\hat{r}_{i,s,t+1} - \\bar{\\hat{r}}_{i,s,t+1})]^2} \n",
    "{\\sum_{(i,t)\\in T_3} (r_{i,s,t+1} - \\bar{r}_{i,s,t+1})^2}\n",
    "$$\n",
    "\n",
    "> $R^2_{OS; XS}$ focuses on relative expected returns across options, for which accurate predictions result in profitable long-short trading strategies."
   ]
  },
  {
   "cell_type": "markdown",
   "id": "8fd29f47-9887-4cd9-bda6-47b5f80b1b4b",
   "metadata": {},
   "source": [
    "**Statistical significance of models forecasts**\n",
    "\n",
    "**1. CW test (for individual model)**\n",
    "\n",
    "$$\n",
    "CW^{(j)} = \\frac{\\bar{c}^{(j)}}  {\\hat{\\sigma}_c^{(j)}}\n",
    "$$\n",
    "\n",
    "where $\\bar{c}^{(j)}$ is the time series average, and $\\hat{\\sigma}_c^{(j)}$ is the Newey and West \n",
    "standard error ***of*** the mean difference squared forecast errors: \n",
    "\n",
    "$$\n",
    "c_{t+1}^{(j)} = \\frac{1}{n_{T_3}} \\sum_{(i,t)\\in T_3} [r_{i,s,t+1}^2 - (\\hat{e}_{i,t+1}^{(j)})^2]\n",
    "$$\n",
    "\n",
    "where $n_{T_3}$ is the number of observations in the testing sample and $\\hat{e}_{i,t+1}$ is the \n",
    "forecast error on option i at time t+1 for method j. "
   ]
  },
  {
   "cell_type": "markdown",
   "id": "262c46d7-9df5-4066-967a-f0406d60f540",
   "metadata": {},
   "source": [
    "**2. DM test (for comparison)**\n",
    "\n",
    "Diebold and Mariano (1995) (DM) test\n",
    "\n",
    "The DM test-statisics for a comparison between methods 1 and 2 is defined as: \n",
    "\n",
    "$$\n",
    "DM^{(1,2)} = \\frac{\\bar{d}^{(1,2)}} {\\hat{\\sigma}_d^{(1,2)}}\n",
    "$$\n",
    "\n",
    "where $\\bar{d}^{(1,2)}$ is the time series average, and $\\hat{\\sigma}_d^{(1,2)}$ is the Newey and West \n",
    "standard error ***of*** the mean difference squared forecast errors: \n",
    "\n",
    "$$\n",
    "d^{(1,2)}_{t+1} = \\frac{1}{n_{T_3}} \\sum_{(i,t)\\in T_3} [(\\hat{e}^{(1)}_{i, t+1})^2 - (\\hat{e}^{(2)}_{i, t+1})^2]\n",
    "$$\n"
   ]
  },
  {
   "cell_type": "code",
   "execution_count": null,
   "id": "06b7c631-7972-47b0-8346-6525664dba52",
   "metadata": {},
   "outputs": [],
   "source": []
  },
  {
   "cell_type": "code",
   "execution_count": null,
   "id": "63ce6362-c754-48a1-a267-d6836415e454",
   "metadata": {},
   "outputs": [],
   "source": []
  },
  {
   "cell_type": "code",
   "execution_count": null,
   "id": "b4b58d8b-f700-4b36-9ee6-8329bac92373",
   "metadata": {},
   "outputs": [],
   "source": []
  },
  {
   "cell_type": "code",
   "execution_count": 2,
   "id": "ba8639d2-629f-484c-8f55-83a2254697bf",
   "metadata": {},
   "outputs": [],
   "source": [
    "import numpy as np\n",
    "import datetime as dt\n",
    "\n",
    "from evaluation_metrics import CW_test, DM_test, R_squared_OSXS\n",
    "\n",
    "import pandas as pd \n",
    "import os\n"
   ]
  },
  {
   "cell_type": "code",
   "execution_count": 3,
   "id": "a4eaed0f-add2-4b3a-9da0-930d01c73522",
   "metadata": {},
   "outputs": [
    {
     "data": {
      "text/plain": [
       "array([[4.        , 2.        ],\n",
       "       [6.        , 3.66666667],\n",
       "       [7.        , 6.        ]])"
      ]
     },
     "execution_count": 3,
     "metadata": {},
     "output_type": "execute_result"
    }
   ],
   "source": [
    "import numpy as np\n",
    "from sklearn.impute import SimpleImputer\n",
    "imp = SimpleImputer(missing_values=np.nan, strategy='mean')\n",
    "imp.fit([[1, 2], [np.nan, 3], [7, 6]])\n",
    "\n",
    "X = [[np.nan, 2], [6, np.nan], [7, 6]]\n",
    "\n",
    "imp.transform(X)"
   ]
  },
  {
   "cell_type": "markdown",
   "id": "5a9819f0-82dd-4e9f-9c7d-1310c9161fc0",
   "metadata": {},
   "source": [
    "## Import data"
   ]
  },
  {
   "cell_type": "code",
   "execution_count": 4,
   "id": "667c0cbf-cbbc-4991-b222-b98234236f93",
   "metadata": {},
   "outputs": [],
   "source": [
    "DATAROOT = \"data/\""
   ]
  },
  {
   "cell_type": "code",
   "execution_count": 5,
   "id": "e6647247-c316-469d-8f68-e71b528892e3",
   "metadata": {},
   "outputs": [],
   "source": [
    "option_with_feature = pd.read_csv(os.path.join(DATAROOT, \"option_with_nonsparse_features.csv\"))"
   ]
  },
  {
   "cell_type": "code",
   "execution_count": 53,
   "id": "dd2fb12f-870d-4703-957c-a9ee5f12189b",
   "metadata": {},
   "outputs": [],
   "source": [
    "option_with_feature = option_with_feature[~option_with_feature.option_ret.isna()]"
   ]
  },
  {
   "cell_type": "code",
   "execution_count": 54,
   "id": "a42caaf7-886b-4911-af4d-e4d7b3c7df52",
   "metadata": {},
   "outputs": [],
   "source": [
    "total_row_num = option_with_feature.shape[0]\n",
    "# option_with_feature = option_with_feature.dropna()\n",
    "# print(f\"number of na rows: {total_row_num - option_with_feature.shape[0]}\")"
   ]
  },
  {
   "cell_type": "code",
   "execution_count": 55,
   "id": "ca715d14-f0b5-4239-baac-bcf4bd03e71b",
   "metadata": {},
   "outputs": [
    {
     "data": {
      "text/plain": [
       "3981898"
      ]
     },
     "execution_count": 55,
     "metadata": {},
     "output_type": "execute_result"
    }
   ],
   "source": [
    "total_row_num"
   ]
  },
  {
   "cell_type": "code",
   "execution_count": 56,
   "id": "6c39147a-1952-443a-a087-a9b0f019adaa",
   "metadata": {},
   "outputs": [
    {
     "ename": "AttributeError",
     "evalue": "'Timestamp' object has no attribute 'split'",
     "output_type": "error",
     "traceback": [
      "\u001b[0;31m---------------------------------------------------------------------------\u001b[0m",
      "\u001b[0;31mAttributeError\u001b[0m                            Traceback (most recent call last)",
      "Input \u001b[0;32mIn [56]\u001b[0m, in \u001b[0;36m<cell line: 1>\u001b[0;34m()\u001b[0m\n\u001b[0;32m----> 1\u001b[0m option_with_feature[\u001b[38;5;124m\"\u001b[39m\u001b[38;5;124mdate_x\u001b[39m\u001b[38;5;124m\"\u001b[39m] \u001b[38;5;241m=\u001b[39m \u001b[43moption_with_feature\u001b[49m\u001b[38;5;241;43m.\u001b[39;49m\u001b[43mdate_x\u001b[49m\u001b[38;5;241;43m.\u001b[39;49m\u001b[43mapply\u001b[49m\u001b[43m(\u001b[49m\u001b[38;5;28;43;01mlambda\u001b[39;49;00m\u001b[43m \u001b[49m\u001b[43mx\u001b[49m\u001b[43m:\u001b[49m\u001b[43m \u001b[49m\u001b[43mdt\u001b[49m\u001b[38;5;241;43m.\u001b[39;49m\u001b[43mdatetime\u001b[49m\u001b[38;5;241;43m.\u001b[39;49m\u001b[43mstrptime\u001b[49m\u001b[43m(\u001b[49m\u001b[43mx\u001b[49m\u001b[38;5;241;43m.\u001b[39;49m\u001b[43msplit\u001b[49m\u001b[43m(\u001b[49m\u001b[43m)\u001b[49m\u001b[43m[\u001b[49m\u001b[38;5;241;43m0\u001b[39;49m\u001b[43m]\u001b[49m\u001b[43m,\u001b[49m\u001b[43m \u001b[49m\u001b[38;5;124;43m\"\u001b[39;49m\u001b[38;5;124;43m%\u001b[39;49m\u001b[38;5;124;43mY-\u001b[39;49m\u001b[38;5;124;43m%\u001b[39;49m\u001b[38;5;124;43mm-\u001b[39;49m\u001b[38;5;132;43;01m%d\u001b[39;49;00m\u001b[38;5;124;43m\"\u001b[39;49m\u001b[43m)\u001b[49m\u001b[43m)\u001b[49m\u001b[38;5;241m.\u001b[39mcopy()\n",
      "File \u001b[0;32m~/anaconda3/envs/aqf/lib/python3.8/site-packages/pandas/core/series.py:4433\u001b[0m, in \u001b[0;36mSeries.apply\u001b[0;34m(self, func, convert_dtype, args, **kwargs)\u001b[0m\n\u001b[1;32m   4323\u001b[0m \u001b[38;5;28;01mdef\u001b[39;00m \u001b[38;5;21mapply\u001b[39m(\n\u001b[1;32m   4324\u001b[0m     \u001b[38;5;28mself\u001b[39m,\n\u001b[1;32m   4325\u001b[0m     func: AggFuncType,\n\u001b[0;32m   (...)\u001b[0m\n\u001b[1;32m   4328\u001b[0m     \u001b[38;5;241m*\u001b[39m\u001b[38;5;241m*\u001b[39mkwargs,\n\u001b[1;32m   4329\u001b[0m ) \u001b[38;5;241m-\u001b[39m\u001b[38;5;241m>\u001b[39m DataFrame \u001b[38;5;241m|\u001b[39m Series:\n\u001b[1;32m   4330\u001b[0m     \u001b[38;5;124;03m\"\"\"\u001b[39;00m\n\u001b[1;32m   4331\u001b[0m \u001b[38;5;124;03m    Invoke function on values of Series.\u001b[39;00m\n\u001b[1;32m   4332\u001b[0m \n\u001b[0;32m   (...)\u001b[0m\n\u001b[1;32m   4431\u001b[0m \u001b[38;5;124;03m    dtype: float64\u001b[39;00m\n\u001b[1;32m   4432\u001b[0m \u001b[38;5;124;03m    \"\"\"\u001b[39;00m\n\u001b[0;32m-> 4433\u001b[0m     \u001b[38;5;28;01mreturn\u001b[39;00m \u001b[43mSeriesApply\u001b[49m\u001b[43m(\u001b[49m\u001b[38;5;28;43mself\u001b[39;49m\u001b[43m,\u001b[49m\u001b[43m \u001b[49m\u001b[43mfunc\u001b[49m\u001b[43m,\u001b[49m\u001b[43m \u001b[49m\u001b[43mconvert_dtype\u001b[49m\u001b[43m,\u001b[49m\u001b[43m \u001b[49m\u001b[43margs\u001b[49m\u001b[43m,\u001b[49m\u001b[43m \u001b[49m\u001b[43mkwargs\u001b[49m\u001b[43m)\u001b[49m\u001b[38;5;241;43m.\u001b[39;49m\u001b[43mapply\u001b[49m\u001b[43m(\u001b[49m\u001b[43m)\u001b[49m\n",
      "File \u001b[0;32m~/anaconda3/envs/aqf/lib/python3.8/site-packages/pandas/core/apply.py:1082\u001b[0m, in \u001b[0;36mSeriesApply.apply\u001b[0;34m(self)\u001b[0m\n\u001b[1;32m   1078\u001b[0m \u001b[38;5;28;01mif\u001b[39;00m \u001b[38;5;28misinstance\u001b[39m(\u001b[38;5;28mself\u001b[39m\u001b[38;5;241m.\u001b[39mf, \u001b[38;5;28mstr\u001b[39m):\n\u001b[1;32m   1079\u001b[0m     \u001b[38;5;66;03m# if we are a string, try to dispatch\u001b[39;00m\n\u001b[1;32m   1080\u001b[0m     \u001b[38;5;28;01mreturn\u001b[39;00m \u001b[38;5;28mself\u001b[39m\u001b[38;5;241m.\u001b[39mapply_str()\n\u001b[0;32m-> 1082\u001b[0m \u001b[38;5;28;01mreturn\u001b[39;00m \u001b[38;5;28;43mself\u001b[39;49m\u001b[38;5;241;43m.\u001b[39;49m\u001b[43mapply_standard\u001b[49m\u001b[43m(\u001b[49m\u001b[43m)\u001b[49m\n",
      "File \u001b[0;32m~/anaconda3/envs/aqf/lib/python3.8/site-packages/pandas/core/apply.py:1137\u001b[0m, in \u001b[0;36mSeriesApply.apply_standard\u001b[0;34m(self)\u001b[0m\n\u001b[1;32m   1131\u001b[0m         values \u001b[38;5;241m=\u001b[39m obj\u001b[38;5;241m.\u001b[39mastype(\u001b[38;5;28mobject\u001b[39m)\u001b[38;5;241m.\u001b[39m_values\n\u001b[1;32m   1132\u001b[0m         \u001b[38;5;66;03m# error: Argument 2 to \"map_infer\" has incompatible type\u001b[39;00m\n\u001b[1;32m   1133\u001b[0m         \u001b[38;5;66;03m# \"Union[Callable[..., Any], str, List[Union[Callable[..., Any], str]],\u001b[39;00m\n\u001b[1;32m   1134\u001b[0m         \u001b[38;5;66;03m# Dict[Hashable, Union[Union[Callable[..., Any], str],\u001b[39;00m\n\u001b[1;32m   1135\u001b[0m         \u001b[38;5;66;03m# List[Union[Callable[..., Any], str]]]]]\"; expected\u001b[39;00m\n\u001b[1;32m   1136\u001b[0m         \u001b[38;5;66;03m# \"Callable[[Any], Any]\"\u001b[39;00m\n\u001b[0;32m-> 1137\u001b[0m         mapped \u001b[38;5;241m=\u001b[39m \u001b[43mlib\u001b[49m\u001b[38;5;241;43m.\u001b[39;49m\u001b[43mmap_infer\u001b[49m\u001b[43m(\u001b[49m\n\u001b[1;32m   1138\u001b[0m \u001b[43m            \u001b[49m\u001b[43mvalues\u001b[49m\u001b[43m,\u001b[49m\n\u001b[1;32m   1139\u001b[0m \u001b[43m            \u001b[49m\u001b[43mf\u001b[49m\u001b[43m,\u001b[49m\u001b[43m  \u001b[49m\u001b[38;5;66;43;03m# type: ignore[arg-type]\u001b[39;49;00m\n\u001b[1;32m   1140\u001b[0m \u001b[43m            \u001b[49m\u001b[43mconvert\u001b[49m\u001b[38;5;241;43m=\u001b[39;49m\u001b[38;5;28;43mself\u001b[39;49m\u001b[38;5;241;43m.\u001b[39;49m\u001b[43mconvert_dtype\u001b[49m\u001b[43m,\u001b[49m\n\u001b[1;32m   1141\u001b[0m \u001b[43m        \u001b[49m\u001b[43m)\u001b[49m\n\u001b[1;32m   1143\u001b[0m \u001b[38;5;28;01mif\u001b[39;00m \u001b[38;5;28mlen\u001b[39m(mapped) \u001b[38;5;129;01mand\u001b[39;00m \u001b[38;5;28misinstance\u001b[39m(mapped[\u001b[38;5;241m0\u001b[39m], ABCSeries):\n\u001b[1;32m   1144\u001b[0m     \u001b[38;5;66;03m# GH#43986 Need to do list(mapped) in order to get treated as nested\u001b[39;00m\n\u001b[1;32m   1145\u001b[0m     \u001b[38;5;66;03m#  See also GH#25959 regarding EA support\u001b[39;00m\n\u001b[1;32m   1146\u001b[0m     \u001b[38;5;28;01mreturn\u001b[39;00m obj\u001b[38;5;241m.\u001b[39m_constructor_expanddim(\u001b[38;5;28mlist\u001b[39m(mapped), index\u001b[38;5;241m=\u001b[39mobj\u001b[38;5;241m.\u001b[39mindex)\n",
      "File \u001b[0;32mpandas/_libs/lib.pyx:2870\u001b[0m, in \u001b[0;36mpandas._libs.lib.map_infer\u001b[0;34m()\u001b[0m\n",
      "Input \u001b[0;32mIn [56]\u001b[0m, in \u001b[0;36m<lambda>\u001b[0;34m(x)\u001b[0m\n\u001b[0;32m----> 1\u001b[0m option_with_feature[\u001b[38;5;124m\"\u001b[39m\u001b[38;5;124mdate_x\u001b[39m\u001b[38;5;124m\"\u001b[39m] \u001b[38;5;241m=\u001b[39m option_with_feature\u001b[38;5;241m.\u001b[39mdate_x\u001b[38;5;241m.\u001b[39mapply(\u001b[38;5;28;01mlambda\u001b[39;00m x: dt\u001b[38;5;241m.\u001b[39mdatetime\u001b[38;5;241m.\u001b[39mstrptime(\u001b[43mx\u001b[49m\u001b[38;5;241;43m.\u001b[39;49m\u001b[43msplit\u001b[49m()[\u001b[38;5;241m0\u001b[39m], \u001b[38;5;124m\"\u001b[39m\u001b[38;5;124m%\u001b[39m\u001b[38;5;124mY-\u001b[39m\u001b[38;5;124m%\u001b[39m\u001b[38;5;124mm-\u001b[39m\u001b[38;5;132;01m%d\u001b[39;00m\u001b[38;5;124m\"\u001b[39m))\u001b[38;5;241m.\u001b[39mcopy()\n",
      "\u001b[0;31mAttributeError\u001b[0m: 'Timestamp' object has no attribute 'split'"
     ]
    }
   ],
   "source": [
    "option_with_feature[\"date_x\"] = option_with_feature.date_x.apply(lambda x: dt.datetime.strptime(x.split()[0], \"%Y-%m-%d\")).copy()"
   ]
  },
  {
   "cell_type": "code",
   "execution_count": 57,
   "id": "53d6675a-b03a-4810-a2f7-5f584fd0cf68",
   "metadata": {},
   "outputs": [],
   "source": [
    "option_with_feature[\"cp_flag_encoded\"] = option_with_feature[\"cp_flag\"].apply(lambda x: {\"P\": 0, \"C\": 1}[x])"
   ]
  },
  {
   "cell_type": "code",
   "execution_count": 58,
   "id": "15ae2289-c5ed-478e-8baa-b95c1bc1ad1f",
   "metadata": {},
   "outputs": [
    {
     "data": {
      "text/html": [
       "<div>\n",
       "<style scoped>\n",
       "    .dataframe tbody tr th:only-of-type {\n",
       "        vertical-align: middle;\n",
       "    }\n",
       "\n",
       "    .dataframe tbody tr th {\n",
       "        vertical-align: top;\n",
       "    }\n",
       "\n",
       "    .dataframe thead th {\n",
       "        text-align: right;\n",
       "    }\n",
       "</style>\n",
       "<table border=\"1\" class=\"dataframe\">\n",
       "  <thead>\n",
       "    <tr style=\"text-align: right;\">\n",
       "      <th></th>\n",
       "      <th>Unnamed: 0</th>\n",
       "      <th>secid</th>\n",
       "      <th>date_x</th>\n",
       "      <th>exdate</th>\n",
       "      <th>cp_flag</th>\n",
       "      <th>strike_price</th>\n",
       "      <th>best_bid</th>\n",
       "      <th>best_offer</th>\n",
       "      <th>volume</th>\n",
       "      <th>open_interest</th>\n",
       "      <th>...</th>\n",
       "      <th>PriceDelayRsq</th>\n",
       "      <th>PriceDelaySlope</th>\n",
       "      <th>PriceDelayTstat</th>\n",
       "      <th>ReturnSkew</th>\n",
       "      <th>ReturnSkew3F</th>\n",
       "      <th>VolMkt</th>\n",
       "      <th>zerotrade</th>\n",
       "      <th>zerotradeAlt1</th>\n",
       "      <th>date_y</th>\n",
       "      <th>cp_flag_encoded</th>\n",
       "    </tr>\n",
       "  </thead>\n",
       "  <tbody>\n",
       "    <tr>\n",
       "      <th>274789</th>\n",
       "      <td>274789</td>\n",
       "      <td>106595</td>\n",
       "      <td>2000-05-31</td>\n",
       "      <td>2000-12-16 00:00:00</td>\n",
       "      <td>P</td>\n",
       "      <td>70.0</td>\n",
       "      <td>25.625</td>\n",
       "      <td>26.125</td>\n",
       "      <td>7</td>\n",
       "      <td>274</td>\n",
       "      <td>...</td>\n",
       "      <td>0.060991</td>\n",
       "      <td>-1.442144</td>\n",
       "      <td>3.476541</td>\n",
       "      <td>-0.655572</td>\n",
       "      <td>0.371303</td>\n",
       "      <td>-0.496454</td>\n",
       "      <td>4.056570e-09</td>\n",
       "      <td>3.674683e-09</td>\n",
       "      <td>2000-05-01</td>\n",
       "      <td>0</td>\n",
       "    </tr>\n",
       "    <tr>\n",
       "      <th>1364641</th>\n",
       "      <td>1364641</td>\n",
       "      <td>110337</td>\n",
       "      <td>2010-01-29</td>\n",
       "      <td>2010-05-22 00:00:00</td>\n",
       "      <td>P</td>\n",
       "      <td>30.0</td>\n",
       "      <td>0.600</td>\n",
       "      <td>0.650</td>\n",
       "      <td>26</td>\n",
       "      <td>1135</td>\n",
       "      <td>...</td>\n",
       "      <td>0.045057</td>\n",
       "      <td>0.169043</td>\n",
       "      <td>1.405088</td>\n",
       "      <td>0.126718</td>\n",
       "      <td>-0.215996</td>\n",
       "      <td>-0.118171</td>\n",
       "      <td>1.836249e-08</td>\n",
       "      <td>1.649014e-08</td>\n",
       "      <td>2010-01-01</td>\n",
       "      <td>0</td>\n",
       "    </tr>\n",
       "    <tr>\n",
       "      <th>1698928</th>\n",
       "      <td>1698928</td>\n",
       "      <td>124758</td>\n",
       "      <td>2012-09-28</td>\n",
       "      <td>2012-11-17 00:00:00</td>\n",
       "      <td>P</td>\n",
       "      <td>210.0</td>\n",
       "      <td>5.500</td>\n",
       "      <td>5.650</td>\n",
       "      <td>8</td>\n",
       "      <td>626</td>\n",
       "      <td>...</td>\n",
       "      <td>0.040684</td>\n",
       "      <td>-0.754100</td>\n",
       "      <td>4.078746</td>\n",
       "      <td>-0.059801</td>\n",
       "      <td>0.020356</td>\n",
       "      <td>-0.455071</td>\n",
       "      <td>5.004222e-09</td>\n",
       "      <td>4.835528e-09</td>\n",
       "      <td>2012-09-01</td>\n",
       "      <td>0</td>\n",
       "    </tr>\n",
       "  </tbody>\n",
       "</table>\n",
       "<p>3 rows × 49 columns</p>\n",
       "</div>"
      ],
      "text/plain": [
       "         Unnamed: 0   secid     date_x               exdate cp_flag  \\\n",
       "274789       274789  106595 2000-05-31  2000-12-16 00:00:00       P   \n",
       "1364641     1364641  110337 2010-01-29  2010-05-22 00:00:00       P   \n",
       "1698928     1698928  124758 2012-09-28  2012-11-17 00:00:00       P   \n",
       "\n",
       "         strike_price  best_bid  best_offer  volume  open_interest  ...  \\\n",
       "274789           70.0    25.625      26.125       7            274  ...   \n",
       "1364641          30.0     0.600       0.650      26           1135  ...   \n",
       "1698928         210.0     5.500       5.650       8            626  ...   \n",
       "\n",
       "         PriceDelayRsq  PriceDelaySlope  PriceDelayTstat  ReturnSkew  \\\n",
       "274789        0.060991        -1.442144         3.476541   -0.655572   \n",
       "1364641       0.045057         0.169043         1.405088    0.126718   \n",
       "1698928       0.040684        -0.754100         4.078746   -0.059801   \n",
       "\n",
       "         ReturnSkew3F    VolMkt     zerotrade  zerotradeAlt1      date_y  \\\n",
       "274789       0.371303 -0.496454  4.056570e-09   3.674683e-09  2000-05-01   \n",
       "1364641     -0.215996 -0.118171  1.836249e-08   1.649014e-08  2010-01-01   \n",
       "1698928      0.020356 -0.455071  5.004222e-09   4.835528e-09  2012-09-01   \n",
       "\n",
       "         cp_flag_encoded  \n",
       "274789                 0  \n",
       "1364641                0  \n",
       "1698928                0  \n",
       "\n",
       "[3 rows x 49 columns]"
      ]
     },
     "execution_count": 58,
     "metadata": {},
     "output_type": "execute_result"
    }
   ],
   "source": [
    "option_with_feature.sample(3)"
   ]
  },
  {
   "cell_type": "code",
   "execution_count": 59,
   "id": "a3524ee6-8112-4111-ada1-426c6a37636f",
   "metadata": {},
   "outputs": [],
   "source": [
    "year = 1996\n",
    "begin_date = dt.datetime.strptime(f\"{year}-01-01\", \"%Y-%m-%d\")\n",
    "end_date = dt.datetime.strptime(f\"{year+4}-12-31\", \"%Y-%m-%d\")\n",
    "training_data = option_with_feature[\n",
    "    option_with_feature.date_x.between(begin_date, end_date)\n",
    "]\n"
   ]
  },
  {
   "cell_type": "code",
   "execution_count": 60,
   "id": "24c4852a-52b1-46a9-a88b-9c0ea341da5c",
   "metadata": {},
   "outputs": [],
   "source": [
    "def train_validation_test_split(option_with_feature, year):\n",
    "    begin_date = dt.datetime.strptime(f\"{year}-01-01\", \"%Y-%m-%d\")\n",
    "    end_date = dt.datetime.strptime(f\"{year+4}-12-31\", \"%Y-%m-%d\")\n",
    "    training_data = option_with_feature[\n",
    "        option_with_feature.date_x.between(begin_date, end_date)\n",
    "    ]\n",
    "\n",
    "    begin_date = dt.datetime.strptime(f\"{year+5}-01-01\", \"%Y-%m-%d\")\n",
    "    end_date = dt.datetime.strptime(f\"{year+6}-12-31\", \"%Y-%m-%d\")\n",
    "    validation_data = option_with_feature[\n",
    "        option_with_feature.date_x.between(begin_date, end_date)\n",
    "    ]\n",
    "\n",
    "    begin_date = dt.datetime.strptime(f\"{year+7}-01-01\", \"%Y-%m-%d\")\n",
    "    end_date = dt.datetime.strptime(f\"{year+7}-12-31\", \"%Y-%m-%d\")\n",
    "    test_data = option_with_feature[\n",
    "        option_with_feature.date_x.between(begin_date, end_date)\n",
    "    ]\n",
    "    \n",
    "    return training_data, validation_data, test_data"
   ]
  },
  {
   "cell_type": "code",
   "execution_count": null,
   "id": "80bdac80-a72c-495a-a94f-96f82d365df0",
   "metadata": {},
   "outputs": [
    {
     "name": "stderr",
     "output_type": "stream",
     "text": [
      "/Users/zhangjin/anaconda3/envs/aqf/lib/python3.8/site-packages/sklearn/linear_model/_coordinate_descent.py:647: ConvergenceWarning: Objective did not converge. You might want to increase the number of iterations, check the scale of the features or consider increasing regularisation. Duality gap: 4.022e+06, tolerance: 3.036e+04\n",
      "  model = cd_fast.enet_coordinate_descent(\n",
      "/Users/zhangjin/anaconda3/envs/aqf/lib/python3.8/site-packages/sklearn/linear_model/_coordinate_descent.py:647: ConvergenceWarning: Objective did not converge. You might want to increase the number of iterations, check the scale of the features or consider increasing regularisation. Duality gap: 4.022e+06, tolerance: 3.036e+04\n",
      "  model = cd_fast.enet_coordinate_descent(\n",
      "/Users/zhangjin/anaconda3/envs/aqf/lib/python3.8/site-packages/sklearn/linear_model/_coordinate_descent.py:647: ConvergenceWarning: Objective did not converge. You might want to increase the number of iterations, check the scale of the features or consider increasing regularisation. Duality gap: 4.022e+06, tolerance: 3.036e+04\n",
      "  model = cd_fast.enet_coordinate_descent(\n",
      "/Users/zhangjin/anaconda3/envs/aqf/lib/python3.8/site-packages/sklearn/linear_model/_coordinate_descent.py:647: ConvergenceWarning: Objective did not converge. You might want to increase the number of iterations, check the scale of the features or consider increasing regularisation. Duality gap: 4.022e+06, tolerance: 3.036e+04\n",
      "  model = cd_fast.enet_coordinate_descent(\n"
     ]
    },
    {
     "name": "stdout",
     "output_type": "stream",
     "text": [
      "best_alpha: 0.01\n"
     ]
    },
    {
     "name": "stderr",
     "output_type": "stream",
     "text": [
      "/Users/zhangjin/anaconda3/envs/aqf/lib/python3.8/site-packages/sklearn/linear_model/_coordinate_descent.py:647: ConvergenceWarning: Objective did not converge. You might want to increase the number of iterations, check the scale of the features or consider increasing regularisation. Duality gap: 4.022e+06, tolerance: 3.036e+04\n",
      "  model = cd_fast.enet_coordinate_descent(\n"
     ]
    },
    {
     "name": "stdout",
     "output_type": "stream",
     "text": [
      "1996 166.76980956051264 -0.00030985500631475205 -0.00018974126755910703\n",
      "best_alpha: 0.01\n",
      "1997 9.527369188423148 -0.0022886352095055074 -0.002287908881796419\n"
     ]
    },
    {
     "name": "stderr",
     "output_type": "stream",
     "text": [
      "/Users/zhangjin/anaconda3/envs/aqf/lib/python3.8/site-packages/sklearn/linear_model/_coordinate_descent.py:647: ConvergenceWarning: Objective did not converge. You might want to increase the number of iterations, check the scale of the features or consider increasing regularisation. Duality gap: 1.762e+07, tolerance: 3.003e+04\n",
      "  model = cd_fast.enet_coordinate_descent(\n",
      "/Users/zhangjin/anaconda3/envs/aqf/lib/python3.8/site-packages/sklearn/linear_model/_coordinate_descent.py:647: ConvergenceWarning: Objective did not converge. You might want to increase the number of iterations, check the scale of the features or consider increasing regularisation. Duality gap: 1.762e+07, tolerance: 3.003e+04\n",
      "  model = cd_fast.enet_coordinate_descent(\n",
      "/Users/zhangjin/anaconda3/envs/aqf/lib/python3.8/site-packages/sklearn/linear_model/_coordinate_descent.py:647: ConvergenceWarning: Objective did not converge. You might want to increase the number of iterations, check the scale of the features or consider increasing regularisation. Duality gap: 1.762e+07, tolerance: 3.003e+04\n",
      "  model = cd_fast.enet_coordinate_descent(\n",
      "/Users/zhangjin/anaconda3/envs/aqf/lib/python3.8/site-packages/sklearn/linear_model/_coordinate_descent.py:647: ConvergenceWarning: Objective did not converge. You might want to increase the number of iterations, check the scale of the features or consider increasing regularisation. Duality gap: 1.762e+07, tolerance: 3.003e+04\n",
      "  model = cd_fast.enet_coordinate_descent(\n"
     ]
    },
    {
     "name": "stdout",
     "output_type": "stream",
     "text": [
      "best_alpha: 0.01\n"
     ]
    },
    {
     "name": "stderr",
     "output_type": "stream",
     "text": [
      "/Users/zhangjin/anaconda3/envs/aqf/lib/python3.8/site-packages/sklearn/linear_model/_coordinate_descent.py:647: ConvergenceWarning: Objective did not converge. You might want to increase the number of iterations, check the scale of the features or consider increasing regularisation. Duality gap: 1.762e+07, tolerance: 3.003e+04\n",
      "  model = cd_fast.enet_coordinate_descent(\n"
     ]
    },
    {
     "name": "stdout",
     "output_type": "stream",
     "text": [
      "1998 237.72856970328567 3.760294894639138e-05 6.788252116152194e-05\n"
     ]
    },
    {
     "name": "stderr",
     "output_type": "stream",
     "text": [
      "/Users/zhangjin/anaconda3/envs/aqf/lib/python3.8/site-packages/sklearn/linear_model/_coordinate_descent.py:647: ConvergenceWarning: Objective did not converge. You might want to increase the number of iterations, check the scale of the features or consider increasing regularisation. Duality gap: 2.244e+05, tolerance: 2.858e+04\n",
      "  model = cd_fast.enet_coordinate_descent(\n"
     ]
    },
    {
     "name": "stdout",
     "output_type": "stream",
     "text": [
      "best_alpha: 0.1\n",
      "1999 108.3464190704547 -6.924315263412417e-05 -4.005933637030168e-05\n",
      "best_alpha: 0.01\n",
      "2000 198.34659270379444 -0.00021006109287569075 -0.000125477467088686\n",
      "best_alpha: 0.01\n",
      "2001 159.11894204727574 9.148912340795068e-05 0.00013397727607622478\n",
      "best_alpha: 0.1\n",
      "2002 54.26285501993854 1.4720226684250548e-06 5.744248232741889e-06\n",
      "best_alpha: 0.01\n",
      "2003 2170.265862511556 -1.7956905667970702e-05 -7.000226793119069e-06\n"
     ]
    },
    {
     "name": "stderr",
     "output_type": "stream",
     "text": [
      "/Users/zhangjin/anaconda3/envs/aqf/lib/python3.8/site-packages/sklearn/linear_model/_coordinate_descent.py:647: ConvergenceWarning: Objective did not converge. You might want to increase the number of iterations, check the scale of the features or consider increasing regularisation. Duality gap: 1.427e+07, tolerance: 9.607e+03\n",
      "  model = cd_fast.enet_coordinate_descent(\n",
      "/Users/zhangjin/anaconda3/envs/aqf/lib/python3.8/site-packages/sklearn/linear_model/_coordinate_descent.py:647: ConvergenceWarning: Objective did not converge. You might want to increase the number of iterations, check the scale of the features or consider increasing regularisation. Duality gap: 1.427e+07, tolerance: 9.607e+03\n",
      "  model = cd_fast.enet_coordinate_descent(\n",
      "/Users/zhangjin/anaconda3/envs/aqf/lib/python3.8/site-packages/sklearn/linear_model/_coordinate_descent.py:647: ConvergenceWarning: Objective did not converge. You might want to increase the number of iterations, check the scale of the features or consider increasing regularisation. Duality gap: 1.427e+07, tolerance: 9.607e+03\n",
      "  model = cd_fast.enet_coordinate_descent(\n"
     ]
    }
   ],
   "source": [
    "# suppress the warning of \n",
    "#   \"A value is trying to be set on a copy of a slice from a DataFrame. \n",
    "#   Try using .loc[row_indexer,col_indexer] = value instead\"\n",
    "pd.options.mode.chained_assignment = None \n",
    "\n",
    "mean_squared_errors = []\n",
    "r2_scores = []\n",
    "R_squared_OSXS_s = []\n",
    "\n",
    "for year in range(1996, 2020-7):\n",
    "    training_data, validation_data, test_data = train_validation_test_split(option_with_feature, year)\n",
    "    \n",
    "    used_characteristics = ['volume', 'ReturnSkew', 'MaxRet', 'delta', 'PriceDelaySlope', 'strike_price', \n",
    "                        'IdioVol3F', 'ReturnSkew3F', 'ir_rate', 'mid_price', 'forwardprice', \n",
    "                        'zerotradeAlt1', 'theta', 'cfadj', 'zerotrade', 'best_bid', 'spotprice', 'VolMkt', \n",
    "                        'IdioRisk', 'days_to_exp', 'PriceDelayTstat', 'High52', 'Coskewness', 'BidAskSpread', \n",
    "                        'Beta', 'days_no_trading', 'open_interest', 'impl_volatility', 'PriceDelayRsq', 'IdioVolAHT', \n",
    "                        'adj_spot', 'vega', 'gamma', 'best_offer', 'DolVol', 'cp_flag_encoded']\n",
    "\n",
    "    imp = SimpleImputer(missing_values=np.nan, strategy='mean')\n",
    "    imp.fit(training_data[used_characteristics])\n",
    "    training_data.loc[:, used_characteristics] = imp.transform(training_data[used_characteristics])\n",
    "    validation_data.loc[:, used_characteristics] = imp.transform(validation_data[used_characteristics])\n",
    "    test_data.loc[:, used_characteristics] = imp.transform(test_data[used_characteristics])\n",
    "\n",
    "    X_train = training_data[used_characteristics + [\"date_x\", \"optionid\"] ]\n",
    "    y_train = training_data['option_ret']\n",
    "    \n",
    "    X_val = validation_data[used_characteristics + [\"date_x\", \"optionid\"] ]\n",
    "    y_val = validation_data['option_ret']\n",
    "\n",
    "    X_test = test_data[used_characteristics + [\"date_x\", \"optionid\"]]\n",
    "    y_test = test_data['option_ret']\n",
    "    \n",
    "\n",
    "    # tuning hyperparameter on validation set\n",
    "    best_alpha = 0.1\n",
    "    best_r2_score = None\n",
    "    for alpha in [0.01, 0.1, 0.5, 1, 5]:\n",
    "        reg = linear_model.Lasso(random_state=0, alpha=best_alpha)\n",
    "        reg.fit(X_train[used_characteristics], y_train)\n",
    "        y_pred = reg.predict(X_val[used_characteristics])\n",
    "        r2_score_ = r2_score(y_val, y_pred)\n",
    "        if best_r2_score is None or r2_score_ > best_r2_score:\n",
    "            best_alpha = alpha \n",
    "            best_r2_score = r2_score_\n",
    "    print(f\"best_alpha: {best_alpha}\")\n",
    "    # regression    \n",
    "    reg = linear_model.Lasso(random_state=0, alpha=best_alpha)\n",
    "    reg.fit(X_train[used_characteristics], y_train)\n",
    "    y_pred = reg.predict(X_test[used_characteristics])\n",
    "    mean_squared_errors.append(mean_squared_error(y_test, y_pred))\n",
    "    r2_scores.append(r2_score(y_test, y_pred))\n",
    "    R_squared_OSXS_s.append(R_squared_OSXS(y_test, y_pred))\n",
    "    print(year, mean_squared_errors[-1], r2_scores[-1], R_squared_OSXS_s[-1])\n",
    "    "
   ]
  },
  {
   "cell_type": "code",
   "execution_count": 289,
   "id": "bee39299-3720-41d1-81b8-950a9482d29f",
   "metadata": {},
   "outputs": [
    {
     "data": {
      "text/plain": [
       "{'alpha': 1.0,\n",
       " 'copy_X': True,\n",
       " 'fit_intercept': True,\n",
       " 'max_iter': 1000,\n",
       " 'normalize': 'deprecated',\n",
       " 'positive': False,\n",
       " 'precompute': False,\n",
       " 'random_state': 0,\n",
       " 'selection': 'cyclic',\n",
       " 'tol': 0.0001,\n",
       " 'warm_start': False}"
      ]
     },
     "execution_count": 289,
     "metadata": {},
     "output_type": "execute_result"
    }
   ],
   "source": [
    "reg.get_params()"
   ]
  },
  {
   "cell_type": "code",
   "execution_count": 288,
   "id": "750048b3-0761-494a-9233-78b361b379cc",
   "metadata": {},
   "outputs": [
    {
     "data": {
      "text/plain": [
       "<matplotlib.legend.Legend at 0x7fc50cbc6e20>"
      ]
     },
     "execution_count": 288,
     "metadata": {},
     "output_type": "execute_result"
    },
    {
     "data": {
      "image/png": "[encoded data removed]",
      "text/plain": [
       "<Figure size 432x288 with 1 Axes>"
      ]
     },
     "metadata": {
      "needs_background": "light"
     },
     "output_type": "display_data"
    }
   ],
   "source": [
    "plt.plot(r2_scores)\n",
    "plt.plot(R_squared_OSXS_s)\n",
    "plt.legend([\"r2_score\", \"R_squared_OSXS\"])"
   ]
  },
  {
   "cell_type": "code",
   "execution_count": 286,
   "id": "feab1ef5-ba9d-4336-9e63-1494678a89e8",
   "metadata": {},
   "outputs": [
    {
     "data": {
      "text/plain": [
       "[<matplotlib.lines.Line2D at 0x7fc9245993a0>]"
      ]
     },
     "execution_count": 286,
     "metadata": {},
     "output_type": "execute_result"
    },
    {
     "data": {
      "image/png": "[encoded data removed]",
      "text/plain": [
       "<Figure size 432x288 with 1 Axes>"
      ]
     },
     "metadata": {
      "needs_background": "light"
     },
     "output_type": "display_data"
    }
   ],
   "source": []
  },
  {
   "cell_type": "code",
   "execution_count": null,
   "id": "2132a844-6305-4af3-80c9-912a46f7e86b",
   "metadata": {},
   "outputs": [],
   "source": []
  },
  {
   "cell_type": "code",
   "execution_count": 216,
   "id": "cecc07ef-576a-446f-9648-6243b793e237",
   "metadata": {},
   "outputs": [],
   "source": []
  },
  {
   "cell_type": "code",
   "execution_count": 60,
   "id": "5e77b209-e84e-4478-b0b7-4ab8d9d7eed9",
   "metadata": {},
   "outputs": [],
   "source": [
    "training_data, validation_data, test_data = train_validation_test_split(option_with_feature, 1996)"
   ]
  },
  {
   "cell_type": "code",
   "execution_count": 61,
   "id": "ff893dc2-4dae-4d22-a6d8-d9a6b54403b2",
   "metadata": {},
   "outputs": [
    {
     "data": {
      "text/plain": [
       "(336797, 153810, 77333)"
      ]
     },
     "execution_count": 61,
     "metadata": {},
     "output_type": "execute_result"
    }
   ],
   "source": [
    "training_data.shape[0], validation_data.shape[0], test_data.shape[0]"
   ]
  },
  {
   "cell_type": "code",
   "execution_count": 62,
   "id": "09b1562c-a568-400e-b270-6360c075c547",
   "metadata": {},
   "outputs": [
    {
     "data": {
      "text/plain": [
       "(77333, 39123)"
      ]
     },
     "execution_count": 62,
     "metadata": {},
     "output_type": "execute_result"
    }
   ],
   "source": [
    "len(test_data.optionid), len(set(test_data.optionid))"
   ]
  },
  {
   "cell_type": "code",
   "execution_count": null,
   "id": "8ee359ec-8cca-4df7-963c-1fd7e72c4426",
   "metadata": {},
   "outputs": [],
   "source": []
  },
  {
   "cell_type": "code",
   "execution_count": 63,
   "id": "a90de6cb-fb83-468b-92a9-a44396f1450d",
   "metadata": {},
   "outputs": [
    {
     "data": {
      "text/plain": [
       "Index(['Unnamed: 0', 'secid', 'date_x', 'exdate', 'cp_flag', 'strike_price',\n",
       "       'best_bid', 'best_offer', 'volume', 'open_interest', 'impl_volatility',\n",
       "       'delta', 'gamma', 'vega', 'theta', 'optionid', 'cfadj',\n",
       "       'days_no_trading', 'days_to_exp', 'forwardprice', 'spotprice',\n",
       "       'adj_spot', 'ir_rate', 'mid_price', 'option_ret', 'sdate', 'edate',\n",
       "       'permno', 'date2', 'yyyymm', 'Beta', 'BidAskSpread', 'Coskewness',\n",
       "       'DolVol', 'High52', 'IdioRisk', 'IdioVol3F', 'IdioVolAHT', 'MaxRet',\n",
       "       'PriceDelayRsq', 'PriceDelaySlope', 'PriceDelayTstat', 'ReturnSkew',\n",
       "       'ReturnSkew3F', 'VolMkt', 'zerotrade', 'zerotradeAlt1', 'date_y',\n",
       "       'cp_flag_encoded'],\n",
       "      dtype='object')"
      ]
     },
     "execution_count": 63,
     "metadata": {},
     "output_type": "execute_result"
    }
   ],
   "source": [
    "option_with_feature.columns"
   ]
  },
  {
   "cell_type": "code",
   "execution_count": 206,
   "id": "adfd5839-dde3-4dbf-a624-5c583831f003",
   "metadata": {},
   "outputs": [
    {
     "name": "stderr",
     "output_type": "stream",
     "text": [
      "/var/folders/nh/s3ft86ks12xd4qdptmv1pvtc0000gn/T/ipykernel_63350/178259893.py:10: SettingWithCopyWarning: \n",
      "A value is trying to be set on a copy of a slice from a DataFrame.\n",
      "Try using .loc[row_indexer,col_indexer] = value instead\n",
      "\n",
      "See the caveats in the documentation: https://pandas.pydata.org/pandas-docs/stable/user_guide/indexing.html#returning-a-view-versus-a-copy\n",
      "  training_data.loc[:, used_characteristics] = imp.transform(training_data[used_characteristics])\n",
      "/var/folders/nh/s3ft86ks12xd4qdptmv1pvtc0000gn/T/ipykernel_63350/178259893.py:11: SettingWithCopyWarning: \n",
      "A value is trying to be set on a copy of a slice from a DataFrame.\n",
      "Try using .loc[row_indexer,col_indexer] = value instead\n",
      "\n",
      "See the caveats in the documentation: https://pandas.pydata.org/pandas-docs/stable/user_guide/indexing.html#returning-a-view-versus-a-copy\n",
      "  test_data.loc[:, used_characteristics] = imp.transform(test_data[used_characteristics])\n"
     ]
    }
   ],
   "source": [
    "used_characteristics = ['volume', 'ReturnSkew', 'MaxRet', 'delta', 'PriceDelaySlope', 'strike_price', \n",
    "                        'IdioVol3F', 'ReturnSkew3F', 'ir_rate', 'mid_price', 'forwardprice', \n",
    "                        'zerotradeAlt1', 'theta', 'cfadj', 'zerotrade', 'best_bid', 'spotprice', 'VolMkt', \n",
    "                        'IdioRisk', 'days_to_exp', 'PriceDelayTstat', 'High52', 'Coskewness', 'BidAskSpread', \n",
    "                        'Beta', 'days_no_trading', 'open_interest', 'impl_volatility', 'PriceDelayRsq', 'IdioVolAHT', \n",
    "                        'adj_spot', 'vega', 'gamma', 'best_offer', 'DolVol', 'cp_flag_encoded']\n",
    "\n",
    "imp = SimpleImputer(missing_values=np.nan, strategy='mean')\n",
    "imp.fit(training_data[used_characteristics])\n",
    "training_data.loc[:, used_characteristics] = imp.transform(training_data[used_characteristics])\n",
    "test_data.loc[:, used_characteristics] = imp.transform(test_data[used_characteristics])\n",
    "\n",
    "X_train = training_data[used_characteristics + [\"date_x\", \"optionid\"] ]\n",
    "y_train = training_data['option_ret']\n",
    "\n",
    "X_test = test_data[used_characteristics + [\"date_x\", \"optionid\"]]\n",
    "y_test = test_data['option_ret']\n",
    "\n",
    "\n",
    "# X_train.loc[:, used_characteristics] = imp.transform(X_train[used_characteristics])\n",
    "# X_test.loc[:, used_characteristics]  = imp.transform(X_test[used_characteristics])\n",
    "\n",
    "# for char in [\"date_x\", \"optionid\"]:\n",
    "    # X_train[char] = training_data[char]\n",
    "    # X_test[char]  = test_data[char]"
   ]
  },
  {
   "cell_type": "code",
   "execution_count": 167,
   "id": "f46681d7-0ef9-4801-913d-70958110ed6e",
   "metadata": {},
   "outputs": [
    {
     "data": {
      "text/plain": [
       "((336797,), (336797,))"
      ]
     },
     "execution_count": 167,
     "metadata": {},
     "output_type": "execute_result"
    }
   ],
   "source": [
    "training_data[\"optionid\"].shape, training_data[\"optionid\"].dropna().shape\n",
    "# training_data[\"date_x\"].shape, training_data[\"date_x\"].dropna().shape"
   ]
  },
  {
   "cell_type": "code",
   "execution_count": 168,
   "id": "2dcf3ac1-35f4-4645-a988-57de665743d2",
   "metadata": {},
   "outputs": [
    {
     "data": {
      "text/plain": [
       "((336797, 39),\n",
       " (336797, 2),\n",
       " optionid    336797\n",
       " optionid    336797\n",
       " dtype: int64)"
      ]
     },
     "execution_count": 168,
     "metadata": {},
     "output_type": "execute_result"
    }
   ],
   "source": [
    "X_train.shape, X_train[\"optionid\"].dropna().shape, (~X_train[\"optionid\"].isna()).sum()"
   ]
  },
  {
   "cell_type": "code",
   "execution_count": 169,
   "id": "92cd252f-a68a-4aad-8111-ffd483eb32c5",
   "metadata": {},
   "outputs": [
    {
     "data": {
      "text/plain": [
       "((336797,), (336797,))"
      ]
     },
     "execution_count": 169,
     "metadata": {},
     "output_type": "execute_result"
    }
   ],
   "source": [
    "y_train.shape, y_train.dropna().shape"
   ]
  },
  {
   "cell_type": "code",
   "execution_count": 170,
   "id": "4e9a5930-2497-4ad8-83a3-f06c9eed4a7d",
   "metadata": {},
   "outputs": [
    {
     "data": {
      "text/plain": [
       "((336797, 38), (336797, 38))"
      ]
     },
     "execution_count": 170,
     "metadata": {},
     "output_type": "execute_result"
    }
   ],
   "source": [
    "X_train[used_characteristics].shape, X_train[used_characteristics].dropna().shape"
   ]
  },
  {
   "cell_type": "code",
   "execution_count": 171,
   "id": "919956da-12a6-40ce-9a35-1c927497079a",
   "metadata": {},
   "outputs": [
    {
     "data": {
      "text/html": [
       "<div>\n",
       "<style scoped>\n",
       "    .dataframe tbody tr th:only-of-type {\n",
       "        vertical-align: middle;\n",
       "    }\n",
       "\n",
       "    .dataframe tbody tr th {\n",
       "        vertical-align: top;\n",
       "    }\n",
       "\n",
       "    .dataframe thead th {\n",
       "        text-align: right;\n",
       "    }\n",
       "</style>\n",
       "<table border=\"1\" class=\"dataframe\">\n",
       "  <thead>\n",
       "    <tr style=\"text-align: right;\">\n",
       "      <th></th>\n",
       "      <th>volume</th>\n",
       "      <th>ReturnSkew</th>\n",
       "      <th>MaxRet</th>\n",
       "      <th>delta</th>\n",
       "      <th>PriceDelaySlope</th>\n",
       "      <th>strike_price</th>\n",
       "      <th>IdioVol3F</th>\n",
       "      <th>ReturnSkew3F</th>\n",
       "      <th>optionid</th>\n",
       "      <th>ir_rate</th>\n",
       "      <th>...</th>\n",
       "      <th>PriceDelayRsq</th>\n",
       "      <th>IdioVolAHT</th>\n",
       "      <th>adj_spot</th>\n",
       "      <th>vega</th>\n",
       "      <th>gamma</th>\n",
       "      <th>best_offer</th>\n",
       "      <th>DolVol</th>\n",
       "      <th>cp_flag_encoded</th>\n",
       "      <th>date_x</th>\n",
       "      <th>optionid</th>\n",
       "    </tr>\n",
       "  </thead>\n",
       "  <tbody>\n",
       "  </tbody>\n",
       "</table>\n",
       "<p>0 rows × 39 columns</p>\n",
       "</div>"
      ],
      "text/plain": [
       "Empty DataFrame\n",
       "Columns: [volume, ReturnSkew, MaxRet, delta, PriceDelaySlope, strike_price, IdioVol3F, ReturnSkew3F, optionid, ir_rate, mid_price, forwardprice, zerotradeAlt1, theta, cfadj, zerotrade, best_bid, spotprice, VolMkt, IdioRisk, days_to_exp, PriceDelayTstat, High52, Coskewness, BidAskSpread, Beta, days_no_trading, open_interest, impl_volatility, PriceDelayRsq, IdioVolAHT, adj_spot, vega, gamma, best_offer, DolVol, cp_flag_encoded, date_x, optionid]\n",
       "Index: []\n",
       "\n",
       "[0 rows x 39 columns]"
      ]
     },
     "execution_count": 171,
     "metadata": {},
     "output_type": "execute_result"
    }
   ],
   "source": [
    "X_train[X_train.isnull().any(axis=1)]"
   ]
  },
  {
   "cell_type": "markdown",
   "id": "ad270bd3-7e01-4f07-bcac-6085d7e71a27",
   "metadata": {},
   "source": [
    "## Linear regression"
   ]
  },
  {
   "cell_type": "code",
   "execution_count": 211,
   "id": "bfb1ccaf-ecb8-4ec5-98a7-6f3d0e7af165",
   "metadata": {},
   "outputs": [],
   "source": [
    "import numpy as np\n",
    "from sklearn.linear_model import LinearRegression"
   ]
  },
  {
   "cell_type": "code",
   "execution_count": 212,
   "id": "13053d44-3857-46b5-a232-240fb449d336",
   "metadata": {},
   "outputs": [],
   "source": [
    "from sklearn.metrics import mean_squared_error, r2_score\n",
    "from sklearn.model_selection import train_test_split"
   ]
  },
  {
   "cell_type": "code",
   "execution_count": 213,
   "id": "ead55f6e-ee22-4770-9000-4b7ab47fcc99",
   "metadata": {},
   "outputs": [],
   "source": [
    "from sklearn import linear_model"
   ]
  },
  {
   "cell_type": "markdown",
   "id": "85aaf141-c043-4289-bd69-733d16150f4e",
   "metadata": {},
   "source": [
    "### Ridge"
   ]
  },
  {
   "cell_type": "code",
   "execution_count": 214,
   "id": "c50f006d-060a-457e-9d26-7d8e644567de",
   "metadata": {},
   "outputs": [
    {
     "data": {
      "text/plain": [
       "Ridge()"
      ]
     },
     "execution_count": 214,
     "metadata": {},
     "output_type": "execute_result"
    }
   ],
   "source": [
    "ridge_reg = linear_model.Ridge()\n",
    "ridge_reg.fit(X_train[used_characteristics], y_train)"
   ]
  },
  {
   "cell_type": "code",
   "execution_count": 215,
   "id": "228826d4-55f3-4441-b8c5-b3d9955c0670",
   "metadata": {},
   "outputs": [],
   "source": [
    "y_pred = ridge_reg.predict(X_test[used_characteristics])"
   ]
  },
  {
   "cell_type": "code",
   "execution_count": 216,
   "id": "c06b51ae-679c-47da-ab22-50077fe26753",
   "metadata": {},
   "outputs": [
    {
     "data": {
      "text/plain": [
       "168.56600934104534"
      ]
     },
     "execution_count": 216,
     "metadata": {},
     "output_type": "execute_result"
    }
   ],
   "source": [
    "mean_squared_error(y_test, y_pred)"
   ]
  },
  {
   "cell_type": "code",
   "execution_count": 217,
   "id": "2f15bc66-4830-4e99-ae04-f9b9bde3a915",
   "metadata": {},
   "outputs": [
    {
     "data": {
      "text/plain": [
       "-0.011083725569350333"
      ]
     },
     "execution_count": 217,
     "metadata": {},
     "output_type": "execute_result"
    }
   ],
   "source": [
    "r2_score(y_test, y_pred)"
   ]
  },
  {
   "cell_type": "code",
   "execution_count": 218,
   "id": "766da158-10e0-45f6-aef8-a173c770a030",
   "metadata": {},
   "outputs": [
    {
     "data": {
      "text/plain": [
       "-0.00041120131518823655"
      ]
     },
     "execution_count": 218,
     "metadata": {},
     "output_type": "execute_result"
    }
   ],
   "source": [
    "R_squared_OSXS(y_test, y_pred)"
   ]
  },
  {
   "cell_type": "markdown",
   "id": "f50f1c97-a9fa-4694-aef0-334165b19b67",
   "metadata": {},
   "source": [
    "### Lasso"
   ]
  },
  {
   "cell_type": "code",
   "execution_count": 219,
   "id": "7e7d062e-1a6a-4377-b30b-9e4ca98c05d0",
   "metadata": {},
   "outputs": [
    {
     "data": {
      "text/plain": [
       "Lasso()"
      ]
     },
     "execution_count": 219,
     "metadata": {},
     "output_type": "execute_result"
    }
   ],
   "source": [
    "lasso_reg = linear_model.Lasso()\n",
    "lasso_reg.fit(X_train[used_characteristics], y_train)"
   ]
  },
  {
   "cell_type": "code",
   "execution_count": 220,
   "id": "3e51d8f3-efcc-40c2-8c18-b537ebeb33fb",
   "metadata": {},
   "outputs": [],
   "source": [
    "y_pred = lasso_reg.predict(X_test[used_characteristics])"
   ]
  },
  {
   "cell_type": "code",
   "execution_count": 221,
   "id": "9dd1797c-449a-4f56-a835-5129b612ba30",
   "metadata": {},
   "outputs": [
    {
     "data": {
      "text/plain": [
       "166.7580121954417"
      ]
     },
     "execution_count": 221,
     "metadata": {},
     "output_type": "execute_result"
    }
   ],
   "source": [
    "mean_squared_error(y_test, y_pred)"
   ]
  },
  {
   "cell_type": "code",
   "execution_count": 222,
   "id": "cb2c9609-97a0-4a22-a047-3c0b8c4aa2f0",
   "metadata": {},
   "outputs": [
    {
     "data": {
      "text/plain": [
       "-0.00023909267484323316"
      ]
     },
     "execution_count": 222,
     "metadata": {},
     "output_type": "execute_result"
    }
   ],
   "source": [
    "r2_score(y_test, y_pred)"
   ]
  },
  {
   "cell_type": "code",
   "execution_count": 223,
   "id": "0b4e6ac2-92e0-416b-87a9-4d854b87760d",
   "metadata": {},
   "outputs": [
    {
     "data": {
      "text/plain": [
       "-3.5643609293645184e-05"
      ]
     },
     "execution_count": 223,
     "metadata": {},
     "output_type": "execute_result"
    }
   ],
   "source": [
    "R_squared_OSXS(y_test, y_pred)"
   ]
  },
  {
   "cell_type": "code",
   "execution_count": 224,
   "id": "a0a6de10-88c2-4633-8fee-5ce8841f2a37",
   "metadata": {},
   "outputs": [],
   "source": [
    "# CW test"
   ]
  },
  {
   "cell_type": "code",
   "execution_count": 225,
   "id": "ca9c0570-e577-47ee-ab08-a4ff01d0db4b",
   "metadata": {},
   "outputs": [
    {
     "data": {
      "text/plain": [
       "490631    20832089\n",
       "490632    21386851\n",
       "490633    20387393\n",
       "490634    54376425\n",
       "490635    21340061\n",
       "            ...   \n",
       "567968    21201673\n",
       "567969    21259046\n",
       "567970    21224605\n",
       "567971    21233682\n",
       "567972    21247326\n",
       "Name: optionid, Length: 77333, dtype: int64"
      ]
     },
     "execution_count": 225,
     "metadata": {},
     "output_type": "execute_result"
    }
   ],
   "source": [
    "X_test.optionid"
   ]
  },
  {
   "cell_type": "code",
   "execution_count": 226,
   "id": "34b96372-5dcf-4c84-803d-91bc87cdb10b",
   "metadata": {},
   "outputs": [],
   "source": [
    "true_pred_return = pd.DataFrame(\n",
    "    {\n",
    "        \"optionid\": X_test.optionid,\n",
    "        \"time\": X_test.date_x,\n",
    "        \"true_return\": y_test,\n",
    "        \"pred_return\": y_pred\n",
    "    }\n",
    ")"
   ]
  },
  {
   "cell_type": "code",
   "execution_count": 227,
   "id": "559f7995-0df1-4c8b-b166-bdabddc64b0c",
   "metadata": {},
   "outputs": [
    {
     "data": {
      "text/plain": [
       "-0.007289892035047285"
      ]
     },
     "execution_count": 227,
     "metadata": {},
     "output_type": "execute_result"
    }
   ],
   "source": [
    "CW_test(true_pred_return)"
   ]
  },
  {
   "cell_type": "code",
   "execution_count": 228,
   "id": "32dd590c-4023-41ea-af96-a002d978498b",
   "metadata": {},
   "outputs": [],
   "source": [
    "# DW test"
   ]
  },
  {
   "cell_type": "code",
   "execution_count": 229,
   "id": "b2c706ca-897c-4462-a5f0-a5381632c4d2",
   "metadata": {},
   "outputs": [
    {
     "ename": "NameError",
     "evalue": "name 'true_pred_1vs2_return' is not defined",
     "output_type": "error",
     "traceback": [
      "\u001b[0;31m---------------------------------------------------------------------------\u001b[0m",
      "\u001b[0;31mNameError\u001b[0m                                 Traceback (most recent call last)",
      "Input \u001b[0;32mIn [229]\u001b[0m, in \u001b[0;36m<cell line: 1>\u001b[0;34m()\u001b[0m\n\u001b[0;32m----> 1\u001b[0m d \u001b[38;5;241m=\u001b[39m \u001b[38;5;241m1\u001b[39m \u001b[38;5;241m/\u001b[39m \u001b[43mtrue_pred_1vs2_return\u001b[49m\u001b[38;5;241m.\u001b[39mshape[\u001b[38;5;241m0\u001b[39m] \u001b[38;5;241m*\u001b[39m true_pred_1vs2_return\u001b[38;5;241m.\u001b[39mgroupby([\u001b[38;5;124m\"\u001b[39m\u001b[38;5;124moptionid\u001b[39m\u001b[38;5;124m\"\u001b[39m, \u001b[38;5;124m\"\u001b[39m\u001b[38;5;124mtime\u001b[39m\u001b[38;5;124m\"\u001b[39m])\u001b[38;5;241m.\u001b[39mapply(\n\u001b[1;32m      2\u001b[0m     \u001b[38;5;28;01mlambda\u001b[39;00m group:\n\u001b[1;32m      3\u001b[0m     \u001b[38;5;28msum\u001b[39m(\n\u001b[1;32m      4\u001b[0m         np\u001b[38;5;241m.\u001b[39mpower(group[\u001b[38;5;124m\"\u001b[39m\u001b[38;5;124mtrue_return\u001b[39m\u001b[38;5;124m\"\u001b[39m] \u001b[38;5;241m-\u001b[39m group[\u001b[38;5;124m\"\u001b[39m\u001b[38;5;124mpred_return1\u001b[39m\u001b[38;5;124m\"\u001b[39m], \u001b[38;5;241m2\u001b[39m)\n\u001b[1;32m      5\u001b[0m     \u001b[38;5;241m-\u001b[39m np\u001b[38;5;241m.\u001b[39mpower(group[\u001b[38;5;124m\"\u001b[39m\u001b[38;5;124mtrue_return\u001b[39m\u001b[38;5;124m\"\u001b[39m] \u001b[38;5;241m-\u001b[39m group[\u001b[38;5;124m\"\u001b[39m\u001b[38;5;124mpred_return2\u001b[39m\u001b[38;5;124m\"\u001b[39m], \u001b[38;5;241m2\u001b[39m)\n\u001b[1;32m      6\u001b[0m     )\n\u001b[1;32m      7\u001b[0m )\n",
      "\u001b[0;31mNameError\u001b[0m: name 'true_pred_1vs2_return' is not defined"
     ]
    }
   ],
   "source": [
    "d = 1 / true_pred_1vs2_return.shape[0] * true_pred_1vs2_return.groupby([\"optionid\", \"time\"]).apply(\n",
    "    lambda group:\n",
    "    sum(\n",
    "        np.power(group[\"true_return\"] - group[\"pred_return1\"], 2)\n",
    "    - np.power(group[\"true_return\"] - group[\"pred_return2\"], 2)\n",
    "    )\n",
    ")"
   ]
  },
  {
   "cell_type": "code",
   "execution_count": 230,
   "id": "29d4c454-0ed2-4a50-af52-fe070b17214e",
   "metadata": {},
   "outputs": [
    {
     "ename": "NameError",
     "evalue": "name 'd' is not defined",
     "output_type": "error",
     "traceback": [
      "\u001b[0;31m---------------------------------------------------------------------------\u001b[0m",
      "\u001b[0;31mNameError\u001b[0m                                 Traceback (most recent call last)",
      "Input \u001b[0;32mIn [230]\u001b[0m, in \u001b[0;36m<cell line: 1>\u001b[0;34m()\u001b[0m\n\u001b[0;32m----> 1\u001b[0m np\u001b[38;5;241m.\u001b[39mmean(\u001b[43md\u001b[49m) \u001b[38;5;241m/\u001b[39m np\u001b[38;5;241m.\u001b[39mstd(d)\n",
      "\u001b[0;31mNameError\u001b[0m: name 'd' is not defined"
     ]
    }
   ],
   "source": [
    "np.mean(d) / np.std(d)"
   ]
  },
  {
   "cell_type": "code",
   "execution_count": 136,
   "id": "093abce3-3ebf-4f01-9592-23be8eb8dc85",
   "metadata": {},
   "outputs": [
    {
     "data": {
      "text/plain": [
       "-2.781837086300935e-06"
      ]
     },
     "execution_count": 136,
     "metadata": {},
     "output_type": "execute_result"
    }
   ],
   "source": [
    "np.mean(c)"
   ]
  },
  {
   "cell_type": "markdown",
   "id": "0f5ff063-368b-445e-9f07-beb8084e13a6",
   "metadata": {},
   "source": [
    "### ElasticNet\n",
    "\n",
    "combines L1 and L2 punishment term"
   ]
  },
  {
   "cell_type": "code",
   "execution_count": 267,
   "id": "20962aef-3252-4cb5-b97e-76010e967975",
   "metadata": {},
   "outputs": [],
   "source": [
    "from sklearn.linear_model import ElasticNet"
   ]
  },
  {
   "cell_type": "code",
   "execution_count": 271,
   "id": "512bdddf-9626-405b-9a2b-ed1c63f67d47",
   "metadata": {},
   "outputs": [
    {
     "data": {
      "text/plain": [
       "ElasticNet()"
      ]
     },
     "execution_count": 271,
     "metadata": {},
     "output_type": "execute_result"
    }
   ],
   "source": [
    "elastic_reg = ElasticNet()\n",
    "elastic_reg.fit(X_train[used_characteristics], y_train)"
   ]
  },
  {
   "cell_type": "code",
   "execution_count": 272,
   "id": "a17fb48c-5bfe-48ea-9a46-4b2bdd6d03b6",
   "metadata": {},
   "outputs": [],
   "source": [
    "y_pred = elastic_reg.predict(X_test[used_characteristics])"
   ]
  },
  {
   "cell_type": "code",
   "execution_count": 273,
   "id": "ae1f399f-0ddd-4433-90a6-607b238c27a8",
   "metadata": {},
   "outputs": [
    {
     "data": {
      "text/plain": [
       "166.76262587885864"
      ]
     },
     "execution_count": 273,
     "metadata": {},
     "output_type": "execute_result"
    }
   ],
   "source": [
    "mean_squared_error(y_test, y_pred)"
   ]
  },
  {
   "cell_type": "code",
   "execution_count": 274,
   "id": "1f742cd7-a349-4dd9-9f75-8f4f1bc48f41",
   "metadata": {},
   "outputs": [
    {
     "data": {
      "text/plain": [
       "-0.0002667662268007742"
      ]
     },
     "execution_count": 274,
     "metadata": {},
     "output_type": "execute_result"
    }
   ],
   "source": [
    "r2_score(y_test, y_pred)"
   ]
  },
  {
   "cell_type": "code",
   "execution_count": 275,
   "id": "76ddf38b-65e2-46eb-9831-e780dd72ccb1",
   "metadata": {},
   "outputs": [
    {
     "data": {
      "text/plain": [
       "-4.74421254630375e-05"
      ]
     },
     "execution_count": 275,
     "metadata": {},
     "output_type": "execute_result"
    }
   ],
   "source": [
    "R_squared_OSXS(y_test, y_pred)"
   ]
  },
  {
   "cell_type": "code",
   "execution_count": null,
   "id": "9e94f364-6e2c-4d84-9e51-aaa5d7255b34",
   "metadata": {},
   "outputs": [],
   "source": []
  },
  {
   "cell_type": "code",
   "execution_count": null,
   "id": "a3d69a89-9cdf-487d-807a-c4dce4f53265",
   "metadata": {},
   "outputs": [],
   "source": []
  },
  {
   "cell_type": "code",
   "execution_count": null,
   "id": "c9c39505-c182-48ca-8e4f-9bda8db77e80",
   "metadata": {},
   "outputs": [],
   "source": []
  },
  {
   "cell_type": "markdown",
   "id": "5bb26b8b-c2f8-4b79-a805-470060466beb",
   "metadata": {},
   "source": [
    "## Emsemble models"
   ]
  },
  {
   "cell_type": "markdown",
   "id": "e4dee4f1-99c7-480f-b04b-4913f19de86b",
   "metadata": {},
   "source": [
    "### GBR"
   ]
  },
  {
   "cell_type": "code",
   "execution_count": 240,
   "id": "b00506fc-7890-49a2-9e72-d9334bfe855b",
   "metadata": {},
   "outputs": [],
   "source": [
    "import numpy as np\n",
    "from sklearn.metrics import mean_squared_error\n",
    "from sklearn.datasets import make_friedman1\n",
    "from sklearn.ensemble import GradientBoostingRegressor"
   ]
  },
  {
   "cell_type": "code",
   "execution_count": 241,
   "id": "c6fffc16-a9bb-4ee1-a5db-f3766e399193",
   "metadata": {},
   "outputs": [
    {
     "data": {
      "text/plain": [
       "'1.0.2'"
      ]
     },
     "execution_count": 241,
     "metadata": {},
     "output_type": "execute_result"
    }
   ],
   "source": [
    "import sklearn\n",
    "sklearn.__version__"
   ]
  },
  {
   "cell_type": "code",
   "execution_count": 242,
   "id": "2aac9ece-5960-4465-80b9-bbbfe46f76d7",
   "metadata": {
    "tags": []
   },
   "outputs": [
    {
     "name": "stdout",
     "output_type": "stream",
     "text": [
      "      Iter       Train Loss   Remaining Time \n",
      "         1           0.3957            3.50m\n",
      "         2           0.3944            3.55m\n",
      "         3           0.3933            3.44m\n",
      "         4           0.3911            3.37m\n",
      "         5           0.3898            3.33m\n",
      "         6           0.3886            3.28m\n",
      "         7           0.3876            3.24m\n",
      "         8           0.3865            3.20m\n",
      "         9           0.3856            3.15m\n",
      "        10           0.3849            3.13m\n",
      "        20           0.3795            2.78m\n",
      "        30           0.3766            2.48m\n",
      "        40           0.3742            2.12m\n",
      "        50           0.3724            1.77m\n",
      "        60           0.3711            1.42m\n",
      "        70           0.3698            1.06m\n",
      "        80           0.3687           42.10s\n",
      "        90           0.3679           21.01s\n",
      "       100           0.3670            0.00s\n"
     ]
    }
   ],
   "source": [
    "gbr_reg = GradientBoostingRegressor(\n",
    "    n_estimators=100, random_state=0,\n",
    "    loss='huber',\n",
    "    verbose=1\n",
    ").fit(X_train[used_characteristics], y_train)"
   ]
  },
  {
   "cell_type": "code",
   "execution_count": 244,
   "id": "f07eb4e8-0e1f-4597-964c-2d3565d3c585",
   "metadata": {},
   "outputs": [],
   "source": [
    "y_pred = gbr_reg.predict(X_test[used_characteristics])"
   ]
  },
  {
   "cell_type": "code",
   "execution_count": 245,
   "id": "1d1fdbdb-4a91-4ee6-9233-6f11b03167f7",
   "metadata": {},
   "outputs": [
    {
     "data": {
      "text/plain": [
       "166.72515602566457"
      ]
     },
     "execution_count": 245,
     "metadata": {},
     "output_type": "execute_result"
    }
   ],
   "source": [
    "mean_squared_error(y_test, y_pred)"
   ]
  },
  {
   "cell_type": "code",
   "execution_count": 246,
   "id": "9e4f60b7-ea26-45be-9a2a-b63ea4616d94",
   "metadata": {},
   "outputs": [
    {
     "data": {
      "text/plain": [
       "-4.2016534308908504e-05"
      ]
     },
     "execution_count": 246,
     "metadata": {},
     "output_type": "execute_result"
    }
   ],
   "source": [
    "r2_score(y_test, y_pred)"
   ]
  },
  {
   "cell_type": "code",
   "execution_count": 247,
   "id": "3b850dbc-e01c-40f9-b625-421c5a4a20c5",
   "metadata": {},
   "outputs": [
    {
     "data": {
      "text/plain": [
       "-4.1556473954873496e-05"
      ]
     },
     "execution_count": 247,
     "metadata": {},
     "output_type": "execute_result"
    }
   ],
   "source": [
    "R_squared_OSXS(y_test, y_pred)"
   ]
  },
  {
   "cell_type": "code",
   "execution_count": 249,
   "id": "aa6f1251-d82f-4066-a5f0-b8ddd2cbd016",
   "metadata": {},
   "outputs": [
    {
     "data": {
      "text/plain": [
       "<AxesSubplot:>"
      ]
     },
     "execution_count": 249,
     "metadata": {},
     "output_type": "execute_result"
    },
    {
     "data": {
      "image/png": "[encoded data removed]",
      "text/plain": [
       "<Figure size 432x288 with 1 Axes>"
      ]
     },
     "metadata": {
      "needs_background": "light"
     },
     "output_type": "display_data"
    }
   ],
   "source": [
    "feat_importances = pd.Series(gbr_reg.feature_importances_, index=used_characteristics)\n",
    "feat_importances.nlargest(10).plot(kind='barh')"
   ]
  },
  {
   "cell_type": "code",
   "execution_count": 250,
   "id": "5aeabe08-edcd-45e5-b277-ca0cf4fcd938",
   "metadata": {},
   "outputs": [
    {
     "data": {
      "text/html": [
       "<div>\n",
       "<style scoped>\n",
       "    .dataframe tbody tr th:only-of-type {\n",
       "        vertical-align: middle;\n",
       "    }\n",
       "\n",
       "    .dataframe tbody tr th {\n",
       "        vertical-align: top;\n",
       "    }\n",
       "\n",
       "    .dataframe thead th {\n",
       "        text-align: right;\n",
       "    }\n",
       "</style>\n",
       "<table border=\"1\" class=\"dataframe\">\n",
       "  <thead>\n",
       "    <tr style=\"text-align: right;\">\n",
       "      <th></th>\n",
       "      <th>volume</th>\n",
       "      <th>ReturnSkew</th>\n",
       "      <th>MaxRet</th>\n",
       "      <th>delta</th>\n",
       "      <th>PriceDelaySlope</th>\n",
       "      <th>strike_price</th>\n",
       "      <th>IdioVol3F</th>\n",
       "      <th>ReturnSkew3F</th>\n",
       "      <th>ir_rate</th>\n",
       "      <th>mid_price</th>\n",
       "      <th>...</th>\n",
       "      <th>PriceDelayRsq</th>\n",
       "      <th>IdioVolAHT</th>\n",
       "      <th>adj_spot</th>\n",
       "      <th>vega</th>\n",
       "      <th>gamma</th>\n",
       "      <th>best_offer</th>\n",
       "      <th>DolVol</th>\n",
       "      <th>cp_flag_encoded</th>\n",
       "      <th>date_x</th>\n",
       "      <th>optionid</th>\n",
       "    </tr>\n",
       "  </thead>\n",
       "  <tbody>\n",
       "    <tr>\n",
       "      <th>530009</th>\n",
       "      <td>50.0</td>\n",
       "      <td>-0.691725</td>\n",
       "      <td>-0.056886</td>\n",
       "      <td>0.612642</td>\n",
       "      <td>-0.71292</td>\n",
       "      <td>35.0</td>\n",
       "      <td>-0.020205</td>\n",
       "      <td>-0.846054</td>\n",
       "      <td>0.011254</td>\n",
       "      <td>2.3</td>\n",
       "      <td>...</td>\n",
       "      <td>0.022542</td>\n",
       "      <td>-0.023794</td>\n",
       "      <td>17.97</td>\n",
       "      <td>4.885894</td>\n",
       "      <td>0.085466</td>\n",
       "      <td>2.35</td>\n",
       "      <td>-9.32033</td>\n",
       "      <td>1.0</td>\n",
       "      <td>2003-06-30</td>\n",
       "      <td>21074852</td>\n",
       "    </tr>\n",
       "  </tbody>\n",
       "</table>\n",
       "<p>1 rows × 38 columns</p>\n",
       "</div>"
      ],
      "text/plain": [
       "        volume  ReturnSkew    MaxRet     delta  PriceDelaySlope  strike_price  \\\n",
       "530009    50.0   -0.691725 -0.056886  0.612642         -0.71292          35.0   \n",
       "\n",
       "        IdioVol3F  ReturnSkew3F   ir_rate  mid_price  ...  PriceDelayRsq  \\\n",
       "530009  -0.020205     -0.846054  0.011254        2.3  ...       0.022542   \n",
       "\n",
       "        IdioVolAHT  adj_spot      vega     gamma  best_offer   DolVol  \\\n",
       "530009   -0.023794     17.97  4.885894  0.085466        2.35 -9.32033   \n",
       "\n",
       "        cp_flag_encoded     date_x  optionid  \n",
       "530009              1.0 2003-06-30  21074852  \n",
       "\n",
       "[1 rows x 38 columns]"
      ]
     },
     "execution_count": 250,
     "metadata": {},
     "output_type": "execute_result"
    }
   ],
   "source": [
    "X_test.sample()"
   ]
  },
  {
   "cell_type": "code",
   "execution_count": null,
   "id": "300ac2ea-c0c1-476a-8eb1-479228640f20",
   "metadata": {},
   "outputs": [],
   "source": []
  },
  {
   "cell_type": "markdown",
   "id": "c3b2a041-52af-4b5f-9b3d-5754080ddc55",
   "metadata": {},
   "source": [
    "### RF"
   ]
  },
  {
   "cell_type": "code",
   "execution_count": 260,
   "id": "6bf8787e-4d0e-4416-b1ee-3d54e98d324d",
   "metadata": {},
   "outputs": [
    {
     "name": "stderr",
     "output_type": "stream",
     "text": [
      "[Parallel(n_jobs=1)]: Using backend SequentialBackend with 1 concurrent workers.\n",
      "[Parallel(n_jobs=1)]: Done 200 out of 200 | elapsed:  4.4min finished\n"
     ]
    },
    {
     "data": {
      "text/plain": [
       "RandomForestRegressor(max_depth=3, n_estimators=200, random_state=0, verbose=1)"
      ]
     },
     "execution_count": 260,
     "metadata": {},
     "output_type": "execute_result"
    }
   ],
   "source": [
    "from sklearn.ensemble import RandomForestRegressor\n",
    "from sklearn.datasets import make_regression\n",
    "\n",
    "rf_reg = RandomForestRegressor(\n",
    "    n_estimators=200,\n",
    "    max_depth=3, random_state=0, \n",
    "    verbose=1)\n",
    "rf_reg.fit(X_train[used_characteristics], y_train)"
   ]
  },
  {
   "cell_type": "code",
   "execution_count": 261,
   "id": "50bcfe47-0d79-4d91-9a93-636fe945d303",
   "metadata": {},
   "outputs": [
    {
     "name": "stderr",
     "output_type": "stream",
     "text": [
      "[Parallel(n_jobs=1)]: Using backend SequentialBackend with 1 concurrent workers.\n",
      "[Parallel(n_jobs=1)]: Done 200 out of 200 | elapsed:    0.2s finished\n"
     ]
    }
   ],
   "source": [
    "y_pred = rf_reg.predict(X_test[used_characteristics])"
   ]
  },
  {
   "cell_type": "code",
   "execution_count": 262,
   "id": "a4ea65e1-8d8b-4e2a-b9de-3662f6a8ab40",
   "metadata": {},
   "outputs": [
    {
     "data": {
      "text/plain": [
       "184.30435348341248"
      ]
     },
     "execution_count": 262,
     "metadata": {},
     "output_type": "execute_result"
    }
   ],
   "source": [
    "mean_squared_error(y_test, y_pred)"
   ]
  },
  {
   "cell_type": "code",
   "execution_count": 263,
   "id": "8fc98e73-0195-4c92-b6ff-83d34cf3be9d",
   "metadata": {},
   "outputs": [
    {
     "data": {
      "text/plain": [
       "-0.10548462935750447"
      ]
     },
     "execution_count": 263,
     "metadata": {},
     "output_type": "execute_result"
    }
   ],
   "source": [
    "r2_score(y_test, y_pred)"
   ]
  },
  {
   "cell_type": "code",
   "execution_count": 264,
   "id": "6e14a284-2d67-4577-b72d-d592a58f5764",
   "metadata": {},
   "outputs": [
    {
     "data": {
      "text/plain": [
       "-0.10546852985371924"
      ]
     },
     "execution_count": 264,
     "metadata": {},
     "output_type": "execute_result"
    }
   ],
   "source": [
    "R_squared_OSXS(y_test, y_pred)"
   ]
  },
  {
   "cell_type": "code",
   "execution_count": 265,
   "id": "d34793a3-b959-4c82-adb0-e4141d0f6a72",
   "metadata": {},
   "outputs": [
    {
     "data": {
      "text/plain": [
       "<AxesSubplot:>"
      ]
     },
     "execution_count": 265,
     "metadata": {},
     "output_type": "execute_result"
    },
    {
     "data": {
      "image/png": "[encoded data removed]",
      "text/plain": [
       "<Figure size 432x288 with 1 Axes>"
      ]
     },
     "metadata": {
      "needs_background": "light"
     },
     "output_type": "display_data"
    }
   ],
   "source": [
    "feat_importances = pd.Series(rf_reg.feature_importances_, index=used_characteristics)\n",
    "feat_importances.nlargest(10).plot(kind='barh')"
   ]
  },
  {
   "cell_type": "code",
   "execution_count": null,
   "id": "c1c26e28-6674-48b4-9de3-6ca168e98580",
   "metadata": {},
   "outputs": [],
   "source": []
  },
  {
   "cell_type": "markdown",
   "id": "62f47601-8f56-44e4-a57e-608765260ff2",
   "metadata": {
    "tags": []
   },
   "source": [
    "## Backtesting\n",
    "\n",
    "Since the $R^2$ is not very inspiring (in finance, the data is so noisy to get a good $R^2$ score), \n",
    "we want to do a backtesting based on our trained ML model. Using the so called long-short portfolio trading strategy. \n",
    "\n",
    "\n",
    "The trading strategy is defined as follows: \n",
    "1. On current month, predict next month's option return\n",
    "2. Rank the option return \n",
    "3. Long the top 10, short the tail 10 (long/short the corresponding delta hedging portfolio)\n"
   ]
  },
  {
   "cell_type": "code",
   "execution_count": null,
   "id": "7a0b0cdc-e15c-430a-a413-bc0c4ce0b11b",
   "metadata": {},
   "outputs": [],
   "source": [
    "import matplotlib.py"
   ]
  },
  {
   "cell_type": "code",
   "execution_count": 236,
   "id": "cc443ef7-ebad-49b0-8557-2efc83697193",
   "metadata": {},
   "outputs": [],
   "source": [
    "def backtesting(test_data, regressor):\n",
    "    dates = sorted(list(set(test_data.date_x)))\n",
    "    hedge_from_gains = []\n",
    "    for i in range(len(dates)):\n",
    "        df = test_data[test_data.date_x == dates[i]]\n",
    "        df = pd.DataFrame(\n",
    "            {\n",
    "                \"secid\": df.secid,\n",
    "                \"adj_spot\": df.adj_spot,\n",
    "                \"strike_price\": df.strike_price,\n",
    "                \"delta\": df.delta,\n",
    "                \"mid_price\": df.mid_price,\n",
    "                \"option_ret_real\": df.option_ret,\n",
    "                \"option_ret_pred\": regressor.predict(df[used_characteristics])\n",
    "            }\n",
    "        )\n",
    "        df[\"hedge_cost\"] = df[\"mid_price\"] - df[\"adj_spot\"] * df[\"delta\"]\n",
    "        df[\"hedge_gain\"] = abs(df[\"hedge_cost\"]) * df[\"option_ret_real\"] \n",
    "        long_portfolio = df.sort_values(by=\"option_ret_pred\").head(10)\n",
    "        short_portfolio = df.sort_values(by=\"option_ret_pred\").tail(10)\n",
    "        short_portfolio.hedge_cost = - short_portfolio.hedge_cost\n",
    "        hedge_from_gain = (sum(long_portfolio[\"hedge_cost\"]) + sum(short_portfolio[\"hedge_cost\"]) \n",
    "            + sum(long_portfolio[\"hedge_gain\"]) + sum(short_portfolio[\"hedge_gain\"]))\n",
    "        hedge_from_gains.append(hedge_from_gain)\n",
    "    return dates, hedge_from_gains\n",
    "    "
   ]
  },
  {
   "cell_type": "code",
   "execution_count": 237,
   "id": "c3aec06f-0fff-4c02-b245-1331154f5197",
   "metadata": {},
   "outputs": [
    {
     "data": {
      "text/plain": [
       "[<matplotlib.lines.Line2D at 0x7fc956f9cfa0>]"
      ]
     },
     "execution_count": 237,
     "metadata": {},
     "output_type": "execute_result"
    },
    {
     "data": {
      "image/png": "[encoded data removed]",
      "text/plain": [
       "<Figure size 432x288 with 1 Axes>"
      ]
     },
     "metadata": {
      "needs_background": "light"
     },
     "output_type": "display_data"
    }
   ],
   "source": [
    "dates, hedge_from_gains = backtesting(test_data, lasso_reg)\n",
    "plt.plot(dates, hedge_from_gains)"
   ]
  },
  {
   "cell_type": "code",
   "execution_count": 238,
   "id": "36f616af-81d6-4edd-8d70-d5bb8a67566c",
   "metadata": {},
   "outputs": [
    {
     "data": {
      "text/plain": [
       "[<matplotlib.lines.Line2D at 0x7fc937dfd730>]"
      ]
     },
     "execution_count": 238,
     "metadata": {},
     "output_type": "execute_result"
    },
    {
     "data": {
      "image/png": "[encoded data removed]",
      "text/plain": [
       "<Figure size 432x288 with 1 Axes>"
      ]
     },
     "metadata": {
      "needs_background": "light"
     },
     "output_type": "display_data"
    }
   ],
   "source": [
    "dates, hedge_from_gains = backtesting(test_data, ridge_reg)\n",
    "plt.plot(dates, hedge_from_gains)"
   ]
  },
  {
   "cell_type": "code",
   "execution_count": 239,
   "id": "248832f5-2677-46b0-8c34-73ed1baf804e",
   "metadata": {},
   "outputs": [
    {
     "ename": "NameError",
     "evalue": "name 'est' is not defined",
     "output_type": "error",
     "traceback": [
      "\u001b[0;31m---------------------------------------------------------------------------\u001b[0m",
      "\u001b[0;31mNameError\u001b[0m                                 Traceback (most recent call last)",
      "Input \u001b[0;32mIn [239]\u001b[0m, in \u001b[0;36m<cell line: 1>\u001b[0;34m()\u001b[0m\n\u001b[0;32m----> 1\u001b[0m dates, hedge_from_gains \u001b[38;5;241m=\u001b[39m backtesting(test_data, \u001b[43mest\u001b[49m)\n\u001b[1;32m      2\u001b[0m plt\u001b[38;5;241m.\u001b[39mplot(dates, hedge_from_gains)\n",
      "\u001b[0;31mNameError\u001b[0m: name 'est' is not defined"
     ]
    }
   ],
   "source": [
    "dates, hedge_from_gains = backtesting(test_data, est)\n",
    "plt.plot(dates, hedge_from_gains)"
   ]
  },
  {
   "cell_type": "code",
   "execution_count": 75,
   "id": "526c0c8c-52f8-42b4-afb9-534cfe3a73d2",
   "metadata": {},
   "outputs": [],
   "source": [
    "import matplotlib.pyplot as plt"
   ]
  },
  {
   "cell_type": "code",
   "execution_count": 37,
   "id": "64c2f347-0bdd-4fb4-94d3-456898c498e7",
   "metadata": {},
   "outputs": [
    {
     "data": {
      "text/plain": [
       "Index(['Unnamed: 0', 'secid', 'date_x', 'exdate', 'cp_flag', 'strike_price',\n",
       "       'best_bid', 'best_offer', 'volume', 'open_interest', 'impl_volatility',\n",
       "       'delta', 'gamma', 'vega', 'theta', 'optionid', 'cfadj',\n",
       "       'days_no_trading', 'days_to_exp', 'forwardprice', 'spotprice',\n",
       "       'adj_spot', 'ir_rate', 'mid_price', 'option_ret', 'sdate', 'edate',\n",
       "       'permno', 'date2', 'yyyymm', 'Beta', 'BidAskSpread', 'Coskewness',\n",
       "       'DolVol', 'High52', 'IdioRisk', 'IdioVol3F', 'IdioVolAHT', 'MaxRet',\n",
       "       'PriceDelayRsq', 'PriceDelaySlope', 'PriceDelayTstat', 'ReturnSkew',\n",
       "       'ReturnSkew3F', 'VolMkt', 'zerotrade', 'zerotradeAlt1', 'date_y',\n",
       "       'cp_flag_encoded'],\n",
       "      dtype='object')"
      ]
     },
     "execution_count": 37,
     "metadata": {},
     "output_type": "execute_result"
    }
   ],
   "source": [
    "option_with_feature.columns"
   ]
  },
  {
   "cell_type": "code",
   "execution_count": 38,
   "id": "5b8d689c-c536-4718-ac00-f42759e61b32",
   "metadata": {
    "collapsed": true,
    "jupyter": {
     "outputs_hidden": true
    },
    "tags": []
   },
   "outputs": [
    {
     "data": {
      "text/html": [
       "<div>\n",
       "<style scoped>\n",
       "    .dataframe tbody tr th:only-of-type {\n",
       "        vertical-align: middle;\n",
       "    }\n",
       "\n",
       "    .dataframe tbody tr th {\n",
       "        vertical-align: top;\n",
       "    }\n",
       "\n",
       "    .dataframe thead th {\n",
       "        text-align: right;\n",
       "    }\n",
       "</style>\n",
       "<table border=\"1\" class=\"dataframe\">\n",
       "  <thead>\n",
       "    <tr style=\"text-align: right;\">\n",
       "      <th></th>\n",
       "      <th>Unnamed: 0</th>\n",
       "      <th>secid</th>\n",
       "      <th>date_x</th>\n",
       "      <th>exdate</th>\n",
       "      <th>cp_flag</th>\n",
       "      <th>strike_price</th>\n",
       "      <th>best_bid</th>\n",
       "      <th>best_offer</th>\n",
       "      <th>volume</th>\n",
       "      <th>open_interest</th>\n",
       "      <th>...</th>\n",
       "      <th>PriceDelayRsq</th>\n",
       "      <th>PriceDelaySlope</th>\n",
       "      <th>PriceDelayTstat</th>\n",
       "      <th>ReturnSkew</th>\n",
       "      <th>ReturnSkew3F</th>\n",
       "      <th>VolMkt</th>\n",
       "      <th>zerotrade</th>\n",
       "      <th>zerotradeAlt1</th>\n",
       "      <th>date_y</th>\n",
       "      <th>cp_flag_encoded</th>\n",
       "    </tr>\n",
       "  </thead>\n",
       "  <tbody>\n",
       "    <tr>\n",
       "      <th>0</th>\n",
       "      <td>0</td>\n",
       "      <td>5015</td>\n",
       "      <td>1996-01-31</td>\n",
       "      <td>1996-07-20 00:00:00</td>\n",
       "      <td>C</td>\n",
       "      <td>20.0</td>\n",
       "      <td>4.6250</td>\n",
       "      <td>5.0000</td>\n",
       "      <td>15</td>\n",
       "      <td>25</td>\n",
       "      <td>...</td>\n",
       "      <td>0.041281</td>\n",
       "      <td>0.389311</td>\n",
       "      <td>1.212702</td>\n",
       "      <td>1.425051</td>\n",
       "      <td>1.314407</td>\n",
       "      <td>-0.083688</td>\n",
       "      <td>2.212753e-08</td>\n",
       "      <td>2.905242e-08</td>\n",
       "      <td>1996-01-01</td>\n",
       "      <td>1</td>\n",
       "    </tr>\n",
       "    <tr>\n",
       "      <th>2104</th>\n",
       "      <td>2104</td>\n",
       "      <td>5015</td>\n",
       "      <td>1996-01-31</td>\n",
       "      <td>1996-07-20 00:00:00</td>\n",
       "      <td>C</td>\n",
       "      <td>27.5</td>\n",
       "      <td>0.9375</td>\n",
       "      <td>1.1875</td>\n",
       "      <td>1</td>\n",
       "      <td>55</td>\n",
       "      <td>...</td>\n",
       "      <td>0.041281</td>\n",
       "      <td>0.389311</td>\n",
       "      <td>1.212702</td>\n",
       "      <td>1.425051</td>\n",
       "      <td>1.314407</td>\n",
       "      <td>-0.083688</td>\n",
       "      <td>2.212753e-08</td>\n",
       "      <td>2.905242e-08</td>\n",
       "      <td>1996-01-01</td>\n",
       "      <td>1</td>\n",
       "    </tr>\n",
       "    <tr>\n",
       "      <th>124598</th>\n",
       "      <td>124598</td>\n",
       "      <td>5015</td>\n",
       "      <td>1998-07-31</td>\n",
       "      <td>1998-10-17 00:00:00</td>\n",
       "      <td>P</td>\n",
       "      <td>70.0</td>\n",
       "      <td>5.8750</td>\n",
       "      <td>6.2500</td>\n",
       "      <td>5</td>\n",
       "      <td>32</td>\n",
       "      <td>...</td>\n",
       "      <td>0.062768</td>\n",
       "      <td>-0.221246</td>\n",
       "      <td>-1.163268</td>\n",
       "      <td>-0.087869</td>\n",
       "      <td>0.251508</td>\n",
       "      <td>-0.129950</td>\n",
       "      <td>1.494627e-08</td>\n",
       "      <td>1.855388e-08</td>\n",
       "      <td>1998-07-01</td>\n",
       "      <td>0</td>\n",
       "    </tr>\n",
       "    <tr>\n",
       "      <th>124597</th>\n",
       "      <td>124597</td>\n",
       "      <td>5015</td>\n",
       "      <td>1998-07-31</td>\n",
       "      <td>1999-01-16 00:00:00</td>\n",
       "      <td>C</td>\n",
       "      <td>70.0</td>\n",
       "      <td>4.3750</td>\n",
       "      <td>4.7500</td>\n",
       "      <td>10</td>\n",
       "      <td>35</td>\n",
       "      <td>...</td>\n",
       "      <td>0.062768</td>\n",
       "      <td>-0.221246</td>\n",
       "      <td>-1.163268</td>\n",
       "      <td>-0.087869</td>\n",
       "      <td>0.251508</td>\n",
       "      <td>-0.129950</td>\n",
       "      <td>1.494627e-08</td>\n",
       "      <td>1.855388e-08</td>\n",
       "      <td>1998-07-01</td>\n",
       "      <td>1</td>\n",
       "    </tr>\n",
       "    <tr>\n",
       "      <th>41988</th>\n",
       "      <td>41988</td>\n",
       "      <td>5015</td>\n",
       "      <td>1997-01-31</td>\n",
       "      <td>1997-07-19 00:00:00</td>\n",
       "      <td>P</td>\n",
       "      <td>35.0</td>\n",
       "      <td>1.3125</td>\n",
       "      <td>1.5625</td>\n",
       "      <td>10</td>\n",
       "      <td>55</td>\n",
       "      <td>...</td>\n",
       "      <td>0.381327</td>\n",
       "      <td>-1.615642</td>\n",
       "      <td>1.212702</td>\n",
       "      <td>0.190639</td>\n",
       "      <td>-1.284276</td>\n",
       "      <td>-0.081350</td>\n",
       "      <td>2.433947e-08</td>\n",
       "      <td>1.740106e-08</td>\n",
       "      <td>1997-01-01</td>\n",
       "      <td>0</td>\n",
       "    </tr>\n",
       "    <tr>\n",
       "      <th>...</th>\n",
       "      <td>...</td>\n",
       "      <td>...</td>\n",
       "      <td>...</td>\n",
       "      <td>...</td>\n",
       "      <td>...</td>\n",
       "      <td>...</td>\n",
       "      <td>...</td>\n",
       "      <td>...</td>\n",
       "      <td>...</td>\n",
       "      <td>...</td>\n",
       "      <td>...</td>\n",
       "      <td>...</td>\n",
       "      <td>...</td>\n",
       "      <td>...</td>\n",
       "      <td>...</td>\n",
       "      <td>...</td>\n",
       "      <td>...</td>\n",
       "      <td>...</td>\n",
       "      <td>...</td>\n",
       "      <td>...</td>\n",
       "      <td>...</td>\n",
       "    </tr>\n",
       "    <tr>\n",
       "      <th>3168133</th>\n",
       "      <td>3168133</td>\n",
       "      <td>213212</td>\n",
       "      <td>2019-12-31</td>\n",
       "      <td>2020-08-21 00:00:00</td>\n",
       "      <td>P</td>\n",
       "      <td>17.5</td>\n",
       "      <td>0.7500</td>\n",
       "      <td>0.9000</td>\n",
       "      <td>54</td>\n",
       "      <td>33</td>\n",
       "      <td>...</td>\n",
       "      <td>0.107279</td>\n",
       "      <td>0.786024</td>\n",
       "      <td>1.873614</td>\n",
       "      <td>-0.062024</td>\n",
       "      <td>0.379443</td>\n",
       "      <td>-0.427328</td>\n",
       "      <td>8.234986e-09</td>\n",
       "      <td>1.198200e-08</td>\n",
       "      <td>2019-12-01</td>\n",
       "      <td>0</td>\n",
       "    </tr>\n",
       "    <tr>\n",
       "      <th>2914495</th>\n",
       "      <td>2914495</td>\n",
       "      <td>213212</td>\n",
       "      <td>2018-12-31</td>\n",
       "      <td>2019-08-16 00:00:00</td>\n",
       "      <td>C</td>\n",
       "      <td>17.5</td>\n",
       "      <td>0.4000</td>\n",
       "      <td>1.0000</td>\n",
       "      <td>28</td>\n",
       "      <td>1</td>\n",
       "      <td>...</td>\n",
       "      <td>0.055853</td>\n",
       "      <td>-0.669433</td>\n",
       "      <td>3.417680</td>\n",
       "      <td>-0.013643</td>\n",
       "      <td>0.527326</td>\n",
       "      <td>-1.600722</td>\n",
       "      <td>5.873811e-09</td>\n",
       "      <td>6.332559e-09</td>\n",
       "      <td>2018-12-01</td>\n",
       "      <td>1</td>\n",
       "    </tr>\n",
       "    <tr>\n",
       "      <th>2941619</th>\n",
       "      <td>2941619</td>\n",
       "      <td>213212</td>\n",
       "      <td>2019-01-31</td>\n",
       "      <td>2019-05-17 00:00:00</td>\n",
       "      <td>C</td>\n",
       "      <td>17.5</td>\n",
       "      <td>0.6500</td>\n",
       "      <td>2.4000</td>\n",
       "      <td>15</td>\n",
       "      <td>70</td>\n",
       "      <td>...</td>\n",
       "      <td>0.055853</td>\n",
       "      <td>-0.669433</td>\n",
       "      <td>3.417680</td>\n",
       "      <td>-0.179418</td>\n",
       "      <td>-0.908827</td>\n",
       "      <td>-1.341789</td>\n",
       "      <td>6.179499e-09</td>\n",
       "      <td>6.427636e-09</td>\n",
       "      <td>2019-01-01</td>\n",
       "      <td>1</td>\n",
       "    </tr>\n",
       "    <tr>\n",
       "      <th>3052187</th>\n",
       "      <td>3052187</td>\n",
       "      <td>213212</td>\n",
       "      <td>2019-06-28</td>\n",
       "      <td>2020-02-21 00:00:00</td>\n",
       "      <td>C</td>\n",
       "      <td>20.0</td>\n",
       "      <td>0.0500</td>\n",
       "      <td>1.5500</td>\n",
       "      <td>120</td>\n",
       "      <td>31</td>\n",
       "      <td>...</td>\n",
       "      <td>0.055853</td>\n",
       "      <td>-0.669433</td>\n",
       "      <td>3.417680</td>\n",
       "      <td>-0.194380</td>\n",
       "      <td>0.314063</td>\n",
       "      <td>-1.230118</td>\n",
       "      <td>6.836241e-09</td>\n",
       "      <td>4.644217e-09</td>\n",
       "      <td>2019-06-01</td>\n",
       "      <td>1</td>\n",
       "    </tr>\n",
       "    <tr>\n",
       "      <th>3168134</th>\n",
       "      <td>3168134</td>\n",
       "      <td>213212</td>\n",
       "      <td>2019-12-31</td>\n",
       "      <td>2020-08-21 00:00:00</td>\n",
       "      <td>P</td>\n",
       "      <td>20.0</td>\n",
       "      <td>2.2500</td>\n",
       "      <td>2.4000</td>\n",
       "      <td>50</td>\n",
       "      <td>26</td>\n",
       "      <td>...</td>\n",
       "      <td>0.107279</td>\n",
       "      <td>0.786024</td>\n",
       "      <td>1.873614</td>\n",
       "      <td>-0.062024</td>\n",
       "      <td>0.379443</td>\n",
       "      <td>-0.427328</td>\n",
       "      <td>8.234986e-09</td>\n",
       "      <td>1.198200e-08</td>\n",
       "      <td>2019-12-01</td>\n",
       "      <td>0</td>\n",
       "    </tr>\n",
       "  </tbody>\n",
       "</table>\n",
       "<p>2965969 rows × 49 columns</p>\n",
       "</div>"
      ],
      "text/plain": [
       "         Unnamed: 0   secid     date_x               exdate cp_flag  \\\n",
       "0                 0    5015 1996-01-31  1996-07-20 00:00:00       C   \n",
       "2104           2104    5015 1996-01-31  1996-07-20 00:00:00       C   \n",
       "124598       124598    5015 1998-07-31  1998-10-17 00:00:00       P   \n",
       "124597       124597    5015 1998-07-31  1999-01-16 00:00:00       C   \n",
       "41988         41988    5015 1997-01-31  1997-07-19 00:00:00       P   \n",
       "...             ...     ...        ...                  ...     ...   \n",
       "3168133     3168133  213212 2019-12-31  2020-08-21 00:00:00       P   \n",
       "2914495     2914495  213212 2018-12-31  2019-08-16 00:00:00       C   \n",
       "2941619     2941619  213212 2019-01-31  2019-05-17 00:00:00       C   \n",
       "3052187     3052187  213212 2019-06-28  2020-02-21 00:00:00       C   \n",
       "3168134     3168134  213212 2019-12-31  2020-08-21 00:00:00       P   \n",
       "\n",
       "         strike_price  best_bid  best_offer  volume  open_interest  ...  \\\n",
       "0                20.0    4.6250      5.0000      15             25  ...   \n",
       "2104             27.5    0.9375      1.1875       1             55  ...   \n",
       "124598           70.0    5.8750      6.2500       5             32  ...   \n",
       "124597           70.0    4.3750      4.7500      10             35  ...   \n",
       "41988            35.0    1.3125      1.5625      10             55  ...   \n",
       "...               ...       ...         ...     ...            ...  ...   \n",
       "3168133          17.5    0.7500      0.9000      54             33  ...   \n",
       "2914495          17.5    0.4000      1.0000      28              1  ...   \n",
       "2941619          17.5    0.6500      2.4000      15             70  ...   \n",
       "3052187          20.0    0.0500      1.5500     120             31  ...   \n",
       "3168134          20.0    2.2500      2.4000      50             26  ...   \n",
       "\n",
       "         PriceDelayRsq  PriceDelaySlope  PriceDelayTstat  ReturnSkew  \\\n",
       "0             0.041281         0.389311         1.212702    1.425051   \n",
       "2104          0.041281         0.389311         1.212702    1.425051   \n",
       "124598        0.062768        -0.221246        -1.163268   -0.087869   \n",
       "124597        0.062768        -0.221246        -1.163268   -0.087869   \n",
       "41988         0.381327        -1.615642         1.212702    0.190639   \n",
       "...                ...              ...              ...         ...   \n",
       "3168133       0.107279         0.786024         1.873614   -0.062024   \n",
       "2914495       0.055853        -0.669433         3.417680   -0.013643   \n",
       "2941619       0.055853        -0.669433         3.417680   -0.179418   \n",
       "3052187       0.055853        -0.669433         3.417680   -0.194380   \n",
       "3168134       0.107279         0.786024         1.873614   -0.062024   \n",
       "\n",
       "         ReturnSkew3F    VolMkt     zerotrade  zerotradeAlt1      date_y  \\\n",
       "0            1.314407 -0.083688  2.212753e-08   2.905242e-08  1996-01-01   \n",
       "2104         1.314407 -0.083688  2.212753e-08   2.905242e-08  1996-01-01   \n",
       "124598       0.251508 -0.129950  1.494627e-08   1.855388e-08  1998-07-01   \n",
       "124597       0.251508 -0.129950  1.494627e-08   1.855388e-08  1998-07-01   \n",
       "41988       -1.284276 -0.081350  2.433947e-08   1.740106e-08  1997-01-01   \n",
       "...               ...       ...           ...            ...         ...   \n",
       "3168133      0.379443 -0.427328  8.234986e-09   1.198200e-08  2019-12-01   \n",
       "2914495      0.527326 -1.600722  5.873811e-09   6.332559e-09  2018-12-01   \n",
       "2941619     -0.908827 -1.341789  6.179499e-09   6.427636e-09  2019-01-01   \n",
       "3052187      0.314063 -1.230118  6.836241e-09   4.644217e-09  2019-06-01   \n",
       "3168134      0.379443 -0.427328  8.234986e-09   1.198200e-08  2019-12-01   \n",
       "\n",
       "         cp_flag_encoded  \n",
       "0                      1  \n",
       "2104                   1  \n",
       "124598                 0  \n",
       "124597                 1  \n",
       "41988                  0  \n",
       "...                  ...  \n",
       "3168133                0  \n",
       "2914495                1  \n",
       "2941619                1  \n",
       "3052187                1  \n",
       "3168134                0  \n",
       "\n",
       "[2965969 rows x 49 columns]"
      ]
     },
     "execution_count": 38,
     "metadata": {},
     "output_type": "execute_result"
    }
   ],
   "source": [
    "option_with_feature.sort_values(by=\"secid\")"
   ]
  },
  {
   "cell_type": "code",
   "execution_count": null,
   "id": "f2c8e433-39d4-4151-9748-7d311452fcc9",
   "metadata": {},
   "outputs": [],
   "source": []
  },
  {
   "cell_type": "markdown",
   "id": "ae3abf0b-c817-4edd-abed-bd80f675acc7",
   "metadata": {},
   "source": [
    "## DW test"
   ]
  },
  {
   "cell_type": "code",
   "execution_count": null,
   "id": "baa797f6-5889-4a9e-aff5-285575ecadf3",
   "metadata": {},
   "outputs": [],
   "source": []
  },
  {
   "cell_type": "code",
   "execution_count": 158,
   "id": "d88489be-1781-4c3d-b720-8a7e698d9b4e",
   "metadata": {},
   "outputs": [],
   "source": [
    "true_pred_1vs2_return = pd.DataFrame(\n",
    "    {\n",
    "        \"optionid\": X_test.optionid,\n",
    "        \"time\": X_test.date_x,\n",
    "        \"true_return\": y_test,\n",
    "        \"pred_return1\": regressor.predict(X_test[used_characteristics]),\n",
    "        \"pred_return2\": est.predict(X_test[used_characteristics])\n",
    "    }\n",
    ")"
   ]
  },
  {
   "cell_type": "code",
   "execution_count": null,
   "id": "3c51fe2b-b73f-4ad9-85d5-fc28b61c2d26",
   "metadata": {},
   "outputs": [],
   "source": [
    "DW_test(true_pred_1vs2_return)"
   ]
  }
 ],
 "metadata": {
  "kernelspec": {
   "display_name": "aqf",
   "language": "python",
   "name": "aqf"
  },
  "language_info": {
   "codemirror_mode": {
    "name": "ipython",
    "version": 3
   },
   "file_extension": ".py",
   "mimetype": "text/x-python",
   "name": "python",
   "nbconvert_exporter": "python",
   "pygments_lexer": "ipython3",
   "version": "3.8.0"
  },
  "widgets": {
   "application/vnd.jupyter.widget-state+json": {
    "state": {},
    "version_major": 2,
    "version_minor": 0
   }
  }
 },
 "nbformat": 4,
 "nbformat_minor": 5
}
