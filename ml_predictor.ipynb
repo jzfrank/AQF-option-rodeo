{
 "cells": [
  {
   "cell_type": "markdown",
   "id": "5b71adcf-f393-43fb-b3ed-b9de6b1f7e24",
   "metadata": {
    "tags": []
   },
   "source": [
    "# Training and Making predicting"
   ]
  },
  {
   "cell_type": "code",
   "execution_count": 1,
   "id": "cf1f6a38-7fa1-4b87-9f27-560c70e751a8",
   "metadata": {},
   "outputs": [],
   "source": [
    "import pandas as pd "
   ]
  },
  {
   "cell_type": "code",
   "execution_count": 2,
   "id": "a4eaed0f-add2-4b3a-9da0-930d01c73522",
   "metadata": {},
   "outputs": [
    {
     "data": {
      "text/plain": [
       "array([[4.        , 2.        ],\n",
       "       [6.        , 3.66666667],\n",
       "       [7.        , 6.        ]])"
      ]
     },
     "execution_count": 2,
     "metadata": {},
     "output_type": "execute_result"
    }
   ],
   "source": [
    "import numpy as np\n",
    "from sklearn.impute import SimpleImputer\n",
    "imp = SimpleImputer(missing_values=np.nan, strategy='mean')\n",
    "imp.fit([[1, 2], [np.nan, 3], [7, 6]])\n",
    "\n",
    "X = [[np.nan, 2], [6, np.nan], [7, 6]]\n",
    "# imp.fit(X)\n",
    "# print(imp.transform(X))\n",
    "imp.transform(X)"
   ]
  },
  {
   "cell_type": "markdown",
   "id": "5a9819f0-82dd-4e9f-9c7d-1310c9161fc0",
   "metadata": {},
   "source": [
    "## Import data"
   ]
  },
  {
   "cell_type": "code",
   "execution_count": 3,
   "id": "e6647247-c316-469d-8f68-e71b528892e3",
   "metadata": {},
   "outputs": [],
   "source": [
    "option_with_feature = pd.read_csv(\"data/option_with_nonsparse_features.csv\")"
   ]
  },
  {
   "cell_type": "code",
   "execution_count": null,
   "id": "b0a1e817-f16c-4085-99aa-dd46012f26f1",
   "metadata": {},
   "outputs": [],
   "source": []
  },
  {
   "cell_type": "code",
   "execution_count": 26,
   "id": "dd1bb442-726d-429f-8623-c8baba3869ee",
   "metadata": {},
   "outputs": [],
   "source": [
    "subsample = option_with_feature"
   ]
  },
  {
   "cell_type": "code",
   "execution_count": 27,
   "id": "9f70777d-cb0d-40d2-af45-7cc9fb383cf3",
   "metadata": {},
   "outputs": [],
   "source": [
    "subsample = subsample.dropna()"
   ]
  },
  {
   "cell_type": "code",
   "execution_count": 28,
   "id": "d9663abb-abec-4cbd-8ae3-1723de3e5e01",
   "metadata": {},
   "outputs": [
    {
     "name": "stdout",
     "output_type": "stream",
     "text": [
      "'zerotrade', 'zerotradeAlt1', 'vega', 'optionid', 'IdioRisk', 'spotprice', 'Coskewness', 'High52', 'IdioVol3F', 'volume', 'PriceDelayRsq', 'theta', 'cfadj', 'MaxRet', 'adj_spot', 'Beta', 'best_bid', 'DolVol', 'days_no_trading', 'strike_price', 'VolMkt', 'forwardprice', 'ir_rate', 'impl_volatility', 'mid_price', 'BidAskSpread', 'best_offer', 'ReturnSkew', 'PriceDelayTstat', 'open_interest', 'delta', 'ReturnSkew3F', 'gamma', 'days_to_exp', 'IdioVolAHT', 'PriceDelaySlope', "
     ]
    }
   ],
   "source": [
    "for i in (set(subsample.columns) - \n",
    "          {\"Unnamed: 0\", \"secid\", \"date_x\", \"exdate\", \"date_y\", \"option_ret\", \"permno\",\n",
    "           \"yyyymm\", \"date2\", \"sdate\", \"edate\", \n",
    "           \"cp_flag\"}):\n",
    "    print(f\"'{i}'\", end=\", \")"
   ]
  },
  {
   "cell_type": "code",
   "execution_count": 29,
   "id": "adfd5839-dde3-4dbf-a624-5c583831f003",
   "metadata": {},
   "outputs": [],
   "source": [
    "X = subsample[\n",
    "    ['volume', 'ReturnSkew', 'MaxRet', 'delta', 'PriceDelaySlope', 'strike_price', 'IdioVol3F', 'ReturnSkew3F', 'optionid', 'ir_rate', 'mid_price', 'forwardprice', 'zerotradeAlt1', 'theta', 'cfadj', 'zerotrade', 'best_bid', 'spotprice', 'VolMkt', 'IdioRisk', 'days_to_exp', 'PriceDelayTstat', 'High52', 'Coskewness', 'BidAskSpread', 'Beta', 'days_no_trading', 'open_interest', 'impl_volatility', 'PriceDelayRsq', 'IdioVolAHT', 'adj_spot', 'vega', 'gamma', 'best_offer', 'DolVol']\n",
    "]\n",
    "\n",
    "y = subsample['option_ret']\n",
    "\n",
    "X_train, X_test, y_train, y_test = train_test_split(\n",
    "    X, y\n",
    ")"
   ]
  },
  {
   "cell_type": "markdown",
   "id": "ad270bd3-7e01-4f07-bcac-6085d7e71a27",
   "metadata": {},
   "source": [
    "## Linear regression"
   ]
  },
  {
   "cell_type": "code",
   "execution_count": 30,
   "id": "bfb1ccaf-ecb8-4ec5-98a7-6f3d0e7af165",
   "metadata": {},
   "outputs": [],
   "source": [
    "import numpy as np\n",
    "from sklearn.linear_model import LinearRegression"
   ]
  },
  {
   "cell_type": "code",
   "execution_count": 31,
   "id": "13053d44-3857-46b5-a232-240fb449d336",
   "metadata": {},
   "outputs": [],
   "source": [
    "from sklearn.metrics import mean_squared_error, r2_score\n",
    "from sklearn.model_selection import train_test_split"
   ]
  },
  {
   "cell_type": "code",
   "execution_count": 32,
   "id": "ead55f6e-ee22-4770-9000-4b7ab47fcc99",
   "metadata": {},
   "outputs": [],
   "source": [
    "from sklearn import linear_model"
   ]
  },
  {
   "cell_type": "code",
   "execution_count": null,
   "id": "1f0029c0-d2ed-4e26-8ccd-5dd063127a9e",
   "metadata": {},
   "outputs": [],
   "source": []
  },
  {
   "cell_type": "code",
   "execution_count": null,
   "id": "f66d6d90-4025-498e-9ac4-c98473027742",
   "metadata": {},
   "outputs": [],
   "source": []
  },
  {
   "cell_type": "code",
   "execution_count": 33,
   "id": "92977edc-369a-4431-b17f-cec3f3dd20b2",
   "metadata": {},
   "outputs": [
    {
     "data": {
      "text/plain": [
       "0"
      ]
     },
     "execution_count": 33,
     "metadata": {},
     "output_type": "execute_result"
    }
   ],
   "source": [
    "sum(y_train.isna())"
   ]
  },
  {
   "cell_type": "code",
   "execution_count": 34,
   "id": "7e7d062e-1a6a-4377-b30b-9e4ca98c05d0",
   "metadata": {},
   "outputs": [
    {
     "name": "stderr",
     "output_type": "stream",
     "text": [
      "/Users/zhangjin/anaconda3/envs/aqf/lib/python3.6/site-packages/sklearn/linear_model/_coordinate_descent.py:532: ConvergenceWarning: Objective did not converge. You might want to increase the number of iterations. Duality gap: 3179762146.0651135, tolerance: 666962.7457515021\n",
      "  positive)\n"
     ]
    },
    {
     "data": {
      "text/plain": [
       "Lasso(alpha=0.1)"
      ]
     },
     "execution_count": 34,
     "metadata": {},
     "output_type": "execute_result"
    }
   ],
   "source": [
    "regressor = linear_model.Lasso(alpha=0.1)\n",
    "regressor.fit(X_train, y_train)"
   ]
  },
  {
   "cell_type": "code",
   "execution_count": 35,
   "id": "3e51d8f3-efcc-40c2-8c18-b537ebeb33fb",
   "metadata": {},
   "outputs": [
    {
     "data": {
      "text/plain": [
       "1159.749274806435"
      ]
     },
     "execution_count": 35,
     "metadata": {},
     "output_type": "execute_result"
    }
   ],
   "source": [
    "y_pred = regressor.predict(X_test)\n",
    "mean_squared_error(y_test, y_pred)"
   ]
  },
  {
   "cell_type": "code",
   "execution_count": 36,
   "id": "ee3736b4-af9a-4a45-bc10-77f43bd12367",
   "metadata": {},
   "outputs": [
    {
     "data": {
      "text/plain": [
       "-7.3394024071582464e-06"
      ]
     },
     "execution_count": 36,
     "metadata": {},
     "output_type": "execute_result"
    }
   ],
   "source": [
    "r2_score(y_test, y_pred)"
   ]
  },
  {
   "cell_type": "code",
   "execution_count": null,
   "id": "ec9f415e-e654-468c-a77b-ece3460d4ffb",
   "metadata": {},
   "outputs": [],
   "source": []
  },
  {
   "cell_type": "markdown",
   "id": "5bb26b8b-c2f8-4b79-a805-470060466beb",
   "metadata": {},
   "source": [
    "## Emsemble models"
   ]
  },
  {
   "cell_type": "code",
   "execution_count": 37,
   "id": "b00506fc-7890-49a2-9e72-d9334bfe855b",
   "metadata": {},
   "outputs": [],
   "source": [
    "import numpy as np\n",
    "from sklearn.metrics import mean_squared_error\n",
    "from sklearn.datasets import make_friedman1\n",
    "from sklearn.ensemble import GradientBoostingRegressor"
   ]
  },
  {
   "cell_type": "code",
   "execution_count": 38,
   "id": "2aac9ece-5960-4465-80b9-bbbfe46f76d7",
   "metadata": {},
   "outputs": [],
   "source": [
    "est = GradientBoostingRegressor(\n",
    "    n_estimators=100, learning_rate=0.1, max_depth=1, random_state=0,\n",
    "    loss='ls'\n",
    ").fit(X_train, y_train)"
   ]
  },
  {
   "cell_type": "code",
   "execution_count": 39,
   "id": "1d1fdbdb-4a91-4ee6-9233-6f11b03167f7",
   "metadata": {},
   "outputs": [
    {
     "data": {
      "text/plain": [
       "1159.7231699692302"
      ]
     },
     "execution_count": 39,
     "metadata": {},
     "output_type": "execute_result"
    }
   ],
   "source": [
    "mean_squared_error(y_test, est.predict(X_test))"
   ]
  },
  {
   "cell_type": "code",
   "execution_count": 40,
   "id": "9e4f60b7-ea26-45be-9a2a-b63ea4616d94",
   "metadata": {},
   "outputs": [
    {
     "data": {
      "text/plain": [
       "1.516979795701534e-05"
      ]
     },
     "execution_count": 40,
     "metadata": {},
     "output_type": "execute_result"
    }
   ],
   "source": [
    "r2_score(y_test, est.predict(X_test))"
   ]
  },
  {
   "cell_type": "code",
   "execution_count": 41,
   "id": "ace60df5-0c02-47fa-98aa-81b8b7b87fde",
   "metadata": {},
   "outputs": [],
   "source": [
    "import random"
   ]
  },
  {
   "cell_type": "code",
   "execution_count": 48,
   "id": "ae8c6b7b-7909-45d2-9a3e-303522e8b458",
   "metadata": {},
   "outputs": [
    {
     "data": {
      "text/plain": [
       "0.07331318483344718"
      ]
     },
     "execution_count": 48,
     "metadata": {},
     "output_type": "execute_result"
    }
   ],
   "source": [
    "y_test.mean()"
   ]
  },
  {
   "cell_type": "code",
   "execution_count": 50,
   "id": "08a6b3e0-6b96-4a9d-b807-1c4c1a0f9de0",
   "metadata": {},
   "outputs": [
    {
     "data": {
      "text/plain": [
       "-0.0003188568067364894"
      ]
     },
     "execution_count": 50,
     "metadata": {},
     "output_type": "execute_result"
    }
   ],
   "source": [
    "r2_score(y_test, [0.0733 + random.random() for i in range(y_test.shape[0])])"
   ]
  },
  {
   "cell_type": "code",
   "execution_count": null,
   "id": "4169ac49-1f3a-424d-b013-362cf36a25a6",
   "metadata": {},
   "outputs": [],
   "source": []
  }
 ],
 "metadata": {
  "kernelspec": {
   "display_name": "aqf",
   "language": "python",
   "name": "aqf"
  },
  "language_info": {
   "codemirror_mode": {
    "name": "ipython",
    "version": 3
   },
   "file_extension": ".py",
   "mimetype": "text/x-python",
   "name": "python",
   "nbconvert_exporter": "python",
   "pygments_lexer": "ipython3",
   "version": "3.6.13"
  }
 },
 "nbformat": 4,
 "nbformat_minor": 5
}
