{
 "cells": [
  {
   "cell_type": "markdown",
   "id": "5b71adcf-f393-43fb-b3ed-b9de6b1f7e24",
   "metadata": {
    "tags": []
   },
   "source": [
    "# Training and Making predicting"
   ]
  },
  {
   "cell_type": "markdown",
   "id": "ceb061e0-7bce-4bf3-873e-1e0997bd06ce",
   "metadata": {},
   "source": [
    "## Description"
   ]
  },
  {
   "cell_type": "markdown",
   "id": "002dd3eb-94f7-491c-8cab-eae90e761593",
   "metadata": {},
   "source": [
    "**8 Models considered:**\n",
    "\n",
    "For Penelized linear models: Lasso, Ridge, Elastic Net regression \n",
    "\n",
    "For Linear dimension reduction tech: PCR, partial least squares regressions \n",
    "\n",
    "For Nonlinear models: RF, gradient boosted tree regression (GBR), gradient boosted tree regression with dropout (Dart), deep feed=forward neural networks (FFN)"
   ]
  },
  {
   "cell_type": "markdown",
   "id": "8bc80d6b-0e46-4d95-9897-70285d9e5f9a",
   "metadata": {},
   "source": [
    "**Assessing predictive power:**\n",
    "\n",
    "standard out-of-sample $R^2$ statistic\n",
    "\n",
    "$$\n",
    "R^2_{OS} = 1 - \\frac{\\sum_{(i,t)\\in T_3} (r_{i, s, t+1} \n",
    "            - \\hat{r}_{i,s,t+1})^2} {\\sum_{(i,t)\\in T_3 r^2_{i, s,t+1}}}\n",
    "$$"
   ]
  },
  {
   "cell_type": "markdown",
   "id": "1e7d7b41-19a5-47f0-bc65-51a61f4e727b",
   "metadata": {},
   "source": [
    "**Four Periods:**\n",
    "\n",
    "$T_1$ (1996/01 -- 2000/12) -> training\n",
    "\n",
    "$T_2$ (2001 -- 2002) -> *hyperparameter* optimization **validating**\n",
    "\n",
    "$T_3$ (2003) -> **testing**\n",
    "\n",
    "> We repeat this procedure for each year in the testing sample from 2003 through 2020, increasing the number of training years by one at each iteration.\n",
    "\n",
    "That is: \n",
    "* First iteration: 1996 ~ 2000 as train, 2001 ~ 2002 as validate, 2003 as test \n",
    "\n",
    "* Second iteration: 1996 ~ 2001 as train, 2002 ~ 2003 as validate, 2004 as test \n",
    "\n",
    "... \n",
    "\n",
    "* i-th iteration: 1996 ~ 2000 + i-1 as train, 2000 + i ~ 2000 + i+1 as validation, 2000 + i+2 as test"
   ]
  },
  {
   "cell_type": "markdown",
   "id": "a29cbdb5-d11e-4908-b86a-6b5f5633383f",
   "metadata": {},
   "source": [
    "**Cross sectional asset pricing test**\n",
    "\n",
    "> In cross-sectional asset pricing tests, our main objective is not to forecast time-series variation in future returns, but rather cross-sectional return spreads in the testing sample.\n",
    "\n",
    "Han et al (2021) proposes a cross-sectional out-of-sample $R^2$:\n",
    "\n",
    "$$\n",
    "R^2_{OS; XS} = 1 - \\frac{\\sum_{(i,t)\\in T_3} [(r_{i,s,t+1} - \\bar{r}_{i,s,t+1}) - (\\hat{r}_{i,s,t+1} - \\bar{\\hat{r}}_{i,s,t+1})]^2} \n",
    "{\\sum_{(i,t)\\in T_3} (r_{i,s,t+1} - \\bar{r}_{i,s,t+1})^2}\n",
    "$$\n",
    "\n",
    "> $R^2_{OS; XS}$ focuses on relative expected returns across options, for which accurate predictions result in profitable long-short trading strategies."
   ]
  },
  {
   "cell_type": "markdown",
   "id": "8fd29f47-9887-4cd9-bda6-47b5f80b1b4b",
   "metadata": {},
   "source": [
    "**Statistical significance of models forecasts**\n",
    "\n",
    "**1. CW test (for individual model)**\n",
    "\n",
    "$$\n",
    "CW^{(j)} = \\frac{\\bar{c}^{(j)}}  {\\hat{\\sigma}_c^{(j)}}\n",
    "$$\n",
    "\n",
    "where $\\bar{c}^{(j)}$ is the time series average, and $\\hat{\\sigma}_c^{(j)}$ is the Newey and West \n",
    "standard error ***of*** the mean difference squared forecast errors: \n",
    "\n",
    "$$\n",
    "c_{t+1}^{(j)} = \\frac{1}{n_{T_3}} \\sum_{(i,t)\\in T_3} [r_{i,s,t+1}^2 - (\\hat{e}_{i,t+1}^{(j)})^2]\n",
    "$$\n",
    "\n",
    "where $n_{T_3}$ is the number of observations in the testing sample and $\\hat{e}_{i,t+1}$ is the \n",
    "forecast error on option i at time t+1 for method j. "
   ]
  },
  {
   "cell_type": "markdown",
   "id": "262c46d7-9df5-4066-967a-f0406d60f540",
   "metadata": {},
   "source": [
    "**2. DM test (for comparison)**\n",
    "\n",
    "Diebold and Mariano (1995) (DM) test\n",
    "\n",
    "The DM test-statisics for a comparison between methods 1 and 2 is defined as: \n",
    "\n",
    "$$\n",
    "DM^{(1,2)} = \\frac{\\bar{d}^{(1,2)}} {\\hat{\\sigma}_d^{(1,2)}}\n",
    "$$\n",
    "\n",
    "where $\\bar{d}^{(1,2)}$ is the time series average, and $\\hat{\\sigma}_d^{(1,2)}$ is the Newey and West \n",
    "standard error ***of*** the mean difference squared forecast errors: \n",
    "\n",
    "$$\n",
    "d^{(1,2)}_{t+1} = \\frac{1}{n_{T_3}} \\sum_{(i,t)\\in T_3} [(\\hat{e}^{(1)}_{i, t+1})^2 - (\\hat{e}^{(2)}_{i, t+1})^2]\n",
    "$$\n"
   ]
  },
  {
   "cell_type": "code",
   "execution_count": null,
   "id": "06b7c631-7972-47b0-8346-6525664dba52",
   "metadata": {},
   "outputs": [],
   "source": []
  },
  {
   "cell_type": "code",
   "execution_count": null,
   "id": "63ce6362-c754-48a1-a267-d6836415e454",
   "metadata": {},
   "outputs": [],
   "source": []
  },
  {
   "cell_type": "code",
   "execution_count": null,
   "id": "b4b58d8b-f700-4b36-9ee6-8329bac92373",
   "metadata": {},
   "outputs": [],
   "source": []
  },
  {
   "cell_type": "code",
   "execution_count": 138,
   "id": "599eb8d3-2ebf-4e11-b828-4b1345a6067e",
   "metadata": {},
   "outputs": [],
   "source": [
    "def CW_test(true_pred_return):\n",
    "    '''\n",
    "    true_pred_return should be a data frame\n",
    "    with columns = ['optionid', 'time', 'true_return', 'pred_return']\n",
    "    '''\n",
    "    c = 1 / true_pred_return.shape[0] * (\n",
    "        true_pred_return.groupby([\"optionid\", \"time\"]).apply(\n",
    "        lambda group: sum(\n",
    "            np.power(group[\"true_return\"], 2) \n",
    "            - np.power(group[\"true_return\"] - group[\"pred_return\"], 2)\n",
    "        )\n",
    "    )\n",
    "    )\n",
    "    return mean(c) / std(c)"
   ]
  },
  {
   "cell_type": "code",
   "execution_count": 40,
   "id": "065dd9f3-18e3-485b-ba31-a68220aa11ba",
   "metadata": {},
   "outputs": [],
   "source": [
    "import numpy as np\n",
    "import datetime as dt"
   ]
  },
  {
   "cell_type": "code",
   "execution_count": 111,
   "id": "3631c218-6d11-445b-afd7-8b94f685c28f",
   "metadata": {},
   "outputs": [],
   "source": [
    "from evaluation_matrics import R_squared_OSXS\n"
   ]
  },
  {
   "cell_type": "code",
   "execution_count": 112,
   "id": "7bef6c5e-548d-4d24-9fd2-c9eee30ac174",
   "metadata": {},
   "outputs": [
    {
     "data": {
      "text/plain": [
       "array([0.46834916, 0.19331543, 0.01814334])"
      ]
     },
     "execution_count": 112,
     "metadata": {},
     "output_type": "execute_result"
    }
   ],
   "source": [
    "np.random.random((3,)) ** 2"
   ]
  },
  {
   "cell_type": "code",
   "execution_count": 113,
   "id": "5baa11d9-a9cf-4e47-bfe2-3ce4055a4fe4",
   "metadata": {},
   "outputs": [],
   "source": [
    "a = np.random.random((10,))"
   ]
  },
  {
   "cell_type": "code",
   "execution_count": 114,
   "id": "bac8bf8c-4392-4fc5-a64b-59271350c931",
   "metadata": {},
   "outputs": [
    {
     "data": {
      "text/plain": [
       "0.75"
      ]
     },
     "execution_count": 114,
     "metadata": {},
     "output_type": "execute_result"
    }
   ],
   "source": [
    "R_squared_OSXS(a, a*0.5 + 1)"
   ]
  },
  {
   "cell_type": "code",
   "execution_count": 119,
   "id": "fd870841-631d-413f-b123-75b47d5736a4",
   "metadata": {},
   "outputs": [
    {
     "name": "stderr",
     "output_type": "stream",
     "text": [
      "/var/folders/nh/s3ft86ks12xd4qdptmv1pvtc0000gn/T/ipykernel_64490/1530711330.py:11: RuntimeWarning: divide by zero encountered in double_scalars\n",
      "  return np.mean(c) / np.std(c)\n"
     ]
    },
    {
     "data": {
      "text/plain": [
       "-inf"
      ]
     },
     "execution_count": 119,
     "metadata": {},
     "output_type": "execute_result"
    }
   ],
   "source": [
    "CW_test(a, a*0.5 + 1)"
   ]
  },
  {
   "cell_type": "code",
   "execution_count": 1,
   "id": "cf1f6a38-7fa1-4b87-9f27-560c70e751a8",
   "metadata": {},
   "outputs": [],
   "source": [
    "import pandas as pd \n",
    "import os\n"
   ]
  },
  {
   "cell_type": "code",
   "execution_count": 3,
   "id": "a4eaed0f-add2-4b3a-9da0-930d01c73522",
   "metadata": {},
   "outputs": [
    {
     "data": {
      "text/plain": [
       "array([[4.        , 2.        ],\n",
       "       [6.        , 3.66666667],\n",
       "       [7.        , 6.        ]])"
      ]
     },
     "execution_count": 3,
     "metadata": {},
     "output_type": "execute_result"
    }
   ],
   "source": [
    "import numpy as np\n",
    "from sklearn.impute import SimpleImputer\n",
    "imp = SimpleImputer(missing_values=np.nan, strategy='mean')\n",
    "imp.fit([[1, 2], [np.nan, 3], [7, 6]])\n",
    "\n",
    "X = [[np.nan, 2], [6, np.nan], [7, 6]]\n",
    "# imp.fit(X)\n",
    "# print(imp.transform(X))\n",
    "imp.transform(X)"
   ]
  },
  {
   "cell_type": "markdown",
   "id": "5a9819f0-82dd-4e9f-9c7d-1310c9161fc0",
   "metadata": {},
   "source": [
    "## Import data"
   ]
  },
  {
   "cell_type": "code",
   "execution_count": 66,
   "id": "667c0cbf-cbbc-4991-b222-b98234236f93",
   "metadata": {},
   "outputs": [],
   "source": [
    "DATAROOT = \"data/\""
   ]
  },
  {
   "cell_type": "code",
   "execution_count": 67,
   "id": "e6647247-c316-469d-8f68-e71b528892e3",
   "metadata": {},
   "outputs": [],
   "source": [
    "option_with_feature = pd.read_csv(os.path.join(DATAROOT, \"option_with_nonsparse_features.csv\"))"
   ]
  },
  {
   "cell_type": "code",
   "execution_count": 68,
   "id": "a42caaf7-886b-4911-af4d-e4d7b3c7df52",
   "metadata": {},
   "outputs": [
    {
     "name": "stdout",
     "output_type": "stream",
     "text": [
      "number of na rows: 1016067\n"
     ]
    }
   ],
   "source": [
    "total_row_num = option_with_feature.shape[0]\n",
    "option_with_feature = option_with_feature.dropna()\n",
    "print(f\"number of na rows: {total_row_num - option_with_feature.shape[0]}\")"
   ]
  },
  {
   "cell_type": "code",
   "execution_count": 70,
   "id": "ca715d14-f0b5-4239-baac-bcf4bd03e71b",
   "metadata": {},
   "outputs": [
    {
     "data": {
      "text/plain": [
       "3982036"
      ]
     },
     "execution_count": 70,
     "metadata": {},
     "output_type": "execute_result"
    }
   ],
   "source": [
    "total_row_num"
   ]
  },
  {
   "cell_type": "code",
   "execution_count": 69,
   "id": "6c39147a-1952-443a-a087-a9b0f019adaa",
   "metadata": {},
   "outputs": [],
   "source": [
    "option_with_feature[\"date_x\"] = option_with_feature.date_x.apply(lambda x: dt.datetime.strptime(x.split()[0], \"%Y-%m-%d\")).copy()"
   ]
  },
  {
   "cell_type": "code",
   "execution_count": 71,
   "id": "15ae2289-c5ed-478e-8baa-b95c1bc1ad1f",
   "metadata": {},
   "outputs": [
    {
     "data": {
      "text/html": [
       "<div>\n",
       "<style scoped>\n",
       "    .dataframe tbody tr th:only-of-type {\n",
       "        vertical-align: middle;\n",
       "    }\n",
       "\n",
       "    .dataframe tbody tr th {\n",
       "        vertical-align: top;\n",
       "    }\n",
       "\n",
       "    .dataframe thead th {\n",
       "        text-align: right;\n",
       "    }\n",
       "</style>\n",
       "<table border=\"1\" class=\"dataframe\">\n",
       "  <thead>\n",
       "    <tr style=\"text-align: right;\">\n",
       "      <th></th>\n",
       "      <th>Unnamed: 0</th>\n",
       "      <th>secid</th>\n",
       "      <th>date_x</th>\n",
       "      <th>exdate</th>\n",
       "      <th>cp_flag</th>\n",
       "      <th>strike_price</th>\n",
       "      <th>best_bid</th>\n",
       "      <th>best_offer</th>\n",
       "      <th>volume</th>\n",
       "      <th>open_interest</th>\n",
       "      <th>...</th>\n",
       "      <th>MaxRet</th>\n",
       "      <th>PriceDelayRsq</th>\n",
       "      <th>PriceDelaySlope</th>\n",
       "      <th>PriceDelayTstat</th>\n",
       "      <th>ReturnSkew</th>\n",
       "      <th>ReturnSkew3F</th>\n",
       "      <th>VolMkt</th>\n",
       "      <th>zerotrade</th>\n",
       "      <th>zerotradeAlt1</th>\n",
       "      <th>date_y</th>\n",
       "    </tr>\n",
       "  </thead>\n",
       "  <tbody>\n",
       "    <tr>\n",
       "      <th>302260</th>\n",
       "      <td>302260</td>\n",
       "      <td>106744</td>\n",
       "      <td>2000-08-31</td>\n",
       "      <td>2000-10-21 00:00:00</td>\n",
       "      <td>P</td>\n",
       "      <td>22.5</td>\n",
       "      <td>1.0</td>\n",
       "      <td>1.0625</td>\n",
       "      <td>3</td>\n",
       "      <td>2319</td>\n",
       "      <td>...</td>\n",
       "      <td>-0.064897</td>\n",
       "      <td>0.117214</td>\n",
       "      <td>1.001644</td>\n",
       "      <td>2.990750</td>\n",
       "      <td>-0.351963</td>\n",
       "      <td>-0.111258</td>\n",
       "      <td>-0.089172</td>\n",
       "      <td>2.444607e-08</td>\n",
       "      <td>3.998864e-08</td>\n",
       "      <td>2000-08-01</td>\n",
       "    </tr>\n",
       "    <tr>\n",
       "      <th>2519758</th>\n",
       "      <td>2519758</td>\n",
       "      <td>109942</td>\n",
       "      <td>2017-05-31</td>\n",
       "      <td>2017-07-21 00:00:00</td>\n",
       "      <td>C</td>\n",
       "      <td>70.0</td>\n",
       "      <td>0.7</td>\n",
       "      <td>0.8000</td>\n",
       "      <td>726</td>\n",
       "      <td>12</td>\n",
       "      <td>...</td>\n",
       "      <td>-0.019976</td>\n",
       "      <td>0.108427</td>\n",
       "      <td>-0.915030</td>\n",
       "      <td>-2.156536</td>\n",
       "      <td>-0.193380</td>\n",
       "      <td>-0.380172</td>\n",
       "      <td>-0.137936</td>\n",
       "      <td>1.499540e-08</td>\n",
       "      <td>1.462524e-08</td>\n",
       "      <td>2017-05-01</td>\n",
       "    </tr>\n",
       "    <tr>\n",
       "      <th>2953211</th>\n",
       "      <td>2953211</td>\n",
       "      <td>161291</td>\n",
       "      <td>2019-02-28</td>\n",
       "      <td>2020-01-17 00:00:00</td>\n",
       "      <td>C</td>\n",
       "      <td>105.0</td>\n",
       "      <td>3.7</td>\n",
       "      <td>4.0000</td>\n",
       "      <td>2</td>\n",
       "      <td>113</td>\n",
       "      <td>...</td>\n",
       "      <td>-0.056771</td>\n",
       "      <td>0.012893</td>\n",
       "      <td>0.459704</td>\n",
       "      <td>1.792312</td>\n",
       "      <td>-1.860529</td>\n",
       "      <td>-1.750176</td>\n",
       "      <td>-0.098604</td>\n",
       "      <td>2.206514e-08</td>\n",
       "      <td>1.862002e-08</td>\n",
       "      <td>2019-02-01</td>\n",
       "    </tr>\n",
       "  </tbody>\n",
       "</table>\n",
       "<p>3 rows × 48 columns</p>\n",
       "</div>"
      ],
      "text/plain": [
       "         Unnamed: 0   secid     date_x               exdate cp_flag  \\\n",
       "302260       302260  106744 2000-08-31  2000-10-21 00:00:00       P   \n",
       "2519758     2519758  109942 2017-05-31  2017-07-21 00:00:00       C   \n",
       "2953211     2953211  161291 2019-02-28  2020-01-17 00:00:00       C   \n",
       "\n",
       "         strike_price  best_bid  best_offer  volume  open_interest  ...  \\\n",
       "302260           22.5       1.0      1.0625       3           2319  ...   \n",
       "2519758          70.0       0.7      0.8000     726             12  ...   \n",
       "2953211         105.0       3.7      4.0000       2            113  ...   \n",
       "\n",
       "           MaxRet  PriceDelayRsq  PriceDelaySlope  PriceDelayTstat  \\\n",
       "302260  -0.064897       0.117214         1.001644         2.990750   \n",
       "2519758 -0.019976       0.108427        -0.915030        -2.156536   \n",
       "2953211 -0.056771       0.012893         0.459704         1.792312   \n",
       "\n",
       "         ReturnSkew  ReturnSkew3F    VolMkt     zerotrade  zerotradeAlt1  \\\n",
       "302260    -0.351963     -0.111258 -0.089172  2.444607e-08   3.998864e-08   \n",
       "2519758   -0.193380     -0.380172 -0.137936  1.499540e-08   1.462524e-08   \n",
       "2953211   -1.860529     -1.750176 -0.098604  2.206514e-08   1.862002e-08   \n",
       "\n",
       "             date_y  \n",
       "302260   2000-08-01  \n",
       "2519758  2017-05-01  \n",
       "2953211  2019-02-01  \n",
       "\n",
       "[3 rows x 48 columns]"
      ]
     },
     "execution_count": 71,
     "metadata": {},
     "output_type": "execute_result"
    }
   ],
   "source": [
    "option_with_feature.sample(3)"
   ]
  },
  {
   "cell_type": "code",
   "execution_count": 49,
   "id": "a3524ee6-8112-4111-ada1-426c6a37636f",
   "metadata": {},
   "outputs": [],
   "source": []
  },
  {
   "cell_type": "code",
   "execution_count": 73,
   "id": "0322bcf7-68f6-4412-b913-d7da7bb76229",
   "metadata": {},
   "outputs": [],
   "source": [
    "begin_date = dt.datetime.strptime(\"1996-01-01\", \"%Y-%m-%d\")\n",
    "end_date = dt.datetime.strptime(\"2000-12-31\", \"%Y-%m-%d\")\n",
    "training_data = option_with_feature[\n",
    "    option_with_feature.date_x.apply(lambda x: x >= begin_date and x <= end_date )\n",
    "]"
   ]
  },
  {
   "cell_type": "code",
   "execution_count": 74,
   "id": "84788356-fe23-41f4-9fbb-f9b26b49aae5",
   "metadata": {},
   "outputs": [],
   "source": [
    "begin_date = dt.datetime.strptime(\"2001-01-01\", \"%Y-%m-%d\")\n",
    "end_date = dt.datetime.strptime(\"2002-12-31\", \"%Y-%m-%d\")\n",
    "validation_data = option_with_feature[\n",
    "    option_with_feature.date_x.apply(lambda x: x >= begin_date and x <= end_date )\n",
    "]"
   ]
  },
  {
   "cell_type": "code",
   "execution_count": 75,
   "id": "a3b2fb81-54b1-4037-9e84-ef822b69f841",
   "metadata": {},
   "outputs": [],
   "source": [
    "begin_date = dt.datetime.strptime(\"2003-01-01\", \"%Y-%m-%d\")\n",
    "end_date = dt.datetime.strptime(\"2003-12-31\", \"%Y-%m-%d\")\n",
    "test_data = option_with_feature[\n",
    "    option_with_feature.date_x.apply(lambda x: x >= begin_date and x <= end_date )\n",
    "]"
   ]
  },
  {
   "cell_type": "code",
   "execution_count": 76,
   "id": "ff893dc2-4dae-4d22-a6d8-d9a6b54403b2",
   "metadata": {},
   "outputs": [
    {
     "data": {
      "text/plain": [
       "(309930, 142846, 71364)"
      ]
     },
     "execution_count": 76,
     "metadata": {},
     "output_type": "execute_result"
    }
   ],
   "source": [
    "training_data.shape[0], validation_data.shape[0], test_data.shape[0]"
   ]
  },
  {
   "cell_type": "code",
   "execution_count": 106,
   "id": "09b1562c-a568-400e-b270-6360c075c547",
   "metadata": {},
   "outputs": [
    {
     "data": {
      "text/plain": [
       "(71364, 38039)"
      ]
     },
     "execution_count": 106,
     "metadata": {},
     "output_type": "execute_result"
    }
   ],
   "source": [
    "len(test_data.optionid), len(set(test_data.optionid))"
   ]
  },
  {
   "cell_type": "code",
   "execution_count": null,
   "id": "8ee359ec-8cca-4df7-963c-1fd7e72c4426",
   "metadata": {},
   "outputs": [],
   "source": []
  },
  {
   "cell_type": "code",
   "execution_count": 36,
   "id": "dd1bb442-726d-429f-8623-c8baba3869ee",
   "metadata": {},
   "outputs": [],
   "source": [
    "subsample = option_with_feature.sample(1000000)"
   ]
  },
  {
   "cell_type": "code",
   "execution_count": 27,
   "id": "9f70777d-cb0d-40d2-af45-7cc9fb383cf3",
   "metadata": {},
   "outputs": [],
   "source": [
    "subsample = subsample.dropna()"
   ]
  },
  {
   "cell_type": "code",
   "execution_count": 28,
   "id": "d9663abb-abec-4cbd-8ae3-1723de3e5e01",
   "metadata": {},
   "outputs": [
    {
     "name": "stdout",
     "output_type": "stream",
     "text": [
      "'zerotrade', 'zerotradeAlt1', 'vega', 'optionid', 'IdioRisk', 'spotprice', 'Coskewness', 'High52', 'IdioVol3F', 'volume', 'PriceDelayRsq', 'theta', 'cfadj', 'MaxRet', 'adj_spot', 'Beta', 'best_bid', 'DolVol', 'days_no_trading', 'strike_price', 'VolMkt', 'forwardprice', 'ir_rate', 'impl_volatility', 'mid_price', 'BidAskSpread', 'best_offer', 'ReturnSkew', 'PriceDelayTstat', 'open_interest', 'delta', 'ReturnSkew3F', 'gamma', 'days_to_exp', 'IdioVolAHT', 'PriceDelaySlope', "
     ]
    }
   ],
   "source": [
    "for i in (set(subsample.columns) - \n",
    "          {\"Unnamed: 0\", \"secid\", \"date_x\", \"exdate\", \"date_y\", \"option_ret\", \"permno\",\n",
    "           \"yyyymm\", \"date2\", \"sdate\", \"edate\", \n",
    "           \"cp_flag\"}):\n",
    "    print(f\"'{i}'\", end=\", \")"
   ]
  },
  {
   "cell_type": "code",
   "execution_count": 121,
   "id": "adfd5839-dde3-4dbf-a624-5c583831f003",
   "metadata": {},
   "outputs": [],
   "source": [
    "used_characteristics = ['volume', 'ReturnSkew', 'MaxRet', 'delta', 'PriceDelaySlope', 'strike_price', 'IdioVol3F', 'ReturnSkew3F', 'optionid', 'ir_rate', 'mid_price', 'forwardprice', 'zerotradeAlt1', 'theta', 'cfadj', 'zerotrade', 'best_bid', 'spotprice', 'VolMkt', 'IdioRisk', 'days_to_exp', 'PriceDelayTstat', 'High52', 'Coskewness', 'BidAskSpread', 'Beta', 'days_no_trading', 'open_interest', 'impl_volatility', 'PriceDelayRsq', 'IdioVolAHT', 'adj_spot', 'vega', 'gamma', 'best_offer', 'DolVol']\n",
    "\n",
    "X_train = training_data[training_data.columns.difference([\"option_ret\"])]\n",
    "y_train = training_data['option_ret']\n",
    "\n",
    "\n",
    "X_test = test_data[test_data.columns.difference([\"option_ret\"])]\n",
    "y_test = test_data['option_ret']\n",
    "\n",
    "# X_train, X_test, y_train, y_test = train_test_split(\n",
    "#     X, y\n",
    "# )"
   ]
  },
  {
   "cell_type": "markdown",
   "id": "ad270bd3-7e01-4f07-bcac-6085d7e71a27",
   "metadata": {},
   "source": [
    "## Linear regression"
   ]
  },
  {
   "cell_type": "code",
   "execution_count": 78,
   "id": "bfb1ccaf-ecb8-4ec5-98a7-6f3d0e7af165",
   "metadata": {},
   "outputs": [],
   "source": [
    "import numpy as np\n",
    "from sklearn.linear_model import LinearRegression"
   ]
  },
  {
   "cell_type": "code",
   "execution_count": 79,
   "id": "13053d44-3857-46b5-a232-240fb449d336",
   "metadata": {},
   "outputs": [],
   "source": [
    "from sklearn.metrics import mean_squared_error, r2_score\n",
    "from sklearn.model_selection import train_test_split"
   ]
  },
  {
   "cell_type": "code",
   "execution_count": 80,
   "id": "ead55f6e-ee22-4770-9000-4b7ab47fcc99",
   "metadata": {},
   "outputs": [],
   "source": [
    "from sklearn import linear_model"
   ]
  },
  {
   "cell_type": "code",
   "execution_count": null,
   "id": "1f0029c0-d2ed-4e26-8ccd-5dd063127a9e",
   "metadata": {},
   "outputs": [],
   "source": []
  },
  {
   "cell_type": "code",
   "execution_count": null,
   "id": "f66d6d90-4025-498e-9ac4-c98473027742",
   "metadata": {},
   "outputs": [],
   "source": []
  },
  {
   "cell_type": "code",
   "execution_count": 81,
   "id": "92977edc-369a-4431-b17f-cec3f3dd20b2",
   "metadata": {},
   "outputs": [
    {
     "data": {
      "text/plain": [
       "0"
      ]
     },
     "execution_count": 81,
     "metadata": {},
     "output_type": "execute_result"
    }
   ],
   "source": [
    "sum(y_train.isna())"
   ]
  },
  {
   "cell_type": "code",
   "execution_count": 122,
   "id": "7e7d062e-1a6a-4377-b30b-9e4ca98c05d0",
   "metadata": {},
   "outputs": [
    {
     "data": {
      "text/plain": [
       "Lasso(alpha=0.1)"
      ]
     },
     "execution_count": 122,
     "metadata": {},
     "output_type": "execute_result"
    }
   ],
   "source": [
    "regressor = linear_model.Lasso(alpha=0.1)\n",
    "regressor.fit(X_train[used_characteristics], y_train)"
   ]
  },
  {
   "cell_type": "code",
   "execution_count": 123,
   "id": "3e51d8f3-efcc-40c2-8c18-b537ebeb33fb",
   "metadata": {},
   "outputs": [
    {
     "data": {
      "text/plain": [
       "178.6995144070895"
      ]
     },
     "execution_count": 123,
     "metadata": {},
     "output_type": "execute_result"
    }
   ],
   "source": [
    "y_pred = regressor.predict(X_test[used_characteristics])\n",
    "mean_squared_error(y_test, y_pred)"
   ]
  },
  {
   "cell_type": "code",
   "execution_count": 124,
   "id": "ee3736b4-af9a-4a45-bc10-77f43bd12367",
   "metadata": {},
   "outputs": [
    {
     "data": {
      "text/plain": [
       "-0.0011067996607445618"
      ]
     },
     "execution_count": 124,
     "metadata": {},
     "output_type": "execute_result"
    }
   ],
   "source": [
    "r2_score(y_test, y_pred)"
   ]
  },
  {
   "cell_type": "code",
   "execution_count": 125,
   "id": "0b4e6ac2-92e0-416b-87a9-4d854b87760d",
   "metadata": {},
   "outputs": [
    {
     "data": {
      "text/plain": [
       "-0.0003612560350199079"
      ]
     },
     "execution_count": 125,
     "metadata": {},
     "output_type": "execute_result"
    }
   ],
   "source": [
    "R_squared_OSXS(y_test, y_pred)"
   ]
  },
  {
   "cell_type": "code",
   "execution_count": null,
   "id": "a0a6de10-88c2-4633-8fee-5ce8841f2a37",
   "metadata": {},
   "outputs": [],
   "source": [
    "# CW test"
   ]
  },
  {
   "cell_type": "code",
   "execution_count": 129,
   "id": "34b96372-5dcf-4c84-803d-91bc87cdb10b",
   "metadata": {},
   "outputs": [],
   "source": [
    "true_pred_return = pd.DataFrame(\n",
    "    {\n",
    "        \"optionid\": X_test.optionid,\n",
    "        \"time\": X_test.date_x,\n",
    "        \"true_return\": y_test,\n",
    "        \"pred_return\": y_pred\n",
    "    }\n",
    ")"
   ]
  },
  {
   "cell_type": "code",
   "execution_count": null,
   "id": "32dd590c-4023-41ea-af96-a002d978498b",
   "metadata": {},
   "outputs": [],
   "source": [
    "# DW test"
   ]
  },
  {
   "cell_type": "code",
   "execution_count": 158,
   "id": "d88489be-1781-4c3d-b720-8a7e698d9b4e",
   "metadata": {},
   "outputs": [],
   "source": [
    "true_pred_1vs2_return = pd.DataFrame(\n",
    "    {\n",
    "        \"optionid\": X_test.optionid,\n",
    "        \"time\": X_test.date_x,\n",
    "        \"true_return\": y_test,\n",
    "        \"pred_return1\": regressor.predict(X_test[used_characteristics]),\n",
    "        \"pred_return2\": est.predict(X_test[used_characteristics])\n",
    "    }\n",
    ")"
   ]
  },
  {
   "cell_type": "code",
   "execution_count": 159,
   "id": "b2c706ca-897c-4462-a5f0-a5381632c4d2",
   "metadata": {},
   "outputs": [],
   "source": [
    "d = 1 / true_pred_1vs2_return.shape[0] * true_pred_1vs2_return.groupby([\"optionid\", \"time\"]).apply(\n",
    "    lambda group:\n",
    "    sum(\n",
    "        np.power(group[\"true_return\"] - group[\"pred_return1\"], 2)\n",
    "    - np.power(group[\"true_return\"] - group[\"pred_return2\"], 2)\n",
    "    )\n",
    ")"
   ]
  },
  {
   "cell_type": "code",
   "execution_count": 160,
   "id": "29d4c454-0ed2-4a50-af52-fe070b17214e",
   "metadata": {},
   "outputs": [
    {
     "data": {
      "text/plain": [
       "0.037391263300535625"
      ]
     },
     "execution_count": 160,
     "metadata": {},
     "output_type": "execute_result"
    }
   ],
   "source": [
    "np.mean(d) / np.std(d)"
   ]
  },
  {
   "cell_type": "code",
   "execution_count": 136,
   "id": "093abce3-3ebf-4f01-9592-23be8eb8dc85",
   "metadata": {},
   "outputs": [
    {
     "data": {
      "text/plain": [
       "-2.781837086300935e-06"
      ]
     },
     "execution_count": 136,
     "metadata": {},
     "output_type": "execute_result"
    }
   ],
   "source": [
    "np.mean(c)"
   ]
  },
  {
   "cell_type": "markdown",
   "id": "5bb26b8b-c2f8-4b79-a805-470060466beb",
   "metadata": {},
   "source": [
    "## Emsemble models"
   ]
  },
  {
   "cell_type": "code",
   "execution_count": 86,
   "id": "b00506fc-7890-49a2-9e72-d9334bfe855b",
   "metadata": {},
   "outputs": [],
   "source": [
    "import numpy as np\n",
    "from sklearn.metrics import mean_squared_error\n",
    "from sklearn.datasets import make_friedman1\n",
    "from sklearn.ensemble import GradientBoostingRegressor"
   ]
  },
  {
   "cell_type": "code",
   "execution_count": 87,
   "id": "c6fffc16-a9bb-4ee1-a5db-f3766e399193",
   "metadata": {},
   "outputs": [
    {
     "data": {
      "text/plain": [
       "'1.0.2'"
      ]
     },
     "execution_count": 87,
     "metadata": {},
     "output_type": "execute_result"
    }
   ],
   "source": [
    "import sklearn\n",
    "sklearn.__version__"
   ]
  },
  {
   "cell_type": "code",
   "execution_count": 104,
   "id": "2aac9ece-5960-4465-80b9-bbbfe46f76d7",
   "metadata": {
    "collapsed": true,
    "jupyter": {
     "outputs_hidden": true
    },
    "tags": []
   },
   "outputs": [
    {
     "name": "stdout",
     "output_type": "stream",
     "text": [
      "      Iter       Train Loss   Remaining Time \n",
      "         1           0.3613            3.46m\n",
      "         2           0.3600            3.41m\n",
      "         3           0.3591            3.33m\n",
      "         4           0.3579            3.29m\n",
      "         5           0.3562            3.26m\n",
      "         6           0.3549            3.21m\n",
      "         7           0.3541            3.17m\n",
      "         8           0.3532            3.13m\n",
      "         9           0.3525            3.10m\n",
      "        10           0.3513            3.07m\n",
      "        20           0.3466            2.75m\n",
      "        30           0.3441            2.39m\n",
      "        40           0.3421            2.03m\n",
      "        50           0.3403            1.69m\n",
      "        60           0.3391            1.35m\n",
      "        70           0.3381            1.01m\n",
      "        80           0.3370           40.36s\n",
      "        90           0.3357           20.20s\n",
      "       100           0.3346            0.00s\n"
     ]
    }
   ],
   "source": [
    "est = GradientBoostingRegressor(\n",
    "    n_estimators=100, random_state=0,\n",
    "    loss='huber',\n",
    "    verbose=1\n",
    ").fit(X_train, y_train)"
   ]
  },
  {
   "cell_type": "code",
   "execution_count": null,
   "id": "f07eb4e8-0e1f-4597-964c-2d3565d3c585",
   "metadata": {},
   "outputs": [],
   "source": [
    "y_pred = est.predict(X_test)"
   ]
  },
  {
   "cell_type": "code",
   "execution_count": 101,
   "id": "1d1fdbdb-4a91-4ee6-9233-6f11b03167f7",
   "metadata": {},
   "outputs": [
    {
     "data": {
      "text/plain": [
       "178.50648699283414"
      ]
     },
     "execution_count": 101,
     "metadata": {},
     "output_type": "execute_result"
    }
   ],
   "source": [
    "mean_squared_error(y_test, y_pred)"
   ]
  },
  {
   "cell_type": "code",
   "execution_count": 102,
   "id": "9e4f60b7-ea26-45be-9a2a-b63ea4616d94",
   "metadata": {},
   "outputs": [
    {
     "data": {
      "text/plain": [
       "-2.5425390796751657e-05"
      ]
     },
     "execution_count": 102,
     "metadata": {},
     "output_type": "execute_result"
    }
   ],
   "source": [
    "r2_score(y_test, y_pred)"
   ]
  },
  {
   "cell_type": "code",
   "execution_count": 103,
   "id": "3b850dbc-e01c-40f9-b625-421c5a4a20c5",
   "metadata": {},
   "outputs": [
    {
     "data": {
      "text/plain": [
       "-2.4875359702081212e-05"
      ]
     },
     "execution_count": 103,
     "metadata": {},
     "output_type": "execute_result"
    }
   ],
   "source": [
    "R_squared_OSXS(y_test, est.predict(X_test))"
   ]
  },
  {
   "cell_type": "code",
   "execution_count": null,
   "id": "4169ac49-1f3a-424d-b013-362cf36a25a6",
   "metadata": {},
   "outputs": [],
   "source": []
  },
  {
   "cell_type": "code",
   "execution_count": 120,
   "id": "5aeabe08-edcd-45e5-b277-ca0cf4fcd938",
   "metadata": {},
   "outputs": [
    {
     "data": {
      "text/html": [
       "<div>\n",
       "<style scoped>\n",
       "    .dataframe tbody tr th:only-of-type {\n",
       "        vertical-align: middle;\n",
       "    }\n",
       "\n",
       "    .dataframe tbody tr th {\n",
       "        vertical-align: top;\n",
       "    }\n",
       "\n",
       "    .dataframe thead th {\n",
       "        text-align: right;\n",
       "    }\n",
       "</style>\n",
       "<table border=\"1\" class=\"dataframe\">\n",
       "  <thead>\n",
       "    <tr style=\"text-align: right;\">\n",
       "      <th></th>\n",
       "      <th>volume</th>\n",
       "      <th>ReturnSkew</th>\n",
       "      <th>MaxRet</th>\n",
       "      <th>delta</th>\n",
       "      <th>PriceDelaySlope</th>\n",
       "      <th>strike_price</th>\n",
       "      <th>IdioVol3F</th>\n",
       "      <th>ReturnSkew3F</th>\n",
       "      <th>optionid</th>\n",
       "      <th>ir_rate</th>\n",
       "      <th>...</th>\n",
       "      <th>days_no_trading</th>\n",
       "      <th>open_interest</th>\n",
       "      <th>impl_volatility</th>\n",
       "      <th>PriceDelayRsq</th>\n",
       "      <th>IdioVolAHT</th>\n",
       "      <th>adj_spot</th>\n",
       "      <th>vega</th>\n",
       "      <th>gamma</th>\n",
       "      <th>best_offer</th>\n",
       "      <th>DolVol</th>\n",
       "    </tr>\n",
       "  </thead>\n",
       "  <tbody>\n",
       "    <tr>\n",
       "      <th>515971</th>\n",
       "      <td>24</td>\n",
       "      <td>0.8303</td>\n",
       "      <td>-0.057629</td>\n",
       "      <td>0.212497</td>\n",
       "      <td>0.038668</td>\n",
       "      <td>22.5</td>\n",
       "      <td>-0.021264</td>\n",
       "      <td>0.614638</td>\n",
       "      <td>20960240</td>\n",
       "      <td>0.012316</td>\n",
       "      <td>...</td>\n",
       "      <td>0</td>\n",
       "      <td>181</td>\n",
       "      <td>0.465872</td>\n",
       "      <td>0.010661</td>\n",
       "      <td>-0.037061</td>\n",
       "      <td>15.07</td>\n",
       "      <td>3.69867</td>\n",
       "      <td>0.048886</td>\n",
       "      <td>0.7</td>\n",
       "      <td>-7.570561</td>\n",
       "    </tr>\n",
       "  </tbody>\n",
       "</table>\n",
       "<p>1 rows × 36 columns</p>\n",
       "</div>"
      ],
      "text/plain": [
       "        volume  ReturnSkew    MaxRet     delta  PriceDelaySlope  strike_price  \\\n",
       "515971      24      0.8303 -0.057629  0.212497         0.038668          22.5   \n",
       "\n",
       "        IdioVol3F  ReturnSkew3F  optionid   ir_rate  ...  days_no_trading  \\\n",
       "515971  -0.021264      0.614638  20960240  0.012316  ...                0   \n",
       "\n",
       "        open_interest  impl_volatility  PriceDelayRsq  IdioVolAHT  adj_spot  \\\n",
       "515971            181         0.465872       0.010661   -0.037061     15.07   \n",
       "\n",
       "           vega     gamma  best_offer    DolVol  \n",
       "515971  3.69867  0.048886         0.7 -7.570561  \n",
       "\n",
       "[1 rows x 36 columns]"
      ]
     },
     "execution_count": 120,
     "metadata": {},
     "output_type": "execute_result"
    }
   ],
   "source": [
    "X_test.sample()"
   ]
  }
 ],
 "metadata": {
  "kernelspec": {
   "display_name": "aqf",
   "language": "python",
   "name": "aqf"
  },
  "language_info": {
   "codemirror_mode": {
    "name": "ipython",
    "version": 3
   },
   "file_extension": ".py",
   "mimetype": "text/x-python",
   "name": "python",
   "nbconvert_exporter": "python",
   "pygments_lexer": "ipython3",
   "version": "3.8.0"
  },
  "widgets": {
   "application/vnd.jupyter.widget-state+json": {
    "state": {},
    "version_major": 2,
    "version_minor": 0
   }
  }
 },
 "nbformat": 4,
 "nbformat_minor": 5
}
