{
 "cells": [
  {
   "cell_type": "code",
   "execution_count": null,
   "id": "330a4283-f883-4b1f-8408-d6f35d21e6f3",
   "metadata": {},
   "outputs": [],
   "source": []
  },
  {
   "cell_type": "markdown",
   "id": "358c93c0-c086-4eda-b4c6-ff47d95ef544",
   "metadata": {
    "jp-MarkdownHeadingCollapsed": true,
    "tags": []
   },
   "source": [
    "## Summary\n",
    "\n",
    "I first intended to make use of database. However, as I proceed problem occurs. \n",
    "\n",
    "It's very slow to write 5GB data into sqlite.\n",
    "\n",
    "Meanwhile, reading data from mongodb is extremely slow.\n",
    "\n",
    "Now I decide to use csv files instead. \n",
    "\n",
    "***This script is deprecated for the moment being***"
   ]
  },
  {
   "cell_type": "markdown",
   "id": "7690b7d5-9c74-4526-8c63-73f98b628446",
   "metadata": {
    "jp-MarkdownHeadingCollapsed": true,
    "tags": []
   },
   "source": [
    "## write csvs to sql"
   ]
  },
  {
   "cell_type": "markdown",
   "id": "e7471a83-a12d-4d04-af7d-8357d3da851a",
   "metadata": {
    "tags": []
   },
   "source": [
    "## toy example (illustation)"
   ]
  },
  {
   "cell_type": "code",
   "execution_count": 24,
   "id": "d7ed40a7-c834-4319-9749-b8bc3bc84c9e",
   "metadata": {
    "jupyter": {
     "source_hidden": true
    },
    "tags": []
   },
   "outputs": [
    {
     "name": "stdout",
     "output_type": "stream",
     "text": [
      "('Computer', 900)\n",
      "('Tablet', 300)\n",
      "('Monitor', 450)\n",
      "('Printer', 150)\n"
     ]
    }
   ],
   "source": [
    "import pandas as pd\n",
    "import sqlite3\n",
    "\n",
    "conn = sqlite3.connect('test_database')\n",
    "c = conn.cursor()\n",
    "\n",
    "c.execute('CREATE TABLE IF NOT EXISTS products (product_name text, price number)')\n",
    "conn.commit()\n",
    "\n",
    "data = {'product_name': ['Computer','Tablet','Monitor','Printer'],\n",
    "        'price': [900,300,450,150]\n",
    "        }\n",
    "\n",
    "df = pd.DataFrame(data, columns= ['product_name','price'])\n",
    "df.to_sql('products', conn, if_exists='replace', index = False)\n",
    "\n",
    "\n",
    "c.execute('''  \n",
    "SELECT * FROM products\n",
    "          ''')\n",
    "\n",
    "for row in c.fetchall():\n",
    "    print (row)"
   ]
  },
  {
   "cell_type": "markdown",
   "id": "3a659f22-437a-414f-bd7a-ac56309c7bfd",
   "metadata": {},
   "source": [
    "## connect to database"
   ]
  },
  {
   "cell_type": "code",
   "execution_count": 1,
   "id": "da41fefb-ebbf-4006-9c14-bc47ae781c99",
   "metadata": {},
   "outputs": [],
   "source": [
    "import pandas as pd\n",
    "import sqlite3\n",
    "\n",
    "conn = sqlite3.connect(database='aqf_database')\n",
    "c = conn.cursor()"
   ]
  },
  {
   "cell_type": "markdown",
   "id": "3b041c96-9874-4721-87af-eec8abbfbcd6",
   "metadata": {
    "jp-MarkdownHeadingCollapsed": true,
    "tags": []
   },
   "source": [
    "### read from csv and write to sql"
   ]
  },
  {
   "cell_type": "code",
   "execution_count": 4,
   "id": "5ad05439-0193-4be7-9130-e7f2242692af",
   "metadata": {},
   "outputs": [],
   "source": [
    "sp500_op_ret = pd.read_csv(\"data/sp500_op_ret.csv\")"
   ]
  },
  {
   "cell_type": "code",
   "execution_count": 8,
   "id": "04d1d389-12fb-46b7-b64f-58f08d246897",
   "metadata": {},
   "outputs": [],
   "source": [
    "c.execute(f'CREATE TABLE IF NOT EXISTS sp500_op_ret ({\", \".join(list(sp500_op_ret.columns))})')\n",
    "conn.commit()\n",
    "\n",
    "sp500_op_ret.to_sql('sp500_op_ret', conn, if_exists='replace', \n",
    "                    index = False, chunksize=10000)"
   ]
  },
  {
   "cell_type": "code",
   "execution_count": 16,
   "id": "0a6600a8",
   "metadata": {},
   "outputs": [],
   "source": [
    "mapping_table = pd.read_csv(\"data/mapping_table.csv\")"
   ]
  },
  {
   "cell_type": "code",
   "execution_count": 17,
   "id": "bf1ec18a-77c5-46c8-a8c4-43518d5ca6da",
   "metadata": {},
   "outputs": [],
   "source": [
    "c.execute(f'CREATE TABLE IF NOT EXISTS mapping_table ({\", \".join(list(mapping_table.columns))})')\n",
    "conn.commit()\n",
    "\n",
    "mapping_table.to_sql('mapping_table', conn, if_exists='replace', \n",
    "                    index = False, chunksize=10000)"
   ]
  },
  {
   "cell_type": "markdown",
   "id": "d9148d5d-5a78-4be5-84e3-4fe546730613",
   "metadata": {
    "jp-MarkdownHeadingCollapsed": true,
    "tags": []
   },
   "source": [
    "## write in chunks \n",
    "(roughly 12 mins)"
   ]
  },
  {
   "cell_type": "code",
   "execution_count": 9,
   "id": "240a0e7d-a8b1-45d7-9c05-04caa6611b09",
   "metadata": {},
   "outputs": [],
   "source": [
    "signed_predictors_dl_wide = pd.read_csv(\"data/signed_predictors_dl_wide.csv\")"
   ]
  },
  {
   "cell_type": "code",
   "execution_count": 10,
   "id": "24ca85c6-47f9-4171-8d73-b35ff69c6eb0",
   "metadata": {},
   "outputs": [],
   "source": [
    "c.execute(f'CREATE TABLE IF NOT EXISTS signed_predictors_dl_wide ({\", \".join(list(signed_predictors_dl_wide.columns))})')\n",
    "conn.commit()\n",
    "\n",
    "signed_predictors_dl_wide.to_sql('signed_predictors_dl_wide', conn, if_exists='replace', \n",
    "                                index = False, chunksize=10000)"
   ]
  },
  {
   "cell_type": "markdown",
   "id": "8a8bf225-a206-4959-84dc-fbcfe0ae39e9",
   "metadata": {
    "tags": []
   },
   "source": [
    "## Retrieve data from database"
   ]
  },
  {
   "cell_type": "code",
   "execution_count": 33,
   "id": "9e171fed-6faa-498c-b2c8-34c14b373beb",
   "metadata": {},
   "outputs": [],
   "source": [
    "c.execute('''DROP TABLE sp500_op_ret_permno''')\n",
    "\n",
    "query = c.execute(''' \n",
    "        CREATE TABLE sp500_op_ret_permno\n",
    "        AS \n",
    "            SELECT \n",
    "                op.secid as secid, op.date as date, op.exdate as exdate, op.cp_flag as cp_flag, op.strike_price as strike_price, op.best_bid as best_bid, op.best_offer as best_offer, op.volume as volume, op.open_interest as open_interest, op.impl_volatility as impl_volatility, op.delta as delta, op.gamma as gamma, op.vega as vega, op.theta as theta, op.optionid as optionid, op.cfadj as cfadj, op.days_no_trading as days_no_trading, op.days_to_exp as days_to_exp, op.forwardprice as forwardprice, op.spotprice as spotprice, op.adj_spot as adj_spot, op.ir_rate as ir_rate, op.mid_price as mid_price, op.option_ret as option_ret,\n",
    "                mapping_table.permno as permno\n",
    "            FROM sp500_op_ret AS op\n",
    "            LEFT JOIN mapping_table \n",
    "            ON op.secid = mapping_table.secid\n",
    "          ''')"
   ]
  },
  {
   "cell_type": "code",
   "execution_count": null,
   "id": "4c7597ba-4b61-4e05-9e52-1f19406fe721",
   "metadata": {},
   "outputs": [],
   "source": [
    "query = c.execute('''SELECT * from sp500_op_ret_permno''')\n",
    "\", \".join(list(map(lambda x: f\"op.{x[0]} as {x[0]}\" , query.description)))"
   ]
  },
  {
   "cell_type": "code",
   "execution_count": 41,
   "id": "fcfdc0ae-225c-4a69-845e-7a05756d6492",
   "metadata": {},
   "outputs": [],
   "source": [
    "query = c.execute('''\n",
    "    SELECT op.secid\n",
    "    FROM sp500_op_ret_permno AS op\n",
    "    LEFT JOIN signed_predictors_dl_wide as pred\n",
    "    ON op.permno = pred.permno\n",
    "''')"
   ]
  },
  {
   "cell_type": "code",
   "execution_count": 4,
   "id": "95cae9b9-6b14-456a-bb06-60bf9eccb58b",
   "metadata": {},
   "outputs": [
    {
     "name": "stdout",
     "output_type": "stream",
     "text": [
      "   secid\n",
      "0   5015\n",
      "1   5015\n",
      "2   5015\n",
      "3   5015\n",
      "4   5015\n",
      "   secid\n",
      "0   5015\n",
      "1   5015\n",
      "2   5015\n",
      "3   5015\n",
      "4   5015\n",
      "   secid\n",
      "0   5015\n",
      "1   5015\n",
      "2   5015\n",
      "3   5015\n",
      "4   5015\n",
      "   secid\n",
      "0   5015\n",
      "1   5015\n",
      "2   5015\n",
      "3   5015\n",
      "4   5015\n",
      "   secid\n",
      "0   5015\n",
      "1   5015\n",
      "2   5015\n",
      "3   5015\n",
      "4   5015\n",
      "   secid\n",
      "0   5015\n",
      "1   5015\n",
      "2   5015\n",
      "3   5015\n",
      "4   5015\n"
     ]
    }
   ],
   "source": [
    "sql = '''\n",
    "    SELECT op.secid\n",
    "    FROM sp500_op_ret_permno AS op\n",
    "    LEFT JOIN signed_predictors_dl_wide as pred\n",
    "    ON op.permno = pred.permno\n",
    "'''\n",
    "cnt = 0\n",
    "for chunk in pd.read_sql_query(sql , conn, chunksize=5):\n",
    "    print(chunk)\n",
    "    cnt += 1\n",
    "    if cnt > 5:\n",
    "        break"
   ]
  },
  {
   "cell_type": "code",
   "execution_count": 2,
   "id": "55347537-6e23-4922-87f1-d2ff77fd8a22",
   "metadata": {},
   "outputs": [
    {
     "data": {
      "text/plain": [
       "\u001b[0;31mSignature:\u001b[0m\n",
       "\u001b[0mpd\u001b[0m\u001b[0;34m.\u001b[0m\u001b[0mDataFrame\u001b[0m\u001b[0;34m.\u001b[0m\u001b[0mfrom_records\u001b[0m\u001b[0;34m(\u001b[0m\u001b[0;34m\u001b[0m\n",
       "\u001b[0;34m\u001b[0m    \u001b[0mdata\u001b[0m\u001b[0;34m,\u001b[0m\u001b[0;34m\u001b[0m\n",
       "\u001b[0;34m\u001b[0m    \u001b[0mindex\u001b[0m\u001b[0;34m=\u001b[0m\u001b[0;32mNone\u001b[0m\u001b[0;34m,\u001b[0m\u001b[0;34m\u001b[0m\n",
       "\u001b[0;34m\u001b[0m    \u001b[0mexclude\u001b[0m\u001b[0;34m=\u001b[0m\u001b[0;32mNone\u001b[0m\u001b[0;34m,\u001b[0m\u001b[0;34m\u001b[0m\n",
       "\u001b[0;34m\u001b[0m    \u001b[0mcolumns\u001b[0m\u001b[0;34m=\u001b[0m\u001b[0;32mNone\u001b[0m\u001b[0;34m,\u001b[0m\u001b[0;34m\u001b[0m\n",
       "\u001b[0;34m\u001b[0m    \u001b[0mcoerce_float\u001b[0m\u001b[0;34m=\u001b[0m\u001b[0;32mFalse\u001b[0m\u001b[0;34m,\u001b[0m\u001b[0;34m\u001b[0m\n",
       "\u001b[0;34m\u001b[0m    \u001b[0mnrows\u001b[0m\u001b[0;34m=\u001b[0m\u001b[0;32mNone\u001b[0m\u001b[0;34m,\u001b[0m\u001b[0;34m\u001b[0m\n",
       "\u001b[0;34m\u001b[0m\u001b[0;34m)\u001b[0m \u001b[0;34m->\u001b[0m \u001b[0;34m'DataFrame'\u001b[0m\u001b[0;34m\u001b[0m\u001b[0;34m\u001b[0m\u001b[0m\n",
       "\u001b[0;31mDocstring:\u001b[0m\n",
       "Convert structured or record ndarray to DataFrame.\n",
       "\n",
       "Creates a DataFrame object from a structured ndarray, sequence of\n",
       "tuples or dicts, or DataFrame.\n",
       "\n",
       "Parameters\n",
       "----------\n",
       "data : structured ndarray, sequence of tuples or dicts, or DataFrame\n",
       "    Structured input data.\n",
       "index : str, list of fields, array-like\n",
       "    Field of array to use as the index, alternately a specific set of\n",
       "    input labels to use.\n",
       "exclude : sequence, default None\n",
       "    Columns or fields to exclude.\n",
       "columns : sequence, default None\n",
       "    Column names to use. If the passed data do not have names\n",
       "    associated with them, this argument provides names for the\n",
       "    columns. Otherwise this argument indicates the order of the columns\n",
       "    in the result (any names not found in the data will become all-NA\n",
       "    columns).\n",
       "coerce_float : bool, default False\n",
       "    Attempt to convert values of non-string, non-numeric objects (like\n",
       "    decimal.Decimal) to floating point, useful for SQL result sets.\n",
       "nrows : int, default None\n",
       "    Number of rows to read if data is an iterator.\n",
       "\n",
       "Returns\n",
       "-------\n",
       "DataFrame\n",
       "\n",
       "See Also\n",
       "--------\n",
       "DataFrame.from_dict : DataFrame from dict of array-like or dicts.\n",
       "DataFrame : DataFrame object creation using constructor.\n",
       "\n",
       "Examples\n",
       "--------\n",
       "Data can be provided as a structured ndarray:\n",
       "\n",
       ">>> data = np.array([(3, 'a'), (2, 'b'), (1, 'c'), (0, 'd')],\n",
       "...                 dtype=[('col_1', 'i4'), ('col_2', 'U1')])\n",
       ">>> pd.DataFrame.from_records(data)\n",
       "   col_1 col_2\n",
       "0      3     a\n",
       "1      2     b\n",
       "2      1     c\n",
       "3      0     d\n",
       "\n",
       "Data can be provided as a list of dicts:\n",
       "\n",
       ">>> data = [{'col_1': 3, 'col_2': 'a'},\n",
       "...         {'col_1': 2, 'col_2': 'b'},\n",
       "...         {'col_1': 1, 'col_2': 'c'},\n",
       "...         {'col_1': 0, 'col_2': 'd'}]\n",
       ">>> pd.DataFrame.from_records(data)\n",
       "   col_1 col_2\n",
       "0      3     a\n",
       "1      2     b\n",
       "2      1     c\n",
       "3      0     d\n",
       "\n",
       "Data can be provided as a list of tuples with corresponding columns:\n",
       "\n",
       ">>> data = [(3, 'a'), (2, 'b'), (1, 'c'), (0, 'd')]\n",
       ">>> pd.DataFrame.from_records(data, columns=['col_1', 'col_2'])\n",
       "   col_1 col_2\n",
       "0      3     a\n",
       "1      2     b\n",
       "2      1     c\n",
       "3      0     d\n",
       "\u001b[0;31mFile:\u001b[0m      ~/anaconda3/envs/aqf/lib/python3.6/site-packages/pandas/core/frame.py\n",
       "\u001b[0;31mType:\u001b[0m      method\n"
      ]
     },
     "metadata": {},
     "output_type": "display_data"
    }
   ],
   "source": [
    "?pd.DataFrame.from_records"
   ]
  },
  {
   "cell_type": "code",
   "execution_count": null,
   "id": "cef63491-b729-406f-9d91-8bda5036b7fd",
   "metadata": {},
   "outputs": [],
   "source": [
    "pd.DataFrame.from_records(data=query.fetchall())"
   ]
  },
  {
   "cell_type": "code",
   "execution_count": 38,
   "id": "76e2c911-c578-42c7-992e-21f2900c9756",
   "metadata": {},
   "outputs": [
    {
     "data": {
      "text/plain": [
       "['secid',\n",
       " 'date',\n",
       " 'exdate',\n",
       " 'cp_flag',\n",
       " 'strike_price',\n",
       " 'best_bid',\n",
       " 'best_offer',\n",
       " 'volume',\n",
       " 'open_interest',\n",
       " 'impl_volatility',\n",
       " 'delta',\n",
       " 'gamma',\n",
       " 'vega',\n",
       " 'theta',\n",
       " 'optionid',\n",
       " 'cfadj',\n",
       " 'days_no_trading',\n",
       " 'days_to_exp',\n",
       " 'forwardprice',\n",
       " 'spotprice',\n",
       " 'adj_spot',\n",
       " 'ir_rate',\n",
       " 'mid_price',\n",
       " 'option_ret',\n",
       " 'permno']"
      ]
     },
     "execution_count": 38,
     "metadata": {},
     "output_type": "execute_result"
    }
   ],
   "source": [
    "cols = \n",
    "# df = pd.DataFrame.from_records(data=query.fetchall(), columns=cols)"
   ]
  },
  {
   "cell_type": "code",
   "execution_count": 30,
   "id": "4884881a-72eb-4dfb-8f37-e365351aa453",
   "metadata": {},
   "outputs": [],
   "source": [
    "query.description"
   ]
  },
  {
   "cell_type": "code",
   "execution_count": 7,
   "id": "c9256d75-712e-4c51-a86a-bdc332735018",
   "metadata": {},
   "outputs": [
    {
     "data": {
      "text/plain": [
       "[('sp500_op_ret',), ('signed_predictors_dl_wide',), ('mapping_table',)]"
      ]
     },
     "execution_count": 7,
     "metadata": {},
     "output_type": "execute_result"
    }
   ],
   "source": [
    "c.execute('''\n",
    "SELECT name from sqlite_master where type= \"table\"\n",
    "''')\n",
    "c.fetchall()"
   ]
  },
  {
   "cell_type": "code",
   "execution_count": null,
   "id": "8ac69d1b-5557-436b-9639-2a2591b772ac",
   "metadata": {},
   "outputs": [],
   "source": []
  },
  {
   "cell_type": "code",
   "execution_count": 31,
   "id": "d23a2d39-e852-48aa-a8c5-26009da52fa1",
   "metadata": {},
   "outputs": [
    {
     "data": {
      "text/plain": [
       "'secid, date, exdate, cp_flag, strike_price, best_bid, best_offer, volume, open_interest, impl_volatility, delta, gamma, vega, theta, optionid, cfadj, days_no_trading, days_to_exp, forwardprice, spotprice, adj_spot, ir_rate, mid_price, option_ret'"
      ]
     },
     "execution_count": 31,
     "metadata": {},
     "output_type": "execute_result"
    }
   ],
   "source": [
    "c.execute('''\n",
    "SELECT * from sp500_op_ret\n",
    "''')\n",
    "\", \".join(\n",
    "    list(map(lambda x: x[0], c.description))\n",
    ")"
   ]
  },
  {
   "cell_type": "code",
   "execution_count": 13,
   "id": "b33e09c2-0857-43af-99ec-77315237ee30",
   "metadata": {},
   "outputs": [
    {
     "data": {
      "text/html": [
       "<div>\n",
       "<style scoped>\n",
       "    .dataframe tbody tr th:only-of-type {\n",
       "        vertical-align: middle;\n",
       "    }\n",
       "\n",
       "    .dataframe tbody tr th {\n",
       "        vertical-align: top;\n",
       "    }\n",
       "\n",
       "    .dataframe thead th {\n",
       "        text-align: right;\n",
       "    }\n",
       "</style>\n",
       "<table border=\"1\" class=\"dataframe\">\n",
       "  <thead>\n",
       "    <tr style=\"text-align: right;\">\n",
       "      <th></th>\n",
       "      <th>secid</th>\n",
       "      <th>date</th>\n",
       "      <th>exdate</th>\n",
       "      <th>cp_flag</th>\n",
       "      <th>strike_price</th>\n",
       "      <th>best_bid</th>\n",
       "      <th>best_offer</th>\n",
       "      <th>volume</th>\n",
       "      <th>open_interest</th>\n",
       "      <th>impl_volatility</th>\n",
       "      <th>...</th>\n",
       "      <th>optionid</th>\n",
       "      <th>cfadj</th>\n",
       "      <th>days_no_trading</th>\n",
       "      <th>days_to_exp</th>\n",
       "      <th>forwardprice</th>\n",
       "      <th>spotprice</th>\n",
       "      <th>adj_spot</th>\n",
       "      <th>ir_rate</th>\n",
       "      <th>mid_price</th>\n",
       "      <th>option_ret</th>\n",
       "    </tr>\n",
       "  </thead>\n",
       "  <tbody>\n",
       "    <tr>\n",
       "      <th>0</th>\n",
       "      <td>5015</td>\n",
       "      <td>1996-01-31 00:00:00</td>\n",
       "      <td>1996-07-20 00:00:00</td>\n",
       "      <td>C</td>\n",
       "      <td>20.0</td>\n",
       "      <td>4.625</td>\n",
       "      <td>5.000</td>\n",
       "      <td>15</td>\n",
       "      <td>25</td>\n",
       "      <td>0.380062</td>\n",
       "      <td>...</td>\n",
       "      <td>10980421</td>\n",
       "      <td>1</td>\n",
       "      <td>0</td>\n",
       "      <td>171</td>\n",
       "      <td>24.142672</td>\n",
       "      <td>24.000</td>\n",
       "      <td>24.0000</td>\n",
       "      <td>0.052253</td>\n",
       "      <td>4.8125</td>\n",
       "      <td>-0.025367</td>\n",
       "    </tr>\n",
       "    <tr>\n",
       "      <th>1</th>\n",
       "      <td>5048</td>\n",
       "      <td>1996-01-31 00:00:00</td>\n",
       "      <td>1996-08-17 00:00:00</td>\n",
       "      <td>P</td>\n",
       "      <td>40.0</td>\n",
       "      <td>3.000</td>\n",
       "      <td>3.375</td>\n",
       "      <td>5</td>\n",
       "      <td>37</td>\n",
       "      <td>0.245716</td>\n",
       "      <td>...</td>\n",
       "      <td>11613022</td>\n",
       "      <td>1</td>\n",
       "      <td>0</td>\n",
       "      <td>199</td>\n",
       "      <td>39.344930</td>\n",
       "      <td>39.000</td>\n",
       "      <td>39.0000</td>\n",
       "      <td>0.051780</td>\n",
       "      <td>3.1875</td>\n",
       "      <td>0.002347</td>\n",
       "    </tr>\n",
       "    <tr>\n",
       "      <th>2</th>\n",
       "      <td>5049</td>\n",
       "      <td>1996-01-31 00:00:00</td>\n",
       "      <td>1996-05-18 00:00:00</td>\n",
       "      <td>C</td>\n",
       "      <td>65.0</td>\n",
       "      <td>5.875</td>\n",
       "      <td>6.375</td>\n",
       "      <td>4</td>\n",
       "      <td>420</td>\n",
       "      <td>0.167298</td>\n",
       "      <td>...</td>\n",
       "      <td>11618802</td>\n",
       "      <td>1</td>\n",
       "      <td>0</td>\n",
       "      <td>108</td>\n",
       "      <td>70.168661</td>\n",
       "      <td>70.375</td>\n",
       "      <td>35.1875</td>\n",
       "      <td>0.053274</td>\n",
       "      <td>6.1250</td>\n",
       "      <td>-0.009721</td>\n",
       "    </tr>\n",
       "    <tr>\n",
       "      <th>3</th>\n",
       "      <td>5049</td>\n",
       "      <td>1996-01-31 00:00:00</td>\n",
       "      <td>1996-08-17 00:00:00</td>\n",
       "      <td>C</td>\n",
       "      <td>70.0</td>\n",
       "      <td>3.250</td>\n",
       "      <td>3.625</td>\n",
       "      <td>13</td>\n",
       "      <td>3806</td>\n",
       "      <td>0.149214</td>\n",
       "      <td>...</td>\n",
       "      <td>11770703</td>\n",
       "      <td>1</td>\n",
       "      <td>0</td>\n",
       "      <td>199</td>\n",
       "      <td>70.393348</td>\n",
       "      <td>70.375</td>\n",
       "      <td>35.1875</td>\n",
       "      <td>0.051780</td>\n",
       "      <td>3.4375</td>\n",
       "      <td>0.001186</td>\n",
       "    </tr>\n",
       "    <tr>\n",
       "      <th>4</th>\n",
       "      <td>5061</td>\n",
       "      <td>1996-01-31 00:00:00</td>\n",
       "      <td>1996-06-22 00:00:00</td>\n",
       "      <td>C</td>\n",
       "      <td>30.0</td>\n",
       "      <td>3.375</td>\n",
       "      <td>3.750</td>\n",
       "      <td>5</td>\n",
       "      <td>254</td>\n",
       "      <td>0.324523</td>\n",
       "      <td>...</td>\n",
       "      <td>10914516</td>\n",
       "      <td>1</td>\n",
       "      <td>0</td>\n",
       "      <td>143</td>\n",
       "      <td>32.001209</td>\n",
       "      <td>31.750</td>\n",
       "      <td>31.7500</td>\n",
       "      <td>0.052726</td>\n",
       "      <td>3.5625</td>\n",
       "      <td>-0.006649</td>\n",
       "    </tr>\n",
       "    <tr>\n",
       "      <th>...</th>\n",
       "      <td>...</td>\n",
       "      <td>...</td>\n",
       "      <td>...</td>\n",
       "      <td>...</td>\n",
       "      <td>...</td>\n",
       "      <td>...</td>\n",
       "      <td>...</td>\n",
       "      <td>...</td>\n",
       "      <td>...</td>\n",
       "      <td>...</td>\n",
       "      <td>...</td>\n",
       "      <td>...</td>\n",
       "      <td>...</td>\n",
       "      <td>...</td>\n",
       "      <td>...</td>\n",
       "      <td>...</td>\n",
       "      <td>...</td>\n",
       "      <td>...</td>\n",
       "      <td>...</td>\n",
       "      <td>...</td>\n",
       "      <td>...</td>\n",
       "    </tr>\n",
       "    <tr>\n",
       "      <th>3825526</th>\n",
       "      <td>214905</td>\n",
       "      <td>2021-11-30 00:00:00</td>\n",
       "      <td>2022-07-15 00:00:00</td>\n",
       "      <td>C</td>\n",
       "      <td>13.0</td>\n",
       "      <td>1.150</td>\n",
       "      <td>1.500</td>\n",
       "      <td>134</td>\n",
       "      <td>665</td>\n",
       "      <td>0.437066</td>\n",
       "      <td>...</td>\n",
       "      <td>143779767</td>\n",
       "      <td>1</td>\n",
       "      <td>0</td>\n",
       "      <td>227</td>\n",
       "      <td>12.112223</td>\n",
       "      <td>12.310</td>\n",
       "      <td>12.3100</td>\n",
       "      <td>0.002822</td>\n",
       "      <td>1.3250</td>\n",
       "      <td>-0.068384</td>\n",
       "    </tr>\n",
       "    <tr>\n",
       "      <th>3825527</th>\n",
       "      <td>214905</td>\n",
       "      <td>2021-11-30 00:00:00</td>\n",
       "      <td>2022-07-15 00:00:00</td>\n",
       "      <td>C</td>\n",
       "      <td>15.0</td>\n",
       "      <td>0.100</td>\n",
       "      <td>0.750</td>\n",
       "      <td>5</td>\n",
       "      <td>14</td>\n",
       "      <td>0.335686</td>\n",
       "      <td>...</td>\n",
       "      <td>143779769</td>\n",
       "      <td>1</td>\n",
       "      <td>0</td>\n",
       "      <td>227</td>\n",
       "      <td>12.112223</td>\n",
       "      <td>12.310</td>\n",
       "      <td>12.3100</td>\n",
       "      <td>0.002822</td>\n",
       "      <td>0.4250</td>\n",
       "      <td>0.055073</td>\n",
       "    </tr>\n",
       "    <tr>\n",
       "      <th>3825528</th>\n",
       "      <td>214905</td>\n",
       "      <td>2021-11-30 00:00:00</td>\n",
       "      <td>2022-07-15 00:00:00</td>\n",
       "      <td>P</td>\n",
       "      <td>11.0</td>\n",
       "      <td>0.200</td>\n",
       "      <td>1.100</td>\n",
       "      <td>3</td>\n",
       "      <td>111</td>\n",
       "      <td>0.308935</td>\n",
       "      <td>...</td>\n",
       "      <td>143779782</td>\n",
       "      <td>1</td>\n",
       "      <td>0</td>\n",
       "      <td>227</td>\n",
       "      <td>12.112223</td>\n",
       "      <td>12.310</td>\n",
       "      <td>12.3100</td>\n",
       "      <td>0.002822</td>\n",
       "      <td>0.6500</td>\n",
       "      <td>0.020419</td>\n",
       "    </tr>\n",
       "    <tr>\n",
       "      <th>3825529</th>\n",
       "      <td>214905</td>\n",
       "      <td>2021-11-30 00:00:00</td>\n",
       "      <td>2022-07-15 00:00:00</td>\n",
       "      <td>P</td>\n",
       "      <td>12.0</td>\n",
       "      <td>1.100</td>\n",
       "      <td>1.600</td>\n",
       "      <td>53</td>\n",
       "      <td>35</td>\n",
       "      <td>0.372075</td>\n",
       "      <td>...</td>\n",
       "      <td>143779783</td>\n",
       "      <td>1</td>\n",
       "      <td>0</td>\n",
       "      <td>227</td>\n",
       "      <td>12.112223</td>\n",
       "      <td>12.310</td>\n",
       "      <td>12.3100</td>\n",
       "      <td>0.002822</td>\n",
       "      <td>1.3500</td>\n",
       "      <td>-0.016824</td>\n",
       "    </tr>\n",
       "    <tr>\n",
       "      <th>3825530</th>\n",
       "      <td>214905</td>\n",
       "      <td>2021-11-30 00:00:00</td>\n",
       "      <td>2022-07-15 00:00:00</td>\n",
       "      <td>P</td>\n",
       "      <td>13.0</td>\n",
       "      <td>1.850</td>\n",
       "      <td>2.550</td>\n",
       "      <td>50</td>\n",
       "      <td>1002</td>\n",
       "      <td>0.438164</td>\n",
       "      <td>...</td>\n",
       "      <td>143779784</td>\n",
       "      <td>1</td>\n",
       "      <td>0</td>\n",
       "      <td>227</td>\n",
       "      <td>12.112223</td>\n",
       "      <td>12.310</td>\n",
       "      <td>12.3100</td>\n",
       "      <td>0.002822</td>\n",
       "      <td>2.2000</td>\n",
       "      <td>-0.063653</td>\n",
       "    </tr>\n",
       "  </tbody>\n",
       "</table>\n",
       "<p>3825531 rows × 24 columns</p>\n",
       "</div>"
      ],
      "text/plain": [
       "          secid                 date               exdate cp_flag  \\\n",
       "0          5015  1996-01-31 00:00:00  1996-07-20 00:00:00       C   \n",
       "1          5048  1996-01-31 00:00:00  1996-08-17 00:00:00       P   \n",
       "2          5049  1996-01-31 00:00:00  1996-05-18 00:00:00       C   \n",
       "3          5049  1996-01-31 00:00:00  1996-08-17 00:00:00       C   \n",
       "4          5061  1996-01-31 00:00:00  1996-06-22 00:00:00       C   \n",
       "...         ...                  ...                  ...     ...   \n",
       "3825526  214905  2021-11-30 00:00:00  2022-07-15 00:00:00       C   \n",
       "3825527  214905  2021-11-30 00:00:00  2022-07-15 00:00:00       C   \n",
       "3825528  214905  2021-11-30 00:00:00  2022-07-15 00:00:00       P   \n",
       "3825529  214905  2021-11-30 00:00:00  2022-07-15 00:00:00       P   \n",
       "3825530  214905  2021-11-30 00:00:00  2022-07-15 00:00:00       P   \n",
       "\n",
       "         strike_price  best_bid  best_offer  volume  open_interest  \\\n",
       "0                20.0     4.625       5.000      15             25   \n",
       "1                40.0     3.000       3.375       5             37   \n",
       "2                65.0     5.875       6.375       4            420   \n",
       "3                70.0     3.250       3.625      13           3806   \n",
       "4                30.0     3.375       3.750       5            254   \n",
       "...               ...       ...         ...     ...            ...   \n",
       "3825526          13.0     1.150       1.500     134            665   \n",
       "3825527          15.0     0.100       0.750       5             14   \n",
       "3825528          11.0     0.200       1.100       3            111   \n",
       "3825529          12.0     1.100       1.600      53             35   \n",
       "3825530          13.0     1.850       2.550      50           1002   \n",
       "\n",
       "         impl_volatility  ...   optionid  cfadj  days_no_trading  days_to_exp  \\\n",
       "0               0.380062  ...   10980421      1                0          171   \n",
       "1               0.245716  ...   11613022      1                0          199   \n",
       "2               0.167298  ...   11618802      1                0          108   \n",
       "3               0.149214  ...   11770703      1                0          199   \n",
       "4               0.324523  ...   10914516      1                0          143   \n",
       "...                  ...  ...        ...    ...              ...          ...   \n",
       "3825526         0.437066  ...  143779767      1                0          227   \n",
       "3825527         0.335686  ...  143779769      1                0          227   \n",
       "3825528         0.308935  ...  143779782      1                0          227   \n",
       "3825529         0.372075  ...  143779783      1                0          227   \n",
       "3825530         0.438164  ...  143779784      1                0          227   \n",
       "\n",
       "         forwardprice  spotprice  adj_spot   ir_rate  mid_price  option_ret  \n",
       "0           24.142672     24.000   24.0000  0.052253     4.8125   -0.025367  \n",
       "1           39.344930     39.000   39.0000  0.051780     3.1875    0.002347  \n",
       "2           70.168661     70.375   35.1875  0.053274     6.1250   -0.009721  \n",
       "3           70.393348     70.375   35.1875  0.051780     3.4375    0.001186  \n",
       "4           32.001209     31.750   31.7500  0.052726     3.5625   -0.006649  \n",
       "...               ...        ...       ...       ...        ...         ...  \n",
       "3825526     12.112223     12.310   12.3100  0.002822     1.3250   -0.068384  \n",
       "3825527     12.112223     12.310   12.3100  0.002822     0.4250    0.055073  \n",
       "3825528     12.112223     12.310   12.3100  0.002822     0.6500    0.020419  \n",
       "3825529     12.112223     12.310   12.3100  0.002822     1.3500   -0.016824  \n",
       "3825530     12.112223     12.310   12.3100  0.002822     2.2000   -0.063653  \n",
       "\n",
       "[3825531 rows x 24 columns]"
      ]
     },
     "execution_count": 13,
     "metadata": {},
     "output_type": "execute_result"
    }
   ],
   "source": [
    "df"
   ]
  },
  {
   "cell_type": "markdown",
   "id": "550806e8-6c32-4b4f-bb8a-47664b8ee5d3",
   "metadata": {},
   "source": [
    "## Use MongoDB"
   ]
  },
  {
   "cell_type": "code",
   "execution_count": 1,
   "id": "a7977ace-58b1-4721-9012-7c815bd8e2e8",
   "metadata": {},
   "outputs": [],
   "source": [
    "import pandas as pd"
   ]
  },
  {
   "cell_type": "code",
   "execution_count": 2,
   "id": "94494982-be99-4021-91e8-72b2617a5a57",
   "metadata": {},
   "outputs": [],
   "source": [
    "pd.set_option('display.max_columns', 100)"
   ]
  },
  {
   "cell_type": "code",
   "execution_count": 3,
   "id": "0d8cc44a-1fd3-4027-a370-69b6e376d6f9",
   "metadata": {},
   "outputs": [],
   "source": [
    "data = pd.read_csv(\"data/signed_predictors_dl_wide.csv\") # nrows=100000)"
   ]
  },
  {
   "cell_type": "code",
   "execution_count": 5,
   "id": "478a2bfa-b87d-4a89-9672-a39231192936",
   "metadata": {},
   "outputs": [
    {
     "data": {
      "text/plain": [
       "(4890049, 204)"
      ]
     },
     "execution_count": 5,
     "metadata": {},
     "output_type": "execute_result"
    }
   ],
   "source": [
    "data.shape"
   ]
  },
  {
   "cell_type": "code",
   "execution_count": 51,
   "id": "10744962-0b17-4ea2-972c-33427cacb532",
   "metadata": {},
   "outputs": [],
   "source": [
    "import pymongo\n",
    "\n",
    "myclient = pymongo.MongoClient(\"mongodb://localhost:27017/\")\n",
    "mydb = myclient[\"aqf_database\"]\n",
    "mycol = mydb[\"signed_predictors_dl_wide\"]"
   ]
  },
  {
   "cell_type": "markdown",
   "id": "e13a225f-1e82-4e86-a1bc-4a74ffadfd21",
   "metadata": {},
   "source": [
    "destroy existed collection"
   ]
  },
  {
   "cell_type": "code",
   "execution_count": 53,
   "id": "a585451d-da98-40ac-936c-d8accd6ea429",
   "metadata": {},
   "outputs": [
    {
     "data": {
      "text/plain": [
       "<pymongo.results.DeleteResult at 0x7fcc812673c8>"
      ]
     },
     "execution_count": 53,
     "metadata": {},
     "output_type": "execute_result"
    }
   ],
   "source": [
    "mycol.delete_many({})"
   ]
  },
  {
   "cell_type": "markdown",
   "id": "bb2181ce-d9cb-4fb9-a5ff-4c56f61bc564",
   "metadata": {
    "jupyter": {
     "outputs_hidden": true
    },
    "tags": []
   },
   "source": [
    "insert 10000 rows costs around 3 seconds\n",
    "\n",
    "\n",
    "\n",
    "so it takes around 500x3 = 1500 seconds, or around half an hour"
   ]
  },
  {
   "cell_type": "code",
   "execution_count": 54,
   "id": "e0f061a3-0c75-4b5b-8566-0d1190c6a2af",
   "metadata": {
    "collapsed": true,
    "jupyter": {
     "outputs_hidden": true
    },
    "tags": []
   },
   "outputs": [
    {
     "name": "stdout",
     "output_type": "stream",
     "text": [
      "...Have written 0 rows...\n",
      "...Have written 100000 rows...\n",
      "...Have written 200000 rows...\n",
      "...Have written 300000 rows...\n",
      "...Have written 400000 rows...\n",
      "...Have written 500000 rows...\n",
      "...Have written 600000 rows...\n",
      "...Have written 700000 rows...\n",
      "...Have written 800000 rows...\n",
      "...Have written 900000 rows...\n",
      "...Have written 1000000 rows...\n",
      "...Have written 1100000 rows...\n",
      "...Have written 1200000 rows...\n",
      "...Have written 1300000 rows...\n",
      "...Have written 1400000 rows...\n",
      "...Have written 1500000 rows...\n",
      "...Have written 1600000 rows...\n",
      "...Have written 1700000 rows...\n",
      "...Have written 1800000 rows...\n",
      "...Have written 1900000 rows...\n",
      "...Have written 2000000 rows...\n",
      "...Have written 2100000 rows...\n",
      "...Have written 2200000 rows...\n",
      "...Have written 2300000 rows...\n",
      "...Have written 2400000 rows...\n",
      "...Have written 2500000 rows...\n",
      "...Have written 2600000 rows...\n",
      "...Have written 2700000 rows...\n",
      "...Have written 2800000 rows...\n",
      "...Have written 2900000 rows...\n",
      "...Have written 3000000 rows...\n",
      "...Have written 3100000 rows...\n",
      "...Have written 3200000 rows...\n",
      "...Have written 3300000 rows...\n",
      "...Have written 3400000 rows...\n",
      "...Have written 3500000 rows...\n",
      "...Have written 3600000 rows...\n",
      "...Have written 3700000 rows...\n",
      "...Have written 3800000 rows...\n",
      "...Have written 3900000 rows...\n",
      "...Have written 4000000 rows...\n",
      "...Have written 4100000 rows...\n",
      "...Have written 4200000 rows...\n",
      "...Have written 4300000 rows...\n",
      "...Have written 4400000 rows...\n",
      "...Have written 4500000 rows...\n",
      "...Have written 4600000 rows...\n",
      "...Have written 4700000 rows...\n",
      "...Have written 4800000 rows...\n"
     ]
    }
   ],
   "source": [
    "chunk_size= 10000\n",
    "for i in range(data.shape[0]//chunk_size + 1):\n",
    "    if i % 10 == 0:\n",
    "        print(f\"...Have written {i * chunk_size} rows...\")\n",
    "    # takes around 3 seconds for per insert \n",
    "    mycol.insert_many(\n",
    "        data.iloc[i*chunk_size:(i+1) * chunk_size].to_dict(\"records\")\n",
    "    ) \n",
    "    "
   ]
  },
  {
   "cell_type": "code",
   "execution_count": null,
   "id": "d4e5fa6c-77df-4e89-a1f4-29fc6cb24163",
   "metadata": {},
   "outputs": [],
   "source": []
  },
  {
   "cell_type": "code",
   "execution_count": null,
   "id": "e2656350-8357-4fb0-b9e3-1013e28e023a",
   "metadata": {},
   "outputs": [],
   "source": []
  }
 ],
 "metadata": {
  "kernelspec": {
   "display_name": "aqf",
   "language": "python",
   "name": "aqf"
  },
  "language_info": {
   "codemirror_mode": {
    "name": "ipython",
    "version": 3
   },
   "file_extension": ".py",
   "mimetype": "text/x-python",
   "name": "python",
   "nbconvert_exporter": "python",
   "pygments_lexer": "ipython3",
   "version": "3.6.13"
  }
 },
 "nbformat": 4,
 "nbformat_minor": 5
}
