{
 "cells": [
  {
   "cell_type": "code",
   "execution_count": 2,
   "id": "e9dc97de-a301-4818-a0ea-f813e88bd09a",
   "metadata": {},
   "outputs": [],
   "source": [
    "import pandas as pd"
   ]
  },
  {
   "cell_type": "code",
   "execution_count": 3,
   "id": "2a1464fc-9897-42df-b975-dfc26b979c02",
   "metadata": {},
   "outputs": [],
   "source": [
    "import time"
   ]
  },
  {
   "cell_type": "code",
   "execution_count": 4,
   "id": "194e071f-ee06-4998-bbf7-5500fc0b3eb1",
   "metadata": {},
   "outputs": [],
   "source": [
    "pd.set_option('display.max_columns', 100)"
   ]
  },
  {
   "cell_type": "markdown",
   "id": "dd60f40e-107c-4a3e-811e-947b1f1c02ca",
   "metadata": {},
   "source": [
    "empirically, loading data from \"signed_predictors_dl_wide.csv\" takes 2 mins\n",
    "\n",
    "loading data from \"sp500_op_ret.csv\" takes 10 secs\n",
    "\n",
    "I am using macbook pro with intel i7, 16GB memory"
   ]
  },
  {
   "cell_type": "code",
   "execution_count": 5,
   "id": "644ffefb-62c8-4d2a-b332-d6c704826133",
   "metadata": {},
   "outputs": [
    {
     "name": "stdout",
     "output_type": "stream",
     "text": [
      "178.7155270576477\n"
     ]
    }
   ],
   "source": [
    "start = time.time()\n",
    "signed_predictors_dl_wide = pd.read_csv(\"data/signed_predictors_dl_wide.csv\") \n",
    "print(time.time() - start)"
   ]
  },
  {
   "cell_type": "code",
   "execution_count": 6,
   "id": "82112c8c-5aa3-4ed1-934a-90d52973284f",
   "metadata": {},
   "outputs": [
    {
     "name": "stdout",
     "output_type": "stream",
     "text": [
      "14.209403276443481\n"
     ]
    }
   ],
   "source": [
    "start = time.time()\n",
    "sp500_op_ret = pd.read_csv(\"data/sp500_op_ret.csv\")\n",
    "print(time.time() - start)"
   ]
  },
  {
   "cell_type": "code",
   "execution_count": 7,
   "id": "77bfb0a5-8ce5-400c-b526-0284db3002c7",
   "metadata": {},
   "outputs": [],
   "source": [
    "mapping_table = pd.read_csv(\"data/mapping_table.csv\")"
   ]
  },
  {
   "cell_type": "code",
   "execution_count": 8,
   "id": "d1ab7352-acec-46e9-979d-0d97676ae623",
   "metadata": {},
   "outputs": [],
   "source": [
    "sp500_const_list = pd.read_csv(\"data/sp500_const_list.csv\")"
   ]
  },
  {
   "cell_type": "code",
   "execution_count": 9,
   "id": "89f7a95c-89b6-492d-9014-9ada4d43e46c",
   "metadata": {},
   "outputs": [],
   "source": [
    "sp500_op_ret = sp500_op_ret.merge(mapping_table, on=\"secid\", how=\"left\")"
   ]
  },
  {
   "cell_type": "code",
   "execution_count": 10,
   "id": "eceab093-74c2-48ac-a564-dbd9b4a7a6a7",
   "metadata": {},
   "outputs": [],
   "source": [
    "# filter sparse entries"
   ]
  },
  {
   "cell_type": "code",
   "execution_count": 11,
   "id": "4de43f3a-ce74-4576-9a68-a032a3b7687a",
   "metadata": {},
   "outputs": [],
   "source": [
    "na_freq_dict = dict(\n",
    "    signed_predictors_dl_wide.isna().sum() / signed_predictors_dl_wide.shape[0])"
   ]
  },
  {
   "cell_type": "code",
   "execution_count": 12,
   "id": "fad8e13d-a9fd-4b6e-b42f-08c3dfb96b5b",
   "metadata": {},
   "outputs": [
    {
     "data": {
      "text/plain": [
       "['permno',\n",
       " 'yyyymm',\n",
       " 'Beta',\n",
       " 'BidAskSpread',\n",
       " 'Coskewness',\n",
       " 'DolVol',\n",
       " 'High52',\n",
       " 'IdioRisk',\n",
       " 'IdioVol3F',\n",
       " 'IdioVolAHT',\n",
       " 'MaxRet',\n",
       " 'PriceDelayRsq',\n",
       " 'PriceDelaySlope',\n",
       " 'PriceDelayTstat',\n",
       " 'ReturnSkew',\n",
       " 'ReturnSkew3F',\n",
       " 'VolMkt',\n",
       " 'zerotrade',\n",
       " 'zerotradeAlt1']"
      ]
     },
     "execution_count": 12,
     "metadata": {},
     "output_type": "execute_result"
    }
   ],
   "source": [
    "[key for key, val in na_freq_dict.items() if val < 0.2]"
   ]
  },
  {
   "cell_type": "code",
   "execution_count": null,
   "id": "1e91c01a-00bf-4d48-85cf-0c524b5f89f8",
   "metadata": {},
   "outputs": [],
   "source": []
  },
  {
   "cell_type": "code",
   "execution_count": null,
   "id": "17a9c93b-7cc0-4f7c-94d9-566a38d10bcf",
   "metadata": {},
   "outputs": [],
   "source": []
  },
  {
   "cell_type": "code",
   "execution_count": 11,
   "id": "3bbd9dac-4361-48a8-b285-8cc1e1fe7431",
   "metadata": {},
   "outputs": [],
   "source": [
    "signed_predictors_dl_wide = signed_predictors_dl_wide[\n",
    "    [key for key, val in na_freq_dict.items() if val < 0.2]\n",
    "]"
   ]
  },
  {
   "cell_type": "code",
   "execution_count": null,
   "id": "5272bee7-374a-4cc1-b839-b561e08cade7",
   "metadata": {},
   "outputs": [],
   "source": []
  },
  {
   "cell_type": "code",
   "execution_count": 15,
   "id": "ac417dbc-8e56-4f93-9021-e6f2cd961017",
   "metadata": {},
   "outputs": [],
   "source": [
    "sp500_op_permno = set(sp500_op_ret[\"permno\"])"
   ]
  },
  {
   "cell_type": "code",
   "execution_count": null,
   "id": "f870f8d2-ef1a-4ba1-8acb-1c9856af4d44",
   "metadata": {},
   "outputs": [],
   "source": [
    "sp500_op_ret.merge(\n",
    "    signed_predictors_dl_wide[signed_predictors_dl_wide[\"permno\"].isin(sp500_op_permno)],\n",
    "    on=\"permno\", how=\"left\"\n",
    ")"
   ]
  },
  {
   "cell_type": "code",
   "execution_count": 14,
   "id": "a0818925-2a13-4a78-92cd-5ef9d0e096d3",
   "metadata": {},
   "outputs": [
    {
     "data": {
      "text/plain": [
       "34424"
      ]
     },
     "execution_count": 14,
     "metadata": {},
     "output_type": "execute_result"
    }
   ],
   "source": [
    "len(set(signed_predictors_dl_wide[\"permno\"]))"
   ]
  },
  {
   "cell_type": "code",
   "execution_count": null,
   "id": "35553786-0934-4941-8c9b-f7d1ab9bf518",
   "metadata": {},
   "outputs": [],
   "source": []
  },
  {
   "cell_type": "code",
   "execution_count": 12,
   "id": "9d392e45-74d3-4825-9e08-d24be2d40653",
   "metadata": {},
   "outputs": [],
   "source": [
    "# merge on permno "
   ]
  },
  {
   "cell_type": "code",
   "execution_count": null,
   "id": "3ccdec0d-f267-4c63-a8f2-7e81b740e7a7",
   "metadata": {},
   "outputs": [],
   "source": [
    "sp500_op_ret.merge(signed_predictors_dl_wide, on=\"permno\", how=\"inner\")"
   ]
  },
  {
   "cell_type": "code",
   "execution_count": null,
   "id": "33bdf2d9-aae8-473b-bcc5-5aebddb57774",
   "metadata": {},
   "outputs": [],
   "source": []
  },
  {
   "cell_type": "code",
   "execution_count": null,
   "id": "50527a2f-4c04-4afe-ba4b-5817de9db652",
   "metadata": {},
   "outputs": [],
   "source": []
  },
  {
   "cell_type": "code",
   "execution_count": 12,
   "id": "d68a1dbf-aacc-4fe6-8515-5f7c23cbedec",
   "metadata": {},
   "outputs": [],
   "source": [
    "import numpy as np\n",
    "from sklearn.linear_model import LinearRegression"
   ]
  },
  {
   "cell_type": "code",
   "execution_count": 43,
   "id": "20680cf5-3e0a-4a3e-a24b-e484de865241",
   "metadata": {},
   "outputs": [],
   "source": [
    "from sklearn.metrics import mean_squared_error, r2_score\n",
    "from sklearn.model_selection import train_test_split"
   ]
  },
  {
   "cell_type": "code",
   "execution_count": 54,
   "id": "70b36b42-5643-4b19-830c-fd4f0e6d60f1",
   "metadata": {},
   "outputs": [],
   "source": [
    "from sklearn import linear_model"
   ]
  }
 ],
 "metadata": {
  "kernelspec": {
   "display_name": "aqf",
   "language": "python",
   "name": "aqf"
  },
  "language_info": {
   "codemirror_mode": {
    "name": "ipython",
    "version": 3
   },
   "file_extension": ".py",
   "mimetype": "text/x-python",
   "name": "python",
   "nbconvert_exporter": "python",
   "pygments_lexer": "ipython3",
   "version": "3.6.13"
  },
  "toc-autonumbering": true
 },
 "nbformat": 4,
 "nbformat_minor": 5
}
