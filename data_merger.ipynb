{
 "cells": [
  {
   "cell_type": "code",
   "execution_count": 6,
   "id": "e9dc97de-a301-4818-a0ea-f813e88bd09a",
   "metadata": {},
   "outputs": [],
   "source": [
    "import pandas as pd"
   ]
  },
  {
   "cell_type": "code",
   "execution_count": 7,
   "id": "2a1464fc-9897-42df-b975-dfc26b979c02",
   "metadata": {},
   "outputs": [],
   "source": [
    "import time"
   ]
  },
  {
   "cell_type": "code",
   "execution_count": 8,
   "id": "194e071f-ee06-4998-bbf7-5500fc0b3eb1",
   "metadata": {},
   "outputs": [],
   "source": [
    "pd.set_option('display.max_columns', 100)"
   ]
  },
  {
   "cell_type": "markdown",
   "id": "dd60f40e-107c-4a3e-811e-947b1f1c02ca",
   "metadata": {},
   "source": [
    "empirically, loading data from \"signed_predictors_dl_wide.csv\" takes 2 mins\n",
    "\n",
    "loading data from \"sp500_op_ret.csv\" takes 10 secs\n",
    "\n",
    "I am using macbook pro with intel i7, 16GB memory"
   ]
  },
  {
   "cell_type": "code",
   "execution_count": 9,
   "id": "644ffefb-62c8-4d2a-b332-d6c704826133",
   "metadata": {},
   "outputs": [
    {
     "name": "stdout",
     "output_type": "stream",
     "text": [
      "98.4389419555664\n"
     ]
    }
   ],
   "source": [
    "start = time.time()\n",
    "signed_predictors_dl_wide = pd.read_csv(\"data/signed_predictors_dl_wide.csv\") \n",
    "print(time.time() - start)"
   ]
  },
  {
   "cell_type": "code",
   "execution_count": 11,
   "id": "82112c8c-5aa3-4ed1-934a-90d52973284f",
   "metadata": {},
   "outputs": [
    {
     "name": "stdout",
     "output_type": "stream",
     "text": [
      "10.234528064727783\n"
     ]
    }
   ],
   "source": [
    "start = time.time()\n",
    "sp500_op_ret = pd.read_csv(\"data/sp500_op_ret.csv\")\n",
    "print(time.time() - start)"
   ]
  },
  {
   "cell_type": "code",
   "execution_count": 12,
   "id": "77bfb0a5-8ce5-400c-b526-0284db3002c7",
   "metadata": {},
   "outputs": [],
   "source": [
    "mapping_table = pd.read_csv(\"data/mapping_table.csv\")"
   ]
  },
  {
   "cell_type": "code",
   "execution_count": 13,
   "id": "d1ab7352-acec-46e9-979d-0d97676ae623",
   "metadata": {},
   "outputs": [],
   "source": [
    "sp500_const_list = pd.read_csv(\"data/sp500_const_list.csv\")"
   ]
  },
  {
   "cell_type": "code",
   "execution_count": 14,
   "id": "89f7a95c-89b6-492d-9014-9ada4d43e46c",
   "metadata": {},
   "outputs": [],
   "source": [
    "sp500_op_ret = sp500_op_ret.merge(mapping_table, on=\"secid\", how=\"left\")"
   ]
  },
  {
   "cell_type": "code",
   "execution_count": 15,
   "id": "eceab093-74c2-48ac-a564-dbd9b4a7a6a7",
   "metadata": {},
   "outputs": [],
   "source": [
    "# filter sparse entries"
   ]
  },
  {
   "cell_type": "code",
   "execution_count": 16,
   "id": "4de43f3a-ce74-4576-9a68-a032a3b7687a",
   "metadata": {},
   "outputs": [],
   "source": [
    "na_freq_dict = dict(\n",
    "    signed_predictors_dl_wide.isna().sum() / signed_predictors_dl_wide.shape[0])"
   ]
  },
  {
   "cell_type": "code",
   "execution_count": 17,
   "id": "fad8e13d-a9fd-4b6e-b42f-08c3dfb96b5b",
   "metadata": {},
   "outputs": [
    {
     "data": {
      "text/plain": [
       "['permno',\n",
       " 'yyyymm',\n",
       " 'Beta',\n",
       " 'BidAskSpread',\n",
       " 'Coskewness',\n",
       " 'DolVol',\n",
       " 'High52',\n",
       " 'IdioRisk',\n",
       " 'IdioVol3F',\n",
       " 'IdioVolAHT',\n",
       " 'MaxRet',\n",
       " 'PriceDelayRsq',\n",
       " 'PriceDelaySlope',\n",
       " 'PriceDelayTstat',\n",
       " 'ReturnSkew',\n",
       " 'ReturnSkew3F',\n",
       " 'VolMkt',\n",
       " 'zerotrade',\n",
       " 'zerotradeAlt1']"
      ]
     },
     "execution_count": 17,
     "metadata": {},
     "output_type": "execute_result"
    }
   ],
   "source": [
    "[key for key, val in na_freq_dict.items() if val < 0.2]"
   ]
  },
  {
   "cell_type": "code",
   "execution_count": null,
   "id": "1e91c01a-00bf-4d48-85cf-0c524b5f89f8",
   "metadata": {},
   "outputs": [],
   "source": []
  },
  {
   "cell_type": "code",
   "execution_count": null,
   "id": "17a9c93b-7cc0-4f7c-94d9-566a38d10bcf",
   "metadata": {},
   "outputs": [],
   "source": []
  },
  {
   "cell_type": "code",
   "execution_count": 23,
   "id": "2531f7c4-be2b-445d-80e1-19b4eefdeeea",
   "metadata": {},
   "outputs": [],
   "source": [
    "import datetime"
   ]
  },
  {
   "cell_type": "code",
   "execution_count": 18,
   "id": "3bbd9dac-4361-48a8-b285-8cc1e1fe7431",
   "metadata": {},
   "outputs": [],
   "source": [
    "signed_predictors_dl_wide = signed_predictors_dl_wide[\n",
    "    [key for key, val in na_freq_dict.items() if val < 0.2]\n",
    "]"
   ]
  },
  {
   "cell_type": "code",
   "execution_count": 32,
   "id": "c653b18d-d500-4403-93bd-693a7f4db223",
   "metadata": {},
   "outputs": [
    {
     "data": {
      "text/plain": [
       "0   1986-01-01\n",
       "1   1986-02-01\n",
       "2   1986-03-01\n",
       "Name: yyyymm, dtype: datetime64[ns]"
      ]
     },
     "execution_count": 32,
     "metadata": {},
     "output_type": "execute_result"
    }
   ],
   "source": [
    "signed_predictors_dl_wide[\"yyyymm\"].iloc[:3].apply(\n",
    "    lambda x: datetime.datetime.strptime(str(x), '%Y%m'))"
   ]
  },
  {
   "cell_type": "code",
   "execution_count": 38,
   "id": "850131d0-a897-4a46-a242-4a9bd38fc700",
   "metadata": {},
   "outputs": [],
   "source": [
    "signed_predictors_dl_wide[\"date\"] = signed_predictors_dl_wide[\"yyyymm\"].apply(\n",
    "    lambda x: datetime.datetime.strptime(str(x), '%Y%m'))"
   ]
  },
  {
   "cell_type": "code",
   "execution_count": 39,
   "id": "4e2ec5c8-98a6-4474-8f55-1536cf73381b",
   "metadata": {},
   "outputs": [],
   "source": [
    "sp500_op_ret[\"date2\"] = sp500_op_ret.date.apply(\n",
    "    lambda x: datetime.datetime.strptime(str(x)[:7], '%Y-%m'))"
   ]
  },
  {
   "cell_type": "code",
   "execution_count": 48,
   "id": "549bb0fa-80f2-4ee8-a19a-f6f6c7188cc3",
   "metadata": {},
   "outputs": [],
   "source": [
    "df_merged = sp500_op_ret.merge(\n",
    "    signed_predictors_dl_wide, \n",
    "    left_on=[\"permno\", \"date2\"], right_on=[\"permno\", \"date\"],\n",
    "    how=\"left\"\n",
    ")"
   ]
  },
  {
   "cell_type": "code",
   "execution_count": 51,
   "id": "65d8431e-0695-406d-b896-364e63df97bd",
   "metadata": {},
   "outputs": [],
   "source": [
    "df_merged.to_csv(\"data/option_with_nonsparse_features.csv\")"
   ]
  },
  {
   "cell_type": "code",
   "execution_count": 42,
   "id": "612ab2a0-26e0-4417-869c-f728a89d6b3b",
   "metadata": {},
   "outputs": [
    {
     "data": {
      "text/plain": [
       "0"
      ]
     },
     "execution_count": 42,
     "metadata": {},
     "output_type": "execute_result"
    }
   ],
   "source": [
    "len(set(sp500_op_ret[\"date2\"]) - set(signed_predictors_dl_wide[\"date\"]))"
   ]
  },
  {
   "cell_type": "code",
   "execution_count": 41,
   "id": "e24e5e5e-afc9-4d32-a34e-02bebe2bbf94",
   "metadata": {},
   "outputs": [
    {
     "data": {
      "text/plain": [
       "1159"
      ]
     },
     "execution_count": 41,
     "metadata": {},
     "output_type": "execute_result"
    }
   ],
   "source": [
    "len(set(signed_predictors_dl_wide[\"date\"]))"
   ]
  },
  {
   "cell_type": "code",
   "execution_count": 45,
   "id": "56e16968-9511-4dfb-b633-1aff74dba591",
   "metadata": {},
   "outputs": [],
   "source": [
    "df1 = pd.DataFrame({\n",
    "    \"f1\": [1, 1, 1],\n",
    "    \"time\": [1,2,3]\n",
    "})\n",
    "\n",
    "df2 = pd.DataFrame({\n",
    "    \"f1\": [1, 1, 1],\n",
    "    \"time\": [1, 2, 3],\n",
    "    \"feature\": [0,9,8]\n",
    "})"
   ]
  },
  {
   "cell_type": "code",
   "execution_count": 47,
   "id": "1c1f289e-d4c4-4f86-8bc6-5d0bfef64db3",
   "metadata": {},
   "outputs": [
    {
     "data": {
      "text/html": [
       "<div>\n",
       "<style scoped>\n",
       "    .dataframe tbody tr th:only-of-type {\n",
       "        vertical-align: middle;\n",
       "    }\n",
       "\n",
       "    .dataframe tbody tr th {\n",
       "        vertical-align: top;\n",
       "    }\n",
       "\n",
       "    .dataframe thead th {\n",
       "        text-align: right;\n",
       "    }\n",
       "</style>\n",
       "<table border=\"1\" class=\"dataframe\">\n",
       "  <thead>\n",
       "    <tr style=\"text-align: right;\">\n",
       "      <th></th>\n",
       "      <th>f1</th>\n",
       "      <th>time</th>\n",
       "      <th>feature</th>\n",
       "    </tr>\n",
       "  </thead>\n",
       "  <tbody>\n",
       "    <tr>\n",
       "      <th>0</th>\n",
       "      <td>1</td>\n",
       "      <td>1</td>\n",
       "      <td>0</td>\n",
       "    </tr>\n",
       "    <tr>\n",
       "      <th>1</th>\n",
       "      <td>1</td>\n",
       "      <td>2</td>\n",
       "      <td>9</td>\n",
       "    </tr>\n",
       "    <tr>\n",
       "      <th>2</th>\n",
       "      <td>1</td>\n",
       "      <td>3</td>\n",
       "      <td>8</td>\n",
       "    </tr>\n",
       "  </tbody>\n",
       "</table>\n",
       "</div>"
      ],
      "text/plain": [
       "   f1  time  feature\n",
       "0   1     1        0\n",
       "1   1     2        9\n",
       "2   1     3        8"
      ]
     },
     "execution_count": 47,
     "metadata": {},
     "output_type": "execute_result"
    }
   ],
   "source": [
    "df1.merge(df2, left_on=[\"f1\", \"time\"], right_on = [\"f1\", \"time\"], how=\"left\")"
   ]
  },
  {
   "cell_type": "code",
   "execution_count": null,
   "id": "906d28ef-dc5c-4ddf-bd90-66b6d230ad9e",
   "metadata": {},
   "outputs": [
    {
     "data": {
      "text/html": [
       "<div>\n",
       "<style scoped>\n",
       "    .dataframe tbody tr th:only-of-type {\n",
       "        vertical-align: middle;\n",
       "    }\n",
       "\n",
       "    .dataframe tbody tr th {\n",
       "        vertical-align: top;\n",
       "    }\n",
       "\n",
       "    .dataframe thead th {\n",
       "        text-align: right;\n",
       "    }\n",
       "</style>\n",
       "<table border=\"1\" class=\"dataframe\">\n",
       "  <thead>\n",
       "    <tr style=\"text-align: right;\">\n",
       "      <th></th>\n",
       "      <th>f1</th>\n",
       "      <th>time_x</th>\n",
       "      <th>time_y</th>\n",
       "      <th>feature</th>\n",
       "    </tr>\n",
       "  </thead>\n",
       "  <tbody>\n",
       "    <tr>\n",
       "      <th>0</th>\n",
       "      <td>1</td>\n",
       "      <td>1</td>\n",
       "      <td>1</td>\n",
       "      <td>0</td>\n",
       "    </tr>\n",
       "    <tr>\n",
       "      <th>1</th>\n",
       "      <td>1</td>\n",
       "      <td>1</td>\n",
       "      <td>2</td>\n",
       "      <td>9</td>\n",
       "    </tr>\n",
       "    <tr>\n",
       "      <th>2</th>\n",
       "      <td>1</td>\n",
       "      <td>1</td>\n",
       "      <td>3</td>\n",
       "      <td>8</td>\n",
       "    </tr>\n",
       "    <tr>\n",
       "      <th>3</th>\n",
       "      <td>1</td>\n",
       "      <td>2</td>\n",
       "      <td>1</td>\n",
       "      <td>0</td>\n",
       "    </tr>\n",
       "    <tr>\n",
       "      <th>4</th>\n",
       "      <td>1</td>\n",
       "      <td>2</td>\n",
       "      <td>2</td>\n",
       "      <td>9</td>\n",
       "    </tr>\n",
       "    <tr>\n",
       "      <th>5</th>\n",
       "      <td>1</td>\n",
       "      <td>2</td>\n",
       "      <td>3</td>\n",
       "      <td>8</td>\n",
       "    </tr>\n",
       "    <tr>\n",
       "      <th>6</th>\n",
       "      <td>1</td>\n",
       "      <td>3</td>\n",
       "      <td>1</td>\n",
       "      <td>0</td>\n",
       "    </tr>\n",
       "    <tr>\n",
       "      <th>7</th>\n",
       "      <td>1</td>\n",
       "      <td>3</td>\n",
       "      <td>2</td>\n",
       "      <td>9</td>\n",
       "    </tr>\n",
       "    <tr>\n",
       "      <th>8</th>\n",
       "      <td>1</td>\n",
       "      <td>3</td>\n",
       "      <td>3</td>\n",
       "      <td>8</td>\n",
       "    </tr>\n",
       "  </tbody>\n",
       "</table>\n",
       "</div>"
      ],
      "text/plain": [
       "   f1  time_x  time_y  feature\n",
       "0   1       1       1        0\n",
       "1   1       1       2        9\n",
       "2   1       1       3        8\n",
       "3   1       2       1        0\n",
       "4   1       2       2        9\n",
       "5   1       2       3        8\n",
       "6   1       3       1        0\n",
       "7   1       3       2        9\n",
       "8   1       3       3        8"
      ]
     },
     "execution_count": 50,
     "metadata": {},
     "output_type": "execute_result"
    }
   ],
   "source": [
    "df1.merge(df2, on=\"f1\", how=\"left\")"
   ]
  },
  {
   "cell_type": "code",
   "execution_count": null,
   "id": "25e41078-f1e3-4268-9586-4e30aec2a99f",
   "metadata": {},
   "outputs": [],
   "source": []
  },
  {
   "cell_type": "code",
   "execution_count": null,
   "id": "1a09d1fd-4658-47ae-b133-23cd1ca1c4c2",
   "metadata": {},
   "outputs": [],
   "source": []
  },
  {
   "cell_type": "code",
   "execution_count": null,
   "id": "f5f470c9-7ad8-47c9-a7f2-df35bb250884",
   "metadata": {},
   "outputs": [],
   "source": []
  },
  {
   "cell_type": "code",
   "execution_count": null,
   "id": "5272bee7-374a-4cc1-b839-b561e08cade7",
   "metadata": {},
   "outputs": [],
   "source": []
  },
  {
   "cell_type": "code",
   "execution_count": 15,
   "id": "ac417dbc-8e56-4f93-9021-e6f2cd961017",
   "metadata": {},
   "outputs": [],
   "source": [
    "sp500_op_permno = set(sp500_op_ret[\"permno\"])"
   ]
  },
  {
   "cell_type": "code",
   "execution_count": null,
   "id": "f870f8d2-ef1a-4ba1-8acb-1c9856af4d44",
   "metadata": {},
   "outputs": [],
   "source": [
    "sp500_op_ret.merge(\n",
    "    signed_predictors_dl_wide[signed_predictors_dl_wide[\"permno\"].isin(sp500_op_permno)],\n",
    "    on=\"permno\", how=\"left\"\n",
    ")"
   ]
  },
  {
   "cell_type": "code",
   "execution_count": 14,
   "id": "a0818925-2a13-4a78-92cd-5ef9d0e096d3",
   "metadata": {},
   "outputs": [
    {
     "data": {
      "text/plain": [
       "34424"
      ]
     },
     "execution_count": 14,
     "metadata": {},
     "output_type": "execute_result"
    }
   ],
   "source": [
    "len(set(signed_predictors_dl_wide[\"permno\"]))"
   ]
  },
  {
   "cell_type": "code",
   "execution_count": null,
   "id": "35553786-0934-4941-8c9b-f7d1ab9bf518",
   "metadata": {},
   "outputs": [],
   "source": []
  },
  {
   "cell_type": "code",
   "execution_count": 12,
   "id": "9d392e45-74d3-4825-9e08-d24be2d40653",
   "metadata": {},
   "outputs": [],
   "source": [
    "# merge on permno "
   ]
  },
  {
   "cell_type": "code",
   "execution_count": null,
   "id": "3ccdec0d-f267-4c63-a8f2-7e81b740e7a7",
   "metadata": {},
   "outputs": [],
   "source": [
    "sp500_op_ret.merge(signed_predictors_dl_wide, on=\"permno\", how=\"inner\")"
   ]
  },
  {
   "cell_type": "code",
   "execution_count": null,
   "id": "33bdf2d9-aae8-473b-bcc5-5aebddb57774",
   "metadata": {},
   "outputs": [],
   "source": []
  },
  {
   "cell_type": "code",
   "execution_count": null,
   "id": "50527a2f-4c04-4afe-ba4b-5817de9db652",
   "metadata": {},
   "outputs": [],
   "source": []
  },
  {
   "cell_type": "code",
   "execution_count": 12,
   "id": "d68a1dbf-aacc-4fe6-8515-5f7c23cbedec",
   "metadata": {},
   "outputs": [],
   "source": [
    "import numpy as np\n",
    "from sklearn.linear_model import LinearRegression"
   ]
  },
  {
   "cell_type": "code",
   "execution_count": 43,
   "id": "20680cf5-3e0a-4a3e-a24b-e484de865241",
   "metadata": {},
   "outputs": [],
   "source": [
    "from sklearn.metrics import mean_squared_error, r2_score\n",
    "from sklearn.model_selection import train_test_split"
   ]
  },
  {
   "cell_type": "code",
   "execution_count": 54,
   "id": "70b36b42-5643-4b19-830c-fd4f0e6d60f1",
   "metadata": {},
   "outputs": [],
   "source": [
    "from sklearn import linear_model"
   ]
  }
 ],
 "metadata": {
  "kernelspec": {
   "display_name": "aqf",
   "language": "python",
   "name": "aqf"
  },
  "language_info": {
   "codemirror_mode": {
    "name": "ipython",
    "version": 3
   },
   "file_extension": ".py",
   "mimetype": "text/x-python",
   "name": "python",
   "nbconvert_exporter": "python",
   "pygments_lexer": "ipython3",
   "version": "3.6.13"
  },
  "toc-autonumbering": true
 },
 "nbformat": 4,
 "nbformat_minor": 5
}
